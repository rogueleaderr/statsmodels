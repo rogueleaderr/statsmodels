{
 "cells": [
  {
   "cell_type": "code",
   "execution_count": 34,
   "metadata": {
    "collapsed": false
   },
   "outputs": [
    {
     "name": "stdout",
     "output_type": "stream",
     "text": [
      "The autoreload extension is already loaded. To reload it, use:\n",
      "  %reload_ext autoreload\n",
      "The rpy2.ipython extension is already loaded. To reload it, use:\n",
      "  %reload_ext rpy2.ipython\n"
     ]
    }
   ],
   "source": [
    "import numpy as np\n",
    "import numpy.random as rand\n",
    "from numpy.testing import assert_allclose, assert_equal\n",
    "\n",
    "import pandas as pd\n",
    "from scipy.stats import chi2_contingency\n",
    "\n",
    "import sys\n",
    "import os\n",
    "# let us import local app packages\n",
    "PACKAGE_PARENT = '../..'\n",
    "sys.path.append(os.path.normpath(PACKAGE_PARENT))\n",
    "\n",
    "result_dir = \"/Users/gjlondon/programming/open_source/statsmodels/statsmodels/stats/tests/results/\"\n",
    "\n",
    "%load_ext autoreload\n",
    "%autoreload 2\n",
    "%load_ext rpy2.ipython"
   ]
  },
  {
   "cell_type": "code",
   "execution_count": 3,
   "metadata": {
    "collapsed": true
   },
   "outputs": [],
   "source": [
    "from IPython.core.interactiveshell import InteractiveShell\n",
    "InteractiveShell.ast_node_interactivity = \"all\"\n",
    "%config InlineBackend.figure_format = 'retina'"
   ]
  },
  {
   "cell_type": "markdown",
   "metadata": {},
   "source": [
    "## A basic table:"
   ]
  },
  {
   "cell_type": "code",
   "execution_count": 3,
   "metadata": {
    "collapsed": false
   },
   "outputs": [
    {
     "data": {
      "text/html": [
       "<div>\n",
       "<table border=\"1\" class=\"dataframe\">\n",
       "  <thead>\n",
       "    <tr style=\"text-align: right;\">\n",
       "      <th></th>\n",
       "      <th>age</th>\n",
       "      <th>favorite_show</th>\n",
       "    </tr>\n",
       "    <tr>\n",
       "      <th>respondent_id</th>\n",
       "      <th></th>\n",
       "      <th></th>\n",
       "    </tr>\n",
       "  </thead>\n",
       "  <tbody>\n",
       "    <tr>\n",
       "      <th>0</th>\n",
       "      <td>55+</td>\n",
       "      <td>House of Cards</td>\n",
       "    </tr>\n",
       "    <tr>\n",
       "      <th>1</th>\n",
       "      <td>55+</td>\n",
       "      <td>Westworld</td>\n",
       "    </tr>\n",
       "    <tr>\n",
       "      <th>2</th>\n",
       "      <td>37-54</td>\n",
       "      <td>House of Cards</td>\n",
       "    </tr>\n",
       "    <tr>\n",
       "      <th>3</th>\n",
       "      <td>37-54</td>\n",
       "      <td>Westworld</td>\n",
       "    </tr>\n",
       "    <tr>\n",
       "      <th>4</th>\n",
       "      <td>18-36</td>\n",
       "      <td>Westworld</td>\n",
       "    </tr>\n",
       "    <tr>\n",
       "      <th>5</th>\n",
       "      <td>18-36</td>\n",
       "      <td>House of Cards</td>\n",
       "    </tr>\n",
       "    <tr>\n",
       "      <th>6</th>\n",
       "      <td>55+</td>\n",
       "      <td>House of Cards</td>\n",
       "    </tr>\n",
       "    <tr>\n",
       "      <th>7</th>\n",
       "      <td>37-54</td>\n",
       "      <td>House of Cards</td>\n",
       "    </tr>\n",
       "    <tr>\n",
       "      <th>8</th>\n",
       "      <td>18-36</td>\n",
       "      <td>Westworld</td>\n",
       "    </tr>\n",
       "    <tr>\n",
       "      <th>9</th>\n",
       "      <td>37-54</td>\n",
       "      <td>House of Cards</td>\n",
       "    </tr>\n",
       "  </tbody>\n",
       "</table>\n",
       "</div>"
      ],
      "text/plain": [
       "                 age   favorite_show\n",
       "respondent_id                       \n",
       "0                55+  House of Cards\n",
       "1                55+       Westworld\n",
       "2              37-54  House of Cards\n",
       "3              37-54       Westworld\n",
       "4              18-36       Westworld\n",
       "5              18-36  House of Cards\n",
       "6                55+  House of Cards\n",
       "7              37-54  House of Cards\n",
       "8              18-36       Westworld\n",
       "9              37-54  House of Cards"
      ]
     },
     "execution_count": 3,
     "metadata": {},
     "output_type": "execute_result"
    }
   ],
   "source": [
    "age = np.random.choice(['18-36','37-54','55+'], size = 2000, p = [0.3,0.4,0.3]);\n",
    "favorite_show = np.random.choice(['NCIS','House of Cards','Westworld'], size = 2000, p = [0.2,0.4,0.4])\n",
    "survey_results = pd.DataFrame({\"age\": age, \"favorite_show\": favorite_show})\n",
    "survey_results.index.name = \"respondent_id\"\n",
    "survey_results.head(10)"
   ]
  },
  {
   "cell_type": "code",
   "execution_count": 4,
   "metadata": {
    "collapsed": false
   },
   "outputs": [
    {
     "data": {
      "text/plain": [
       "       favorite_show\n",
       "age     House of Cards NCIS Westworld\n",
       "  18-36            245  113       264\n",
       "  37-54            323  152       323\n",
       "  55+              239  116       225\n"
      ]
     },
     "metadata": {},
     "output_type": "display_data"
    }
   ],
   "source": [
    "%%R -i survey_results\n",
    "\n",
    "table(survey_results)"
   ]
  },
  {
   "cell_type": "code",
   "execution_count": 5,
   "metadata": {
    "collapsed": false
   },
   "outputs": [
    {
     "name": "stdout",
     "output_type": "stream",
     "text": [
      "Contingency Table: \n",
      "favorite_show  House of Cards  NCIS  Westworld\n",
      "age                                           \n",
      "18-36                     245   113        264\n",
      "37-54                     323   152        323\n",
      "55+                       239   116        225\n"
     ]
    }
   ],
   "source": [
    "from statsmodels.stats.contingency_tables import Table\n",
    "\n",
    "table =  Table.from_data(survey_results)\n",
    "print(table)"
   ]
  },
  {
   "cell_type": "code",
   "execution_count": 6,
   "metadata": {
    "collapsed": false
   },
   "outputs": [
    {
     "name": "stdout",
     "output_type": "stream",
     "text": [
      "Contingency Table Independence Result:\n",
      "chi-squared statistic: 1.7704843257882488\n",
      "degrees of freedom: 4\n",
      "p value: 0.7778777647485371\n",
      "\n"
     ]
    }
   ],
   "source": [
    "independence_result = table.test_nominal_association()\n",
    "print(independence_result)"
   ]
  },
  {
   "cell_type": "code",
   "execution_count": 7,
   "metadata": {
    "collapsed": false
   },
   "outputs": [
    {
     "data": {
      "text/plain": [
       "\n",
       "\tPearson's Chi-squared test\n",
       "\n",
       "data:  table(survey_results)\n",
       "X-squared = 1.7705, df = 4, p-value = 0.7779\n",
       "\n"
      ]
     },
     "metadata": {},
     "output_type": "display_data"
    }
   ],
   "source": [
    "%%R -i survey_results\n",
    "\n",
    "chisq.test(table(survey_results))"
   ]
  },
  {
   "cell_type": "markdown",
   "metadata": {},
   "source": [
    "## A table with a relationship:"
   ]
  },
  {
   "cell_type": "code",
   "execution_count": 8,
   "metadata": {
    "collapsed": false
   },
   "outputs": [
    {
     "data": {
      "text/html": [
       "<div>\n",
       "<table border=\"1\" class=\"dataframe\">\n",
       "  <thead>\n",
       "    <tr style=\"text-align: right;\">\n",
       "      <th></th>\n",
       "      <th>age</th>\n",
       "      <th>favorite_social_network</th>\n",
       "    </tr>\n",
       "    <tr>\n",
       "      <th>respondent_id</th>\n",
       "      <th></th>\n",
       "      <th></th>\n",
       "    </tr>\n",
       "  </thead>\n",
       "  <tbody>\n",
       "    <tr>\n",
       "      <th>0</th>\n",
       "      <td>less than 18</td>\n",
       "      <td>facebook</td>\n",
       "    </tr>\n",
       "    <tr>\n",
       "      <th>1</th>\n",
       "      <td>19-36</td>\n",
       "      <td>facebook</td>\n",
       "    </tr>\n",
       "    <tr>\n",
       "      <th>2</th>\n",
       "      <td>19-36</td>\n",
       "      <td>instagram</td>\n",
       "    </tr>\n",
       "    <tr>\n",
       "      <th>3</th>\n",
       "      <td>19-36</td>\n",
       "      <td>instagram</td>\n",
       "    </tr>\n",
       "    <tr>\n",
       "      <th>4</th>\n",
       "      <td>less than 18</td>\n",
       "      <td>snapchat</td>\n",
       "    </tr>\n",
       "    <tr>\n",
       "      <th>5</th>\n",
       "      <td>19-36</td>\n",
       "      <td>snapchat</td>\n",
       "    </tr>\n",
       "    <tr>\n",
       "      <th>6</th>\n",
       "      <td>37+</td>\n",
       "      <td>facebook</td>\n",
       "    </tr>\n",
       "    <tr>\n",
       "      <th>7</th>\n",
       "      <td>37+</td>\n",
       "      <td>instagram</td>\n",
       "    </tr>\n",
       "    <tr>\n",
       "      <th>8</th>\n",
       "      <td>37+</td>\n",
       "      <td>facebook</td>\n",
       "    </tr>\n",
       "    <tr>\n",
       "      <th>9</th>\n",
       "      <td>37+</td>\n",
       "      <td>facebook</td>\n",
       "    </tr>\n",
       "  </tbody>\n",
       "</table>\n",
       "</div>"
      ],
      "text/plain": [
       "                        age favorite_social_network\n",
       "respondent_id                                      \n",
       "0              less than 18                facebook\n",
       "1                     19-36                facebook\n",
       "2                     19-36               instagram\n",
       "3                     19-36               instagram\n",
       "4              less than 18                snapchat\n",
       "5                     19-36                snapchat\n",
       "6                       37+                facebook\n",
       "7                       37+               instagram\n",
       "8                       37+                facebook\n",
       "9                       37+                facebook"
      ]
     },
     "execution_count": 8,
     "metadata": {},
     "output_type": "execute_result"
    }
   ],
   "source": [
    "age = np.random.choice(['less than 18','19-36','37+'], size = 2000, p = [0.3,0.4,0.3]);\n",
    "survey_results = pd.DataFrame({\"age\": age})\n",
    "survey_results.index.name = \"respondent_id\"\n",
    "\n",
    "def weighted_choice(age):\n",
    "    # weight tuples: (snapchat, instagram, facebook)\n",
    "    weights = {'less than 18': (.5, .4, .1),\n",
    "               '19-36': (.3, .3, .4),\n",
    "               '37+': (.1, .2, .7)}\n",
    "    choices = (\"snapchat\", \"instagram\", \"facebook\")\n",
    "    favorite_network = np.random.choice(choices, p=weights[age])\n",
    "    return favorite_network\n",
    "\n",
    "favorite_social_network = survey_results.age.apply(weighted_choice)\n",
    "survey_results['favorite_social_network'] = favorite_social_network\n",
    "survey_results.head(10)"
   ]
  },
  {
   "cell_type": "code",
   "execution_count": 9,
   "metadata": {
    "collapsed": false
   },
   "outputs": [
    {
     "name": "stdout",
     "output_type": "stream",
     "text": [
      "Contingency Table: \n",
      "favorite_social_network  facebook  instagram  snapchat\n",
      "age                                                   \n",
      "19-36                         341        242       225\n",
      "37+                           440        110        49\n",
      "less than 18                   65        247       281\n"
     ]
    }
   ],
   "source": [
    "from statsmodels.stats.contingency_tables import Table\n",
    "\n",
    "table =  Table.from_data(survey_results)\n",
    "print(table)"
   ]
  },
  {
   "cell_type": "code",
   "execution_count": 10,
   "metadata": {
    "collapsed": false
   },
   "outputs": [
    {
     "name": "stdout",
     "output_type": "stream",
     "text": [
      "Contingency Table Independence Result:\n",
      "chi-squared statistic: 494.16888956343263\n",
      "degrees of freedom: 4\n",
      "p value: 0.0\n",
      "\n"
     ]
    }
   ],
   "source": [
    "independence_result = table.test_nominal_association()\n",
    "print(independence_result)"
   ]
  },
  {
   "cell_type": "code",
   "execution_count": 11,
   "metadata": {
    "collapsed": false
   },
   "outputs": [
    {
     "data": {
      "text/plain": [
       "\n",
       "\tPearson's Chi-squared test\n",
       "\n",
       "data:  table(survey_results)\n",
       "X-squared = 494.17, df = 4, p-value < 2.2e-16\n",
       "\n"
      ]
     },
     "metadata": {},
     "output_type": "display_data"
    }
   ],
   "source": [
    "%%R -i survey_results\n",
    "\n",
    "chisq.test(table(survey_results))"
   ]
  },
  {
   "cell_type": "markdown",
   "metadata": {},
   "source": [
    "## A table with multiple response factors"
   ]
  },
  {
   "cell_type": "code",
   "execution_count": 4,
   "metadata": {
    "collapsed": false
   },
   "outputs": [
    {
     "data": {
      "text/html": [
       "<div>\n",
       "<table border=\"1\" class=\"dataframe\">\n",
       "  <thead>\n",
       "    <tr style=\"text-align: right;\">\n",
       "      <th></th>\n",
       "      <th>Hillary_Clinton</th>\n",
       "      <th>Donald_Trump</th>\n",
       "      <th>Jill_Stein</th>\n",
       "      <th>Gary_Johnson</th>\n",
       "      <th>None_Of_The_Above</th>\n",
       "      <th>I_Probably_Wont_Vote</th>\n",
       "      <th>Hillary_Clinton_is_involved_in_many_coverups</th>\n",
       "      <th>Trump_changes_his_positions_all_of_the_time</th>\n",
       "      <th>Hillary_Clinton_lied_to_the_families_of_Americans_killed_in_Benghazi</th>\n",
       "      <th>Trump_is_a_successful_businessman</th>\n",
       "      <th>Trumps_temper_could_get_the_country_into_trouble</th>\n",
       "      <th>I_wish_another_candidate_had_won_the_primary</th>\n",
       "      <th>Need_to_do_more_research</th>\n",
       "      <th>Dont_like__any_candidate</th>\n",
       "      <th>Not_sure_which_candidate_shares_my_values</th>\n",
       "      <th>Waiting_for_debates</th>\n",
       "    </tr>\n",
       "  </thead>\n",
       "  <tbody>\n",
       "    <tr>\n",
       "      <th>0</th>\n",
       "      <td>0.0</td>\n",
       "      <td>0.0</td>\n",
       "      <td>0.0</td>\n",
       "      <td>0.0</td>\n",
       "      <td>1.0</td>\n",
       "      <td>0.0</td>\n",
       "      <td>0.0</td>\n",
       "      <td>0.0</td>\n",
       "      <td>0.0</td>\n",
       "      <td>1.0</td>\n",
       "      <td>0.0</td>\n",
       "      <td>0.0</td>\n",
       "      <td>0.0</td>\n",
       "      <td>0.0</td>\n",
       "      <td>1.0</td>\n",
       "      <td>0.0</td>\n",
       "    </tr>\n",
       "    <tr>\n",
       "      <th>1</th>\n",
       "      <td>0.0</td>\n",
       "      <td>0.0</td>\n",
       "      <td>0.0</td>\n",
       "      <td>0.0</td>\n",
       "      <td>1.0</td>\n",
       "      <td>0.0</td>\n",
       "      <td>0.0</td>\n",
       "      <td>0.0</td>\n",
       "      <td>0.0</td>\n",
       "      <td>0.0</td>\n",
       "      <td>0.0</td>\n",
       "      <td>0.0</td>\n",
       "      <td>1.0</td>\n",
       "      <td>0.0</td>\n",
       "      <td>0.0</td>\n",
       "      <td>0.0</td>\n",
       "    </tr>\n",
       "    <tr>\n",
       "      <th>2</th>\n",
       "      <td>1.0</td>\n",
       "      <td>0.0</td>\n",
       "      <td>0.0</td>\n",
       "      <td>0.0</td>\n",
       "      <td>0.0</td>\n",
       "      <td>0.0</td>\n",
       "      <td>0.0</td>\n",
       "      <td>0.0</td>\n",
       "      <td>0.0</td>\n",
       "      <td>0.0</td>\n",
       "      <td>0.0</td>\n",
       "      <td>0.0</td>\n",
       "      <td>1.0</td>\n",
       "      <td>0.0</td>\n",
       "      <td>0.0</td>\n",
       "      <td>0.0</td>\n",
       "    </tr>\n",
       "    <tr>\n",
       "      <th>3</th>\n",
       "      <td>0.0</td>\n",
       "      <td>1.0</td>\n",
       "      <td>0.0</td>\n",
       "      <td>0.0</td>\n",
       "      <td>0.0</td>\n",
       "      <td>0.0</td>\n",
       "      <td>0.0</td>\n",
       "      <td>0.0</td>\n",
       "      <td>0.0</td>\n",
       "      <td>0.0</td>\n",
       "      <td>0.0</td>\n",
       "      <td>0.0</td>\n",
       "      <td>0.0</td>\n",
       "      <td>0.0</td>\n",
       "      <td>0.0</td>\n",
       "      <td>1.0</td>\n",
       "    </tr>\n",
       "    <tr>\n",
       "      <th>4</th>\n",
       "      <td>1.0</td>\n",
       "      <td>0.0</td>\n",
       "      <td>0.0</td>\n",
       "      <td>0.0</td>\n",
       "      <td>0.0</td>\n",
       "      <td>0.0</td>\n",
       "      <td>1.0</td>\n",
       "      <td>0.0</td>\n",
       "      <td>0.0</td>\n",
       "      <td>0.0</td>\n",
       "      <td>1.0</td>\n",
       "      <td>0.0</td>\n",
       "      <td>0.0</td>\n",
       "      <td>1.0</td>\n",
       "      <td>0.0</td>\n",
       "      <td>0.0</td>\n",
       "    </tr>\n",
       "  </tbody>\n",
       "</table>\n",
       "</div>"
      ],
      "text/plain": [
       "   Hillary_Clinton  Donald_Trump  Jill_Stein  Gary_Johnson  None_Of_The_Above  \\\n",
       "0              0.0           0.0         0.0           0.0                1.0   \n",
       "1              0.0           0.0         0.0           0.0                1.0   \n",
       "2              1.0           0.0         0.0           0.0                0.0   \n",
       "3              0.0           1.0         0.0           0.0                0.0   \n",
       "4              1.0           0.0         0.0           0.0                0.0   \n",
       "\n",
       "   I_Probably_Wont_Vote  Hillary_Clinton_is_involved_in_many_coverups  \\\n",
       "0                   0.0                                           0.0   \n",
       "1                   0.0                                           0.0   \n",
       "2                   0.0                                           0.0   \n",
       "3                   0.0                                           0.0   \n",
       "4                   0.0                                           1.0   \n",
       "\n",
       "   Trump_changes_his_positions_all_of_the_time  \\\n",
       "0                                          0.0   \n",
       "1                                          0.0   \n",
       "2                                          0.0   \n",
       "3                                          0.0   \n",
       "4                                          0.0   \n",
       "\n",
       "   Hillary_Clinton_lied_to_the_families_of_Americans_killed_in_Benghazi  \\\n",
       "0                                                0.0                      \n",
       "1                                                0.0                      \n",
       "2                                                0.0                      \n",
       "3                                                0.0                      \n",
       "4                                                0.0                      \n",
       "\n",
       "   Trump_is_a_successful_businessman  \\\n",
       "0                                1.0   \n",
       "1                                0.0   \n",
       "2                                0.0   \n",
       "3                                0.0   \n",
       "4                                0.0   \n",
       "\n",
       "   Trumps_temper_could_get_the_country_into_trouble  \\\n",
       "0                                               0.0   \n",
       "1                                               0.0   \n",
       "2                                               0.0   \n",
       "3                                               0.0   \n",
       "4                                               1.0   \n",
       "\n",
       "   I_wish_another_candidate_had_won_the_primary  Need_to_do_more_research  \\\n",
       "0                                           0.0                       0.0   \n",
       "1                                           0.0                       1.0   \n",
       "2                                           0.0                       1.0   \n",
       "3                                           0.0                       0.0   \n",
       "4                                           0.0                       0.0   \n",
       "\n",
       "   Dont_like__any_candidate  Not_sure_which_candidate_shares_my_values  \\\n",
       "0                       0.0                                        1.0   \n",
       "1                       0.0                                        0.0   \n",
       "2                       0.0                                        0.0   \n",
       "3                       0.0                                        0.0   \n",
       "4                       1.0                                        0.0   \n",
       "\n",
       "   Waiting_for_debates  \n",
       "0                  0.0  \n",
       "1                  0.0  \n",
       "2                  0.0  \n",
       "3                  1.0  \n",
       "4                  0.0  "
      ]
     },
     "execution_count": 4,
     "metadata": {},
     "output_type": "execute_result"
    }
   ],
   "source": [
    "import statsmodels.api as sm\n",
    "from statsmodels.datasets import presidential2016\n",
    "\n",
    "data = sm.datasets.presidential2016.load_pandas()\n",
    "presidential_data = data.data\n",
    "presidential_data.head()"
   ]
  },
  {
   "cell_type": "code",
   "execution_count": 89,
   "metadata": {
    "collapsed": false
   },
   "outputs": [
    {
     "data": {
      "text/html": [
       "<div>\n",
       "<table border=\"1\" class=\"dataframe\">\n",
       "  <thead>\n",
       "    <tr style=\"text-align: right;\">\n",
       "      <th></th>\n",
       "      <th>variable</th>\n",
       "      <th>Hillary_Clinton_is_involved_in_many_coverups</th>\n",
       "      <th>Trump_changes_his_positions_all_of_the_time</th>\n",
       "      <th>Hillary_Clinton_lied_to_the_families_of_Americans_killed_in_Benghazi</th>\n",
       "      <th>Trump_is_a_successful_businessman</th>\n",
       "      <th>Trumps_temper_could_get_the_country_into_trouble</th>\n",
       "    </tr>\n",
       "  </thead>\n",
       "  <tbody>\n",
       "    <tr>\n",
       "      <th>0</th>\n",
       "      <td>None_Of_The_Above</td>\n",
       "      <td>0.0</td>\n",
       "      <td>0.0</td>\n",
       "      <td>0.0</td>\n",
       "      <td>1.0</td>\n",
       "      <td>0.0</td>\n",
       "    </tr>\n",
       "    <tr>\n",
       "      <th>1</th>\n",
       "      <td>None_Of_The_Above</td>\n",
       "      <td>0.0</td>\n",
       "      <td>0.0</td>\n",
       "      <td>0.0</td>\n",
       "      <td>0.0</td>\n",
       "      <td>0.0</td>\n",
       "    </tr>\n",
       "    <tr>\n",
       "      <th>2</th>\n",
       "      <td>Hillary_Clinton</td>\n",
       "      <td>0.0</td>\n",
       "      <td>0.0</td>\n",
       "      <td>0.0</td>\n",
       "      <td>0.0</td>\n",
       "      <td>0.0</td>\n",
       "    </tr>\n",
       "    <tr>\n",
       "      <th>3</th>\n",
       "      <td>Donald_Trump</td>\n",
       "      <td>0.0</td>\n",
       "      <td>0.0</td>\n",
       "      <td>0.0</td>\n",
       "      <td>0.0</td>\n",
       "      <td>0.0</td>\n",
       "    </tr>\n",
       "    <tr>\n",
       "      <th>4</th>\n",
       "      <td>Hillary_Clinton</td>\n",
       "      <td>1.0</td>\n",
       "      <td>0.0</td>\n",
       "      <td>0.0</td>\n",
       "      <td>0.0</td>\n",
       "      <td>1.0</td>\n",
       "    </tr>\n",
       "  </tbody>\n",
       "</table>\n",
       "</div>"
      ],
      "text/plain": [
       "            variable  Hillary_Clinton_is_involved_in_many_coverups  \\\n",
       "0  None_Of_The_Above                                           0.0   \n",
       "1  None_Of_The_Above                                           0.0   \n",
       "2    Hillary_Clinton                                           0.0   \n",
       "3       Donald_Trump                                           0.0   \n",
       "4    Hillary_Clinton                                           1.0   \n",
       "\n",
       "   Trump_changes_his_positions_all_of_the_time  \\\n",
       "0                                          0.0   \n",
       "1                                          0.0   \n",
       "2                                          0.0   \n",
       "3                                          0.0   \n",
       "4                                          0.0   \n",
       "\n",
       "   Hillary_Clinton_lied_to_the_families_of_Americans_killed_in_Benghazi  \\\n",
       "0                                                0.0                      \n",
       "1                                                0.0                      \n",
       "2                                                0.0                      \n",
       "3                                                0.0                      \n",
       "4                                                0.0                      \n",
       "\n",
       "   Trump_is_a_successful_businessman  \\\n",
       "0                                1.0   \n",
       "1                                0.0   \n",
       "2                                0.0   \n",
       "3                                0.0   \n",
       "4                                0.0   \n",
       "\n",
       "   Trumps_temper_could_get_the_country_into_trouble  \n",
       "0                                               0.0  \n",
       "1                                               0.0  \n",
       "2                                               0.0  \n",
       "3                                               0.0  \n",
       "4                                               1.0  "
      ]
     },
     "execution_count": 89,
     "metadata": {},
     "output_type": "execute_result"
    }
   ],
   "source": [
    "narrow_row_factor = rows_factor.cast_wide_to_narrow()\n",
    "srcv_presidential = pd.concat([narrow_row_factor.as_dataframe().loc[:, 'variable'], columns_factor.as_dataframe()], axis=1)\n",
    "srcv_presidential.head()"
   ]
  },
  {
   "cell_type": "markdown",
   "metadata": {},
   "source": [
    "### Single response versus multiple response"
   ]
  },
  {
   "cell_type": "code",
   "execution_count": 12,
   "metadata": {
    "collapsed": true
   },
   "outputs": [],
   "source": [
    "from statsmodels.stats.contingency_tables import Factor, MRCVTable"
   ]
  },
  {
   "cell_type": "code",
   "execution_count": 14,
   "metadata": {
    "collapsed": false
   },
   "outputs": [
    {
     "data": {
      "text/plain": [
       "variable_col          Hillary_Clinton_is_involved_in_many_coverups  \\\n",
       "variable_row                                                         \n",
       "Donald_Trump                                                    51   \n",
       "Gary_Johnson                                                    23   \n",
       "Hillary_Clinton                                                 22   \n",
       "I_Probably_Wont_Vote                                            36   \n",
       "Jill_Stein                                                       4   \n",
       "None_Of_The_Above                                               34   \n",
       "\n",
       "variable_col          Hillary_Clinton_lied_to_the_families_of_Americans_killed_in_Benghazi  \\\n",
       "variable_row                                                                                 \n",
       "Donald_Trump                                                         45                      \n",
       "Gary_Johnson                                                         18                      \n",
       "Hillary_Clinton                                                      18                      \n",
       "I_Probably_Wont_Vote                                                 19                      \n",
       "Jill_Stein                                                            3                      \n",
       "None_Of_The_Above                                                    27                      \n",
       "\n",
       "variable_col          Trump_changes_his_positions_all_of_the_time  \\\n",
       "variable_row                                                        \n",
       "Donald_Trump                                                   10   \n",
       "Gary_Johnson                                                   17   \n",
       "Hillary_Clinton                                                51   \n",
       "I_Probably_Wont_Vote                                           24   \n",
       "Jill_Stein                                                     12   \n",
       "None_Of_The_Above                                              26   \n",
       "\n",
       "variable_col          Trump_is_a_successful_businessman  \\\n",
       "variable_row                                              \n",
       "Donald_Trump                                         39   \n",
       "Gary_Johnson                                         16   \n",
       "Hillary_Clinton                                      21   \n",
       "I_Probably_Wont_Vote                                 22   \n",
       "Jill_Stein                                            5   \n",
       "None_Of_The_Above                                    21   \n",
       "\n",
       "variable_col          Trumps_temper_could_get_the_country_into_trouble  \n",
       "variable_row                                                            \n",
       "Donald_Trump                                                        14  \n",
       "Gary_Johnson                                                        13  \n",
       "Hillary_Clinton                                                     42  \n",
       "I_Probably_Wont_Vote                                                19  \n",
       "Jill_Stein                                                           7  \n",
       "None_Of_The_Above                                                   24  "
      ]
     },
     "execution_count": 14,
     "metadata": {},
     "output_type": "execute_result"
    }
   ],
   "source": [
    "rows_factor = Factor(data.data.iloc[:, :6], data.data.columns[:6], \"expected_choice\", orientation=\"wide\")\n",
    "columns_factor = Factor(data.data.iloc[:, 6:11], data.data.columns[6:11], \"believe_true\", orientation=\"wide\")\n",
    "multiple_response_table = MRCVTable([rows_factor,], [columns_factor])\n",
    "multiple_response_table"
   ]
  },
  {
   "cell_type": "markdown",
   "metadata": {},
   "source": [
    "### MMI Item Response Table"
   ]
  },
  {
   "cell_type": "code",
   "execution_count": 19,
   "metadata": {
    "collapsed": false
   },
   "outputs": [
    {
     "data": {
      "text/html": [
       "<div>\n",
       "<table border=\"1\" class=\"dataframe\">\n",
       "  <thead>\n",
       "    <tr>\n",
       "      <th>multiple_response_level</th>\n",
       "      <th colspan=\"2\" halign=\"left\">Hillary_Clinton_is_involved_in_many_coverups</th>\n",
       "      <th colspan=\"2\" halign=\"left\">Hillary_Clinton_lied_to_the_families_of_Americans_killed_in_Benghazi</th>\n",
       "      <th colspan=\"2\" halign=\"left\">Trump_changes_his_positions_all_of_the_time</th>\n",
       "      <th colspan=\"2\" halign=\"left\">Trump_is_a_successful_businessman</th>\n",
       "      <th colspan=\"2\" halign=\"left\">Trumps_temper_could_get_the_country_into_trouble</th>\n",
       "    </tr>\n",
       "    <tr>\n",
       "      <th>selected?</th>\n",
       "      <th>0.0</th>\n",
       "      <th>1.0</th>\n",
       "      <th>0.0</th>\n",
       "      <th>1.0</th>\n",
       "      <th>0.0</th>\n",
       "      <th>1.0</th>\n",
       "      <th>0.0</th>\n",
       "      <th>1.0</th>\n",
       "      <th>0.0</th>\n",
       "      <th>1.0</th>\n",
       "    </tr>\n",
       "    <tr>\n",
       "      <th>single_response_level</th>\n",
       "      <th></th>\n",
       "      <th></th>\n",
       "      <th></th>\n",
       "      <th></th>\n",
       "      <th></th>\n",
       "      <th></th>\n",
       "      <th></th>\n",
       "      <th></th>\n",
       "      <th></th>\n",
       "      <th></th>\n",
       "    </tr>\n",
       "  </thead>\n",
       "  <tbody>\n",
       "    <tr>\n",
       "      <th>Donald_Trump</th>\n",
       "      <td>131</td>\n",
       "      <td>51</td>\n",
       "      <td>137</td>\n",
       "      <td>45</td>\n",
       "      <td>172</td>\n",
       "      <td>10</td>\n",
       "      <td>143</td>\n",
       "      <td>39</td>\n",
       "      <td>168</td>\n",
       "      <td>14</td>\n",
       "    </tr>\n",
       "    <tr>\n",
       "      <th>Gary_Johnson</th>\n",
       "      <td>86</td>\n",
       "      <td>23</td>\n",
       "      <td>91</td>\n",
       "      <td>18</td>\n",
       "      <td>92</td>\n",
       "      <td>17</td>\n",
       "      <td>93</td>\n",
       "      <td>16</td>\n",
       "      <td>96</td>\n",
       "      <td>13</td>\n",
       "    </tr>\n",
       "    <tr>\n",
       "      <th>Hillary_Clinton</th>\n",
       "      <td>205</td>\n",
       "      <td>22</td>\n",
       "      <td>209</td>\n",
       "      <td>18</td>\n",
       "      <td>176</td>\n",
       "      <td>51</td>\n",
       "      <td>206</td>\n",
       "      <td>21</td>\n",
       "      <td>185</td>\n",
       "      <td>42</td>\n",
       "    </tr>\n",
       "    <tr>\n",
       "      <th>I_Probably_Wont_Vote</th>\n",
       "      <td>180</td>\n",
       "      <td>36</td>\n",
       "      <td>197</td>\n",
       "      <td>19</td>\n",
       "      <td>192</td>\n",
       "      <td>24</td>\n",
       "      <td>194</td>\n",
       "      <td>22</td>\n",
       "      <td>197</td>\n",
       "      <td>19</td>\n",
       "    </tr>\n",
       "    <tr>\n",
       "      <th>Jill_Stein</th>\n",
       "      <td>35</td>\n",
       "      <td>4</td>\n",
       "      <td>36</td>\n",
       "      <td>3</td>\n",
       "      <td>27</td>\n",
       "      <td>12</td>\n",
       "      <td>34</td>\n",
       "      <td>5</td>\n",
       "      <td>32</td>\n",
       "      <td>7</td>\n",
       "    </tr>\n",
       "    <tr>\n",
       "      <th>None_Of_The_Above</th>\n",
       "      <td>193</td>\n",
       "      <td>34</td>\n",
       "      <td>200</td>\n",
       "      <td>27</td>\n",
       "      <td>201</td>\n",
       "      <td>26</td>\n",
       "      <td>206</td>\n",
       "      <td>21</td>\n",
       "      <td>203</td>\n",
       "      <td>24</td>\n",
       "    </tr>\n",
       "  </tbody>\n",
       "</table>\n",
       "</div>"
      ],
      "text/plain": [
       "multiple_response_level Hillary_Clinton_is_involved_in_many_coverups      \\\n",
       "selected?                                                        0.0 1.0   \n",
       "single_response_level                                                      \n",
       "Donald_Trump                                                     131  51   \n",
       "Gary_Johnson                                                      86  23   \n",
       "Hillary_Clinton                                                  205  22   \n",
       "I_Probably_Wont_Vote                                             180  36   \n",
       "Jill_Stein                                                        35   4   \n",
       "None_Of_The_Above                                                193  34   \n",
       "\n",
       "multiple_response_level Hillary_Clinton_lied_to_the_families_of_Americans_killed_in_Benghazi  \\\n",
       "selected?                                                                                0.0   \n",
       "single_response_level                                                                          \n",
       "Donald_Trump                                                           137                     \n",
       "Gary_Johnson                                                            91                     \n",
       "Hillary_Clinton                                                        209                     \n",
       "I_Probably_Wont_Vote                                                   197                     \n",
       "Jill_Stein                                                              36                     \n",
       "None_Of_The_Above                                                      200                     \n",
       "\n",
       "multiple_response_level     Trump_changes_his_positions_all_of_the_time      \\\n",
       "selected?               1.0                                         0.0 1.0   \n",
       "single_response_level                                                         \n",
       "Donald_Trump             45                                         172  10   \n",
       "Gary_Johnson             18                                          92  17   \n",
       "Hillary_Clinton          18                                         176  51   \n",
       "I_Probably_Wont_Vote     19                                         192  24   \n",
       "Jill_Stein                3                                          27  12   \n",
       "None_Of_The_Above        27                                         201  26   \n",
       "\n",
       "multiple_response_level Trump_is_a_successful_businessman      \\\n",
       "selected?                                             0.0 1.0   \n",
       "single_response_level                                           \n",
       "Donald_Trump                                          143  39   \n",
       "Gary_Johnson                                           93  16   \n",
       "Hillary_Clinton                                       206  21   \n",
       "I_Probably_Wont_Vote                                  194  22   \n",
       "Jill_Stein                                             34   5   \n",
       "None_Of_The_Above                                     206  21   \n",
       "\n",
       "multiple_response_level Trumps_temper_could_get_the_country_into_trouble      \n",
       "selected?                                                            0.0 1.0  \n",
       "single_response_level                                                         \n",
       "Donald_Trump                                                         168  14  \n",
       "Gary_Johnson                                                          96  13  \n",
       "Hillary_Clinton                                                      185  42  \n",
       "I_Probably_Wont_Vote                                                 197  19  \n",
       "Jill_Stein                                                            32   7  \n",
       "None_Of_The_Above                                                    203  24  "
      ]
     },
     "execution_count": 19,
     "metadata": {},
     "output_type": "execute_result"
    }
   ],
   "source": [
    "srcv_item_response_table_python = multiple_response_table._build_item_response_table_for_MMI(rows_factor, columns_factor)\n",
    "srcv_item_response_table_python"
   ]
  },
  {
   "cell_type": "code",
   "execution_count": 20,
   "metadata": {
    "collapsed": false
   },
   "outputs": [
    {
     "data": {
      "text/plain": [
       "1000"
      ]
     },
     "execution_count": 20,
     "metadata": {},
     "output_type": "execute_result"
    }
   ],
   "source": [
    "srcv_item_response_table_python.iloc[:, (0,1)].sum().sum()"
   ]
  },
  {
   "cell_type": "code",
   "execution_count": 77,
   "metadata": {
    "collapsed": true
   },
   "outputs": [],
   "source": [
    "result_dir = \"/Users/gjlondon/programming/open_source/statsmodels/statsmodels/stats/tests/results/\"\n",
    "fpath = os.path.join(result_dir, \"srcv_r_item_response_table_result.csv\")\n",
    "%R -i fpath"
   ]
  },
  {
   "cell_type": "code",
   "execution_count": 99,
   "metadata": {
    "collapsed": false
   },
   "outputs": [
    {
     "data": {
      "text/plain": [
       " [1] \"term\" \"term\" \"term\" \"term\" \"term\" \"term\" \"term\" \"term\" \"term\" \"term\"\n"
      ]
     },
     "metadata": {},
     "output_type": "display_data"
    }
   ],
   "source": [
    "%%R -i srcv_presidential\n",
    "\n",
    "library('MRCV')\n",
    "\n",
    "srcv_item_response_table_r <- item.response.table(srcv_presidential, I=1, J=5)\n",
    "srcv_item_response_table_r_dataframe = as.data.frame.matrix(srcv_item_response_table_r)\n",
    "write.table(srcv_item_response_table_r, file = fpath, sep=\",\")\n",
    "## R is apparently bad at writing out tables with nested headers so we just get \"term\", \"term\", \"term\"\n",
    "colnames(srcv_item_response_table_r)"
   ]
  },
  {
   "cell_type": "code",
   "execution_count": 105,
   "metadata": {
    "collapsed": false
   },
   "outputs": [
    {
     "data": {
      "text/html": [
       "<div>\n",
       "<table border=\"1\" class=\"dataframe\">\n",
       "  <thead>\n",
       "    <tr style=\"text-align: right;\">\n",
       "      <th></th>\n",
       "      <th>term</th>\n",
       "      <th>term.1</th>\n",
       "      <th>term.2</th>\n",
       "      <th>term.3</th>\n",
       "      <th>term.4</th>\n",
       "      <th>term.5</th>\n",
       "      <th>term.6</th>\n",
       "      <th>term.7</th>\n",
       "      <th>term.8</th>\n",
       "      <th>term.9</th>\n",
       "    </tr>\n",
       "  </thead>\n",
       "  <tbody>\n",
       "    <tr>\n",
       "      <th>1</th>\n",
       "      <td>131</td>\n",
       "      <td>51</td>\n",
       "      <td>172</td>\n",
       "      <td>10</td>\n",
       "      <td>137</td>\n",
       "      <td>45</td>\n",
       "      <td>143</td>\n",
       "      <td>39</td>\n",
       "      <td>168</td>\n",
       "      <td>14</td>\n",
       "    </tr>\n",
       "    <tr>\n",
       "      <th>2</th>\n",
       "      <td>86</td>\n",
       "      <td>23</td>\n",
       "      <td>92</td>\n",
       "      <td>17</td>\n",
       "      <td>91</td>\n",
       "      <td>18</td>\n",
       "      <td>93</td>\n",
       "      <td>16</td>\n",
       "      <td>96</td>\n",
       "      <td>13</td>\n",
       "    </tr>\n",
       "    <tr>\n",
       "      <th>3</th>\n",
       "      <td>205</td>\n",
       "      <td>22</td>\n",
       "      <td>176</td>\n",
       "      <td>51</td>\n",
       "      <td>209</td>\n",
       "      <td>18</td>\n",
       "      <td>206</td>\n",
       "      <td>21</td>\n",
       "      <td>185</td>\n",
       "      <td>42</td>\n",
       "    </tr>\n",
       "    <tr>\n",
       "      <th>4</th>\n",
       "      <td>180</td>\n",
       "      <td>36</td>\n",
       "      <td>192</td>\n",
       "      <td>24</td>\n",
       "      <td>197</td>\n",
       "      <td>19</td>\n",
       "      <td>194</td>\n",
       "      <td>22</td>\n",
       "      <td>197</td>\n",
       "      <td>19</td>\n",
       "    </tr>\n",
       "    <tr>\n",
       "      <th>5</th>\n",
       "      <td>35</td>\n",
       "      <td>4</td>\n",
       "      <td>27</td>\n",
       "      <td>12</td>\n",
       "      <td>36</td>\n",
       "      <td>3</td>\n",
       "      <td>34</td>\n",
       "      <td>5</td>\n",
       "      <td>32</td>\n",
       "      <td>7</td>\n",
       "    </tr>\n",
       "    <tr>\n",
       "      <th>6</th>\n",
       "      <td>193</td>\n",
       "      <td>34</td>\n",
       "      <td>201</td>\n",
       "      <td>26</td>\n",
       "      <td>200</td>\n",
       "      <td>27</td>\n",
       "      <td>206</td>\n",
       "      <td>21</td>\n",
       "      <td>203</td>\n",
       "      <td>24</td>\n",
       "    </tr>\n",
       "  </tbody>\n",
       "</table>\n",
       "</div>"
      ],
      "text/plain": [
       "   term  term.1  term.2  term.3  term.4  term.5  term.6  term.7  term.8  \\\n",
       "1   131      51     172      10     137      45     143      39     168   \n",
       "2    86      23      92      17      91      18      93      16      96   \n",
       "3   205      22     176      51     209      18     206      21     185   \n",
       "4   180      36     192      24     197      19     194      22     197   \n",
       "5    35       4      27      12      36       3      34       5      32   \n",
       "6   193      34     201      26     200      27     206      21     203   \n",
       "\n",
       "   term.9  \n",
       "1      14  \n",
       "2      13  \n",
       "3      42  \n",
       "4      19  \n",
       "5       7  \n",
       "6      24  "
      ]
     },
     "execution_count": 105,
     "metadata": {},
     "output_type": "execute_result"
    }
   ],
   "source": [
    "result_dir = \"/Users/gjlondon/programming/open_source/statsmodels/statsmodels/stats/tests/results/\"\n",
    "fpath = os.path.join(result_dir, \"srcv_r_item_response_table_result.csv\")\n",
    "srcv_item_response_table_r = pd.DataFrame.from_csv(fpath)\n",
    "srcv_item_response_table_r"
   ]
  },
  {
   "cell_type": "code",
   "execution_count": 128,
   "metadata": {
    "collapsed": false
   },
   "outputs": [],
   "source": [
    "for i in range(0, len(columns_factor.labels)*2, 2):\n",
    "    c = columns_factor.labels[i // 2]\n",
    "    r_left_offset = i\n",
    "    r_right_offset = i + 2\n",
    "    py_group = srcv_item_response_table_python.loc[:, c]\n",
    "    r_group = srcv_item_response_table_r.iloc[:, r_left_offset:r_right_offset]\n",
    "    assert_allclose(py_group.values, r_group)"
   ]
  },
  {
   "cell_type": "markdown",
   "metadata": {},
   "source": [
    "## MMI Full Chi-square tables"
   ]
  },
  {
   "cell_type": "code",
   "execution_count": 122,
   "metadata": {
    "collapsed": false
   },
   "outputs": [
    {
     "data": {
      "text/plain": [
       "Hillary_Clinton_is_involved_in_many_coverups                            27.493592\n",
       "Trump_changes_his_positions_all_of_the_time                             36.511000\n",
       "Hillary_Clinton_lied_to_the_families_of_Americans_killed_in_Benghazi    33.065276\n",
       "Trump_is_a_successful_businessman                                       19.305086\n",
       "Trumps_temper_could_get_the_country_into_trouble                        16.238789\n",
       "dtype: float64"
      ]
     },
     "execution_count": 122,
     "metadata": {},
     "output_type": "execute_result"
    }
   ],
   "source": [
    "python_result = multiple_response_table._calculate_pairwise_chi2s_for_MMI_item_response_table(rows_factor, columns_factor)\n",
    "python_result"
   ]
  },
  {
   "cell_type": "code",
   "execution_count": 87,
   "metadata": {
    "collapsed": false
   },
   "outputs": [
    {
     "data": {
      "text/plain": [
       "$X.sq.S\n",
       "[1] 132.6137\n",
       "\n",
       "$X.sq.S.ij\n",
       "     Hillary_Clinton_is_involved_in_many_coverups\n",
       "[1,]                                     27.49359\n",
       "     Trump_changes_his_positions_all_of_the_time\n",
       "[1,]                                      36.511\n",
       "     Hillary_Clinton_lied_to_the_families_of_Americans_killed_in_Benghazi\n",
       "[1,]                                                             33.06528\n",
       "     Trump_is_a_successful_businessman\n",
       "[1,]                          19.30509\n",
       "     Trumps_temper_could_get_the_country_into_trouble\n",
       "[1,]                                         16.23879\n",
       "\n",
       "$valid.margins\n",
       "[1] 5\n",
       "\n"
      ]
     },
     "metadata": {},
     "output_type": "display_data"
    }
   ],
   "source": [
    "%%R -i srcv_presidential\n",
    "\n",
    "library('MRCV')\n",
    "r_srcv_chis <- MI.stat(srcv_presidential, I=1, J=5)"
   ]
  },
  {
   "cell_type": "code",
   "execution_count": 82,
   "metadata": {
    "collapsed": false
   },
   "outputs": [],
   "source": [
    "%R -o r_srcv_chis"
   ]
  },
  {
   "cell_type": "code",
   "execution_count": 134,
   "metadata": {
    "collapsed": false
   },
   "outputs": [],
   "source": [
    "\n",
    "r_results = pd.Series({k:v for k, v in zip(r_srcv_chis[1].names[1], r_srcv_chis[1])})\n",
    "r_result_reordered = r_results.reindex(python_result.index, )\n",
    "assert_allclose(python_result, r_result_reordered)"
   ]
  },
  {
   "cell_type": "code",
   "execution_count": 137,
   "metadata": {
    "collapsed": true
   },
   "outputs": [],
   "source": [
    "result_dir = \"/Users/gjlondon/programming/open_source/statsmodels/statsmodels/stats/tests/results/\"\n",
    "fpath = os.path.join(result_dir, \"srcv_r_all_chis_result.csv\")\n",
    "r_result_reordered.to_csv(fpath)"
   ]
  },
  {
   "cell_type": "markdown",
   "metadata": {},
   "source": [
    "### MMI bonferroni test"
   ]
  },
  {
   "cell_type": "code",
   "execution_count": 134,
   "metadata": {
    "collapsed": false
   },
   "outputs": [
    {
     "name": "stdout",
     "output_type": "stream",
     "text": [
      "Overall table p value: 3.752624460014494e-06\n",
      "\n",
      "\n",
      "Pairwise p values (likelihood of independence between single select variable and specific multi-select option):\n"
     ]
    },
    {
     "data": {
      "text/plain": [
       "Hillary_Clinton_is_involved_in_many_coverups                            0.000229\n",
       "Trump_changes_his_positions_all_of_the_time                             0.000004\n",
       "Hillary_Clinton_lied_to_the_families_of_Americans_killed_in_Benghazi    0.000018\n",
       "Trump_is_a_successful_businessman                                       0.008431\n",
       "Trumps_temper_could_get_the_country_into_trouble                        0.030972\n",
       "dtype: float64"
      ]
     },
     "execution_count": 134,
     "metadata": {},
     "output_type": "execute_result"
    }
   ],
   "source": [
    "bonferroni_test = multiple_response_table._test_for_marginal_mutual_independence_using_bonferroni_correction\n",
    "results = bonferroni_test(rows_factor, columns_factor)\n",
    "table_p_value_bonferroni_corrected, pairwise_bonferroni_corrected_p_values = results\n",
    "print(\"Overall table p value: {}\\n\\n\".format(table_p_value_bonferroni_corrected))\n",
    "print(\"Pairwise p values (likelihood of independence between single select variable and specific multi-select option):\")\n",
    "pairwise_bonferroni_corrected_p_values"
   ]
  },
  {
   "cell_type": "code",
   "execution_count": 146,
   "metadata": {
    "collapsed": true
   },
   "outputs": [],
   "source": [
    "result_dir = \"/Users/gjlondon/programming/open_source/statsmodels/statsmodels/stats/tests/results/\"\n",
    "fpath = os.path.join(result_dir, \"srcv_r_bonferroni.csv\")\n",
    "%R -i fpath"
   ]
  },
  {
   "cell_type": "code",
   "execution_count": 169,
   "metadata": {
    "collapsed": false
   },
   "outputs": [],
   "source": [
    "%%R \n",
    "\n",
    "res <- MI.test(srcv_presidential, I=1, J=5, type=\"bon\")\n",
    "res$bon$X.sq.S.ij.p.bon\n",
    "write.csv(res$bon, file=fpath)"
   ]
  },
  {
   "cell_type": "code",
   "execution_count": 166,
   "metadata": {
    "collapsed": false
   },
   "outputs": [],
   "source": [
    "r_result = pd.DataFrame.from_csv(fpath)\n",
    "table_p_value_r = r_result[\"p.value.bon\"] \n",
    "cell_p_values_r = r_result.iloc[:, 1:]\n",
    "reshaped_python_values = pairwise_bonferroni_corrected_p_values.values.reshape(5,1)\n",
    "assert_allclose(reshaped_python_values, cell_p_values_r.T)\n",
    "assert_allclose(table_p_value_r, table_p_value_bonferroni_corrected)"
   ]
  },
  {
   "cell_type": "markdown",
   "metadata": {},
   "source": [
    "### MMI Rao Scott 2 Test"
   ]
  },
  {
   "cell_type": "code",
   "execution_count": 311,
   "metadata": {
    "collapsed": false
   },
   "outputs": [
    {
     "name": "stdout",
     "output_type": "stream",
     "text": [
      "109.95224031\n",
      "20.7279121181\n",
      "Overall table p value: 3.7969627442180354e-14\n",
      "\n",
      "\n"
     ]
    }
   ],
   "source": [
    "rao_scott_test = multiple_response_table._test_for_marginal_mutual_independence_using_rao_scott_2\n",
    "table_p_value_rao_scott_corrected = rao_scott_test(rows_factor, columns_factor)\n",
    "print(\"Overall table p value: {}\\n\\n\".format(table_p_value_rao_scott_corrected))"
   ]
  },
  {
   "cell_type": "code",
   "execution_count": 192,
   "metadata": {
    "collapsed": true
   },
   "outputs": [],
   "source": [
    "result_dir = \"/Users/gjlondon/programming/open_source/statsmodels/statsmodels/stats/tests/results/\"\n",
    "fpath = os.path.join(result_dir, \"srcv_r_rao_scott.csv\")\n",
    "%R -i fpath"
   ]
  },
  {
   "cell_type": "code",
   "execution_count": 304,
   "metadata": {
    "collapsed": false
   },
   "outputs": [
    {
     "data": {
      "text/plain": [
       "$X.sq.S.rs2\n",
       "[1] 109.9522\n",
       "\n",
       "$df.rs2\n",
       "[1] 20.72791\n",
       "\n",
       "$p.value.rs2\n",
       "[1] 3.796963e-14\n",
       "\n"
      ]
     },
     "metadata": {},
     "output_type": "display_data"
    }
   ],
   "source": [
    "%%R \n",
    "\n",
    "res <- MI.test(srcv_presidential, I=1, J=5, type=\"rs2\")\n",
    "res$rs2\n",
    "write.csv(res$rs2, file=fpath)\n",
    "res$rs2"
   ]
  },
  {
   "cell_type": "code",
   "execution_count": 312,
   "metadata": {
    "collapsed": false
   },
   "outputs": [],
   "source": [
    "r_result = pd.DataFrame.from_csv(fpath)\n",
    "table_p_value_r = r_result[\"p.value.rs2\"] \n",
    "assert_allclose(table_p_value_r, table_p_value_rao_scott_corrected)"
   ]
  },
  {
   "cell_type": "markdown",
   "metadata": {},
   "source": [
    "## Multiple response versus multiple response"
   ]
  },
  {
   "cell_type": "markdown",
   "metadata": {},
   "source": [
    "### Item response table"
   ]
  },
  {
   "cell_type": "code",
   "execution_count": 31,
   "metadata": {
    "collapsed": false
   },
   "outputs": [],
   "source": [
    "columns_factor = Factor(data.data.iloc[:, 11:], presidential_data.columns[11:],\n",
    "                              \"reasons_undecided\", orientation=\"wide\")\n",
    "rows_factor = Factor(data.data.iloc[:, 6:11], presidential_data.columns[6:11],\n",
    "                             \"believe_true\", orientation=\"wide\")\n",
    "multiple_response_table = MRCVTable([rows_factor, ], [columns_factor])"
   ]
  },
  {
   "cell_type": "code",
   "execution_count": 24,
   "metadata": {
    "collapsed": false
   },
   "outputs": [
    {
     "data": {
      "text/plain": [
       "(1000, 5)"
      ]
     },
     "execution_count": 24,
     "metadata": {},
     "output_type": "execute_result"
    }
   ],
   "source": [
    "rows_factor.data.shape"
   ]
  },
  {
   "cell_type": "code",
   "execution_count": 30,
   "metadata": {
    "collapsed": false
   },
   "outputs": [
    {
     "data": {
      "text/html": [
       "<div>\n",
       "<table border=\"1\" class=\"dataframe\">\n",
       "  <thead>\n",
       "    <tr style=\"text-align: right;\">\n",
       "      <th></th>\n",
       "      <th>Hillary_Clinton_is_involved_in_many_coverups</th>\n",
       "      <th>Trump_changes_his_positions_all_of_the_time</th>\n",
       "      <th>Hillary_Clinton_lied_to_the_families_of_Americans_killed_in_Benghazi</th>\n",
       "      <th>Trump_is_a_successful_businessman</th>\n",
       "      <th>Trumps_temper_could_get_the_country_into_trouble</th>\n",
       "      <th>I_wish_another_candidate_had_won_the_primary</th>\n",
       "      <th>Need_to_do_more_research</th>\n",
       "      <th>Dont_like__any_candidate</th>\n",
       "      <th>Not_sure_which_candidate_shares_my_values</th>\n",
       "      <th>Waiting_for_debates</th>\n",
       "    </tr>\n",
       "  </thead>\n",
       "  <tbody>\n",
       "    <tr>\n",
       "      <th>0</th>\n",
       "      <td>0.0</td>\n",
       "      <td>0.0</td>\n",
       "      <td>0.0</td>\n",
       "      <td>1.0</td>\n",
       "      <td>0.0</td>\n",
       "      <td>0.0</td>\n",
       "      <td>0.0</td>\n",
       "      <td>0.0</td>\n",
       "      <td>1.0</td>\n",
       "      <td>0.0</td>\n",
       "    </tr>\n",
       "    <tr>\n",
       "      <th>1</th>\n",
       "      <td>0.0</td>\n",
       "      <td>0.0</td>\n",
       "      <td>0.0</td>\n",
       "      <td>0.0</td>\n",
       "      <td>0.0</td>\n",
       "      <td>0.0</td>\n",
       "      <td>1.0</td>\n",
       "      <td>0.0</td>\n",
       "      <td>0.0</td>\n",
       "      <td>0.0</td>\n",
       "    </tr>\n",
       "    <tr>\n",
       "      <th>2</th>\n",
       "      <td>0.0</td>\n",
       "      <td>0.0</td>\n",
       "      <td>0.0</td>\n",
       "      <td>0.0</td>\n",
       "      <td>0.0</td>\n",
       "      <td>0.0</td>\n",
       "      <td>1.0</td>\n",
       "      <td>0.0</td>\n",
       "      <td>0.0</td>\n",
       "      <td>0.0</td>\n",
       "    </tr>\n",
       "    <tr>\n",
       "      <th>3</th>\n",
       "      <td>0.0</td>\n",
       "      <td>0.0</td>\n",
       "      <td>0.0</td>\n",
       "      <td>0.0</td>\n",
       "      <td>0.0</td>\n",
       "      <td>0.0</td>\n",
       "      <td>0.0</td>\n",
       "      <td>0.0</td>\n",
       "      <td>0.0</td>\n",
       "      <td>1.0</td>\n",
       "    </tr>\n",
       "    <tr>\n",
       "      <th>4</th>\n",
       "      <td>1.0</td>\n",
       "      <td>0.0</td>\n",
       "      <td>0.0</td>\n",
       "      <td>0.0</td>\n",
       "      <td>1.0</td>\n",
       "      <td>0.0</td>\n",
       "      <td>0.0</td>\n",
       "      <td>1.0</td>\n",
       "      <td>0.0</td>\n",
       "      <td>0.0</td>\n",
       "    </tr>\n",
       "  </tbody>\n",
       "</table>\n",
       "</div>"
      ],
      "text/plain": [
       "   Hillary_Clinton_is_involved_in_many_coverups  \\\n",
       "0                                           0.0   \n",
       "1                                           0.0   \n",
       "2                                           0.0   \n",
       "3                                           0.0   \n",
       "4                                           1.0   \n",
       "\n",
       "   Trump_changes_his_positions_all_of_the_time  \\\n",
       "0                                          0.0   \n",
       "1                                          0.0   \n",
       "2                                          0.0   \n",
       "3                                          0.0   \n",
       "4                                          0.0   \n",
       "\n",
       "   Hillary_Clinton_lied_to_the_families_of_Americans_killed_in_Benghazi  \\\n",
       "0                                                0.0                      \n",
       "1                                                0.0                      \n",
       "2                                                0.0                      \n",
       "3                                                0.0                      \n",
       "4                                                0.0                      \n",
       "\n",
       "   Trump_is_a_successful_businessman  \\\n",
       "0                                1.0   \n",
       "1                                0.0   \n",
       "2                                0.0   \n",
       "3                                0.0   \n",
       "4                                0.0   \n",
       "\n",
       "   Trumps_temper_could_get_the_country_into_trouble  \\\n",
       "0                                               0.0   \n",
       "1                                               0.0   \n",
       "2                                               0.0   \n",
       "3                                               0.0   \n",
       "4                                               1.0   \n",
       "\n",
       "   I_wish_another_candidate_had_won_the_primary  Need_to_do_more_research  \\\n",
       "0                                           0.0                       0.0   \n",
       "1                                           0.0                       1.0   \n",
       "2                                           0.0                       1.0   \n",
       "3                                           0.0                       0.0   \n",
       "4                                           0.0                       0.0   \n",
       "\n",
       "   Dont_like__any_candidate  Not_sure_which_candidate_shares_my_values  \\\n",
       "0                       0.0                                        1.0   \n",
       "1                       0.0                                        0.0   \n",
       "2                       0.0                                        0.0   \n",
       "3                       0.0                                        0.0   \n",
       "4                       1.0                                        0.0   \n",
       "\n",
       "   Waiting_for_debates  \n",
       "0                  0.0  \n",
       "1                  0.0  \n",
       "2                  0.0  \n",
       "3                  1.0  \n",
       "4                  0.0  "
      ]
     },
     "execution_count": 30,
     "metadata": {},
     "output_type": "execute_result"
    }
   ],
   "source": [
    "mrcv_presidential = presidential_data.iloc[:, 6:]\n",
    "mrcv_presidential.head()"
   ]
  },
  {
   "cell_type": "code",
   "execution_count": 25,
   "metadata": {
    "collapsed": true
   },
   "outputs": [],
   "source": [
    "result_dir = \"/Users/gjlondon/programming/open_source/statsmodels/statsmodels/stats/tests/results/\"\n",
    "fpath = os.path.join(result_dir, \"spmi_r_item_response_table_result.csv\")\n",
    "%R -i fpath"
   ]
  },
  {
   "cell_type": "code",
   "execution_count": 26,
   "metadata": {
    "collapsed": false
   },
   "outputs": [
    {
     "data": {
      "text/plain": [
       "   term term term term term term term term term term\n",
       "1   683  147  661  169  720  110  719  111  719  111\n",
       "2   121   49  155   15  126   44  148   22  158   12\n",
       "3   703  157  702  158  721  139  750  110  747  113\n",
       "4   101   39  114   26  125   15  117   23  130   10\n",
       "5   685  185  713  157  748  122  752  118  777   93\n",
       "6   119   11  103   27   98   32  115   15  100   30\n",
       "7   715  161  709  167  753  123  759  117  761  115\n",
       "8    89   35  107   17   93   31  108   16  116    8\n",
       "9   692  189  715  166  763  118  774  107  771  110\n",
       "10  112    7  101   18   83   36   93   26  106   13\n"
      ]
     },
     "metadata": {},
     "output_type": "display_data"
    }
   ],
   "source": [
    "%%R -i mrcv_presidential\n",
    "\n",
    "library('MRCV')\n",
    "\n",
    "spmi_item_response_table_r <- item.response.table(mrcv_presidential, I=5, J=5)\n",
    "spmi_item_response_table_r_dataframe = as.data.frame.matrix(spmi_item_response_table_r)\n",
    "write.table(spmi_item_response_table_r, file = fpath, sep=\",\")\n",
    "## R is apparently bad at writing out tables with nested headers so we just get \"term\", \"term\", \"term\"\n",
    "colnames(spmi_item_response_table_r)\n",
    "spmi_item_response_table_r_dataframe"
   ]
  },
  {
   "cell_type": "code",
   "execution_count": 27,
   "metadata": {
    "collapsed": false
   },
   "outputs": [
    {
     "data": {
      "text/html": [
       "<div>\n",
       "<table border=\"1\" class=\"dataframe\">\n",
       "  <thead>\n",
       "    <tr style=\"text-align: right;\">\n",
       "      <th></th>\n",
       "      <th>term</th>\n",
       "      <th>term.1</th>\n",
       "      <th>term.2</th>\n",
       "      <th>term.3</th>\n",
       "      <th>term.4</th>\n",
       "      <th>term.5</th>\n",
       "      <th>term.6</th>\n",
       "      <th>term.7</th>\n",
       "      <th>term.8</th>\n",
       "      <th>term.9</th>\n",
       "    </tr>\n",
       "  </thead>\n",
       "  <tbody>\n",
       "    <tr>\n",
       "      <th>1</th>\n",
       "      <td>683</td>\n",
       "      <td>147</td>\n",
       "      <td>661</td>\n",
       "      <td>169</td>\n",
       "      <td>720</td>\n",
       "      <td>110</td>\n",
       "      <td>719</td>\n",
       "      <td>111</td>\n",
       "      <td>719</td>\n",
       "      <td>111</td>\n",
       "    </tr>\n",
       "    <tr>\n",
       "      <th>2</th>\n",
       "      <td>121</td>\n",
       "      <td>49</td>\n",
       "      <td>155</td>\n",
       "      <td>15</td>\n",
       "      <td>126</td>\n",
       "      <td>44</td>\n",
       "      <td>148</td>\n",
       "      <td>22</td>\n",
       "      <td>158</td>\n",
       "      <td>12</td>\n",
       "    </tr>\n",
       "    <tr>\n",
       "      <th>3</th>\n",
       "      <td>703</td>\n",
       "      <td>157</td>\n",
       "      <td>702</td>\n",
       "      <td>158</td>\n",
       "      <td>721</td>\n",
       "      <td>139</td>\n",
       "      <td>750</td>\n",
       "      <td>110</td>\n",
       "      <td>747</td>\n",
       "      <td>113</td>\n",
       "    </tr>\n",
       "    <tr>\n",
       "      <th>4</th>\n",
       "      <td>101</td>\n",
       "      <td>39</td>\n",
       "      <td>114</td>\n",
       "      <td>26</td>\n",
       "      <td>125</td>\n",
       "      <td>15</td>\n",
       "      <td>117</td>\n",
       "      <td>23</td>\n",
       "      <td>130</td>\n",
       "      <td>10</td>\n",
       "    </tr>\n",
       "    <tr>\n",
       "      <th>5</th>\n",
       "      <td>685</td>\n",
       "      <td>185</td>\n",
       "      <td>713</td>\n",
       "      <td>157</td>\n",
       "      <td>748</td>\n",
       "      <td>122</td>\n",
       "      <td>752</td>\n",
       "      <td>118</td>\n",
       "      <td>777</td>\n",
       "      <td>93</td>\n",
       "    </tr>\n",
       "    <tr>\n",
       "      <th>6</th>\n",
       "      <td>119</td>\n",
       "      <td>11</td>\n",
       "      <td>103</td>\n",
       "      <td>27</td>\n",
       "      <td>98</td>\n",
       "      <td>32</td>\n",
       "      <td>115</td>\n",
       "      <td>15</td>\n",
       "      <td>100</td>\n",
       "      <td>30</td>\n",
       "    </tr>\n",
       "    <tr>\n",
       "      <th>7</th>\n",
       "      <td>715</td>\n",
       "      <td>161</td>\n",
       "      <td>709</td>\n",
       "      <td>167</td>\n",
       "      <td>753</td>\n",
       "      <td>123</td>\n",
       "      <td>759</td>\n",
       "      <td>117</td>\n",
       "      <td>761</td>\n",
       "      <td>115</td>\n",
       "    </tr>\n",
       "    <tr>\n",
       "      <th>8</th>\n",
       "      <td>89</td>\n",
       "      <td>35</td>\n",
       "      <td>107</td>\n",
       "      <td>17</td>\n",
       "      <td>93</td>\n",
       "      <td>31</td>\n",
       "      <td>108</td>\n",
       "      <td>16</td>\n",
       "      <td>116</td>\n",
       "      <td>8</td>\n",
       "    </tr>\n",
       "    <tr>\n",
       "      <th>9</th>\n",
       "      <td>692</td>\n",
       "      <td>189</td>\n",
       "      <td>715</td>\n",
       "      <td>166</td>\n",
       "      <td>763</td>\n",
       "      <td>118</td>\n",
       "      <td>774</td>\n",
       "      <td>107</td>\n",
       "      <td>771</td>\n",
       "      <td>110</td>\n",
       "    </tr>\n",
       "    <tr>\n",
       "      <th>10</th>\n",
       "      <td>112</td>\n",
       "      <td>7</td>\n",
       "      <td>101</td>\n",
       "      <td>18</td>\n",
       "      <td>83</td>\n",
       "      <td>36</td>\n",
       "      <td>93</td>\n",
       "      <td>26</td>\n",
       "      <td>106</td>\n",
       "      <td>13</td>\n",
       "    </tr>\n",
       "  </tbody>\n",
       "</table>\n",
       "</div>"
      ],
      "text/plain": [
       "    term  term.1  term.2  term.3  term.4  term.5  term.6  term.7  term.8  \\\n",
       "1    683     147     661     169     720     110     719     111     719   \n",
       "2    121      49     155      15     126      44     148      22     158   \n",
       "3    703     157     702     158     721     139     750     110     747   \n",
       "4    101      39     114      26     125      15     117      23     130   \n",
       "5    685     185     713     157     748     122     752     118     777   \n",
       "6    119      11     103      27      98      32     115      15     100   \n",
       "7    715     161     709     167     753     123     759     117     761   \n",
       "8     89      35     107      17      93      31     108      16     116   \n",
       "9    692     189     715     166     763     118     774     107     771   \n",
       "10   112       7     101      18      83      36      93      26     106   \n",
       "\n",
       "    term.9  \n",
       "1      111  \n",
       "2       12  \n",
       "3      113  \n",
       "4       10  \n",
       "5       93  \n",
       "6       30  \n",
       "7      115  \n",
       "8        8  \n",
       "9      110  \n",
       "10      13  "
      ]
     },
     "execution_count": 27,
     "metadata": {},
     "output_type": "execute_result"
    }
   ],
   "source": [
    "spmi_item_response_table_r = pd.DataFrame.from_csv(fpath)\n",
    "spmi_item_response_table_r"
   ]
  },
  {
   "cell_type": "code",
   "execution_count": 32,
   "metadata": {
    "collapsed": false
   },
   "outputs": [
    {
     "data": {
      "text/html": [
       "<div>\n",
       "<table border=\"1\" class=\"dataframe\">\n",
       "  <thead>\n",
       "    <tr>\n",
       "      <th></th>\n",
       "      <th>column_levels</th>\n",
       "      <th colspan=\"2\" halign=\"left\">I_wish_another_candidate_had_won_the_primary</th>\n",
       "      <th colspan=\"2\" halign=\"left\">Need_to_do_more_research</th>\n",
       "      <th colspan=\"2\" halign=\"left\">Dont_like__any_candidate</th>\n",
       "      <th colspan=\"2\" halign=\"left\">Not_sure_which_candidate_shares_my_values</th>\n",
       "      <th colspan=\"2\" halign=\"left\">Waiting_for_debates</th>\n",
       "    </tr>\n",
       "    <tr>\n",
       "      <th></th>\n",
       "      <th>selected?</th>\n",
       "      <th>0.0</th>\n",
       "      <th>1.0</th>\n",
       "      <th>0.0</th>\n",
       "      <th>1.0</th>\n",
       "      <th>0.0</th>\n",
       "      <th>1.0</th>\n",
       "      <th>0.0</th>\n",
       "      <th>1.0</th>\n",
       "      <th>0.0</th>\n",
       "      <th>1.0</th>\n",
       "    </tr>\n",
       "    <tr>\n",
       "      <th>row_levels</th>\n",
       "      <th>selected?</th>\n",
       "      <th></th>\n",
       "      <th></th>\n",
       "      <th></th>\n",
       "      <th></th>\n",
       "      <th></th>\n",
       "      <th></th>\n",
       "      <th></th>\n",
       "      <th></th>\n",
       "      <th></th>\n",
       "      <th></th>\n",
       "    </tr>\n",
       "  </thead>\n",
       "  <tbody>\n",
       "    <tr>\n",
       "      <th rowspan=\"2\" valign=\"top\">Hillary_Clinton_is_involved_in_many_coverups</th>\n",
       "      <th>0.0</th>\n",
       "      <td>683</td>\n",
       "      <td>147</td>\n",
       "      <td>661</td>\n",
       "      <td>169</td>\n",
       "      <td>720</td>\n",
       "      <td>110</td>\n",
       "      <td>719</td>\n",
       "      <td>111</td>\n",
       "      <td>719</td>\n",
       "      <td>111</td>\n",
       "    </tr>\n",
       "    <tr>\n",
       "      <th>1.0</th>\n",
       "      <td>121</td>\n",
       "      <td>49</td>\n",
       "      <td>155</td>\n",
       "      <td>15</td>\n",
       "      <td>126</td>\n",
       "      <td>44</td>\n",
       "      <td>148</td>\n",
       "      <td>22</td>\n",
       "      <td>158</td>\n",
       "      <td>12</td>\n",
       "    </tr>\n",
       "    <tr>\n",
       "      <th rowspan=\"2\" valign=\"top\">Trump_changes_his_positions_all_of_the_time</th>\n",
       "      <th>0.0</th>\n",
       "      <td>703</td>\n",
       "      <td>157</td>\n",
       "      <td>702</td>\n",
       "      <td>158</td>\n",
       "      <td>721</td>\n",
       "      <td>139</td>\n",
       "      <td>750</td>\n",
       "      <td>110</td>\n",
       "      <td>747</td>\n",
       "      <td>113</td>\n",
       "    </tr>\n",
       "    <tr>\n",
       "      <th>1.0</th>\n",
       "      <td>101</td>\n",
       "      <td>39</td>\n",
       "      <td>114</td>\n",
       "      <td>26</td>\n",
       "      <td>125</td>\n",
       "      <td>15</td>\n",
       "      <td>117</td>\n",
       "      <td>23</td>\n",
       "      <td>130</td>\n",
       "      <td>10</td>\n",
       "    </tr>\n",
       "    <tr>\n",
       "      <th rowspan=\"2\" valign=\"top\">Hillary_Clinton_lied_to_the_families_of_Americans_killed_in_Benghazi</th>\n",
       "      <th>0.0</th>\n",
       "      <td>685</td>\n",
       "      <td>185</td>\n",
       "      <td>713</td>\n",
       "      <td>157</td>\n",
       "      <td>748</td>\n",
       "      <td>122</td>\n",
       "      <td>752</td>\n",
       "      <td>118</td>\n",
       "      <td>777</td>\n",
       "      <td>93</td>\n",
       "    </tr>\n",
       "    <tr>\n",
       "      <th>1.0</th>\n",
       "      <td>119</td>\n",
       "      <td>11</td>\n",
       "      <td>103</td>\n",
       "      <td>27</td>\n",
       "      <td>98</td>\n",
       "      <td>32</td>\n",
       "      <td>115</td>\n",
       "      <td>15</td>\n",
       "      <td>100</td>\n",
       "      <td>30</td>\n",
       "    </tr>\n",
       "    <tr>\n",
       "      <th rowspan=\"2\" valign=\"top\">Trump_is_a_successful_businessman</th>\n",
       "      <th>0.0</th>\n",
       "      <td>715</td>\n",
       "      <td>161</td>\n",
       "      <td>709</td>\n",
       "      <td>167</td>\n",
       "      <td>753</td>\n",
       "      <td>123</td>\n",
       "      <td>759</td>\n",
       "      <td>117</td>\n",
       "      <td>761</td>\n",
       "      <td>115</td>\n",
       "    </tr>\n",
       "    <tr>\n",
       "      <th>1.0</th>\n",
       "      <td>89</td>\n",
       "      <td>35</td>\n",
       "      <td>107</td>\n",
       "      <td>17</td>\n",
       "      <td>93</td>\n",
       "      <td>31</td>\n",
       "      <td>108</td>\n",
       "      <td>16</td>\n",
       "      <td>116</td>\n",
       "      <td>8</td>\n",
       "    </tr>\n",
       "    <tr>\n",
       "      <th rowspan=\"2\" valign=\"top\">Trumps_temper_could_get_the_country_into_trouble</th>\n",
       "      <th>0.0</th>\n",
       "      <td>692</td>\n",
       "      <td>189</td>\n",
       "      <td>715</td>\n",
       "      <td>166</td>\n",
       "      <td>763</td>\n",
       "      <td>118</td>\n",
       "      <td>774</td>\n",
       "      <td>107</td>\n",
       "      <td>771</td>\n",
       "      <td>110</td>\n",
       "    </tr>\n",
       "    <tr>\n",
       "      <th>1.0</th>\n",
       "      <td>112</td>\n",
       "      <td>7</td>\n",
       "      <td>101</td>\n",
       "      <td>18</td>\n",
       "      <td>83</td>\n",
       "      <td>36</td>\n",
       "      <td>93</td>\n",
       "      <td>26</td>\n",
       "      <td>106</td>\n",
       "      <td>13</td>\n",
       "    </tr>\n",
       "  </tbody>\n",
       "</table>\n",
       "</div>"
      ],
      "text/plain": [
       "column_levels                                                I_wish_another_candidate_had_won_the_primary  \\\n",
       "selected?                                                                                             0.0   \n",
       "row_levels                                         selected?                                                \n",
       "Hillary_Clinton_is_involved_in_many_coverups       0.0                                                683   \n",
       "                                                   1.0                                                121   \n",
       "Trump_changes_his_positions_all_of_the_time        0.0                                                703   \n",
       "                                                   1.0                                                101   \n",
       "Hillary_Clinton_lied_to_the_families_of_America... 0.0                                                685   \n",
       "                                                   1.0                                                119   \n",
       "Trump_is_a_successful_businessman                  0.0                                                715   \n",
       "                                                   1.0                                                 89   \n",
       "Trumps_temper_could_get_the_country_into_trouble   0.0                                                692   \n",
       "                                                   1.0                                                112   \n",
       "\n",
       "column_levels                                                      \\\n",
       "selected?                                                     1.0   \n",
       "row_levels                                         selected?        \n",
       "Hillary_Clinton_is_involved_in_many_coverups       0.0        147   \n",
       "                                                   1.0         49   \n",
       "Trump_changes_his_positions_all_of_the_time        0.0        157   \n",
       "                                                   1.0         39   \n",
       "Hillary_Clinton_lied_to_the_families_of_America... 0.0        185   \n",
       "                                                   1.0         11   \n",
       "Trump_is_a_successful_businessman                  0.0        161   \n",
       "                                                   1.0         35   \n",
       "Trumps_temper_could_get_the_country_into_trouble   0.0        189   \n",
       "                                                   1.0          7   \n",
       "\n",
       "column_levels                                                Need_to_do_more_research  \\\n",
       "selected?                                                                         0.0   \n",
       "row_levels                                         selected?                            \n",
       "Hillary_Clinton_is_involved_in_many_coverups       0.0                            661   \n",
       "                                                   1.0                            155   \n",
       "Trump_changes_his_positions_all_of_the_time        0.0                            702   \n",
       "                                                   1.0                            114   \n",
       "Hillary_Clinton_lied_to_the_families_of_America... 0.0                            713   \n",
       "                                                   1.0                            103   \n",
       "Trump_is_a_successful_businessman                  0.0                            709   \n",
       "                                                   1.0                            107   \n",
       "Trumps_temper_could_get_the_country_into_trouble   0.0                            715   \n",
       "                                                   1.0                            101   \n",
       "\n",
       "column_levels                                                      \\\n",
       "selected?                                                     1.0   \n",
       "row_levels                                         selected?        \n",
       "Hillary_Clinton_is_involved_in_many_coverups       0.0        169   \n",
       "                                                   1.0         15   \n",
       "Trump_changes_his_positions_all_of_the_time        0.0        158   \n",
       "                                                   1.0         26   \n",
       "Hillary_Clinton_lied_to_the_families_of_America... 0.0        157   \n",
       "                                                   1.0         27   \n",
       "Trump_is_a_successful_businessman                  0.0        167   \n",
       "                                                   1.0         17   \n",
       "Trumps_temper_could_get_the_country_into_trouble   0.0        166   \n",
       "                                                   1.0         18   \n",
       "\n",
       "column_levels                                                Dont_like__any_candidate  \\\n",
       "selected?                                                                         0.0   \n",
       "row_levels                                         selected?                            \n",
       "Hillary_Clinton_is_involved_in_many_coverups       0.0                            720   \n",
       "                                                   1.0                            126   \n",
       "Trump_changes_his_positions_all_of_the_time        0.0                            721   \n",
       "                                                   1.0                            125   \n",
       "Hillary_Clinton_lied_to_the_families_of_America... 0.0                            748   \n",
       "                                                   1.0                             98   \n",
       "Trump_is_a_successful_businessman                  0.0                            753   \n",
       "                                                   1.0                             93   \n",
       "Trumps_temper_could_get_the_country_into_trouble   0.0                            763   \n",
       "                                                   1.0                             83   \n",
       "\n",
       "column_levels                                                      \\\n",
       "selected?                                                     1.0   \n",
       "row_levels                                         selected?        \n",
       "Hillary_Clinton_is_involved_in_many_coverups       0.0        110   \n",
       "                                                   1.0         44   \n",
       "Trump_changes_his_positions_all_of_the_time        0.0        139   \n",
       "                                                   1.0         15   \n",
       "Hillary_Clinton_lied_to_the_families_of_America... 0.0        122   \n",
       "                                                   1.0         32   \n",
       "Trump_is_a_successful_businessman                  0.0        123   \n",
       "                                                   1.0         31   \n",
       "Trumps_temper_could_get_the_country_into_trouble   0.0        118   \n",
       "                                                   1.0         36   \n",
       "\n",
       "column_levels                                                Not_sure_which_candidate_shares_my_values  \\\n",
       "selected?                                                                                          0.0   \n",
       "row_levels                                         selected?                                             \n",
       "Hillary_Clinton_is_involved_in_many_coverups       0.0                                             719   \n",
       "                                                   1.0                                             148   \n",
       "Trump_changes_his_positions_all_of_the_time        0.0                                             750   \n",
       "                                                   1.0                                             117   \n",
       "Hillary_Clinton_lied_to_the_families_of_America... 0.0                                             752   \n",
       "                                                   1.0                                             115   \n",
       "Trump_is_a_successful_businessman                  0.0                                             759   \n",
       "                                                   1.0                                             108   \n",
       "Trumps_temper_could_get_the_country_into_trouble   0.0                                             774   \n",
       "                                                   1.0                                              93   \n",
       "\n",
       "column_levels                                                      \\\n",
       "selected?                                                     1.0   \n",
       "row_levels                                         selected?        \n",
       "Hillary_Clinton_is_involved_in_many_coverups       0.0        111   \n",
       "                                                   1.0         22   \n",
       "Trump_changes_his_positions_all_of_the_time        0.0        110   \n",
       "                                                   1.0         23   \n",
       "Hillary_Clinton_lied_to_the_families_of_America... 0.0        118   \n",
       "                                                   1.0         15   \n",
       "Trump_is_a_successful_businessman                  0.0        117   \n",
       "                                                   1.0         16   \n",
       "Trumps_temper_could_get_the_country_into_trouble   0.0        107   \n",
       "                                                   1.0         26   \n",
       "\n",
       "column_levels                                                Waiting_for_debates  \\\n",
       "selected?                                                                    0.0   \n",
       "row_levels                                         selected?                       \n",
       "Hillary_Clinton_is_involved_in_many_coverups       0.0                       719   \n",
       "                                                   1.0                       158   \n",
       "Trump_changes_his_positions_all_of_the_time        0.0                       747   \n",
       "                                                   1.0                       130   \n",
       "Hillary_Clinton_lied_to_the_families_of_America... 0.0                       777   \n",
       "                                                   1.0                       100   \n",
       "Trump_is_a_successful_businessman                  0.0                       761   \n",
       "                                                   1.0                       116   \n",
       "Trumps_temper_could_get_the_country_into_trouble   0.0                       771   \n",
       "                                                   1.0                       106   \n",
       "\n",
       "column_levels                                                      \n",
       "selected?                                                     1.0  \n",
       "row_levels                                         selected?       \n",
       "Hillary_Clinton_is_involved_in_many_coverups       0.0        111  \n",
       "                                                   1.0         12  \n",
       "Trump_changes_his_positions_all_of_the_time        0.0        113  \n",
       "                                                   1.0         10  \n",
       "Hillary_Clinton_lied_to_the_families_of_America... 0.0         93  \n",
       "                                                   1.0         30  \n",
       "Trump_is_a_successful_businessman                  0.0        115  \n",
       "                                                   1.0          8  \n",
       "Trumps_temper_could_get_the_country_into_trouble   0.0        110  \n",
       "                                                   1.0         13  "
      ]
     },
     "execution_count": 32,
     "metadata": {},
     "output_type": "execute_result"
    }
   ],
   "source": [
    "spmi_item_response_table_python = multiple_response_table._build_item_response_table_for_SPMI(rows_factor, columns_factor)\n",
    "spmi_item_response_table_python"
   ]
  },
  {
   "cell_type": "code",
   "execution_count": 33,
   "metadata": {
    "collapsed": false
   },
   "outputs": [],
   "source": [
    "assert_allclose(spmi_item_response_table_r.values, spmi_item_response_table_python.values)"
   ]
  },
  {
   "cell_type": "markdown",
   "metadata": {},
   "source": [
    "### Pairwise Chi-squared"
   ]
  },
  {
   "cell_type": "code",
   "execution_count": 45,
   "metadata": {
    "collapsed": false
   },
   "outputs": [
    {
     "data": {
      "text/html": [
       "<div>\n",
       "<table border=\"1\" class=\"dataframe\">\n",
       "  <thead>\n",
       "    <tr style=\"text-align: right;\">\n",
       "      <th></th>\n",
       "      <th>I_wish_another_candidate_had_won_the_primary</th>\n",
       "      <th>Need_to_do_more_research</th>\n",
       "      <th>Dont_like__any_candidate</th>\n",
       "      <th>Not_sure_which_candidate_shares_my_values</th>\n",
       "      <th>Waiting_for_debates</th>\n",
       "    </tr>\n",
       "  </thead>\n",
       "  <tbody>\n",
       "    <tr>\n",
       "      <th>Hillary_Clinton_is_involved_in_many_coverups</th>\n",
       "      <td>11.0574</td>\n",
       "      <td>12.5105</td>\n",
       "      <td>17.2742</td>\n",
       "      <td>0.0228698</td>\n",
       "      <td>5.21583</td>\n",
       "    </tr>\n",
       "    <tr>\n",
       "      <th>Trump_changes_his_positions_all_of_the_time</th>\n",
       "      <td>7.04331</td>\n",
       "      <td>0.00318631</td>\n",
       "      <td>2.74341</td>\n",
       "      <td>1.38182</td>\n",
       "      <td>4.01368</td>\n",
       "    </tr>\n",
       "    <tr>\n",
       "      <th>Hillary_Clinton_lied_to_the_families_of_Americans_killed_in_Benghazi</th>\n",
       "      <td>11.7642</td>\n",
       "      <td>0.558638</td>\n",
       "      <td>9.74002</td>\n",
       "      <td>0.402103</td>\n",
       "      <td>16.0883</td>\n",
       "    </tr>\n",
       "    <tr>\n",
       "      <th>Trump_is_a_successful_businessman</th>\n",
       "      <td>6.68351</td>\n",
       "      <td>2.07403</td>\n",
       "      <td>10.0131</td>\n",
       "      <td>0.0193256</td>\n",
       "      <td>4.48833</td>\n",
       "    </tr>\n",
       "    <tr>\n",
       "      <th>Trumps_temper_could_get_the_country_into_trouble</th>\n",
       "      <td>16.1294</td>\n",
       "      <td>0.964289</td>\n",
       "      <td>22.8695</td>\n",
       "      <td>8.56061</td>\n",
       "      <td>0.236957</td>\n",
       "    </tr>\n",
       "  </tbody>\n",
       "</table>\n",
       "</div>"
      ],
      "text/plain": [
       "                                                   I_wish_another_candidate_had_won_the_primary  \\\n",
       "Hillary_Clinton_is_involved_in_many_coverups                                            11.0574   \n",
       "Trump_changes_his_positions_all_of_the_time                                             7.04331   \n",
       "Hillary_Clinton_lied_to_the_families_of_America...                                      11.7642   \n",
       "Trump_is_a_successful_businessman                                                       6.68351   \n",
       "Trumps_temper_could_get_the_country_into_trouble                                        16.1294   \n",
       "\n",
       "                                                   Need_to_do_more_research  \\\n",
       "Hillary_Clinton_is_involved_in_many_coverups                        12.5105   \n",
       "Trump_changes_his_positions_all_of_the_time                      0.00318631   \n",
       "Hillary_Clinton_lied_to_the_families_of_America...                 0.558638   \n",
       "Trump_is_a_successful_businessman                                   2.07403   \n",
       "Trumps_temper_could_get_the_country_into_trouble                   0.964289   \n",
       "\n",
       "                                                   Dont_like__any_candidate  \\\n",
       "Hillary_Clinton_is_involved_in_many_coverups                        17.2742   \n",
       "Trump_changes_his_positions_all_of_the_time                         2.74341   \n",
       "Hillary_Clinton_lied_to_the_families_of_America...                  9.74002   \n",
       "Trump_is_a_successful_businessman                                   10.0131   \n",
       "Trumps_temper_could_get_the_country_into_trouble                    22.8695   \n",
       "\n",
       "                                                   Not_sure_which_candidate_shares_my_values  \\\n",
       "Hillary_Clinton_is_involved_in_many_coverups                                       0.0228698   \n",
       "Trump_changes_his_positions_all_of_the_time                                          1.38182   \n",
       "Hillary_Clinton_lied_to_the_families_of_America...                                  0.402103   \n",
       "Trump_is_a_successful_businessman                                                  0.0193256   \n",
       "Trumps_temper_could_get_the_country_into_trouble                                     8.56061   \n",
       "\n",
       "                                                   Waiting_for_debates  \n",
       "Hillary_Clinton_is_involved_in_many_coverups                   5.21583  \n",
       "Trump_changes_his_positions_all_of_the_time                    4.01368  \n",
       "Hillary_Clinton_lied_to_the_families_of_America...             16.0883  \n",
       "Trump_is_a_successful_businessman                              4.48833  \n",
       "Trumps_temper_could_get_the_country_into_trouble              0.236957  "
      ]
     },
     "execution_count": 45,
     "metadata": {},
     "output_type": "execute_result"
    }
   ],
   "source": [
    "spmi_pairwise_chis_python = multiple_response_table._calculate_pairwise_chi2s_for_SPMI_item_response_table(rows_factor, columns_factor)\n",
    "spmi_pairwise_chis_python"
   ]
  },
  {
   "cell_type": "markdown",
   "metadata": {},
   "source": [
    "Let's compare this result versus the p value we would get by applying a traditional chi-squared test:"
   ]
  },
  {
   "cell_type": "code",
   "execution_count": 42,
   "metadata": {
    "collapsed": true
   },
   "outputs": [],
   "source": [
    "fpath = os.path.join(result_dir, \"spmi_r_pairwise_chis_result.csv\")\n",
    "%R -i fpath"
   ]
  },
  {
   "cell_type": "code",
   "execution_count": 43,
   "metadata": {
    "collapsed": false
   },
   "outputs": [
    {
     "data": {
      "text/plain": [
       "                                                                     I_wish_another_candidate_had_won_the_primary\n",
       "Hillary_Clinton_is_involved_in_many_coverups                                                            11.057399\n",
       "Trump_changes_his_positions_all_of_the_time                                                              7.043314\n",
       "Hillary_Clinton_lied_to_the_families_of_Americans_killed_in_Benghazi                                    11.764200\n",
       "Trump_is_a_successful_businessman                                                                        6.683514\n",
       "Trumps_temper_could_get_the_country_into_trouble                                                        16.129399\n",
       "                                                                     Need_to_do_more_research\n",
       "Hillary_Clinton_is_involved_in_many_coverups                                      12.51047518\n",
       "Trump_changes_his_positions_all_of_the_time                                        0.00318631\n",
       "Hillary_Clinton_lied_to_the_families_of_Americans_killed_in_Benghazi               0.55863848\n",
       "Trump_is_a_successful_businessman                                                  2.07402995\n",
       "Trumps_temper_could_get_the_country_into_trouble                                   0.96428863\n",
       "                                                                     Dont_like__any_candidate\n",
       "Hillary_Clinton_is_involved_in_many_coverups                                        17.274174\n",
       "Trump_changes_his_positions_all_of_the_time                                          2.743406\n",
       "Hillary_Clinton_lied_to_the_families_of_Americans_killed_in_Benghazi                 9.740022\n",
       "Trump_is_a_successful_businessman                                                   10.013109\n",
       "Trumps_temper_could_get_the_country_into_trouble                                    22.869451\n",
       "                                                                     Not_sure_which_candidate_shares_my_values\n",
       "Hillary_Clinton_is_involved_in_many_coverups                                                        0.02286978\n",
       "Trump_changes_his_positions_all_of_the_time                                                         1.38181848\n",
       "Hillary_Clinton_lied_to_the_families_of_Americans_killed_in_Benghazi                                0.40210329\n",
       "Trump_is_a_successful_businessman                                                                   0.01932563\n",
       "Trumps_temper_could_get_the_country_into_trouble                                                    8.56060544\n",
       "                                                                     Waiting_for_debates\n",
       "Hillary_Clinton_is_involved_in_many_coverups                                   5.2158331\n",
       "Trump_changes_his_positions_all_of_the_time                                    4.0136842\n",
       "Hillary_Clinton_lied_to_the_families_of_Americans_killed_in_Benghazi          16.0882557\n",
       "Trump_is_a_successful_businessman                                              4.4883332\n",
       "Trumps_temper_could_get_the_country_into_trouble                               0.2369571\n"
      ]
     },
     "metadata": {},
     "output_type": "display_data"
    }
   ],
   "source": [
    "%%R -i mrcv_presidential\n",
    "\n",
    "library('MRCV')\n",
    "\n",
    "spmi_pairwise_chis_r <- MI.stat(mrcv_presidential, I=5, J=5)\n",
    "\n",
    "spmi_pairwise_chis_r$X.sq.S.ij\n",
    "\n",
    "spmi_pairwise_chis_r_dataframe <- as.data.frame.matrix(spmi_pairwise_chis_r$X.sq.S.ij)\n",
    "write.table(spmi_pairwise_chis_r_dataframe, file = fpath, sep=\",\")\n",
    "## R is apparently bad at writing out tables with nested headers so we just get \"term\", \"term\", \"term\"\n",
    "colnames(spmi_pairwise_chis_r_dataframe)\n",
    "spmi_pairwise_chis_r_dataframe"
   ]
  },
  {
   "cell_type": "code",
   "execution_count": 48,
   "metadata": {
    "collapsed": false
   },
   "outputs": [
    {
     "data": {
      "text/html": [
       "<div>\n",
       "<table border=\"1\" class=\"dataframe\">\n",
       "  <thead>\n",
       "    <tr style=\"text-align: right;\">\n",
       "      <th></th>\n",
       "      <th>I_wish_another_candidate_had_won_the_primary</th>\n",
       "      <th>Need_to_do_more_research</th>\n",
       "      <th>Dont_like__any_candidate</th>\n",
       "      <th>Not_sure_which_candidate_shares_my_values</th>\n",
       "      <th>Waiting_for_debates</th>\n",
       "    </tr>\n",
       "  </thead>\n",
       "  <tbody>\n",
       "    <tr>\n",
       "      <th>Hillary_Clinton_is_involved_in_many_coverups</th>\n",
       "      <td>11.057399</td>\n",
       "      <td>12.510475</td>\n",
       "      <td>17.274174</td>\n",
       "      <td>0.022870</td>\n",
       "      <td>5.215833</td>\n",
       "    </tr>\n",
       "    <tr>\n",
       "      <th>Trump_changes_his_positions_all_of_the_time</th>\n",
       "      <td>7.043314</td>\n",
       "      <td>0.003186</td>\n",
       "      <td>2.743406</td>\n",
       "      <td>1.381818</td>\n",
       "      <td>4.013684</td>\n",
       "    </tr>\n",
       "    <tr>\n",
       "      <th>Hillary_Clinton_lied_to_the_families_of_Americans_killed_in_Benghazi</th>\n",
       "      <td>11.764200</td>\n",
       "      <td>0.558638</td>\n",
       "      <td>9.740022</td>\n",
       "      <td>0.402103</td>\n",
       "      <td>16.088256</td>\n",
       "    </tr>\n",
       "    <tr>\n",
       "      <th>Trump_is_a_successful_businessman</th>\n",
       "      <td>6.683514</td>\n",
       "      <td>2.074030</td>\n",
       "      <td>10.013109</td>\n",
       "      <td>0.019326</td>\n",
       "      <td>4.488333</td>\n",
       "    </tr>\n",
       "    <tr>\n",
       "      <th>Trumps_temper_could_get_the_country_into_trouble</th>\n",
       "      <td>16.129399</td>\n",
       "      <td>0.964289</td>\n",
       "      <td>22.869451</td>\n",
       "      <td>8.560605</td>\n",
       "      <td>0.236957</td>\n",
       "    </tr>\n",
       "  </tbody>\n",
       "</table>\n",
       "</div>"
      ],
      "text/plain": [
       "                                                    I_wish_another_candidate_had_won_the_primary  \\\n",
       "Hillary_Clinton_is_involved_in_many_coverups                                           11.057399   \n",
       "Trump_changes_his_positions_all_of_the_time                                             7.043314   \n",
       "Hillary_Clinton_lied_to_the_families_of_America...                                     11.764200   \n",
       "Trump_is_a_successful_businessman                                                       6.683514   \n",
       "Trumps_temper_could_get_the_country_into_trouble                                       16.129399   \n",
       "\n",
       "                                                    Need_to_do_more_research  \\\n",
       "Hillary_Clinton_is_involved_in_many_coverups                       12.510475   \n",
       "Trump_changes_his_positions_all_of_the_time                         0.003186   \n",
       "Hillary_Clinton_lied_to_the_families_of_America...                  0.558638   \n",
       "Trump_is_a_successful_businessman                                   2.074030   \n",
       "Trumps_temper_could_get_the_country_into_trouble                    0.964289   \n",
       "\n",
       "                                                    Dont_like__any_candidate  \\\n",
       "Hillary_Clinton_is_involved_in_many_coverups                       17.274174   \n",
       "Trump_changes_his_positions_all_of_the_time                         2.743406   \n",
       "Hillary_Clinton_lied_to_the_families_of_America...                  9.740022   \n",
       "Trump_is_a_successful_businessman                                  10.013109   \n",
       "Trumps_temper_could_get_the_country_into_trouble                   22.869451   \n",
       "\n",
       "                                                    Not_sure_which_candidate_shares_my_values  \\\n",
       "Hillary_Clinton_is_involved_in_many_coverups                                         0.022870   \n",
       "Trump_changes_his_positions_all_of_the_time                                          1.381818   \n",
       "Hillary_Clinton_lied_to_the_families_of_America...                                   0.402103   \n",
       "Trump_is_a_successful_businessman                                                    0.019326   \n",
       "Trumps_temper_could_get_the_country_into_trouble                                     8.560605   \n",
       "\n",
       "                                                    Waiting_for_debates  \n",
       "Hillary_Clinton_is_involved_in_many_coverups                   5.215833  \n",
       "Trump_changes_his_positions_all_of_the_time                    4.013684  \n",
       "Hillary_Clinton_lied_to_the_families_of_America...            16.088256  \n",
       "Trump_is_a_successful_businessman                              4.488333  \n",
       "Trumps_temper_could_get_the_country_into_trouble               0.236957  "
      ]
     },
     "execution_count": 48,
     "metadata": {},
     "output_type": "execute_result"
    }
   ],
   "source": [
    "spmi_pairwise_chis_r = pd.DataFrame.from_csv(fpath)\n",
    "spmi_pairwise_chis_r\n",
    "\n",
    "assert_allclose(spmi_pairwise_chis_r.values.astype(float), spmi_pairwise_chis_python.values.astype(float))"
   ]
  },
  {
   "cell_type": "markdown",
   "metadata": {},
   "source": [
    "### SPMI bonferroni"
   ]
  },
  {
   "cell_type": "code",
   "execution_count": 64,
   "metadata": {
    "collapsed": false
   },
   "outputs": [
    {
     "name": "stdout",
     "output_type": "stream",
     "text": [
      "Overall table p value: 4.3346430242129665e-05\n",
      "\n",
      "\n",
      "Cellwise p value:                                                     I_wish_another_candidate_had_won_the_primary  \\\n",
      "Hillary_Clinton_is_involved_in_many_coverups                                            0.022083   \n",
      "Trump_changes_his_positions_all_of_the_time                                             0.198904   \n",
      "Hillary_Clinton_lied_to_the_families_of_America...                                      0.015095   \n",
      "Trump_is_a_successful_businessman                                                       0.243271   \n",
      "Trumps_temper_could_get_the_country_into_trouble                                        0.001479   \n",
      "\n",
      "                                                    Need_to_do_more_research  \\\n",
      "Hillary_Clinton_is_involved_in_many_coverups                        0.010117   \n",
      "Trump_changes_his_positions_all_of_the_time                         1.000000   \n",
      "Hillary_Clinton_lied_to_the_families_of_America...                  1.000000   \n",
      "Trump_is_a_successful_businessman                                   1.000000   \n",
      "Trumps_temper_could_get_the_country_into_trouble                    1.000000   \n",
      "\n",
      "                                                    Dont_like__any_candidate  \\\n",
      "Hillary_Clinton_is_involved_in_many_coverups                        0.000809   \n",
      "Trump_changes_his_positions_all_of_the_time                         1.000000   \n",
      "Hillary_Clinton_lied_to_the_families_of_America...                  0.045075   \n",
      "Trump_is_a_successful_businessman                                   0.038857   \n",
      "Trumps_temper_could_get_the_country_into_trouble                    0.000043   \n",
      "\n",
      "                                                    Not_sure_which_candidate_shares_my_values  \\\n",
      "Hillary_Clinton_is_involved_in_many_coverups                                         1.000000   \n",
      "Trump_changes_his_positions_all_of_the_time                                          1.000000   \n",
      "Hillary_Clinton_lied_to_the_families_of_America...                                   1.000000   \n",
      "Trump_is_a_successful_businessman                                                    1.000000   \n",
      "Trumps_temper_could_get_the_country_into_trouble                                     0.085879   \n",
      "\n",
      "                                                    Waiting_for_debates  \n",
      "Hillary_Clinton_is_involved_in_many_coverups                   0.559553  \n",
      "Trump_changes_his_positions_all_of_the_time                    1.000000  \n",
      "Hillary_Clinton_lied_to_the_families_of_America...             0.001511  \n",
      "Trump_is_a_successful_businessman                              0.853173  \n",
      "Trumps_temper_could_get_the_country_into_trouble               1.000000  \n",
      "\n",
      "\n"
     ]
    }
   ],
   "source": [
    "bonferroni_test = multiple_response_table._test_for_single_pairwise_mutual_independence_using_bonferroni\n",
    "table_p_value_bonferroni_corrected, cellwise_p_bonferroni_python = bonferroni_test(rows_factor, columns_factor)\n",
    "print(\"Overall table p value: {}\\n\\n\".format(table_p_value_bonferroni_corrected))\n",
    "print(\"Cellwise p value: {}\\n\\n\".format(cellwise_p_bonferroni_python))"
   ]
  },
  {
   "cell_type": "code",
   "execution_count": 59,
   "metadata": {
    "collapsed": true
   },
   "outputs": [],
   "source": [
    "fpath = os.path.join(result_dir, \"spmi_r_bonferroni.csv\")\n",
    "%R -i fpath"
   ]
  },
  {
   "cell_type": "code",
   "execution_count": 60,
   "metadata": {
    "collapsed": true
   },
   "outputs": [],
   "source": [
    "%%R -i mrcv_presidential\n",
    "\n",
    "library('MRCV')\n",
    "\n",
    "res <- MI.test(mrcv_presidential, I=5, J=5, type=\"bon\")\n",
    "res$bon$X.sq.S.ij.p.bon\n",
    "write.csv(res$bon, file=fpath)"
   ]
  },
  {
   "cell_type": "code",
   "execution_count": 61,
   "metadata": {
    "collapsed": false
   },
   "outputs": [
    {
     "data": {
      "text/html": [
       "<div>\n",
       "<table border=\"1\" class=\"dataframe\">\n",
       "  <thead>\n",
       "    <tr style=\"text-align: right;\">\n",
       "      <th></th>\n",
       "      <th>p.value.bon</th>\n",
       "      <th>X.sq.S.ij.p.bon.I_wish_another_candidate_had_won_the_primary</th>\n",
       "      <th>X.sq.S.ij.p.bon.Need_to_do_more_research</th>\n",
       "      <th>X.sq.S.ij.p.bon.Dont_like__any_candidate</th>\n",
       "      <th>X.sq.S.ij.p.bon.Not_sure_which_candidate_shares_my_values</th>\n",
       "      <th>X.sq.S.ij.p.bon.Waiting_for_debates</th>\n",
       "    </tr>\n",
       "  </thead>\n",
       "  <tbody>\n",
       "    <tr>\n",
       "      <th>Hillary_Clinton_is_involved_in_many_coverups</th>\n",
       "      <td>0.000043</td>\n",
       "      <td>0.022083</td>\n",
       "      <td>0.010117</td>\n",
       "      <td>0.000809</td>\n",
       "      <td>1.000000</td>\n",
       "      <td>0.559553</td>\n",
       "    </tr>\n",
       "    <tr>\n",
       "      <th>Trump_changes_his_positions_all_of_the_time</th>\n",
       "      <td>0.000043</td>\n",
       "      <td>0.198904</td>\n",
       "      <td>1.000000</td>\n",
       "      <td>1.000000</td>\n",
       "      <td>1.000000</td>\n",
       "      <td>1.000000</td>\n",
       "    </tr>\n",
       "    <tr>\n",
       "      <th>Hillary_Clinton_lied_to_the_families_of_Americans_killed_in_Benghazi</th>\n",
       "      <td>0.000043</td>\n",
       "      <td>0.015095</td>\n",
       "      <td>1.000000</td>\n",
       "      <td>0.045075</td>\n",
       "      <td>1.000000</td>\n",
       "      <td>0.001511</td>\n",
       "    </tr>\n",
       "    <tr>\n",
       "      <th>Trump_is_a_successful_businessman</th>\n",
       "      <td>0.000043</td>\n",
       "      <td>0.243271</td>\n",
       "      <td>1.000000</td>\n",
       "      <td>0.038857</td>\n",
       "      <td>1.000000</td>\n",
       "      <td>0.853173</td>\n",
       "    </tr>\n",
       "    <tr>\n",
       "      <th>Trumps_temper_could_get_the_country_into_trouble</th>\n",
       "      <td>0.000043</td>\n",
       "      <td>0.001479</td>\n",
       "      <td>1.000000</td>\n",
       "      <td>0.000043</td>\n",
       "      <td>0.085879</td>\n",
       "      <td>1.000000</td>\n",
       "    </tr>\n",
       "  </tbody>\n",
       "</table>\n",
       "</div>"
      ],
      "text/plain": [
       "                                                    p.value.bon  \\\n",
       "Hillary_Clinton_is_involved_in_many_coverups           0.000043   \n",
       "Trump_changes_his_positions_all_of_the_time            0.000043   \n",
       "Hillary_Clinton_lied_to_the_families_of_America...     0.000043   \n",
       "Trump_is_a_successful_businessman                      0.000043   \n",
       "Trumps_temper_could_get_the_country_into_trouble       0.000043   \n",
       "\n",
       "                                                    X.sq.S.ij.p.bon.I_wish_another_candidate_had_won_the_primary  \\\n",
       "Hillary_Clinton_is_involved_in_many_coverups                                                 0.022083              \n",
       "Trump_changes_his_positions_all_of_the_time                                                  0.198904              \n",
       "Hillary_Clinton_lied_to_the_families_of_America...                                           0.015095              \n",
       "Trump_is_a_successful_businessman                                                            0.243271              \n",
       "Trumps_temper_could_get_the_country_into_trouble                                             0.001479              \n",
       "\n",
       "                                                    X.sq.S.ij.p.bon.Need_to_do_more_research  \\\n",
       "Hillary_Clinton_is_involved_in_many_coverups                                        0.010117   \n",
       "Trump_changes_his_positions_all_of_the_time                                         1.000000   \n",
       "Hillary_Clinton_lied_to_the_families_of_America...                                  1.000000   \n",
       "Trump_is_a_successful_businessman                                                   1.000000   \n",
       "Trumps_temper_could_get_the_country_into_trouble                                    1.000000   \n",
       "\n",
       "                                                    X.sq.S.ij.p.bon.Dont_like__any_candidate  \\\n",
       "Hillary_Clinton_is_involved_in_many_coverups                                        0.000809   \n",
       "Trump_changes_his_positions_all_of_the_time                                         1.000000   \n",
       "Hillary_Clinton_lied_to_the_families_of_America...                                  0.045075   \n",
       "Trump_is_a_successful_businessman                                                   0.038857   \n",
       "Trumps_temper_could_get_the_country_into_trouble                                    0.000043   \n",
       "\n",
       "                                                    X.sq.S.ij.p.bon.Not_sure_which_candidate_shares_my_values  \\\n",
       "Hillary_Clinton_is_involved_in_many_coverups                                                 1.000000           \n",
       "Trump_changes_his_positions_all_of_the_time                                                  1.000000           \n",
       "Hillary_Clinton_lied_to_the_families_of_America...                                           1.000000           \n",
       "Trump_is_a_successful_businessman                                                            1.000000           \n",
       "Trumps_temper_could_get_the_country_into_trouble                                             0.085879           \n",
       "\n",
       "                                                    X.sq.S.ij.p.bon.Waiting_for_debates  \n",
       "Hillary_Clinton_is_involved_in_many_coverups                                   0.559553  \n",
       "Trump_changes_his_positions_all_of_the_time                                    1.000000  \n",
       "Hillary_Clinton_lied_to_the_families_of_America...                             0.001511  \n",
       "Trump_is_a_successful_businessman                                              0.853173  \n",
       "Trumps_temper_could_get_the_country_into_trouble                               1.000000  "
      ]
     },
     "execution_count": 61,
     "metadata": {},
     "output_type": "execute_result"
    },
    {
     "ename": "AssertionError",
     "evalue": "\nNot equal to tolerance rtol=1e-07, atol=0\n\n(shapes (5, 6), (5, 5) mismatch)\n x: array([[  4.334643e-05,   2.208349e-02,   1.011692e-02,   8.088865e-04,\n          1.000000e+00,   5.595530e-01],\n       [  4.334643e-05,   1.989042e-01,   1.000000e+00,   1.000000e+00,...\n y: array([[  1.105740e+01,   1.251048e+01,   1.727417e+01,   2.286978e-02,\n          5.215833e+00],\n       [  7.043314e+00,   3.186310e-03,   2.743406e+00,   1.381818e+00,...",
     "output_type": "error",
     "traceback": [
      "\u001b[0;31m---------------------------------------------------------------------------\u001b[0m",
      "\u001b[0;31mAssertionError\u001b[0m                            Traceback (most recent call last)",
      "\u001b[0;32m<ipython-input-61-a3aadf3253c2>\u001b[0m in \u001b[0;36m<module>\u001b[0;34m()\u001b[0m\n\u001b[1;32m      2\u001b[0m \u001b[0mspmi_bonferroni_r\u001b[0m\u001b[0;34m\u001b[0m\u001b[0m\n\u001b[1;32m      3\u001b[0m \u001b[0;34m\u001b[0m\u001b[0m\n\u001b[0;32m----> 4\u001b[0;31m \u001b[0massert_allclose\u001b[0m\u001b[0;34m(\u001b[0m\u001b[0mspmi_bonferroni_r\u001b[0m\u001b[0;34m.\u001b[0m\u001b[0mvalues\u001b[0m\u001b[0;34m.\u001b[0m\u001b[0mastype\u001b[0m\u001b[0;34m(\u001b[0m\u001b[0mfloat\u001b[0m\u001b[0;34m)\u001b[0m\u001b[0;34m,\u001b[0m \u001b[0mspmi_pairwise_chis_python\u001b[0m\u001b[0;34m.\u001b[0m\u001b[0mvalues\u001b[0m\u001b[0;34m.\u001b[0m\u001b[0mastype\u001b[0m\u001b[0;34m(\u001b[0m\u001b[0mfloat\u001b[0m\u001b[0;34m)\u001b[0m\u001b[0;34m)\u001b[0m\u001b[0;34m\u001b[0m\u001b[0m\n\u001b[0m",
      "\u001b[0;32m/Users/gjlondon/anaconda/envs/statsmodels-dev/lib/python3.5/site-packages/numpy/testing/utils.py\u001b[0m in \u001b[0;36massert_allclose\u001b[0;34m(actual, desired, rtol, atol, equal_nan, err_msg, verbose)\u001b[0m\n\u001b[1;32m   1390\u001b[0m     \u001b[0mheader\u001b[0m \u001b[0;34m=\u001b[0m \u001b[0;34m'Not equal to tolerance rtol=%g, atol=%g'\u001b[0m \u001b[0;34m%\u001b[0m \u001b[0;34m(\u001b[0m\u001b[0mrtol\u001b[0m\u001b[0;34m,\u001b[0m \u001b[0matol\u001b[0m\u001b[0;34m)\u001b[0m\u001b[0;34m\u001b[0m\u001b[0m\n\u001b[1;32m   1391\u001b[0m     assert_array_compare(compare, actual, desired, err_msg=str(err_msg),\n\u001b[0;32m-> 1392\u001b[0;31m                          verbose=verbose, header=header)\n\u001b[0m\u001b[1;32m   1393\u001b[0m \u001b[0;34m\u001b[0m\u001b[0m\n\u001b[1;32m   1394\u001b[0m \u001b[0;32mdef\u001b[0m \u001b[0massert_array_almost_equal_nulp\u001b[0m\u001b[0;34m(\u001b[0m\u001b[0mx\u001b[0m\u001b[0;34m,\u001b[0m \u001b[0my\u001b[0m\u001b[0;34m,\u001b[0m \u001b[0mnulp\u001b[0m\u001b[0;34m=\u001b[0m\u001b[0;36m1\u001b[0m\u001b[0;34m)\u001b[0m\u001b[0;34m:\u001b[0m\u001b[0;34m\u001b[0m\u001b[0m\n",
      "\u001b[0;32m/Users/gjlondon/anaconda/envs/statsmodels-dev/lib/python3.5/site-packages/numpy/testing/utils.py\u001b[0m in \u001b[0;36massert_array_compare\u001b[0;34m(comparison, x, y, err_msg, verbose, header, precision)\u001b[0m\n\u001b[1;32m    692\u001b[0m                                 names=('x', 'y'), precision=precision)\n\u001b[1;32m    693\u001b[0m             \u001b[0;32mif\u001b[0m \u001b[0;32mnot\u001b[0m \u001b[0mcond\u001b[0m\u001b[0;34m:\u001b[0m\u001b[0;34m\u001b[0m\u001b[0m\n\u001b[0;32m--> 694\u001b[0;31m                 \u001b[0;32mraise\u001b[0m \u001b[0mAssertionError\u001b[0m\u001b[0;34m(\u001b[0m\u001b[0mmsg\u001b[0m\u001b[0;34m)\u001b[0m\u001b[0;34m\u001b[0m\u001b[0m\n\u001b[0m\u001b[1;32m    695\u001b[0m \u001b[0;34m\u001b[0m\u001b[0m\n\u001b[1;32m    696\u001b[0m         \u001b[0;32mif\u001b[0m \u001b[0misnumber\u001b[0m\u001b[0;34m(\u001b[0m\u001b[0mx\u001b[0m\u001b[0;34m)\u001b[0m \u001b[0;32mand\u001b[0m \u001b[0misnumber\u001b[0m\u001b[0;34m(\u001b[0m\u001b[0my\u001b[0m\u001b[0;34m)\u001b[0m\u001b[0;34m:\u001b[0m\u001b[0;34m\u001b[0m\u001b[0m\n",
      "\u001b[0;31mAssertionError\u001b[0m: \nNot equal to tolerance rtol=1e-07, atol=0\n\n(shapes (5, 6), (5, 5) mismatch)\n x: array([[  4.334643e-05,   2.208349e-02,   1.011692e-02,   8.088865e-04,\n          1.000000e+00,   5.595530e-01],\n       [  4.334643e-05,   1.989042e-01,   1.000000e+00,   1.000000e+00,...\n y: array([[  1.105740e+01,   1.251048e+01,   1.727417e+01,   2.286978e-02,\n          5.215833e+00],\n       [  7.043314e+00,   3.186310e-03,   2.743406e+00,   1.381818e+00,..."
     ]
    }
   ],
   "source": [
    "spmi_bonferroni_r = pd.DataFrame.from_csv(fpath)\n",
    "spmi_bonferroni_r\n",
    "\n",
    "table_p_value_r = spmi_bonferroni_r[\"p.value.bon\"]\n",
    "cell_p_values_r = spmi_bonferroni_r.iloc[:, 1:]\n",
    "\n",
    "assert_allclose(cellwise_p_bonferroni_python, cell_p_values_r)\n",
    "assert_allclose(table_p_value_r, table_p_value_bonferroni_corrected)"
   ]
  },
  {
   "cell_type": "markdown",
   "metadata": {},
   "source": [
    "### SPMI Rao Scott 2"
   ]
  },
  {
   "cell_type": "code",
   "execution_count": 77,
   "metadata": {
    "collapsed": false
   },
   "outputs": [
    {
     "name": "stdout",
     "output_type": "stream",
     "text": [
      "124.68450287\n",
      "18.1376800255\n"
     ]
    }
   ],
   "source": [
    "rao_scott_2_test = multiple_response_table._test_for_single_pairwise_mutual_independence_using_rao_scott_2\n",
    "table_p_value = rao_scott_2_test(rows_factor, columns_factor)\n",
    "fpath = os.path.join(result_dir, \"spmi_r_rao_scott.csv\")\n",
    "\n",
    "\n",
    "%R -i fpath"
   ]
  },
  {
   "cell_type": "code",
   "execution_count": 73,
   "metadata": {
    "collapsed": false
   },
   "outputs": [
    {
     "data": {
      "text/plain": [
       "$X.sq.S.rs2\n",
       "[1] 124.6845\n",
       "\n",
       "$df.rs2\n",
       "[1] 18.13768\n",
       "\n",
       "$p.value.rs2\n",
       "[1] 0\n",
       "\n"
      ]
     },
     "metadata": {},
     "output_type": "display_data"
    }
   ],
   "source": [
    "%%R -i mrcv_presidential\n",
    "\n",
    "res <- MI.test(mrcv_presidential, I=5, J=5, type=\"rs2\")\n",
    "res$rs2\n",
    "write.csv(res$rs2, file=fpath)\n",
    "res$rs2"
   ]
  },
  {
   "cell_type": "code",
   "execution_count": 78,
   "metadata": {
    "collapsed": false
   },
   "outputs": [
    {
     "data": {
      "text/plain": [
       "0.0"
      ]
     },
     "execution_count": 78,
     "metadata": {},
     "output_type": "execute_result"
    }
   ],
   "source": [
    "table_p_value"
   ]
  },
  {
   "cell_type": "code",
   "execution_count": 79,
   "metadata": {
    "collapsed": false
   },
   "outputs": [],
   "source": [
    "r_result = pd.DataFrame.from_csv(fpath)\n",
    "table_p_value_r = r_result[\"p.value.rs2\"]\n",
    "assert_allclose(table_p_value_r, table_p_value)"
   ]
  },
  {
   "cell_type": "code",
   "execution_count": null,
   "metadata": {
    "collapsed": true
   },
   "outputs": [],
   "source": []
  },
  {
   "cell_type": "markdown",
   "metadata": {},
   "source": [
    "Both the bonferroni and the row scott methods require us to make some assumptions about the distribution of the deviations we observe in our response table. Ever not comfortable making assumptions we can instead use a nonparametric method by running a bootstrap simulation to approximate the distribution of deviations. The bootstrap method is more computationally intensive but allows us to estimate the p value using fewer assumptions."
   ]
  },
  {
   "cell_type": "code",
   "execution_count": null,
   "metadata": {
    "collapsed": false
   },
   "outputs": [
    {
     "name": "stdout",
     "output_type": "stream",
     "text": [
      "sample 0\n"
     ]
    },
    {
     "name": "stderr",
     "output_type": "stream",
     "text": [
      "/Users/gjlondon/anaconda/envs/statsmodels-dev/lib/python3.5/site-packages/pandas/indexes/range.py:432: RuntimeWarning: unorderable types: int() < str(), sort order is undefined for incomparable objects\n",
      "  return self._int64index.union(other)\n"
     ]
    },
    {
     "name": "stdout",
     "output_type": "stream",
     "text": [
      "sample 50\n",
      "sample 100\n",
      "sample 150\n",
      "sample 200\n",
      "sample 250\n",
      "sample 300\n",
      "sample 350\n",
      "sample 400\n",
      "sample 450\n",
      "sample 500\n"
     ]
    }
   ],
   "source": [
    "bootstrap_test = multiple_response_table._test_for_single_pairwise_mutual_independence_using_bootstrap\n",
    "results = bootstrap_test(rows_factor, columns_factor, verbose=True)\n",
    "table_p_value_bootstrap, pairwise_bootstrap_p_values = results\n",
    "print(\"Overall table p value: {}\\n\\n\".format(table_p_value_bootstrap))\n",
    "print(\"Pairwise p values (likelihood of independence between single select variable and specific multi-select option):\")\n",
    "pairwise_bootstrap_p_values"
   ]
  },
  {
   "cell_type": "code",
   "execution_count": null,
   "metadata": {
    "collapsed": true
   },
   "outputs": [],
   "source": []
  }
 ],
 "metadata": {
  "anaconda-cloud": {},
  "kernelspec": {
   "display_name": "Python [conda env:statsmodels-dev]",
   "language": "python",
   "name": "conda-env-statsmodels-dev-py"
  },
  "language_info": {
   "codemirror_mode": {
    "name": "ipython",
    "version": 3
   },
   "file_extension": ".py",
   "mimetype": "text/x-python",
   "name": "python",
   "nbconvert_exporter": "python",
   "pygments_lexer": "ipython3",
   "version": "3.5.2"
  }
 },
 "nbformat": 4,
 "nbformat_minor": 2
}
