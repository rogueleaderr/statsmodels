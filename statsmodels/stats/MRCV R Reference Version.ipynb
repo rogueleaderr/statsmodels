{
 "cells": [
  {
   "cell_type": "code",
   "execution_count": 28,
   "metadata": {
    "collapsed": false
   },
   "outputs": [
    {
     "name": "stdout",
     "output_type": "stream",
     "text": [
      "The autoreload extension is already loaded. To reload it, use:\n",
      "  %reload_ext autoreload\n",
      "The rpy2.ipython extension is already loaded. To reload it, use:\n",
      "  %reload_ext rpy2.ipython\n"
     ]
    }
   ],
   "source": [
    "import numpy as np\n",
    "import numpy.random as rand\n",
    "from numpy.testing import assert_allclose, assert_equal\n",
    "\n",
    "import pandas as pd\n",
    "from scipy.stats import chi2_contingency\n",
    "\n",
    "import sys\n",
    "import os\n",
    "# let us import local app packages\n",
    "PACKAGE_PARENT = '../..'\n",
    "sys.path.append(os.path.normpath(PACKAGE_PARENT))\n",
    "\n",
    "%load_ext autoreload\n",
    "%autoreload 2\n",
    "%load_ext rpy2.ipython"
   ]
  },
  {
   "cell_type": "code",
   "execution_count": 2,
   "metadata": {
    "collapsed": true
   },
   "outputs": [],
   "source": [
    "from IPython.core.interactiveshell import InteractiveShell\n",
    "InteractiveShell.ast_node_interactivity = \"all\"\n",
    "%config InlineBackend.figure_format = 'retina'"
   ]
  },
  {
   "cell_type": "markdown",
   "metadata": {},
   "source": [
    "## A basic table:"
   ]
  },
  {
   "cell_type": "code",
   "execution_count": 3,
   "metadata": {
    "collapsed": false
   },
   "outputs": [
    {
     "data": {
      "text/html": [
       "<div>\n",
       "<table border=\"1\" class=\"dataframe\">\n",
       "  <thead>\n",
       "    <tr style=\"text-align: right;\">\n",
       "      <th></th>\n",
       "      <th>age</th>\n",
       "      <th>favorite_show</th>\n",
       "    </tr>\n",
       "    <tr>\n",
       "      <th>respondent_id</th>\n",
       "      <th></th>\n",
       "      <th></th>\n",
       "    </tr>\n",
       "  </thead>\n",
       "  <tbody>\n",
       "    <tr>\n",
       "      <th>0</th>\n",
       "      <td>55+</td>\n",
       "      <td>House of Cards</td>\n",
       "    </tr>\n",
       "    <tr>\n",
       "      <th>1</th>\n",
       "      <td>55+</td>\n",
       "      <td>Westworld</td>\n",
       "    </tr>\n",
       "    <tr>\n",
       "      <th>2</th>\n",
       "      <td>37-54</td>\n",
       "      <td>House of Cards</td>\n",
       "    </tr>\n",
       "    <tr>\n",
       "      <th>3</th>\n",
       "      <td>37-54</td>\n",
       "      <td>Westworld</td>\n",
       "    </tr>\n",
       "    <tr>\n",
       "      <th>4</th>\n",
       "      <td>18-36</td>\n",
       "      <td>Westworld</td>\n",
       "    </tr>\n",
       "    <tr>\n",
       "      <th>5</th>\n",
       "      <td>18-36</td>\n",
       "      <td>House of Cards</td>\n",
       "    </tr>\n",
       "    <tr>\n",
       "      <th>6</th>\n",
       "      <td>55+</td>\n",
       "      <td>House of Cards</td>\n",
       "    </tr>\n",
       "    <tr>\n",
       "      <th>7</th>\n",
       "      <td>37-54</td>\n",
       "      <td>House of Cards</td>\n",
       "    </tr>\n",
       "    <tr>\n",
       "      <th>8</th>\n",
       "      <td>18-36</td>\n",
       "      <td>Westworld</td>\n",
       "    </tr>\n",
       "    <tr>\n",
       "      <th>9</th>\n",
       "      <td>37-54</td>\n",
       "      <td>House of Cards</td>\n",
       "    </tr>\n",
       "  </tbody>\n",
       "</table>\n",
       "</div>"
      ],
      "text/plain": [
       "                 age   favorite_show\n",
       "respondent_id                       \n",
       "0                55+  House of Cards\n",
       "1                55+       Westworld\n",
       "2              37-54  House of Cards\n",
       "3              37-54       Westworld\n",
       "4              18-36       Westworld\n",
       "5              18-36  House of Cards\n",
       "6                55+  House of Cards\n",
       "7              37-54  House of Cards\n",
       "8              18-36       Westworld\n",
       "9              37-54  House of Cards"
      ]
     },
     "execution_count": 3,
     "metadata": {},
     "output_type": "execute_result"
    }
   ],
   "source": [
    "age = np.random.choice(['18-36','37-54','55+'], size = 2000, p = [0.3,0.4,0.3]);\n",
    "favorite_show = np.random.choice(['NCIS','House of Cards','Westworld'], size = 2000, p = [0.2,0.4,0.4])\n",
    "survey_results = pd.DataFrame({\"age\": age, \"favorite_show\": favorite_show})\n",
    "survey_results.index.name = \"respondent_id\"\n",
    "survey_results.head(10)"
   ]
  },
  {
   "cell_type": "code",
   "execution_count": 4,
   "metadata": {
    "collapsed": false
   },
   "outputs": [
    {
     "data": {
      "text/plain": [
       "       favorite_show\n",
       "age     House of Cards NCIS Westworld\n",
       "  18-36            245  113       264\n",
       "  37-54            323  152       323\n",
       "  55+              239  116       225\n"
      ]
     },
     "metadata": {},
     "output_type": "display_data"
    }
   ],
   "source": [
    "%%R -i survey_results\n",
    "\n",
    "table(survey_results)"
   ]
  },
  {
   "cell_type": "code",
   "execution_count": 5,
   "metadata": {
    "collapsed": false
   },
   "outputs": [
    {
     "name": "stdout",
     "output_type": "stream",
     "text": [
      "Contingency Table: \n",
      "favorite_show  House of Cards  NCIS  Westworld\n",
      "age                                           \n",
      "18-36                     245   113        264\n",
      "37-54                     323   152        323\n",
      "55+                       239   116        225\n"
     ]
    }
   ],
   "source": [
    "from statsmodels.stats.contingency_tables import Table\n",
    "\n",
    "table =  Table.from_data(survey_results)\n",
    "print(table)"
   ]
  },
  {
   "cell_type": "code",
   "execution_count": 6,
   "metadata": {
    "collapsed": false
   },
   "outputs": [
    {
     "name": "stdout",
     "output_type": "stream",
     "text": [
      "Contingency Table Independence Result:\n",
      "chi-squared statistic: 1.7704843257882488\n",
      "degrees of freedom: 4\n",
      "p value: 0.7778777647485371\n",
      "\n"
     ]
    }
   ],
   "source": [
    "independence_result = table.test_nominal_association()\n",
    "print(independence_result)"
   ]
  },
  {
   "cell_type": "code",
   "execution_count": 7,
   "metadata": {
    "collapsed": false
   },
   "outputs": [
    {
     "data": {
      "text/plain": [
       "\n",
       "\tPearson's Chi-squared test\n",
       "\n",
       "data:  table(survey_results)\n",
       "X-squared = 1.7705, df = 4, p-value = 0.7779\n",
       "\n"
      ]
     },
     "metadata": {},
     "output_type": "display_data"
    }
   ],
   "source": [
    "%%R -i survey_results\n",
    "\n",
    "chisq.test(table(survey_results))"
   ]
  },
  {
   "cell_type": "markdown",
   "metadata": {},
   "source": [
    "## A table with a relationship:"
   ]
  },
  {
   "cell_type": "code",
   "execution_count": 8,
   "metadata": {
    "collapsed": false
   },
   "outputs": [
    {
     "data": {
      "text/html": [
       "<div>\n",
       "<table border=\"1\" class=\"dataframe\">\n",
       "  <thead>\n",
       "    <tr style=\"text-align: right;\">\n",
       "      <th></th>\n",
       "      <th>age</th>\n",
       "      <th>favorite_social_network</th>\n",
       "    </tr>\n",
       "    <tr>\n",
       "      <th>respondent_id</th>\n",
       "      <th></th>\n",
       "      <th></th>\n",
       "    </tr>\n",
       "  </thead>\n",
       "  <tbody>\n",
       "    <tr>\n",
       "      <th>0</th>\n",
       "      <td>less than 18</td>\n",
       "      <td>facebook</td>\n",
       "    </tr>\n",
       "    <tr>\n",
       "      <th>1</th>\n",
       "      <td>19-36</td>\n",
       "      <td>facebook</td>\n",
       "    </tr>\n",
       "    <tr>\n",
       "      <th>2</th>\n",
       "      <td>19-36</td>\n",
       "      <td>instagram</td>\n",
       "    </tr>\n",
       "    <tr>\n",
       "      <th>3</th>\n",
       "      <td>19-36</td>\n",
       "      <td>instagram</td>\n",
       "    </tr>\n",
       "    <tr>\n",
       "      <th>4</th>\n",
       "      <td>less than 18</td>\n",
       "      <td>snapchat</td>\n",
       "    </tr>\n",
       "    <tr>\n",
       "      <th>5</th>\n",
       "      <td>19-36</td>\n",
       "      <td>snapchat</td>\n",
       "    </tr>\n",
       "    <tr>\n",
       "      <th>6</th>\n",
       "      <td>37+</td>\n",
       "      <td>facebook</td>\n",
       "    </tr>\n",
       "    <tr>\n",
       "      <th>7</th>\n",
       "      <td>37+</td>\n",
       "      <td>instagram</td>\n",
       "    </tr>\n",
       "    <tr>\n",
       "      <th>8</th>\n",
       "      <td>37+</td>\n",
       "      <td>facebook</td>\n",
       "    </tr>\n",
       "    <tr>\n",
       "      <th>9</th>\n",
       "      <td>37+</td>\n",
       "      <td>facebook</td>\n",
       "    </tr>\n",
       "  </tbody>\n",
       "</table>\n",
       "</div>"
      ],
      "text/plain": [
       "                        age favorite_social_network\n",
       "respondent_id                                      \n",
       "0              less than 18                facebook\n",
       "1                     19-36                facebook\n",
       "2                     19-36               instagram\n",
       "3                     19-36               instagram\n",
       "4              less than 18                snapchat\n",
       "5                     19-36                snapchat\n",
       "6                       37+                facebook\n",
       "7                       37+               instagram\n",
       "8                       37+                facebook\n",
       "9                       37+                facebook"
      ]
     },
     "execution_count": 8,
     "metadata": {},
     "output_type": "execute_result"
    }
   ],
   "source": [
    "age = np.random.choice(['less than 18','19-36','37+'], size = 2000, p = [0.3,0.4,0.3]);\n",
    "survey_results = pd.DataFrame({\"age\": age})\n",
    "survey_results.index.name = \"respondent_id\"\n",
    "\n",
    "def weighted_choice(age):\n",
    "    # weight tuples: (snapchat, instagram, facebook)\n",
    "    weights = {'less than 18': (.5, .4, .1),\n",
    "               '19-36': (.3, .3, .4),\n",
    "               '37+': (.1, .2, .7)}\n",
    "    choices = (\"snapchat\", \"instagram\", \"facebook\")\n",
    "    favorite_network = np.random.choice(choices, p=weights[age])\n",
    "    return favorite_network\n",
    "\n",
    "favorite_social_network = survey_results.age.apply(weighted_choice)\n",
    "survey_results['favorite_social_network'] = favorite_social_network\n",
    "survey_results.head(10)"
   ]
  },
  {
   "cell_type": "code",
   "execution_count": 9,
   "metadata": {
    "collapsed": false
   },
   "outputs": [
    {
     "name": "stdout",
     "output_type": "stream",
     "text": [
      "Contingency Table: \n",
      "favorite_social_network  facebook  instagram  snapchat\n",
      "age                                                   \n",
      "19-36                         341        242       225\n",
      "37+                           440        110        49\n",
      "less than 18                   65        247       281\n"
     ]
    }
   ],
   "source": [
    "from statsmodels.stats.contingency_tables import Table\n",
    "\n",
    "table =  Table.from_data(survey_results)\n",
    "print(table)"
   ]
  },
  {
   "cell_type": "code",
   "execution_count": 10,
   "metadata": {
    "collapsed": false
   },
   "outputs": [
    {
     "name": "stdout",
     "output_type": "stream",
     "text": [
      "Contingency Table Independence Result:\n",
      "chi-squared statistic: 494.16888956343263\n",
      "degrees of freedom: 4\n",
      "p value: 0.0\n",
      "\n"
     ]
    }
   ],
   "source": [
    "independence_result = table.test_nominal_association()\n",
    "print(independence_result)"
   ]
  },
  {
   "cell_type": "code",
   "execution_count": 11,
   "metadata": {
    "collapsed": false
   },
   "outputs": [
    {
     "data": {
      "text/plain": [
       "\n",
       "\tPearson's Chi-squared test\n",
       "\n",
       "data:  table(survey_results)\n",
       "X-squared = 494.17, df = 4, p-value < 2.2e-16\n",
       "\n"
      ]
     },
     "metadata": {},
     "output_type": "display_data"
    }
   ],
   "source": [
    "%%R -i survey_results\n",
    "\n",
    "chisq.test(table(survey_results))"
   ]
  },
  {
   "cell_type": "markdown",
   "metadata": {},
   "source": [
    "## A table with multiple response factors"
   ]
  },
  {
   "cell_type": "code",
   "execution_count": 15,
   "metadata": {
    "collapsed": false
   },
   "outputs": [
    {
     "data": {
      "text/html": [
       "<div>\n",
       "<table border=\"1\" class=\"dataframe\">\n",
       "  <thead>\n",
       "    <tr style=\"text-align: right;\">\n",
       "      <th></th>\n",
       "      <th>Hillary_Clinton</th>\n",
       "      <th>Donald_Trump</th>\n",
       "      <th>Jill_Stein</th>\n",
       "      <th>Gary_Johnson</th>\n",
       "      <th>None_Of_The_Above</th>\n",
       "      <th>I_Probably_Wont_Vote</th>\n",
       "      <th>Hillary_Clinton_is_involved_in_many_coverups</th>\n",
       "      <th>Trump_changes_his_positions_all_of_the_time</th>\n",
       "      <th>Hillary_Clinton_lied_to_the_families_of_Americans_killed_in_Benghazi</th>\n",
       "      <th>Trump_is_a_successful_businessman</th>\n",
       "      <th>Trumps_temper_could_get_the_country_into_trouble</th>\n",
       "      <th>I_wish_another_candidate_had_won_the_primary</th>\n",
       "      <th>Need_to_do_more_research</th>\n",
       "      <th>Dont_like__any_candidate</th>\n",
       "      <th>Not_sure_which_candidate_shares_my_values</th>\n",
       "      <th>Waiting_for_debates</th>\n",
       "    </tr>\n",
       "  </thead>\n",
       "  <tbody>\n",
       "    <tr>\n",
       "      <th>0</th>\n",
       "      <td>0.0</td>\n",
       "      <td>0.0</td>\n",
       "      <td>0.0</td>\n",
       "      <td>0.0</td>\n",
       "      <td>1.0</td>\n",
       "      <td>0.0</td>\n",
       "      <td>0.0</td>\n",
       "      <td>0.0</td>\n",
       "      <td>0.0</td>\n",
       "      <td>1.0</td>\n",
       "      <td>0.0</td>\n",
       "      <td>0.0</td>\n",
       "      <td>0.0</td>\n",
       "      <td>0.0</td>\n",
       "      <td>1.0</td>\n",
       "      <td>0.0</td>\n",
       "    </tr>\n",
       "    <tr>\n",
       "      <th>1</th>\n",
       "      <td>0.0</td>\n",
       "      <td>0.0</td>\n",
       "      <td>0.0</td>\n",
       "      <td>0.0</td>\n",
       "      <td>1.0</td>\n",
       "      <td>0.0</td>\n",
       "      <td>0.0</td>\n",
       "      <td>0.0</td>\n",
       "      <td>0.0</td>\n",
       "      <td>0.0</td>\n",
       "      <td>0.0</td>\n",
       "      <td>0.0</td>\n",
       "      <td>1.0</td>\n",
       "      <td>0.0</td>\n",
       "      <td>0.0</td>\n",
       "      <td>0.0</td>\n",
       "    </tr>\n",
       "    <tr>\n",
       "      <th>2</th>\n",
       "      <td>1.0</td>\n",
       "      <td>0.0</td>\n",
       "      <td>0.0</td>\n",
       "      <td>0.0</td>\n",
       "      <td>0.0</td>\n",
       "      <td>0.0</td>\n",
       "      <td>0.0</td>\n",
       "      <td>0.0</td>\n",
       "      <td>0.0</td>\n",
       "      <td>0.0</td>\n",
       "      <td>0.0</td>\n",
       "      <td>0.0</td>\n",
       "      <td>1.0</td>\n",
       "      <td>0.0</td>\n",
       "      <td>0.0</td>\n",
       "      <td>0.0</td>\n",
       "    </tr>\n",
       "    <tr>\n",
       "      <th>3</th>\n",
       "      <td>0.0</td>\n",
       "      <td>1.0</td>\n",
       "      <td>0.0</td>\n",
       "      <td>0.0</td>\n",
       "      <td>0.0</td>\n",
       "      <td>0.0</td>\n",
       "      <td>0.0</td>\n",
       "      <td>0.0</td>\n",
       "      <td>0.0</td>\n",
       "      <td>0.0</td>\n",
       "      <td>0.0</td>\n",
       "      <td>0.0</td>\n",
       "      <td>0.0</td>\n",
       "      <td>0.0</td>\n",
       "      <td>0.0</td>\n",
       "      <td>1.0</td>\n",
       "    </tr>\n",
       "    <tr>\n",
       "      <th>4</th>\n",
       "      <td>1.0</td>\n",
       "      <td>0.0</td>\n",
       "      <td>0.0</td>\n",
       "      <td>0.0</td>\n",
       "      <td>0.0</td>\n",
       "      <td>0.0</td>\n",
       "      <td>1.0</td>\n",
       "      <td>0.0</td>\n",
       "      <td>0.0</td>\n",
       "      <td>0.0</td>\n",
       "      <td>1.0</td>\n",
       "      <td>0.0</td>\n",
       "      <td>0.0</td>\n",
       "      <td>1.0</td>\n",
       "      <td>0.0</td>\n",
       "      <td>0.0</td>\n",
       "    </tr>\n",
       "  </tbody>\n",
       "</table>\n",
       "</div>"
      ],
      "text/plain": [
       "   Hillary_Clinton  Donald_Trump  Jill_Stein  Gary_Johnson  None_Of_The_Above  \\\n",
       "0              0.0           0.0         0.0           0.0                1.0   \n",
       "1              0.0           0.0         0.0           0.0                1.0   \n",
       "2              1.0           0.0         0.0           0.0                0.0   \n",
       "3              0.0           1.0         0.0           0.0                0.0   \n",
       "4              1.0           0.0         0.0           0.0                0.0   \n",
       "\n",
       "   I_Probably_Wont_Vote  Hillary_Clinton_is_involved_in_many_coverups  \\\n",
       "0                   0.0                                           0.0   \n",
       "1                   0.0                                           0.0   \n",
       "2                   0.0                                           0.0   \n",
       "3                   0.0                                           0.0   \n",
       "4                   0.0                                           1.0   \n",
       "\n",
       "   Trump_changes_his_positions_all_of_the_time  \\\n",
       "0                                          0.0   \n",
       "1                                          0.0   \n",
       "2                                          0.0   \n",
       "3                                          0.0   \n",
       "4                                          0.0   \n",
       "\n",
       "   Hillary_Clinton_lied_to_the_families_of_Americans_killed_in_Benghazi  \\\n",
       "0                                                0.0                      \n",
       "1                                                0.0                      \n",
       "2                                                0.0                      \n",
       "3                                                0.0                      \n",
       "4                                                0.0                      \n",
       "\n",
       "   Trump_is_a_successful_businessman  \\\n",
       "0                                1.0   \n",
       "1                                0.0   \n",
       "2                                0.0   \n",
       "3                                0.0   \n",
       "4                                0.0   \n",
       "\n",
       "   Trumps_temper_could_get_the_country_into_trouble  \\\n",
       "0                                               0.0   \n",
       "1                                               0.0   \n",
       "2                                               0.0   \n",
       "3                                               0.0   \n",
       "4                                               1.0   \n",
       "\n",
       "   I_wish_another_candidate_had_won_the_primary  Need_to_do_more_research  \\\n",
       "0                                           0.0                       0.0   \n",
       "1                                           0.0                       1.0   \n",
       "2                                           0.0                       1.0   \n",
       "3                                           0.0                       0.0   \n",
       "4                                           0.0                       0.0   \n",
       "\n",
       "   Dont_like__any_candidate  Not_sure_which_candidate_shares_my_values  \\\n",
       "0                       0.0                                        1.0   \n",
       "1                       0.0                                        0.0   \n",
       "2                       0.0                                        0.0   \n",
       "3                       0.0                                        0.0   \n",
       "4                       1.0                                        0.0   \n",
       "\n",
       "   Waiting_for_debates  \n",
       "0                  0.0  \n",
       "1                  0.0  \n",
       "2                  0.0  \n",
       "3                  1.0  \n",
       "4                  0.0  "
      ]
     },
     "execution_count": 15,
     "metadata": {},
     "output_type": "execute_result"
    }
   ],
   "source": [
    "import statsmodels.api as sm\n",
    "from statsmodels.datasets import presidential2016\n",
    "\n",
    "data = sm.datasets.presidential2016.load_pandas()\n",
    "presidential_data = data.data\n",
    "presidential_data.head()"
   ]
  },
  {
   "cell_type": "code",
   "execution_count": 89,
   "metadata": {
    "collapsed": false
   },
   "outputs": [
    {
     "data": {
      "text/html": [
       "<div>\n",
       "<table border=\"1\" class=\"dataframe\">\n",
       "  <thead>\n",
       "    <tr style=\"text-align: right;\">\n",
       "      <th></th>\n",
       "      <th>variable</th>\n",
       "      <th>Hillary_Clinton_is_involved_in_many_coverups</th>\n",
       "      <th>Trump_changes_his_positions_all_of_the_time</th>\n",
       "      <th>Hillary_Clinton_lied_to_the_families_of_Americans_killed_in_Benghazi</th>\n",
       "      <th>Trump_is_a_successful_businessman</th>\n",
       "      <th>Trumps_temper_could_get_the_country_into_trouble</th>\n",
       "    </tr>\n",
       "  </thead>\n",
       "  <tbody>\n",
       "    <tr>\n",
       "      <th>0</th>\n",
       "      <td>None_Of_The_Above</td>\n",
       "      <td>0.0</td>\n",
       "      <td>0.0</td>\n",
       "      <td>0.0</td>\n",
       "      <td>1.0</td>\n",
       "      <td>0.0</td>\n",
       "    </tr>\n",
       "    <tr>\n",
       "      <th>1</th>\n",
       "      <td>None_Of_The_Above</td>\n",
       "      <td>0.0</td>\n",
       "      <td>0.0</td>\n",
       "      <td>0.0</td>\n",
       "      <td>0.0</td>\n",
       "      <td>0.0</td>\n",
       "    </tr>\n",
       "    <tr>\n",
       "      <th>2</th>\n",
       "      <td>Hillary_Clinton</td>\n",
       "      <td>0.0</td>\n",
       "      <td>0.0</td>\n",
       "      <td>0.0</td>\n",
       "      <td>0.0</td>\n",
       "      <td>0.0</td>\n",
       "    </tr>\n",
       "    <tr>\n",
       "      <th>3</th>\n",
       "      <td>Donald_Trump</td>\n",
       "      <td>0.0</td>\n",
       "      <td>0.0</td>\n",
       "      <td>0.0</td>\n",
       "      <td>0.0</td>\n",
       "      <td>0.0</td>\n",
       "    </tr>\n",
       "    <tr>\n",
       "      <th>4</th>\n",
       "      <td>Hillary_Clinton</td>\n",
       "      <td>1.0</td>\n",
       "      <td>0.0</td>\n",
       "      <td>0.0</td>\n",
       "      <td>0.0</td>\n",
       "      <td>1.0</td>\n",
       "    </tr>\n",
       "  </tbody>\n",
       "</table>\n",
       "</div>"
      ],
      "text/plain": [
       "            variable  Hillary_Clinton_is_involved_in_many_coverups  \\\n",
       "0  None_Of_The_Above                                           0.0   \n",
       "1  None_Of_The_Above                                           0.0   \n",
       "2    Hillary_Clinton                                           0.0   \n",
       "3       Donald_Trump                                           0.0   \n",
       "4    Hillary_Clinton                                           1.0   \n",
       "\n",
       "   Trump_changes_his_positions_all_of_the_time  \\\n",
       "0                                          0.0   \n",
       "1                                          0.0   \n",
       "2                                          0.0   \n",
       "3                                          0.0   \n",
       "4                                          0.0   \n",
       "\n",
       "   Hillary_Clinton_lied_to_the_families_of_Americans_killed_in_Benghazi  \\\n",
       "0                                                0.0                      \n",
       "1                                                0.0                      \n",
       "2                                                0.0                      \n",
       "3                                                0.0                      \n",
       "4                                                0.0                      \n",
       "\n",
       "   Trump_is_a_successful_businessman  \\\n",
       "0                                1.0   \n",
       "1                                0.0   \n",
       "2                                0.0   \n",
       "3                                0.0   \n",
       "4                                0.0   \n",
       "\n",
       "   Trumps_temper_could_get_the_country_into_trouble  \n",
       "0                                               0.0  \n",
       "1                                               0.0  \n",
       "2                                               0.0  \n",
       "3                                               0.0  \n",
       "4                                               1.0  "
      ]
     },
     "execution_count": 89,
     "metadata": {},
     "output_type": "execute_result"
    }
   ],
   "source": [
    "narrow_row_factor = rows_factor.cast_wide_to_narrow()\n",
    "srcv_presidential = pd.concat([narrow_row_factor.as_dataframe().loc[:, 'variable'], columns_factor.as_dataframe()], axis=1)\n",
    "srcv_presidential.head()"
   ]
  },
  {
   "cell_type": "markdown",
   "metadata": {},
   "source": [
    "### Single response versus multiple response"
   ]
  },
  {
   "cell_type": "code",
   "execution_count": 13,
   "metadata": {
    "collapsed": true
   },
   "outputs": [],
   "source": [
    "from statsmodels.stats.contingency_tables import Factor, MRCVTable"
   ]
  },
  {
   "cell_type": "code",
   "execution_count": 14,
   "metadata": {
    "collapsed": false
   },
   "outputs": [
    {
     "data": {
      "text/plain": [
       "variable_col          Hillary_Clinton_is_involved_in_many_coverups  \\\n",
       "variable_row                                                         \n",
       "Donald_Trump                                                    51   \n",
       "Gary_Johnson                                                    23   \n",
       "Hillary_Clinton                                                 22   \n",
       "I_Probably_Wont_Vote                                            36   \n",
       "Jill_Stein                                                       4   \n",
       "None_Of_The_Above                                               34   \n",
       "\n",
       "variable_col          Hillary_Clinton_lied_to_the_families_of_Americans_killed_in_Benghazi  \\\n",
       "variable_row                                                                                 \n",
       "Donald_Trump                                                         45                      \n",
       "Gary_Johnson                                                         18                      \n",
       "Hillary_Clinton                                                      18                      \n",
       "I_Probably_Wont_Vote                                                 19                      \n",
       "Jill_Stein                                                            3                      \n",
       "None_Of_The_Above                                                    27                      \n",
       "\n",
       "variable_col          Trump_changes_his_positions_all_of_the_time  \\\n",
       "variable_row                                                        \n",
       "Donald_Trump                                                   10   \n",
       "Gary_Johnson                                                   17   \n",
       "Hillary_Clinton                                                51   \n",
       "I_Probably_Wont_Vote                                           24   \n",
       "Jill_Stein                                                     12   \n",
       "None_Of_The_Above                                              26   \n",
       "\n",
       "variable_col          Trump_is_a_successful_businessman  \\\n",
       "variable_row                                              \n",
       "Donald_Trump                                         39   \n",
       "Gary_Johnson                                         16   \n",
       "Hillary_Clinton                                      21   \n",
       "I_Probably_Wont_Vote                                 22   \n",
       "Jill_Stein                                            5   \n",
       "None_Of_The_Above                                    21   \n",
       "\n",
       "variable_col          Trumps_temper_could_get_the_country_into_trouble  \n",
       "variable_row                                                            \n",
       "Donald_Trump                                                        14  \n",
       "Gary_Johnson                                                        13  \n",
       "Hillary_Clinton                                                     42  \n",
       "I_Probably_Wont_Vote                                                19  \n",
       "Jill_Stein                                                           7  \n",
       "None_Of_The_Above                                                   24  "
      ]
     },
     "execution_count": 14,
     "metadata": {},
     "output_type": "execute_result"
    }
   ],
   "source": [
    "rows_factor = Factor(data.data.iloc[:, :6], data.data.columns[:6], \"expected_choice\", orientation=\"wide\")\n",
    "columns_factor = Factor(data.data.iloc[:, 6:11], data.data.columns[6:11], \"believe_true\", orientation=\"wide\")\n",
    "multiple_response_table = MRCVTable([rows_factor,], [columns_factor])\n",
    "multiple_response_table"
   ]
  },
  {
   "cell_type": "markdown",
   "metadata": {},
   "source": [
    "### MMI Item Response Table"
   ]
  },
  {
   "cell_type": "code",
   "execution_count": 19,
   "metadata": {
    "collapsed": false
   },
   "outputs": [
    {
     "data": {
      "text/html": [
       "<div>\n",
       "<table border=\"1\" class=\"dataframe\">\n",
       "  <thead>\n",
       "    <tr>\n",
       "      <th>multiple_response_level</th>\n",
       "      <th colspan=\"2\" halign=\"left\">Hillary_Clinton_is_involved_in_many_coverups</th>\n",
       "      <th colspan=\"2\" halign=\"left\">Hillary_Clinton_lied_to_the_families_of_Americans_killed_in_Benghazi</th>\n",
       "      <th colspan=\"2\" halign=\"left\">Trump_changes_his_positions_all_of_the_time</th>\n",
       "      <th colspan=\"2\" halign=\"left\">Trump_is_a_successful_businessman</th>\n",
       "      <th colspan=\"2\" halign=\"left\">Trumps_temper_could_get_the_country_into_trouble</th>\n",
       "    </tr>\n",
       "    <tr>\n",
       "      <th>selected?</th>\n",
       "      <th>0.0</th>\n",
       "      <th>1.0</th>\n",
       "      <th>0.0</th>\n",
       "      <th>1.0</th>\n",
       "      <th>0.0</th>\n",
       "      <th>1.0</th>\n",
       "      <th>0.0</th>\n",
       "      <th>1.0</th>\n",
       "      <th>0.0</th>\n",
       "      <th>1.0</th>\n",
       "    </tr>\n",
       "    <tr>\n",
       "      <th>single_response_level</th>\n",
       "      <th></th>\n",
       "      <th></th>\n",
       "      <th></th>\n",
       "      <th></th>\n",
       "      <th></th>\n",
       "      <th></th>\n",
       "      <th></th>\n",
       "      <th></th>\n",
       "      <th></th>\n",
       "      <th></th>\n",
       "    </tr>\n",
       "  </thead>\n",
       "  <tbody>\n",
       "    <tr>\n",
       "      <th>Donald_Trump</th>\n",
       "      <td>131</td>\n",
       "      <td>51</td>\n",
       "      <td>137</td>\n",
       "      <td>45</td>\n",
       "      <td>172</td>\n",
       "      <td>10</td>\n",
       "      <td>143</td>\n",
       "      <td>39</td>\n",
       "      <td>168</td>\n",
       "      <td>14</td>\n",
       "    </tr>\n",
       "    <tr>\n",
       "      <th>Gary_Johnson</th>\n",
       "      <td>86</td>\n",
       "      <td>23</td>\n",
       "      <td>91</td>\n",
       "      <td>18</td>\n",
       "      <td>92</td>\n",
       "      <td>17</td>\n",
       "      <td>93</td>\n",
       "      <td>16</td>\n",
       "      <td>96</td>\n",
       "      <td>13</td>\n",
       "    </tr>\n",
       "    <tr>\n",
       "      <th>Hillary_Clinton</th>\n",
       "      <td>205</td>\n",
       "      <td>22</td>\n",
       "      <td>209</td>\n",
       "      <td>18</td>\n",
       "      <td>176</td>\n",
       "      <td>51</td>\n",
       "      <td>206</td>\n",
       "      <td>21</td>\n",
       "      <td>185</td>\n",
       "      <td>42</td>\n",
       "    </tr>\n",
       "    <tr>\n",
       "      <th>I_Probably_Wont_Vote</th>\n",
       "      <td>180</td>\n",
       "      <td>36</td>\n",
       "      <td>197</td>\n",
       "      <td>19</td>\n",
       "      <td>192</td>\n",
       "      <td>24</td>\n",
       "      <td>194</td>\n",
       "      <td>22</td>\n",
       "      <td>197</td>\n",
       "      <td>19</td>\n",
       "    </tr>\n",
       "    <tr>\n",
       "      <th>Jill_Stein</th>\n",
       "      <td>35</td>\n",
       "      <td>4</td>\n",
       "      <td>36</td>\n",
       "      <td>3</td>\n",
       "      <td>27</td>\n",
       "      <td>12</td>\n",
       "      <td>34</td>\n",
       "      <td>5</td>\n",
       "      <td>32</td>\n",
       "      <td>7</td>\n",
       "    </tr>\n",
       "    <tr>\n",
       "      <th>None_Of_The_Above</th>\n",
       "      <td>193</td>\n",
       "      <td>34</td>\n",
       "      <td>200</td>\n",
       "      <td>27</td>\n",
       "      <td>201</td>\n",
       "      <td>26</td>\n",
       "      <td>206</td>\n",
       "      <td>21</td>\n",
       "      <td>203</td>\n",
       "      <td>24</td>\n",
       "    </tr>\n",
       "  </tbody>\n",
       "</table>\n",
       "</div>"
      ],
      "text/plain": [
       "multiple_response_level Hillary_Clinton_is_involved_in_many_coverups      \\\n",
       "selected?                                                        0.0 1.0   \n",
       "single_response_level                                                      \n",
       "Donald_Trump                                                     131  51   \n",
       "Gary_Johnson                                                      86  23   \n",
       "Hillary_Clinton                                                  205  22   \n",
       "I_Probably_Wont_Vote                                             180  36   \n",
       "Jill_Stein                                                        35   4   \n",
       "None_Of_The_Above                                                193  34   \n",
       "\n",
       "multiple_response_level Hillary_Clinton_lied_to_the_families_of_Americans_killed_in_Benghazi  \\\n",
       "selected?                                                                                0.0   \n",
       "single_response_level                                                                          \n",
       "Donald_Trump                                                           137                     \n",
       "Gary_Johnson                                                            91                     \n",
       "Hillary_Clinton                                                        209                     \n",
       "I_Probably_Wont_Vote                                                   197                     \n",
       "Jill_Stein                                                              36                     \n",
       "None_Of_The_Above                                                      200                     \n",
       "\n",
       "multiple_response_level     Trump_changes_his_positions_all_of_the_time      \\\n",
       "selected?               1.0                                         0.0 1.0   \n",
       "single_response_level                                                         \n",
       "Donald_Trump             45                                         172  10   \n",
       "Gary_Johnson             18                                          92  17   \n",
       "Hillary_Clinton          18                                         176  51   \n",
       "I_Probably_Wont_Vote     19                                         192  24   \n",
       "Jill_Stein                3                                          27  12   \n",
       "None_Of_The_Above        27                                         201  26   \n",
       "\n",
       "multiple_response_level Trump_is_a_successful_businessman      \\\n",
       "selected?                                             0.0 1.0   \n",
       "single_response_level                                           \n",
       "Donald_Trump                                          143  39   \n",
       "Gary_Johnson                                           93  16   \n",
       "Hillary_Clinton                                       206  21   \n",
       "I_Probably_Wont_Vote                                  194  22   \n",
       "Jill_Stein                                             34   5   \n",
       "None_Of_The_Above                                     206  21   \n",
       "\n",
       "multiple_response_level Trumps_temper_could_get_the_country_into_trouble      \n",
       "selected?                                                            0.0 1.0  \n",
       "single_response_level                                                         \n",
       "Donald_Trump                                                         168  14  \n",
       "Gary_Johnson                                                          96  13  \n",
       "Hillary_Clinton                                                      185  42  \n",
       "I_Probably_Wont_Vote                                                 197  19  \n",
       "Jill_Stein                                                            32   7  \n",
       "None_Of_The_Above                                                    203  24  "
      ]
     },
     "execution_count": 19,
     "metadata": {},
     "output_type": "execute_result"
    }
   ],
   "source": [
    "srcv_item_response_table_python = multiple_response_table._build_item_response_table_for_MMI(rows_factor, columns_factor)\n",
    "srcv_item_response_table_python"
   ]
  },
  {
   "cell_type": "code",
   "execution_count": 20,
   "metadata": {
    "collapsed": false
   },
   "outputs": [
    {
     "data": {
      "text/plain": [
       "1000"
      ]
     },
     "execution_count": 20,
     "metadata": {},
     "output_type": "execute_result"
    }
   ],
   "source": [
    "srcv_item_response_table_python.iloc[:, (0,1)].sum().sum()"
   ]
  },
  {
   "cell_type": "code",
   "execution_count": 77,
   "metadata": {
    "collapsed": true
   },
   "outputs": [],
   "source": [
    "result_dir = \"/Users/gjlondon/programming/open_source/statsmodels/statsmodels/stats/tests/results/\"\n",
    "fpath = os.path.join(result_dir, \"srcv_r_item_response_table_result.csv\")\n",
    "%R -i fpath"
   ]
  },
  {
   "cell_type": "code",
   "execution_count": 99,
   "metadata": {
    "collapsed": false
   },
   "outputs": [
    {
     "data": {
      "text/plain": [
       " [1] \"term\" \"term\" \"term\" \"term\" \"term\" \"term\" \"term\" \"term\" \"term\" \"term\"\n"
      ]
     },
     "metadata": {},
     "output_type": "display_data"
    }
   ],
   "source": [
    "%%R -i srcv_presidential\n",
    "\n",
    "library('MRCV')\n",
    "\n",
    "srcv_item_response_table_r <- item.response.table(srcv_presidential, I=1, J=5)\n",
    "srcv_item_response_table_r_dataframe = as.data.frame.matrix(srcv_item_response_table_r)\n",
    "write.table(srcv_item_response_table_r, file = fpath, sep=\",\")\n",
    "## R is apparently bad at writing out tables with nested headers so we just get \"term\", \"term\", \"term\"\n",
    "colnames(srcv_item_response_table_r)"
   ]
  },
  {
   "cell_type": "code",
   "execution_count": 105,
   "metadata": {
    "collapsed": false
   },
   "outputs": [
    {
     "data": {
      "text/html": [
       "<div>\n",
       "<table border=\"1\" class=\"dataframe\">\n",
       "  <thead>\n",
       "    <tr style=\"text-align: right;\">\n",
       "      <th></th>\n",
       "      <th>term</th>\n",
       "      <th>term.1</th>\n",
       "      <th>term.2</th>\n",
       "      <th>term.3</th>\n",
       "      <th>term.4</th>\n",
       "      <th>term.5</th>\n",
       "      <th>term.6</th>\n",
       "      <th>term.7</th>\n",
       "      <th>term.8</th>\n",
       "      <th>term.9</th>\n",
       "    </tr>\n",
       "  </thead>\n",
       "  <tbody>\n",
       "    <tr>\n",
       "      <th>1</th>\n",
       "      <td>131</td>\n",
       "      <td>51</td>\n",
       "      <td>172</td>\n",
       "      <td>10</td>\n",
       "      <td>137</td>\n",
       "      <td>45</td>\n",
       "      <td>143</td>\n",
       "      <td>39</td>\n",
       "      <td>168</td>\n",
       "      <td>14</td>\n",
       "    </tr>\n",
       "    <tr>\n",
       "      <th>2</th>\n",
       "      <td>86</td>\n",
       "      <td>23</td>\n",
       "      <td>92</td>\n",
       "      <td>17</td>\n",
       "      <td>91</td>\n",
       "      <td>18</td>\n",
       "      <td>93</td>\n",
       "      <td>16</td>\n",
       "      <td>96</td>\n",
       "      <td>13</td>\n",
       "    </tr>\n",
       "    <tr>\n",
       "      <th>3</th>\n",
       "      <td>205</td>\n",
       "      <td>22</td>\n",
       "      <td>176</td>\n",
       "      <td>51</td>\n",
       "      <td>209</td>\n",
       "      <td>18</td>\n",
       "      <td>206</td>\n",
       "      <td>21</td>\n",
       "      <td>185</td>\n",
       "      <td>42</td>\n",
       "    </tr>\n",
       "    <tr>\n",
       "      <th>4</th>\n",
       "      <td>180</td>\n",
       "      <td>36</td>\n",
       "      <td>192</td>\n",
       "      <td>24</td>\n",
       "      <td>197</td>\n",
       "      <td>19</td>\n",
       "      <td>194</td>\n",
       "      <td>22</td>\n",
       "      <td>197</td>\n",
       "      <td>19</td>\n",
       "    </tr>\n",
       "    <tr>\n",
       "      <th>5</th>\n",
       "      <td>35</td>\n",
       "      <td>4</td>\n",
       "      <td>27</td>\n",
       "      <td>12</td>\n",
       "      <td>36</td>\n",
       "      <td>3</td>\n",
       "      <td>34</td>\n",
       "      <td>5</td>\n",
       "      <td>32</td>\n",
       "      <td>7</td>\n",
       "    </tr>\n",
       "    <tr>\n",
       "      <th>6</th>\n",
       "      <td>193</td>\n",
       "      <td>34</td>\n",
       "      <td>201</td>\n",
       "      <td>26</td>\n",
       "      <td>200</td>\n",
       "      <td>27</td>\n",
       "      <td>206</td>\n",
       "      <td>21</td>\n",
       "      <td>203</td>\n",
       "      <td>24</td>\n",
       "    </tr>\n",
       "  </tbody>\n",
       "</table>\n",
       "</div>"
      ],
      "text/plain": [
       "   term  term.1  term.2  term.3  term.4  term.5  term.6  term.7  term.8  \\\n",
       "1   131      51     172      10     137      45     143      39     168   \n",
       "2    86      23      92      17      91      18      93      16      96   \n",
       "3   205      22     176      51     209      18     206      21     185   \n",
       "4   180      36     192      24     197      19     194      22     197   \n",
       "5    35       4      27      12      36       3      34       5      32   \n",
       "6   193      34     201      26     200      27     206      21     203   \n",
       "\n",
       "   term.9  \n",
       "1      14  \n",
       "2      13  \n",
       "3      42  \n",
       "4      19  \n",
       "5       7  \n",
       "6      24  "
      ]
     },
     "execution_count": 105,
     "metadata": {},
     "output_type": "execute_result"
    }
   ],
   "source": [
    "result_dir = \"/Users/gjlondon/programming/open_source/statsmodels/statsmodels/stats/tests/results/\"\n",
    "fpath = os.path.join(result_dir, \"srcv_r_item_response_table_result.csv\")\n",
    "srcv_item_response_table_r = pd.DataFrame.from_csv(fpath)\n",
    "srcv_item_response_table_r"
   ]
  },
  {
   "cell_type": "code",
   "execution_count": 128,
   "metadata": {
    "collapsed": false
   },
   "outputs": [],
   "source": [
    "for i in range(0, len(columns_factor.labels)*2, 2):\n",
    "    c = columns_factor.labels[i // 2]\n",
    "    r_left_offset = i\n",
    "    r_right_offset = i + 2\n",
    "    py_group = srcv_item_response_table_python.loc[:, c]\n",
    "    r_group = srcv_item_response_table_r.iloc[:, r_left_offset:r_right_offset]\n",
    "    assert_allclose(py_group.values, r_group)"
   ]
  },
  {
   "cell_type": "markdown",
   "metadata": {},
   "source": [
    "## MMI Full Chi-squard tables"
   ]
  },
  {
   "cell_type": "code",
   "execution_count": 122,
   "metadata": {
    "collapsed": false
   },
   "outputs": [
    {
     "data": {
      "text/plain": [
       "Hillary_Clinton_is_involved_in_many_coverups                            27.493592\n",
       "Trump_changes_his_positions_all_of_the_time                             36.511000\n",
       "Hillary_Clinton_lied_to_the_families_of_Americans_killed_in_Benghazi    33.065276\n",
       "Trump_is_a_successful_businessman                                       19.305086\n",
       "Trumps_temper_could_get_the_country_into_trouble                        16.238789\n",
       "dtype: float64"
      ]
     },
     "execution_count": 122,
     "metadata": {},
     "output_type": "execute_result"
    }
   ],
   "source": [
    "python_result = multiple_response_table._calculate_pairwise_chi2s_for_MMI_item_response_table(rows_factor, columns_factor)\n",
    "python_result"
   ]
  },
  {
   "cell_type": "code",
   "execution_count": 87,
   "metadata": {
    "collapsed": false
   },
   "outputs": [
    {
     "data": {
      "text/plain": [
       "$X.sq.S\n",
       "[1] 132.6137\n",
       "\n",
       "$X.sq.S.ij\n",
       "     Hillary_Clinton_is_involved_in_many_coverups\n",
       "[1,]                                     27.49359\n",
       "     Trump_changes_his_positions_all_of_the_time\n",
       "[1,]                                      36.511\n",
       "     Hillary_Clinton_lied_to_the_families_of_Americans_killed_in_Benghazi\n",
       "[1,]                                                             33.06528\n",
       "     Trump_is_a_successful_businessman\n",
       "[1,]                          19.30509\n",
       "     Trumps_temper_could_get_the_country_into_trouble\n",
       "[1,]                                         16.23879\n",
       "\n",
       "$valid.margins\n",
       "[1] 5\n",
       "\n"
      ]
     },
     "metadata": {},
     "output_type": "display_data"
    }
   ],
   "source": [
    "%%R -i srcv_presidential\n",
    "\n",
    "library('MRCV')\n",
    "r_srcv_chis <- MI.stat(srcv_presidential, I=1, J=5)"
   ]
  },
  {
   "cell_type": "code",
   "execution_count": 82,
   "metadata": {
    "collapsed": false
   },
   "outputs": [],
   "source": [
    "%R -o r_srcv_chis"
   ]
  },
  {
   "cell_type": "code",
   "execution_count": 134,
   "metadata": {
    "collapsed": false
   },
   "outputs": [],
   "source": [
    "\n",
    "r_results = pd.Series({k:v for k, v in zip(r_srcv_chis[1].names[1], r_srcv_chis[1])})\n",
    "r_result_reordered = r_results.reindex(python_result.index, )\n",
    "assert_allclose(python_result, r_result_reordered)"
   ]
  },
  {
   "cell_type": "code",
   "execution_count": 137,
   "metadata": {
    "collapsed": true
   },
   "outputs": [],
   "source": [
    "result_dir = \"/Users/gjlondon/programming/open_source/statsmodels/statsmodels/stats/tests/results/\"\n",
    "fpath = os.path.join(result_dir, \"srcv_r_all_chis_result.csv\")\n",
    "r_result_reordered.to_csv(fpath)"
   ]
  },
  {
   "cell_type": "markdown",
   "metadata": {},
   "source": [
    "### MMI bonferroni test"
   ]
  },
  {
   "cell_type": "code",
   "execution_count": 134,
   "metadata": {
    "collapsed": false
   },
   "outputs": [
    {
     "name": "stdout",
     "output_type": "stream",
     "text": [
      "Overall table p value: 3.752624460014494e-06\n",
      "\n",
      "\n",
      "Pairwise p values (likelihood of independence between single select variable and specific multi-select option):\n"
     ]
    },
    {
     "data": {
      "text/plain": [
       "Hillary_Clinton_is_involved_in_many_coverups                            0.000229\n",
       "Trump_changes_his_positions_all_of_the_time                             0.000004\n",
       "Hillary_Clinton_lied_to_the_families_of_Americans_killed_in_Benghazi    0.000018\n",
       "Trump_is_a_successful_businessman                                       0.008431\n",
       "Trumps_temper_could_get_the_country_into_trouble                        0.030972\n",
       "dtype: float64"
      ]
     },
     "execution_count": 134,
     "metadata": {},
     "output_type": "execute_result"
    }
   ],
   "source": [
    "bonferroni_test = multiple_response_table._test_for_marginal_mutual_independence_using_bonferroni_correction\n",
    "results = bonferroni_test(rows_factor, columns_factor)\n",
    "table_p_value_bonferroni_corrected, pairwise_bonferroni_corrected_p_values = results\n",
    "print(\"Overall table p value: {}\\n\\n\".format(table_p_value_bonferroni_corrected))\n",
    "print(\"Pairwise p values (likelihood of independence between single select variable and specific multi-select option):\")\n",
    "pairwise_bonferroni_corrected_p_values"
   ]
  },
  {
   "cell_type": "code",
   "execution_count": 146,
   "metadata": {
    "collapsed": true
   },
   "outputs": [],
   "source": [
    "result_dir = \"/Users/gjlondon/programming/open_source/statsmodels/statsmodels/stats/tests/results/\"\n",
    "fpath = os.path.join(result_dir, \"srcv_r_bonferroni.csv\")\n",
    "%R -i fpath"
   ]
  },
  {
   "cell_type": "code",
   "execution_count": 169,
   "metadata": {
    "collapsed": false
   },
   "outputs": [],
   "source": [
    "%%R \n",
    "\n",
    "res <- MI.test(srcv_presidential, I=1, J=5, type=\"bon\")\n",
    "res$bon$X.sq.S.ij.p.bon\n",
    "write.csv(res$bon, file=fpath)"
   ]
  },
  {
   "cell_type": "code",
   "execution_count": 166,
   "metadata": {
    "collapsed": false
   },
   "outputs": [],
   "source": [
    "r_result = pd.DataFrame.from_csv(fpath)\n",
    "table_p_value_r = r_result[\"p.value.bon\"] \n",
    "cell_p_values_r = r_result.iloc[:, 1:]\n",
    "reshaped_python_values = pairwise_bonferroni_corrected_p_values.values.reshape(5,1)\n",
    "assert_allclose(reshaped_python_values, cell_p_values_r.T)\n",
    "assert_allclose(table_p_value_r, table_p_value_bonferroni_corrected)"
   ]
  },
  {
   "cell_type": "markdown",
   "metadata": {},
   "source": [
    "### MMI Rao Scott 2 Test"
   ]
  },
  {
   "cell_type": "code",
   "execution_count": 295,
   "metadata": {
    "collapsed": false
   },
   "outputs": [
    {
     "name": "stdout",
     "output_type": "stream",
     "text": [
      "0\n",
      "31\n",
      "32\n",
      "63\n",
      "64\n",
      "95\n",
      "96\n",
      "127\n",
      "128\n",
      "159\n",
      "160\n",
      "191\n"
     ]
    }
   ],
   "source": [
    "import itertools\n",
    "from scipy.stats import chi2_contingency, chi2\n",
    "\n",
    "self = multiple_response_table\n",
    "single_response_factor = rows_factor\n",
    "multiple_response_factor = columns_factor\n",
    "\n",
    "if single_response_factor.orientation == \"wide\":\n",
    "    W = single_response_factor.cast_wide_to_narrow().as_dataframe()\n",
    "else:\n",
    "    W = single_response_factor.as_dataframe()\n",
    "if not isinstance(W, pd.Series):\n",
    "    W = W.iloc[:, 0]\n",
    "Y = multiple_response_factor.as_dataframe()\n",
    "n = len(W)\n",
    "I = 1  # single response variable must have exactly one column\n",
    "J = len(Y.columns)\n",
    "c = J\n",
    "r = len(W.unique())\n",
    "\n",
    "def conjoint_combinations(srcv, mrcv):\n",
    "    number_of_variables = 1 + len(mrcv.columns)\n",
    "    srcv = srcv.copy()  # don't modify original dataframe\n",
    "    mrcv = mrcv.copy()  # don't modify original dataframe\n",
    "    srcv.name = \"srcv\"\n",
    "    srcv_level_arguments = srcv.unique()\n",
    "    mrcv_level_arguments = [[0, 1] for i in range(0, number_of_variables - 1)]\n",
    "    level_arguments = [list(srcv_level_arguments), ] + mrcv_level_arguments\n",
    "    variables = ['srcv', ] + list(mrcv.columns)\n",
    "    level_combinations = list(itertools.product(*level_arguments))\n",
    "    full_combinations = pd.DataFrame(level_combinations, columns=variables)\n",
    "    full_combinations[\"_dummy\"] = 0\n",
    "    data = pd.concat([srcv, mrcv], axis=1)\n",
    "    data.srcv.value_counts()\n",
    "    data['_dummy'] = 1\n",
    "    data = pd.concat([data, full_combinations]).reset_index(drop=True)\n",
    "    grouped = data.groupby(list(variables))\n",
    "    result = grouped.sum().reset_index()\n",
    "    return result\n",
    "\n",
    "def count_level_combinations(data, number_of_variables):\n",
    "    data = data.copy()  # don't modify original dataframe\n",
    "    level_arguments = [[0, 1] for i in range(0, number_of_variables)]\n",
    "    variables = data.columns\n",
    "    level_combinations = list(itertools.product(*level_arguments))\n",
    "    full_combinations = pd.DataFrame(level_combinations, columns=variables)\n",
    "    full_combinations[\"_dummy\"] = 0\n",
    "    data['_dummy'] = 1\n",
    "    data = pd.concat([data, full_combinations]).reset_index(drop=True)\n",
    "    grouped = data.groupby(list(variables))\n",
    "    return grouped.sum().reset_index()\n",
    "\n",
    "Y_count_ordered = count_level_combinations(Y, J)\n",
    "n_count_ordered = conjoint_combinations(W, Y)\n",
    "# n_count_ordered.sort_values(\"_dummy\", inplace=True)\n",
    "\n",
    "# need make n_iplus be in same order as SRCV options in the n_counts_ordered_table\n",
    "srcv_table_order = n_count_ordered.groupby('srcv').first().index.values\n",
    "n_iplus = W.value_counts().reindex(srcv_table_order)\n",
    "tau = n_count_ordered.iloc[:, -1].astype(int) / np.repeat(n_iplus, repeats=(2 ** c)).reset_index(drop=True)\n",
    "# the R version subtracts 1 from G_tilde because data.matrix converts 0->1 and 1->2\n",
    "# (probably because it thinks they're factors and it's internally coding them)\n",
    "G_tilde = Y_count_ordered.iloc[:, :-1].T\n",
    "I_r = np.eye(r)\n",
    "G = np.kron(I_r, G_tilde)\n",
    "pi = G.dot(tau)\n",
    "m = pi * np.repeat(n_iplus, c)\n",
    "a_i = n_iplus / n\n",
    "pi_not_j = (1 / n) * np.kron(np.ones(r), np.eye(c)).dot(m)\n",
    "j_r = np.ones(r)\n",
    "pi_not = np.kron(j_r, pi_not_j)\n",
    "I_rc = np.eye(r * c)\n",
    "I_c = np.eye(c)\n",
    "J_rr = np.ones((r, r))\n",
    "A = np.diag(a_i)\n",
    "H = I_rc - np.kron(J_rr.dot(A), I_c)\n",
    "D = np.kron(np.diag(n / n_iplus), np.diag(pi_not_j) * (1 - pi_not_j))\n",
    "v_dim = r * (2 ** c)\n",
    "V = np.zeros((v_dim, v_dim))\n",
    "\n",
    "for i in range(1, r+1):\n",
    "    a = ((i - 1) * (2 ** c) + 1) - 1\n",
    "    b = ((i - 1) * (2 ** c) + (2 ** c)) - 1\n",
    "    print(a)\n",
    "    print(b)\n",
    "    tau_range = tau[a:b]\n",
    "    a_v = (1 / a_i[i - 1])\n",
    "    tau_diag = np.diag(tau_range)\n",
    "    tau_tcrossproduct = np.outer(tau_range, tau_range.T)\n",
    "    v = a_v * (tau_diag - tau_tcrossproduct)\n",
    "    V[a:b, a:b] = v\n",
    "\n",
    "D_diag = np.diag(1 / np.diag(D))\n",
    "tcrossprod_VG = V.dot(G.T)\n",
    "tcrossprod_VGH = tcrossprod_VG.dot(H.T)"
   ]
  },
  {
   "cell_type": "code",
   "execution_count": 284,
   "metadata": {
    "collapsed": false
   },
   "outputs": [
    {
     "data": {
      "text/plain": [
       "array([[-0.05992742,  0.00807312,  0.00838363,  0.0065206 ,  0.00745211,\n",
       "        -0.05992742,  0.00807312,  0.00838363,  0.0065206 ,  0.00745211,\n",
       "        -0.05992742,  0.00807312,  0.00838363,  0.0065206 ,  0.00745211,\n",
       "        -0.05992742,  0.00807312,  0.00838363,  0.0065206 ,  0.00745211,\n",
       "        -0.05992742,  0.00807312,  0.00838363,  0.0065206 ,  0.00745211,\n",
       "         0.20407002, -0.0274913 , -0.02854866, -0.02220451, -0.02537658],\n",
       "       [-0.02247278,  0.00302742,  0.00314386,  0.00244523, -0.02363718,\n",
       "        -0.02247278,  0.00302742,  0.00314386,  0.00244523, -0.02363718,\n",
       "        -0.02247278,  0.00302742,  0.00314386,  0.00244523, -0.02363718,\n",
       "        -0.02247278,  0.00302742,  0.00314386,  0.00244523, -0.02363718,\n",
       "        -0.02247278,  0.00302742,  0.00314386,  0.00244523, -0.02363718,\n",
       "         0.07652626, -0.01030924, -0.01070575, -0.00832669,  0.08049135],\n",
       "       [-0.02996371,  0.00403656,  0.00419181, -0.03198199,  0.00372606,\n",
       "        -0.02996371,  0.00403656,  0.00419181, -0.03198199,  0.00372606,\n",
       "        -0.02996371,  0.00403656,  0.00419181, -0.03198199,  0.00372606,\n",
       "        -0.02996371,  0.00403656,  0.00419181, -0.03198199,  0.00372606,\n",
       "        -0.02996371,  0.00403656,  0.00419181, -0.03198199,  0.00372606,\n",
       "         0.10203501, -0.01374565, -0.01427433,  0.10890784, -0.01268829],\n",
       "       [ 0.        ,  0.        ,  0.        ,  0.        ,  0.        ,\n",
       "         0.        ,  0.        ,  0.        ,  0.        ,  0.        ,\n",
       "         0.        ,  0.        ,  0.        ,  0.        ,  0.        ,\n",
       "         0.        ,  0.        ,  0.        ,  0.        ,  0.        ,\n",
       "         0.        ,  0.        ,  0.        ,  0.        ,  0.        ,\n",
       "         0.        ,  0.        ,  0.        ,  0.        ,  0.        ],\n",
       "       [ 0.        ,  0.        ,  0.        ,  0.        ,  0.        ,\n",
       "         0.        ,  0.        ,  0.        ,  0.        ,  0.        ,\n",
       "         0.        ,  0.        ,  0.        ,  0.        ,  0.        ,\n",
       "         0.        ,  0.        ,  0.        ,  0.        ,  0.        ,\n",
       "         0.        ,  0.        ,  0.        ,  0.        ,  0.        ,\n",
       "         0.        ,  0.        ,  0.        ,  0.        ,  0.        ],\n",
       "       [ 0.        ,  0.        ,  0.        ,  0.        ,  0.        ,\n",
       "         0.        ,  0.        ,  0.        ,  0.        ,  0.        ,\n",
       "         0.        ,  0.        ,  0.        ,  0.        ,  0.        ,\n",
       "         0.        ,  0.        ,  0.        ,  0.        ,  0.        ,\n",
       "         0.        ,  0.        ,  0.        ,  0.        ,  0.        ,\n",
       "         0.        ,  0.        ,  0.        ,  0.        ,  0.        ],\n",
       "       [-0.00749093,  0.00100914, -0.00776262, -0.0079955 ,  0.00093151,\n",
       "        -0.00749093,  0.00100914, -0.00776262, -0.0079955 ,  0.00093151,\n",
       "        -0.00749093,  0.00100914, -0.00776262, -0.0079955 ,  0.00093151,\n",
       "        -0.00749093,  0.00100914, -0.00776262, -0.0079955 ,  0.00093151,\n",
       "        -0.00749093,  0.00100914, -0.00776262, -0.0079955 ,  0.00093151,\n",
       "         0.02550875, -0.00343641,  0.02643394,  0.02722696, -0.00317207],\n",
       "       [ 0.        ,  0.        ,  0.        ,  0.        ,  0.        ,\n",
       "         0.        ,  0.        ,  0.        ,  0.        ,  0.        ,\n",
       "         0.        ,  0.        ,  0.        ,  0.        ,  0.        ,\n",
       "         0.        ,  0.        ,  0.        ,  0.        ,  0.        ,\n",
       "         0.        ,  0.        ,  0.        ,  0.        ,  0.        ,\n",
       "         0.        ,  0.        ,  0.        ,  0.        ,  0.        ],\n",
       "       [-0.00749093, -0.00780143,  0.00104795,  0.00081508,  0.00093151,\n",
       "        -0.00749093, -0.00780143,  0.00104795,  0.00081508,  0.00093151,\n",
       "        -0.00749093, -0.00780143,  0.00104795,  0.00081508,  0.00093151,\n",
       "        -0.00749093, -0.00780143,  0.00104795,  0.00081508,  0.00093151,\n",
       "        -0.00749093, -0.00780143,  0.00104795,  0.00081508,  0.00093151,\n",
       "         0.02550875,  0.02656611, -0.00356858, -0.00277556, -0.00317207],\n",
       "       [ 0.        ,  0.        ,  0.        ,  0.        ,  0.        ,\n",
       "         0.        ,  0.        ,  0.        ,  0.        ,  0.        ,\n",
       "         0.        ,  0.        ,  0.        ,  0.        ,  0.        ,\n",
       "         0.        ,  0.        ,  0.        ,  0.        ,  0.        ,\n",
       "         0.        ,  0.        ,  0.        ,  0.        ,  0.        ,\n",
       "         0.        ,  0.        ,  0.        ,  0.        ,  0.        ],\n",
       "       [ 0.        ,  0.        ,  0.        ,  0.        ,  0.        ,\n",
       "         0.        ,  0.        ,  0.        ,  0.        ,  0.        ,\n",
       "         0.        ,  0.        ,  0.        ,  0.        ,  0.        ,\n",
       "         0.        ,  0.        ,  0.        ,  0.        ,  0.        ,\n",
       "         0.        ,  0.        ,  0.        ,  0.        ,  0.        ,\n",
       "         0.        ,  0.        ,  0.        ,  0.        ,  0.        ],\n",
       "       [ 0.        ,  0.        ,  0.        ,  0.        ,  0.        ,\n",
       "         0.        ,  0.        ,  0.        ,  0.        ,  0.        ,\n",
       "         0.        ,  0.        ,  0.        ,  0.        ,  0.        ,\n",
       "         0.        ,  0.        ,  0.        ,  0.        ,  0.        ,\n",
       "         0.        ,  0.        ,  0.        ,  0.        ,  0.        ,\n",
       "         0.        ,  0.        ,  0.        ,  0.        ,  0.        ],\n",
       "       [ 0.        ,  0.        ,  0.        ,  0.        ,  0.        ,\n",
       "         0.        ,  0.        ,  0.        ,  0.        ,  0.        ,\n",
       "         0.        ,  0.        ,  0.        ,  0.        ,  0.        ,\n",
       "         0.        ,  0.        ,  0.        ,  0.        ,  0.        ,\n",
       "         0.        ,  0.        ,  0.        ,  0.        ,  0.        ,\n",
       "         0.        ,  0.        ,  0.        ,  0.        ,  0.        ],\n",
       "       [ 0.        ,  0.        ,  0.        ,  0.        ,  0.        ,\n",
       "         0.        ,  0.        ,  0.        ,  0.        ,  0.        ,\n",
       "         0.        ,  0.        ,  0.        ,  0.        ,  0.        ,\n",
       "         0.        ,  0.        ,  0.        ,  0.        ,  0.        ,\n",
       "         0.        ,  0.        ,  0.        ,  0.        ,  0.        ,\n",
       "         0.        ,  0.        ,  0.        ,  0.        ,  0.        ],\n",
       "       [ 0.        ,  0.        ,  0.        ,  0.        ,  0.        ,\n",
       "         0.        ,  0.        ,  0.        ,  0.        ,  0.        ,\n",
       "         0.        ,  0.        ,  0.        ,  0.        ,  0.        ,\n",
       "         0.        ,  0.        ,  0.        ,  0.        ,  0.        ,\n",
       "         0.        ,  0.        ,  0.        ,  0.        ,  0.        ,\n",
       "         0.        ,  0.        ,  0.        ,  0.        ,  0.        ],\n",
       "       [ 0.        ,  0.        ,  0.        ,  0.        ,  0.        ,\n",
       "         0.        ,  0.        ,  0.        ,  0.        ,  0.        ,\n",
       "         0.        ,  0.        ,  0.        ,  0.        ,  0.        ,\n",
       "         0.        ,  0.        ,  0.        ,  0.        ,  0.        ,\n",
       "         0.        ,  0.        ,  0.        ,  0.        ,  0.        ,\n",
       "         0.        ,  0.        ,  0.        ,  0.        ,  0.        ]])"
      ]
     },
     "execution_count": 284,
     "metadata": {},
     "output_type": "execute_result"
    }
   ],
   "source": [
    "tcrossprod_VGH[176:]\n"
   ]
  },
  {
   "cell_type": "code",
   "execution_count": 281,
   "metadata": {
    "collapsed": false
   },
   "outputs": [
    {
     "data": {
      "text/plain": [
       "array([], shape=(17, 0), dtype=float64)"
      ]
     },
     "execution_count": 281,
     "metadata": {},
     "output_type": "execute_result"
    }
   ],
   "source": [
    "tcrossprod_VGH[175:, 175:]"
   ]
  },
  {
   "cell_type": "code",
   "execution_count": 275,
   "metadata": {
    "collapsed": false
   },
   "outputs": [
    {
     "data": {
      "text/plain": [
       "array([], shape=(0, 17), dtype=float64)"
      ]
     },
     "execution_count": 275,
     "metadata": {},
     "output_type": "execute_result"
    }
   ],
   "source": [
    "G[175:, 175:]"
   ]
  },
  {
   "cell_type": "code",
   "execution_count": null,
   "metadata": {
    "collapsed": true
   },
   "outputs": [],
   "source": [
    "Di_HG = D_diag.dot(H).dot(G)\n",
    "Di_HGVGH = np.matmul(Di_HG, tcrossprod_VGH)"
   ]
  },
  {
   "cell_type": "code",
   "execution_count": 290,
   "metadata": {
    "collapsed": false
   },
   "outputs": [
    {
     "data": {
      "text/plain": [
       "array([[  1.08613205e+00,   4.30916853e-03,  -1.03167226e-01,\n",
       "          2.83399467e-01,  -1.79802350e-02,  -2.97907691e-01,\n",
       "          1.67903206e-02,   3.30986263e-02,  -5.66251887e-02,\n",
       "          8.38301214e-03,  -1.96058928e-01,  -7.99913105e-03,\n",
       "          1.60501906e-02,  -5.42555394e-02,   1.18233523e-02,\n",
       "         -2.62313323e-01,  -7.96308985e-03,   2.47582749e-02,\n",
       "         -6.92576425e-02,   6.44651058e-03,  -2.01890637e-01,\n",
       "         -2.74326221e-02,   2.19962632e-02,  -2.04483615e-02,\n",
       "         -3.09790421e-02,  -2.47424250e-01,   8.77219733e-03,\n",
       "          2.34345815e-02,  -7.63586483e-02,  -2.24453811e-03],\n",
       "       [  5.05003056e-03,   4.49648993e-01,   6.17919312e-02,\n",
       "         -5.27174781e-03,  -4.25648721e-03,   1.96770286e-02,\n",
       "         -1.02126747e-01,  -1.17682726e-02,   6.93153550e-03,\n",
       "          1.52469322e-02,  -9.37439694e-03,  -1.66453199e-01,\n",
       "         -8.25323478e-03,   1.81610685e-02,   2.33289295e-02,\n",
       "         -9.33215928e-03,  -5.24345210e-02,  -2.24438050e-02,\n",
       "         -3.82685398e-03,  -1.90917428e-02,  -3.21490280e-02,\n",
       "         -2.25141515e-01,  -3.69694866e-02,  -5.65876997e-02,\n",
       "          7.06113573e-02,   1.02803741e-02,  -5.64451519e-02,\n",
       "         -7.93054451e-03,  -3.89921181e-03,  -2.12023279e-02],\n",
       "       [ -1.28708184e-01,   6.57802698e-02,   1.22259196e+00,\n",
       "         -1.46615159e-02,  -9.37614961e-02,   4.12928044e-02,\n",
       "         -1.25278516e-02,  -3.45374677e-01,   5.60285630e-03,\n",
       "          2.09884608e-02,   2.00237126e-02,  -8.78593693e-03,\n",
       "         -2.41002665e-01,   8.51172536e-03,   2.05782187e-02,\n",
       "          3.08876444e-02,  -2.38924326e-02,  -2.52617913e-01,\n",
       "         -4.49770257e-03,   1.65092379e-02,   2.74418456e-02,\n",
       "         -3.93556691e-02,  -2.37781835e-01,  -1.45065196e-02,\n",
       "          2.62758041e-02,   2.92362462e-02,  -8.44241873e-03,\n",
       "         -2.92155648e-01,   7.32502612e-03,   2.42944611e-02],\n",
       "       [  3.68129187e-01,  -5.84326149e-03,  -1.52656637e-02,\n",
       "          1.16428733e+00,  -3.09399470e-03,  -7.35547773e-02,\n",
       "          7.68298787e-03,   5.83372963e-03,  -3.13457277e-01,\n",
       "          1.08673675e-02,  -7.04766590e-02,   2.01299220e-02,\n",
       "          8.86246261e-03,  -2.44276941e-01,   3.44167265e-03,\n",
       "         -8.99640352e-02,  -4.24172576e-03,  -4.68303654e-03,\n",
       "         -2.56885659e-01,  -3.59676096e-03,  -2.65619367e-02,\n",
       "         -6.27224098e-02,  -1.51042805e-02,  -2.90882519e-01,\n",
       "         -7.50031815e-03,  -9.91880733e-02,  -4.32192795e-03,\n",
       "          7.62686380e-03,  -2.44276941e-01,  -1.46820680e-03],\n",
       "       [ -2.41991164e-02,  -4.88826735e-03,  -1.01149622e-01,\n",
       "         -3.20569712e-03,   6.09798013e-01,   1.12824713e-02,\n",
       "          1.75099975e-02,   2.26422888e-02,   1.12597119e-02,\n",
       "         -1.26573213e-01,   1.59127329e-02,   2.67915863e-02,\n",
       "          2.21997209e-02,   3.56592728e-03,  -2.05990155e-01,\n",
       "          8.67618580e-03,  -2.19254841e-02,   1.78101166e-02,\n",
       "         -3.72661474e-03,  -8.34924382e-02,  -4.16938625e-02,\n",
       "          8.10920308e-02,   2.83462590e-02,  -7.77110196e-03,\n",
       "         -1.99884062e-01,  -3.02086368e-03,  -2.43493383e-02,\n",
       "          2.62087920e-02,  -1.52121344e-03,  -1.08357480e-01],\n",
       "       [ -1.78417244e-01,   1.00557415e-02,   1.98228037e-02,\n",
       "         -3.39128878e-02,   5.02059518e-03,   1.02868729e+00,\n",
       "         -8.10530039e-02,  -9.96720927e-02,   1.02909737e-01,\n",
       "          1.59843901e-02,  -9.02183026e-02,   7.29733371e-03,\n",
       "          7.03414927e-03,  -1.25389758e-03,   1.34244660e-03,\n",
       "         -1.29898133e-01,   7.31891883e-03,   1.22494305e-02,\n",
       "         -1.02386736e-02,  -1.87774979e-03,  -9.37109199e-02,\n",
       "         -4.34140542e-03,   1.05952587e-02,   1.89932584e-02,\n",
       "         -2.42919544e-02,  -1.20981051e-01,   1.73417007e-02,\n",
       "          1.14566691e-02,  -1.44914738e-02,  -7.08282840e-03],\n",
       "       [  1.17845940e-02,  -6.11638211e-02,  -7.04803138e-03,\n",
       "          4.15130423e-03,   9.13140443e-03,  -9.49881964e-02,\n",
       "          9.60016175e-01,   8.15232671e-02,  -3.01943471e-02,\n",
       "         -1.27375215e-01,   8.55194175e-03,  -1.71854115e-01,\n",
       "         -7.25064194e-03,   1.42807997e-02,   3.19595195e-02,\n",
       "          8.57723793e-03,  -1.03568204e-01,  -1.57493901e-02,\n",
       "          1.11220876e-03,   6.55373230e-03,  -5.08780984e-03,\n",
       "         -2.07002612e-01,  -2.44488367e-02,  -3.04863197e-02,\n",
       "          6.02770175e-02,   2.03232057e-02,  -1.05970175e-01,\n",
       "         -7.05738238e-03,   1.06887358e-03,   5.28970055e-03],\n",
       "       [  2.47303059e-02,  -7.50294411e-03,  -2.06845273e-01,\n",
       "          3.35555680e-03,   1.25700122e-02,  -1.24347766e-01,\n",
       "          8.67851579e-02,   1.05864201e+00,   2.58113124e-02,\n",
       "         -8.33489004e-02,   8.77558322e-03,  -7.71863209e-03,\n",
       "         -9.78342928e-02,  -1.47001076e-03,   9.42927714e-03,\n",
       "          1.52820039e-02,  -1.67659289e-02,  -1.04790678e-01,\n",
       "         -9.26137145e-03,   6.99236008e-03,   1.32183112e-02,\n",
       "         -2.60268783e-02,  -9.59053344e-02,  -1.52556630e-02,\n",
       "          1.28415673e-02,   1.42929797e-02,  -7.51289866e-03,\n",
       "         -1.28469871e-01,  -2.18072624e-03,   1.16549388e-02],\n",
       "       [ -4.40520370e-02,   4.60134988e-03,   3.49382709e-03,\n",
       "         -1.87729908e-01,   6.50847836e-03,   1.33677307e-01,\n",
       "         -3.34677363e-02,   2.68749027e-02,   1.00853103e+00,\n",
       "         -6.18408280e-02,  -1.62878322e-03,   1.58289907e-02,\n",
       "         -1.53058456e-03,  -1.03023087e-01,   1.04226967e-02,\n",
       "         -1.32997942e-02,   1.23278405e-03,  -9.64299889e-03,\n",
       "         -1.10574462e-01,   6.20737109e-03,   2.46717923e-02,\n",
       "         -3.37913619e-02,  -1.58842933e-02,  -1.30935218e-01,\n",
       "          3.86952641e-03,  -1.88240808e-02,   1.18475087e-03,\n",
       "         -2.27058604e-03,  -1.03023087e-01,   7.48216452e-03],\n",
       "       [  6.75708448e-03,   1.04867568e-02,   1.35604916e-02,\n",
       "          6.74345381e-03,  -7.58048362e-02,   2.15129622e-02,\n",
       "         -1.46281211e-01,  -8.99165447e-02,  -6.40734660e-02,\n",
       "          8.90741648e-01,   1.80676290e-03,   3.67031940e-02,\n",
       "          1.01722760e-02,   1.07989871e-02,  -1.58754335e-01,\n",
       "         -2.52721311e-03,   7.52648698e-03,   7.54333716e-03,\n",
       "          6.43147567e-03,  -8.53903183e-02,  -3.26938904e-02,\n",
       "          6.92237899e-02,   1.38534444e-02,   4.00922783e-03,\n",
       "         -1.55097390e-01,  -9.53258890e-03,   6.07483805e-03,\n",
       "          1.25733131e-02,   7.75229293e-03,  -1.00282019e-01],\n",
       "       [ -2.44535036e-01,  -9.97693818e-03,   2.00186444e-02,\n",
       "         -6.76703706e-02,   1.47467086e-02,  -1.87885823e-01,\n",
       "          1.51971996e-02,   1.46490999e-02,  -2.61132799e-03,\n",
       "          2.79573742e-03,   5.59439661e-01,   1.72874989e-02,\n",
       "         -2.98584537e-02,   9.29069922e-02,   4.88611036e-03,\n",
       "         -1.43490650e-01,  -1.56765597e-02,   4.24657361e-03,\n",
       "         -1.83671907e-02,   3.80430541e-04,  -6.81282884e-02,\n",
       "         -3.99599872e-02,   8.01646955e-04,   4.25103192e-02,\n",
       "         -4.62986929e-02,  -1.24920212e-01,   5.19657325e-03,\n",
       "          2.59559339e-03,  -2.72239397e-02,  -1.04595038e-02],\n",
       "       [ -1.16922423e-02,  -2.07609210e-01,  -1.02938697e-02,\n",
       "          2.26514426e-02,   2.90970714e-02,   1.78100071e-02,\n",
       "         -3.57898019e-01,  -1.50999607e-02,   2.97407480e-02,\n",
       "          6.65578985e-02,   2.02596852e-02,   1.00865779e+00,\n",
       "          6.08498543e-02,  -5.57036841e-02,  -1.22262804e-01,\n",
       "         -1.83717821e-02,  -2.95919254e-01,  -2.84150479e-02,\n",
       "          1.63223172e-02,   2.37288919e-02,  -4.68301844e-02,\n",
       "         -5.11328527e-01,  -4.65322441e-02,  -4.94837926e-02,\n",
       "          1.35611330e-01,   6.09000403e-03,  -3.00921524e-01,\n",
       "         -1.03133438e-02,   1.62320687e-02,   2.10964588e-02],\n",
       "       [  2.49746306e-02,  -1.09582840e-02,  -3.00591236e-01,\n",
       "          1.06162728e-02,   2.56662398e-02,   1.82757559e-02,\n",
       "         -1.60745824e-02,  -2.03746647e-01,  -3.06139856e-03,\n",
       "          1.96371184e-02,  -3.72504670e-02,   6.47773869e-02,\n",
       "          5.71943857e-01,   1.36073474e-02,  -7.16443517e-02,\n",
       "          5.29789157e-03,  -3.02490873e-02,  -8.80555189e-02,\n",
       "         -1.56593484e-02,   1.40503954e-02,   1.00010951e-03,\n",
       "         -4.95356515e-02,  -6.95511795e-02,  -2.81428729e-02,\n",
       "          2.62317719e-02,   3.23818061e-03,  -1.09790150e-02,\n",
       "         -1.37369067e-01,  -9.13417529e-04,   2.37605364e-02],\n",
       "       [ -8.79022066e-02,   2.51071006e-02,   1.10537308e-02,\n",
       "         -3.04675086e-01,   4.29263567e-03,  -3.39205313e-03,\n",
       "          3.29649623e-02,  -3.18754766e-03,  -2.14552667e-01,\n",
       "          2.17059831e-02,   1.20683980e-01,  -6.17425575e-02,\n",
       "          1.41680567e-02,   6.44607252e-01,  -2.34659954e-02,\n",
       "         -2.38585451e-02,   1.80918305e-02,  -1.63046132e-02,\n",
       "         -1.43993561e-01,   3.66555907e-03,   5.52198965e-02,\n",
       "         -5.48483634e-02,  -2.93025383e-02,  -1.86396237e-01,\n",
       "         -1.20316336e-03,  -3.53632520e-02,   1.79917981e-02,\n",
       "         -9.51056144e-04,  -1.28267302e-01,   6.32040410e-03],\n",
       "       [  1.98471998e-02,   3.34158796e-02,   2.76886628e-02,\n",
       "          4.44761260e-03,  -2.56921786e-01,   3.76270806e-03,\n",
       "          7.64369269e-02,   2.11844647e-02,   2.24896337e-02,\n",
       "         -3.30616827e-01,   6.57608496e-03,  -1.40409978e-01,\n",
       "         -7.72897126e-02,  -2.43131877e-02,   1.00862009e+00,\n",
       "          5.12011268e-04,   2.72509141e-02,   1.51575246e-02,\n",
       "          3.79789666e-03,  -2.76884212e-01,  -6.23121698e-02,\n",
       "          1.55739793e-01,   2.82987572e-02,  -1.24660114e-03,\n",
       "         -4.22053985e-01,  -1.40771658e-02,   2.42277553e-02,\n",
       "          2.56327957e-02,   6.54858950e-03,  -3.07897204e-01],\n",
       "       [ -3.11316911e-01,  -9.45070004e-03,   2.93834471e-02,\n",
       "         -8.21958834e-02,   7.65080377e-03,  -2.57412814e-01,\n",
       "          1.45035456e-02,   2.42741008e-02,  -2.02894817e-02,\n",
       "         -3.72104545e-03,  -1.36537358e-01,  -1.49169026e-02,\n",
       "          4.04079251e-03,  -1.74771506e-02,   3.61995581e-04,\n",
       "          7.69160526e-01,   1.79368541e-02,  -5.67148003e-02,\n",
       "          1.39710062e-01,   2.13231744e-02,  -1.43458508e-01,\n",
       "         -3.79808260e-02,   1.10976698e-02,   2.26456539e-02,\n",
       "         -5.04364505e-02,  -1.97498400e-01,   4.98753110e-03,\n",
       "          1.28046850e-02,  -4.37094117e-02,  -1.63339622e-02],\n",
       "       [ -1.10755297e-02,  -6.22299810e-02,  -2.66366038e-02,\n",
       "         -4.54176076e-03,  -2.26583321e-02,   1.69970953e-02,\n",
       "         -2.05236073e-01,  -3.12098005e-02,   2.20401003e-03,\n",
       "          1.29872126e-02,  -1.74815196e-02,  -2.81579554e-01,\n",
       "         -2.70381073e-02,   1.55313679e-02,   2.25790337e-02,\n",
       "          2.10206820e-02,   6.74050214e-01,   1.05656178e-01,\n",
       "          1.07980745e-02,   6.41324113e-03,  -4.45107521e-02,\n",
       "         -3.51231622e-01,  -6.11189335e-02,  -7.31814559e-02,\n",
       "          7.86944424e-02,   5.84502191e-03,  -1.51020553e-01,\n",
       "         -2.66551342e-02,  -1.06500637e-02,  -3.02712499e-02],\n",
       "       [  3.66578637e-02,  -2.83558541e-02,  -2.99810271e-01,\n",
       "         -5.33793272e-03,   1.95933813e-02,   3.02836041e-02,\n",
       "         -3.32242262e-02,  -2.07658591e-01,  -1.83528095e-02,\n",
       "          1.38564200e-02,   5.04116555e-03,  -2.87832724e-02,\n",
       "         -8.37885114e-02,  -1.49005253e-02,   1.33695393e-02,\n",
       "         -7.07555997e-02,   1.12475719e-01,   6.11758632e-01,\n",
       "          5.41807383e-02,  -5.98723381e-02,   1.38451036e-02,\n",
       "         -6.50638338e-02,  -7.99659883e-02,  -4.22188820e-02,\n",
       "          2.01315087e-02,   1.59747219e-02,  -2.83755805e-02,\n",
       "         -1.44497546e-01,  -1.63089156e-02,   1.77800247e-02],\n",
       "       [ -1.06770503e-01,  -5.03413606e-03,  -5.55788952e-03,\n",
       "         -3.04875288e-01,  -4.26868334e-03,  -2.63555555e-02,\n",
       "          2.44294822e-03,  -1.91090620e-02,  -2.19120035e-01,\n",
       "          1.23008455e-02,  -2.27024042e-02,   1.72151338e-02,\n",
       "         -1.55145218e-02,  -1.37015899e-01,   3.48793286e-03,\n",
       "          1.81480058e-01,   1.19687009e-02,   5.64133295e-02,\n",
       "          6.90173134e-01,  -2.10292097e-03,   2.94161674e-02,\n",
       "         -8.11151062e-02,  -4.39585685e-02,  -1.92328014e-01,\n",
       "         -9.49816612e-03,  -5.67774893e-02,  -1.18046442e-02,\n",
       "         -1.69809467e-02,  -1.37015899e-01,  -2.33917682e-03],\n",
       "       [  1.02970117e-02,  -2.60214537e-02,   2.11372812e-02,\n",
       "         -4.42279552e-03,  -9.90899267e-02,  -5.00805533e-03,\n",
       "          1.49148733e-02,   1.49482645e-02,   1.27449426e-02,\n",
       "         -1.69213842e-01,   4.87200149e-04,   2.59303852e-02,\n",
       "          1.44230190e-02,   3.61385762e-03,  -2.63466916e-01,\n",
       "          2.86982889e-02,   7.36514305e-03,  -6.45900995e-02,\n",
       "         -2.17884267e-03,   6.47140527e-01,  -6.78810669e-02,\n",
       "          9.03748688e-02,   2.17178115e-02,  -9.84107819e-03,\n",
       "         -2.56220124e-01,  -2.19834419e-02,  -3.47643385e-02,\n",
       "          1.91810375e-02,  -2.42362807e-03,  -1.47595170e-01],\n",
       "       [ -4.32622794e-02,  -5.87841902e-03,   4.71348497e-03,\n",
       "         -4.38179175e-03,  -6.63836617e-03,  -3.35295952e-02,\n",
       "         -1.55334689e-03,   3.79096411e-03,   6.79575301e-03,\n",
       "         -8.69161673e-03,  -1.17048601e-02,  -6.86537225e-03,\n",
       "          1.37727891e-04,   7.30353501e-03,  -7.95440098e-03,\n",
       "         -2.59022306e-02,  -6.85764914e-03,   2.00374594e-03,\n",
       "          4.08879863e-03,  -9.10658134e-03,   6.39382181e-01,\n",
       "          1.28756743e-01,  -5.45026874e-02,  -7.86430259e-02,\n",
       "          2.15851048e-01,  -2.27117149e-02,  -3.27151617e-03,\n",
       "          1.72009736e-03,   2.56715453e-03,  -1.09689489e-02],\n",
       "       [ -6.88907743e-03,  -4.82446105e-02,  -7.92203283e-03,\n",
       "         -1.21259356e-02,   1.51310051e-02,  -1.82040902e-03,\n",
       "         -7.40651549e-02,  -8.74774890e-03,  -1.09079493e-02,\n",
       "          2.15670063e-02,  -8.04571449e-03,  -8.78493945e-02,\n",
       "         -7.99452652e-03,  -8.50162075e-03,   2.32988628e-02,\n",
       "         -8.03666357e-03,  -6.34168207e-02,  -1.10353630e-02,\n",
       "         -1.32133184e-02,   1.42087188e-02,   1.50893491e-01,\n",
       "          1.66882497e+00,   2.15199269e-01,   2.86737806e-01,\n",
       "         -4.25263744e-01,  -3.83397784e-03,  -6.42762416e-02,\n",
       "         -7.92537860e-03,  -1.32288237e-02,   1.37564505e-02],\n",
       "       [  5.88039549e-03,  -8.43335767e-03,  -5.09532504e-02,\n",
       "         -3.10853991e-03,   5.63052945e-03,   4.72948750e-03,\n",
       "         -9.31236930e-03,  -3.43147527e-02,  -5.45844821e-03,\n",
       "          4.59468921e-03,   1.71824982e-04,  -8.51053044e-03,\n",
       "         -1.19493216e-02,  -4.83511913e-03,   4.50678020e-03,\n",
       "          2.49981037e-03,  -1.17476367e-02,  -1.44383035e-02,\n",
       "         -7.62285369e-03,   3.63485574e-03,  -6.79958373e-02,\n",
       "          2.29089230e-01,   6.16556216e-01,   1.29746924e-01,\n",
       "         -1.16347517e-01,   2.14593932e-03,  -8.43691940e-03,\n",
       "         -2.29106751e-02,  -5.08941182e-03,   5.30311785e-03],\n",
       "       [ -5.69184357e-03,  -1.34405164e-02,  -3.23663154e-03,\n",
       "         -6.23319683e-02,  -1.60721103e-03,   8.82752200e-03,\n",
       "         -1.20904873e-02,  -5.68337101e-03,  -4.68483809e-02,\n",
       "          1.38450945e-03,   9.48711878e-03,  -9.42328710e-03,\n",
       "         -5.03435680e-03,  -3.20240231e-02,  -2.06710885e-04,\n",
       "          5.31125245e-03,  -1.46457831e-02,  -7.93696376e-03,\n",
       "         -3.47258914e-02,  -1.71494666e-03,  -1.02155426e-01,\n",
       "          3.17823242e-01,   1.35093323e-01,   9.86938225e-01,\n",
       "          2.16591452e-02,   3.33467286e-03,  -1.46629692e-02,\n",
       "         -5.29912798e-03,  -3.20240231e-02,  -1.25882791e-03],\n",
       "       [ -8.93439910e-03,   1.73768637e-02,   6.07419835e-03,\n",
       "         -1.66523613e-03,  -4.28322990e-02,  -1.16978140e-02,\n",
       "          2.47681450e-02,   4.95673700e-03,   1.43449436e-03,\n",
       "         -5.54935614e-02,  -1.07056151e-02,   2.67570569e-02,\n",
       "          4.86190101e-03,  -2.14173763e-04,  -7.25114775e-02,\n",
       "         -1.22563037e-02,   1.63176846e-02,   3.92127152e-03,\n",
       "         -1.77686134e-03,  -4.62619669e-02,   2.90508140e-01,\n",
       "         -4.88384616e-01,  -1.25515354e-01,   2.24411048e-02,\n",
       "          1.33353692e+00,  -1.47628143e-02,   1.57982873e-02,\n",
       "          5.72098769e-03,  -1.30427535e-03,  -5.15901902e-02],\n",
       "       [ -3.08600575e-01,   1.09411472e-02,   2.92288462e-02,\n",
       "         -9.52385339e-02,  -2.79950633e-03,  -2.51951362e-01,\n",
       "          3.61152850e-02,   2.38593016e-02,  -3.01794913e-02,\n",
       "         -1.47504775e-02,  -1.24920212e-01,   5.19657325e-03,\n",
       "          2.59559339e-03,  -2.72239397e-02,  -1.04595038e-02,\n",
       "         -2.07556189e-01,   5.24152574e-03,   1.34567754e-02,\n",
       "         -4.59353540e-02,  -1.71657844e-02,  -1.32193828e-01,\n",
       "         -1.90419018e-02,   1.00118487e-02,   1.49421559e-02,\n",
       "         -6.38449078e-02,   7.13535627e-01,  -3.30264862e-02,\n",
       "         -5.20116263e-02,   1.59216319e-01,   4.70897815e-02],\n",
       "       [  1.28222249e-02,  -7.04013707e-02,  -9.89139342e-03,\n",
       "         -4.86330264e-03,  -2.64446617e-02,   4.23244743e-02,\n",
       "         -2.20690181e-01,  -1.46974844e-02,   2.22600278e-03,\n",
       "          1.10161654e-02,   6.09000403e-03,  -3.00921524e-01,\n",
       "         -1.03133438e-02,   1.62320687e-02,   2.10964588e-02,\n",
       "          6.14268506e-03,  -1.58711415e-01,  -2.80125716e-02,\n",
       "         -1.11924281e-02,  -3.18128413e-02,  -2.23157172e-02,\n",
       "         -3.74120688e-01,  -4.61297678e-02,  -7.69985378e-02,\n",
       "          8.00695967e-02,  -3.87046280e-02,   6.78633646e-01,\n",
       "          5.98817835e-02,   1.04771569e-02,   1.13309679e-02],\n",
       "       [  3.64649884e-02,  -1.05298300e-02,  -3.64391934e-01,\n",
       "          9.13615895e-03,   3.03013333e-02,   2.97661137e-02,\n",
       "         -1.56461284e-02,  -2.67547345e-01,  -4.54151245e-03,\n",
       "          2.42722119e-02,   3.23818061e-03,  -1.09790150e-02,\n",
       "         -1.37369067e-01,  -9.13417529e-04,   2.37605364e-02,\n",
       "          1.67882494e-02,  -2.98206332e-02,  -1.51856218e-01,\n",
       "         -1.71394623e-02,   1.86854889e-02,   1.24904673e-02,\n",
       "         -4.91071975e-02,  -1.33351878e-01,  -2.96229868e-02,\n",
       "          3.08668654e-02,  -6.48880678e-02,   6.37468323e-02,\n",
       "          7.25402807e-01,   1.71674451e-02,  -8.27930788e-02],\n",
       "       [ -1.23712597e-01,  -5.39053651e-03,   9.51262683e-03,\n",
       "         -3.04675086e-01,  -1.83122496e-03,  -3.92024435e-02,\n",
       "          2.46732522e-03,  -4.72865167e-03,  -2.14552667e-01,\n",
       "          1.55821224e-02,  -3.53632520e-02,   1.79917981e-02,\n",
       "         -9.51056144e-04,  -1.28267302e-01,   6.32040410e-03,\n",
       "         -5.96689355e-02,  -1.24058066e-02,  -1.78457172e-02,\n",
       "         -1.43993561e-01,  -2.45830157e-03,   1.94095061e-02,\n",
       "         -8.53460005e-02,  -3.08436423e-02,  -1.86396237e-01,\n",
       "         -7.32702399e-03,   2.06818223e-01,   1.16129924e-02,\n",
       "          1.78748531e-02,   6.44607252e-01,  -8.73635708e-03],\n",
       "       [ -3.76778053e-03,  -3.03697791e-02,   3.26889879e-02,\n",
       "         -1.89733764e-03,  -1.35149165e-01,  -1.98522723e-02,\n",
       "          1.26512682e-02,   2.61847897e-02,   1.61446835e-02,\n",
       "         -2.08844205e-01,  -1.40771658e-02,   2.42277553e-02,\n",
       "          2.56327957e-02,   6.54858950e-03,  -3.07897204e-01,\n",
       "         -2.31029691e-02,  -3.65347446e-02,   2.01578496e-02,\n",
       "         -2.54705358e-03,  -1.55111591e-01,  -8.59271502e-02,\n",
       "          9.19541339e-02,   3.32990822e-02,  -7.59155137e-03,\n",
       "         -3.00281363e-01,   6.33768747e-02,   1.30127961e-02,\n",
       "         -8.93169261e-02,  -9.05176558e-03,   7.15722065e-01]])"
      ]
     },
     "execution_count": 290,
     "metadata": {},
     "output_type": "execute_result"
    }
   ],
   "source": [
    "Di_HGVGH\n"
   ]
  },
  {
   "cell_type": "code",
   "execution_count": 296,
   "metadata": {
    "collapsed": false
   },
   "outputs": [
    {
     "data": {
      "text/plain": [
       "array([  2.18652025e+00,   1.82297722e+00,   1.51739565e+00,\n",
       "         1.50833538e+00,  -1.12449488e-15,   3.62206156e-17,\n",
       "         1.35730999e+00,   4.33653721e-01,   1.28204725e+00,\n",
       "         1.22394222e+00,   4.97534199e-01,   5.48117079e-01,\n",
       "         5.68317028e-01,   5.93728437e-01,   6.73796880e-01,\n",
       "         6.99785705e-01,   7.25101857e-01,   1.14648694e+00,\n",
       "         1.11760946e+00,   8.34071100e-01,   8.50931406e-01,\n",
       "         8.83476358e-01,   9.16463481e-01,   1.03159656e+00,\n",
       "         1.00776387e+00,   9.73760416e-01,   9.87045624e-01,\n",
       "        -2.98197989e-16,  -1.24293653e-16,   6.20393358e-17])"
      ]
     },
     "execution_count": 296,
     "metadata": {},
     "output_type": "execute_result"
    }
   ],
   "source": [
    "eigenvalues, eigenvectors = np.linalg.eig(Di_HGVGH)\n",
    "eigenvalues"
   ]
  },
  {
   "cell_type": "code",
   "execution_count": 297,
   "metadata": {
    "collapsed": false
   },
   "outputs": [
    {
     "data": {
      "text/plain": [
       "30.152578631184642"
      ]
     },
     "execution_count": 297,
     "metadata": {},
     "output_type": "execute_result"
    }
   ],
   "source": [
    "Di_HGVGH_eigen = np.real(eigenvalues)\n",
    "sum_Di_HGVGH_eigen_sq = (Di_HGVGH_eigen ** 2).sum()\n",
    "sum_Di_HGVGH_eigen_sq"
   ]
  },
  {
   "cell_type": "code",
   "execution_count": 298,
   "metadata": {
    "collapsed": true
   },
   "outputs": [],
   "source": [
    "observed = self._calculate_pairwise_chi2s_for_MMI_item_response_table(single_response_factor,\n",
    "                                                                      multiple_response_factor)\n",
    "observed_X_sq = observed.sum()"
   ]
  },
  {
   "cell_type": "code",
   "execution_count": 299,
   "metadata": {
    "collapsed": false
   },
   "outputs": [
    {
     "data": {
      "text/plain": [
       "132.61374286431663"
      ]
     },
     "execution_count": 299,
     "metadata": {},
     "output_type": "execute_result"
    }
   ],
   "source": [
    "observed_X_sq"
   ]
  },
  {
   "cell_type": "code",
   "execution_count": 300,
   "metadata": {
    "collapsed": false
   },
   "outputs": [
    {
     "data": {
      "text/plain": [
       "20.727912118057041"
      ]
     },
     "execution_count": 300,
     "metadata": {},
     "output_type": "execute_result"
    }
   ],
   "source": [
    "rows_by_columns = ((r - 1) * c)\n",
    "\n",
    "X_sq_S_rs2 = rows_by_columns * observed_X_sq / sum_Di_HGVGH_eigen_sq\n",
    "df_rs2 = ((r - 1) ** 2) * (c ** 2) / sum_Di_HGVGH_eigen_sq\n",
    "df_rs2"
   ]
  },
  {
   "cell_type": "code",
   "execution_count": 301,
   "metadata": {
    "collapsed": false
   },
   "outputs": [
    {
     "name": "stdout",
     "output_type": "stream",
     "text": [
      "3.79886988451e-14\n"
     ]
    }
   ],
   "source": [
    "X_sq_S_p_value_rs2 = chi2.sf(X_sq_S_rs2, df=df_rs2)\n",
    "print(X_sq_S_p_value_rs2)"
   ]
  },
  {
   "cell_type": "code",
   "execution_count": null,
   "metadata": {
    "collapsed": true
   },
   "outputs": [],
   "source": []
  },
  {
   "cell_type": "code",
   "execution_count": 277,
   "metadata": {
    "collapsed": false
   },
   "outputs": [
    {
     "name": "stdout",
     "output_type": "stream",
     "text": [
      "0         None_Of_The_Above\n",
      "1         None_Of_The_Above\n",
      "2           Hillary_Clinton\n",
      "3              Donald_Trump\n",
      "4           Hillary_Clinton\n",
      "5                Jill_Stein\n",
      "6         None_Of_The_Above\n",
      "7           Hillary_Clinton\n",
      "8         None_Of_The_Above\n",
      "9              Donald_Trump\n",
      "10        None_Of_The_Above\n",
      "11     I_Probably_Wont_Vote\n",
      "12          Hillary_Clinton\n",
      "13             Donald_Trump\n",
      "14             Donald_Trump\n",
      "15               Jill_Stein\n",
      "16          Hillary_Clinton\n",
      "17             Donald_Trump\n",
      "18        None_Of_The_Above\n",
      "19             Gary_Johnson\n",
      "20        None_Of_The_Above\n",
      "21        None_Of_The_Above\n",
      "22     I_Probably_Wont_Vote\n",
      "23     I_Probably_Wont_Vote\n",
      "24             Gary_Johnson\n",
      "25     I_Probably_Wont_Vote\n",
      "26             Gary_Johnson\n",
      "27             Gary_Johnson\n",
      "28        None_Of_The_Above\n",
      "29               Jill_Stein\n",
      "               ...         \n",
      "970            Gary_Johnson\n",
      "971    I_Probably_Wont_Vote\n",
      "972       None_Of_The_Above\n",
      "973            Gary_Johnson\n",
      "974         Hillary_Clinton\n",
      "975            Gary_Johnson\n",
      "976       None_Of_The_Above\n",
      "977       None_Of_The_Above\n",
      "978         Hillary_Clinton\n",
      "979       None_Of_The_Above\n",
      "980    I_Probably_Wont_Vote\n",
      "981    I_Probably_Wont_Vote\n",
      "982         Hillary_Clinton\n",
      "983       None_Of_The_Above\n",
      "984       None_Of_The_Above\n",
      "985            Donald_Trump\n",
      "986    I_Probably_Wont_Vote\n",
      "987              Jill_Stein\n",
      "988            Donald_Trump\n",
      "989         Hillary_Clinton\n",
      "990       None_Of_The_Above\n",
      "991    I_Probably_Wont_Vote\n",
      "992         Hillary_Clinton\n",
      "993         Hillary_Clinton\n",
      "994         Hillary_Clinton\n",
      "995            Donald_Trump\n",
      "996         Hillary_Clinton\n",
      "997            Donald_Trump\n",
      "998            Donald_Trump\n",
      "999            Donald_Trump\n",
      "Name: variable, dtype: object\n",
      "0 31\n",
      "32 63\n",
      "64 95\n",
      "96 127\n",
      "128 159\n",
      "25\n",
      "132.613742864\n",
      "0.141837885276\n"
     ]
    },
    {
     "data": {
      "text/plain": [
       "0.0"
      ]
     },
     "execution_count": 277,
     "metadata": {},
     "output_type": "execute_result"
    }
   ],
   "source": [
    "_test_for_marginal_mutual_independence_using_rao_scott_2(multiple_response_table, rows_factor, columns_factor)"
   ]
  },
  {
   "cell_type": "code",
   "execution_count": 302,
   "metadata": {
    "collapsed": false
   },
   "outputs": [
    {
     "name": "stdout",
     "output_type": "stream",
     "text": [
      "Overall table p value: 3.798869884507482e-14\n",
      "\n",
      "\n"
     ]
    }
   ],
   "source": [
    "rao_scott_test = multiple_response_table._test_for_marginal_mutual_independence_using_rao_scott_2\n",
    "table_p_value_rao_scott_corrected = rao_scott_test(rows_factor, columns_factor)\n",
    "print(\"Overall table p value: {}\\n\\n\".format(table_p_value_rao_scott_corrected))"
   ]
  },
  {
   "cell_type": "code",
   "execution_count": 192,
   "metadata": {
    "collapsed": true
   },
   "outputs": [],
   "source": [
    "result_dir = \"/Users/gjlondon/programming/open_source/statsmodels/statsmodels/stats/tests/results/\"\n",
    "fpath = os.path.join(result_dir, \"srcv_r_rao_scott.csv\")\n",
    "%R -i fpath"
   ]
  },
  {
   "cell_type": "code",
   "execution_count": 203,
   "metadata": {
    "collapsed": false
   },
   "outputs": [
    {
     "data": {
      "text/plain": [
       "$X.sq.S.rs2\n",
       "[1] 109.9522\n",
       "\n",
       "$df.rs2\n",
       "[1] 20.72791\n",
       "\n",
       "$p.value.rs2\n",
       "[1] 3.796963e-14\n",
       "\n"
      ]
     },
     "metadata": {},
     "output_type": "display_data"
    }
   ],
   "source": [
    "%%R \n",
    "\n",
    "res <- MI.test(srcv_presidential, I=1, J=5, type=\"rs2\")\n",
    "res$rs2\n",
    "write.csv(res$rs2, file=fpath)\n",
    "res$rs2"
   ]
  },
  {
   "cell_type": "code",
   "execution_count": 178,
   "metadata": {
    "collapsed": false
   },
   "outputs": [
    {
     "ename": "AssertionError",
     "evalue": "\nNot equal to tolerance rtol=1e-07, atol=0\n\n(mismatch 100.0%)\n x: array([  3.796963e-14])\n y: array(2.9278708403821406e-25)",
     "output_type": "error",
     "traceback": [
      "\u001b[0;31m---------------------------------------------------------------------------\u001b[0m",
      "\u001b[0;31mAssertionError\u001b[0m                            Traceback (most recent call last)",
      "\u001b[0;32m<ipython-input-178-57b698ebbb05>\u001b[0m in \u001b[0;36m<module>\u001b[0;34m()\u001b[0m\n\u001b[1;32m      1\u001b[0m \u001b[0mr_result\u001b[0m \u001b[0;34m=\u001b[0m \u001b[0mpd\u001b[0m\u001b[0;34m.\u001b[0m\u001b[0mDataFrame\u001b[0m\u001b[0;34m.\u001b[0m\u001b[0mfrom_csv\u001b[0m\u001b[0;34m(\u001b[0m\u001b[0mfpath\u001b[0m\u001b[0;34m)\u001b[0m\u001b[0;34m\u001b[0m\u001b[0m\n\u001b[1;32m      2\u001b[0m \u001b[0mtable_p_value_r\u001b[0m \u001b[0;34m=\u001b[0m \u001b[0mr_result\u001b[0m\u001b[0;34m[\u001b[0m\u001b[0;34m\"p.value.rs2\"\u001b[0m\u001b[0;34m]\u001b[0m\u001b[0;34m\u001b[0m\u001b[0m\n\u001b[0;32m----> 3\u001b[0;31m \u001b[0massert_allclose\u001b[0m\u001b[0;34m(\u001b[0m\u001b[0mtable_p_value_r\u001b[0m\u001b[0;34m,\u001b[0m \u001b[0mtable_p_value_rao_scott_corrected\u001b[0m\u001b[0;34m)\u001b[0m\u001b[0;34m\u001b[0m\u001b[0m\n\u001b[0m",
      "\u001b[0;32m/Users/gjlondon/anaconda/envs/statsmodels-dev/lib/python3.5/site-packages/numpy/testing/utils.py\u001b[0m in \u001b[0;36massert_allclose\u001b[0;34m(actual, desired, rtol, atol, equal_nan, err_msg, verbose)\u001b[0m\n\u001b[1;32m   1390\u001b[0m     \u001b[0mheader\u001b[0m \u001b[0;34m=\u001b[0m \u001b[0;34m'Not equal to tolerance rtol=%g, atol=%g'\u001b[0m \u001b[0;34m%\u001b[0m \u001b[0;34m(\u001b[0m\u001b[0mrtol\u001b[0m\u001b[0;34m,\u001b[0m \u001b[0matol\u001b[0m\u001b[0;34m)\u001b[0m\u001b[0;34m\u001b[0m\u001b[0m\n\u001b[1;32m   1391\u001b[0m     assert_array_compare(compare, actual, desired, err_msg=str(err_msg),\n\u001b[0;32m-> 1392\u001b[0;31m                          verbose=verbose, header=header)\n\u001b[0m\u001b[1;32m   1393\u001b[0m \u001b[0;34m\u001b[0m\u001b[0m\n\u001b[1;32m   1394\u001b[0m \u001b[0;32mdef\u001b[0m \u001b[0massert_array_almost_equal_nulp\u001b[0m\u001b[0;34m(\u001b[0m\u001b[0mx\u001b[0m\u001b[0;34m,\u001b[0m \u001b[0my\u001b[0m\u001b[0;34m,\u001b[0m \u001b[0mnulp\u001b[0m\u001b[0;34m=\u001b[0m\u001b[0;36m1\u001b[0m\u001b[0;34m)\u001b[0m\u001b[0;34m:\u001b[0m\u001b[0;34m\u001b[0m\u001b[0m\n",
      "\u001b[0;32m/Users/gjlondon/anaconda/envs/statsmodels-dev/lib/python3.5/site-packages/numpy/testing/utils.py\u001b[0m in \u001b[0;36massert_array_compare\u001b[0;34m(comparison, x, y, err_msg, verbose, header, precision)\u001b[0m\n\u001b[1;32m    737\u001b[0m                                 names=('x', 'y'), precision=precision)\n\u001b[1;32m    738\u001b[0m             \u001b[0;32mif\u001b[0m \u001b[0;32mnot\u001b[0m \u001b[0mcond\u001b[0m\u001b[0;34m:\u001b[0m\u001b[0;34m\u001b[0m\u001b[0m\n\u001b[0;32m--> 739\u001b[0;31m                 \u001b[0;32mraise\u001b[0m \u001b[0mAssertionError\u001b[0m\u001b[0;34m(\u001b[0m\u001b[0mmsg\u001b[0m\u001b[0;34m)\u001b[0m\u001b[0;34m\u001b[0m\u001b[0m\n\u001b[0m\u001b[1;32m    740\u001b[0m     \u001b[0;32mexcept\u001b[0m \u001b[0mValueError\u001b[0m\u001b[0;34m:\u001b[0m\u001b[0;34m\u001b[0m\u001b[0m\n\u001b[1;32m    741\u001b[0m         \u001b[0;32mimport\u001b[0m \u001b[0mtraceback\u001b[0m\u001b[0;34m\u001b[0m\u001b[0m\n",
      "\u001b[0;31mAssertionError\u001b[0m: \nNot equal to tolerance rtol=1e-07, atol=0\n\n(mismatch 100.0%)\n x: array([  3.796963e-14])\n y: array(2.9278708403821406e-25)"
     ]
    }
   ],
   "source": [
    "r_result = pd.DataFrame.from_csv(fpath)\n",
    "table_p_value_r = r_result[\"p.value.rs2\"] \n",
    "assert_allclose(table_p_value_r, table_p_value_rao_scott_corrected)"
   ]
  },
  {
   "cell_type": "markdown",
   "metadata": {},
   "source": [
    "In this case the Rao Scott adjusted test is much less conservative, even compared to the naive chi-squared test. In this case the p value is so low that it rounds to zero."
   ]
  },
  {
   "cell_type": "markdown",
   "metadata": {},
   "source": [
    "## Multiple response versus multiple response"
   ]
  },
  {
   "cell_type": "markdown",
   "metadata": {},
   "source": [
    "When we compare two (or more) multiple response questions against each other (e.g. question 2 versus question 3 in our sample presidential survey), we test for **simultaneous pairwise mutual independence (SPMI)**, i.e. whether each possible choice on one multiple response question is simultaneously indepedent of each possible choice on a different multiple response question.\n",
    "\n",
    "Once again, we treat each multiple response question as a compound of individual \"sub-questions\", one for each answer option (i.e. \"does A apply (yes/no)? Does B apply (yes/no)?\" Then we say that the multiple response questions have simultaneous pairwise mutual independence if each answer choice in the first question is simultaneously independent of each answer choice in the second question.\n",
    "\n",
    "As before we start by building a full \"item response table\" comparing answer choice on the first question each answer choice on the second question:\n"
   ]
  },
  {
   "cell_type": "code",
   "execution_count": 25,
   "metadata": {
    "collapsed": false
   },
   "outputs": [
    {
     "data": {
      "text/html": [
       "<div>\n",
       "<table border=\"1\" class=\"dataframe\">\n",
       "  <thead>\n",
       "    <tr>\n",
       "      <th></th>\n",
       "      <th>column_levels</th>\n",
       "      <th colspan=\"2\" halign=\"left\">Dont_like__any_candidate</th>\n",
       "      <th colspan=\"2\" halign=\"left\">I_wish_another_candidate_had_won_the_primary</th>\n",
       "      <th colspan=\"2\" halign=\"left\">Need_to_do_more_research</th>\n",
       "      <th colspan=\"2\" halign=\"left\">Not_sure_which_candidate_shares_my_values</th>\n",
       "      <th colspan=\"2\" halign=\"left\">Waiting_for_debates</th>\n",
       "    </tr>\n",
       "    <tr>\n",
       "      <th></th>\n",
       "      <th>selected?</th>\n",
       "      <th>0.0</th>\n",
       "      <th>1.0</th>\n",
       "      <th>0.0</th>\n",
       "      <th>1.0</th>\n",
       "      <th>0.0</th>\n",
       "      <th>1.0</th>\n",
       "      <th>0.0</th>\n",
       "      <th>1.0</th>\n",
       "      <th>0.0</th>\n",
       "      <th>1.0</th>\n",
       "    </tr>\n",
       "    <tr>\n",
       "      <th>row_levels</th>\n",
       "      <th>selected?</th>\n",
       "      <th></th>\n",
       "      <th></th>\n",
       "      <th></th>\n",
       "      <th></th>\n",
       "      <th></th>\n",
       "      <th></th>\n",
       "      <th></th>\n",
       "      <th></th>\n",
       "      <th></th>\n",
       "      <th></th>\n",
       "    </tr>\n",
       "  </thead>\n",
       "  <tbody>\n",
       "    <tr>\n",
       "      <th rowspan=\"2\" valign=\"top\">Hillary_Clinton_is_involved_in_many_coverups</th>\n",
       "      <th>0.0</th>\n",
       "      <td>720</td>\n",
       "      <td>110</td>\n",
       "      <td>683</td>\n",
       "      <td>147</td>\n",
       "      <td>661</td>\n",
       "      <td>169</td>\n",
       "      <td>719</td>\n",
       "      <td>111</td>\n",
       "      <td>719</td>\n",
       "      <td>111</td>\n",
       "    </tr>\n",
       "    <tr>\n",
       "      <th>1.0</th>\n",
       "      <td>126</td>\n",
       "      <td>44</td>\n",
       "      <td>121</td>\n",
       "      <td>49</td>\n",
       "      <td>155</td>\n",
       "      <td>15</td>\n",
       "      <td>148</td>\n",
       "      <td>22</td>\n",
       "      <td>158</td>\n",
       "      <td>12</td>\n",
       "    </tr>\n",
       "    <tr>\n",
       "      <th rowspan=\"2\" valign=\"top\">Hillary_Clinton_lied_to_the_families_of_Americans_killed_in_Benghazi</th>\n",
       "      <th>0.0</th>\n",
       "      <td>748</td>\n",
       "      <td>122</td>\n",
       "      <td>685</td>\n",
       "      <td>185</td>\n",
       "      <td>713</td>\n",
       "      <td>157</td>\n",
       "      <td>752</td>\n",
       "      <td>118</td>\n",
       "      <td>777</td>\n",
       "      <td>93</td>\n",
       "    </tr>\n",
       "    <tr>\n",
       "      <th>1.0</th>\n",
       "      <td>98</td>\n",
       "      <td>32</td>\n",
       "      <td>119</td>\n",
       "      <td>11</td>\n",
       "      <td>103</td>\n",
       "      <td>27</td>\n",
       "      <td>115</td>\n",
       "      <td>15</td>\n",
       "      <td>100</td>\n",
       "      <td>30</td>\n",
       "    </tr>\n",
       "    <tr>\n",
       "      <th rowspan=\"2\" valign=\"top\">Trump_changes_his_positions_all_of_the_time</th>\n",
       "      <th>0.0</th>\n",
       "      <td>721</td>\n",
       "      <td>139</td>\n",
       "      <td>703</td>\n",
       "      <td>157</td>\n",
       "      <td>702</td>\n",
       "      <td>158</td>\n",
       "      <td>750</td>\n",
       "      <td>110</td>\n",
       "      <td>747</td>\n",
       "      <td>113</td>\n",
       "    </tr>\n",
       "    <tr>\n",
       "      <th>1.0</th>\n",
       "      <td>125</td>\n",
       "      <td>15</td>\n",
       "      <td>101</td>\n",
       "      <td>39</td>\n",
       "      <td>114</td>\n",
       "      <td>26</td>\n",
       "      <td>117</td>\n",
       "      <td>23</td>\n",
       "      <td>130</td>\n",
       "      <td>10</td>\n",
       "    </tr>\n",
       "    <tr>\n",
       "      <th rowspan=\"2\" valign=\"top\">Trump_is_a_successful_businessman</th>\n",
       "      <th>0.0</th>\n",
       "      <td>753</td>\n",
       "      <td>123</td>\n",
       "      <td>715</td>\n",
       "      <td>161</td>\n",
       "      <td>709</td>\n",
       "      <td>167</td>\n",
       "      <td>759</td>\n",
       "      <td>117</td>\n",
       "      <td>761</td>\n",
       "      <td>115</td>\n",
       "    </tr>\n",
       "    <tr>\n",
       "      <th>1.0</th>\n",
       "      <td>93</td>\n",
       "      <td>31</td>\n",
       "      <td>89</td>\n",
       "      <td>35</td>\n",
       "      <td>107</td>\n",
       "      <td>17</td>\n",
       "      <td>108</td>\n",
       "      <td>16</td>\n",
       "      <td>116</td>\n",
       "      <td>8</td>\n",
       "    </tr>\n",
       "    <tr>\n",
       "      <th rowspan=\"2\" valign=\"top\">Trumps_temper_could_get_the_country_into_trouble</th>\n",
       "      <th>0.0</th>\n",
       "      <td>763</td>\n",
       "      <td>118</td>\n",
       "      <td>692</td>\n",
       "      <td>189</td>\n",
       "      <td>715</td>\n",
       "      <td>166</td>\n",
       "      <td>774</td>\n",
       "      <td>107</td>\n",
       "      <td>771</td>\n",
       "      <td>110</td>\n",
       "    </tr>\n",
       "    <tr>\n",
       "      <th>1.0</th>\n",
       "      <td>83</td>\n",
       "      <td>36</td>\n",
       "      <td>112</td>\n",
       "      <td>7</td>\n",
       "      <td>101</td>\n",
       "      <td>18</td>\n",
       "      <td>93</td>\n",
       "      <td>26</td>\n",
       "      <td>106</td>\n",
       "      <td>13</td>\n",
       "    </tr>\n",
       "  </tbody>\n",
       "</table>\n",
       "</div>"
      ],
      "text/plain": [
       "column_levels                                                Dont_like__any_candidate  \\\n",
       "selected?                                                                         0.0   \n",
       "row_levels                                         selected?                            \n",
       "Hillary_Clinton_is_involved_in_many_coverups       0.0                            720   \n",
       "                                                   1.0                            126   \n",
       "Hillary_Clinton_lied_to_the_families_of_America... 0.0                            748   \n",
       "                                                   1.0                             98   \n",
       "Trump_changes_his_positions_all_of_the_time        0.0                            721   \n",
       "                                                   1.0                            125   \n",
       "Trump_is_a_successful_businessman                  0.0                            753   \n",
       "                                                   1.0                             93   \n",
       "Trumps_temper_could_get_the_country_into_trouble   0.0                            763   \n",
       "                                                   1.0                             83   \n",
       "\n",
       "column_levels                                                      \\\n",
       "selected?                                                     1.0   \n",
       "row_levels                                         selected?        \n",
       "Hillary_Clinton_is_involved_in_many_coverups       0.0        110   \n",
       "                                                   1.0         44   \n",
       "Hillary_Clinton_lied_to_the_families_of_America... 0.0        122   \n",
       "                                                   1.0         32   \n",
       "Trump_changes_his_positions_all_of_the_time        0.0        139   \n",
       "                                                   1.0         15   \n",
       "Trump_is_a_successful_businessman                  0.0        123   \n",
       "                                                   1.0         31   \n",
       "Trumps_temper_could_get_the_country_into_trouble   0.0        118   \n",
       "                                                   1.0         36   \n",
       "\n",
       "column_levels                                                I_wish_another_candidate_had_won_the_primary  \\\n",
       "selected?                                                                                             0.0   \n",
       "row_levels                                         selected?                                                \n",
       "Hillary_Clinton_is_involved_in_many_coverups       0.0                                                683   \n",
       "                                                   1.0                                                121   \n",
       "Hillary_Clinton_lied_to_the_families_of_America... 0.0                                                685   \n",
       "                                                   1.0                                                119   \n",
       "Trump_changes_his_positions_all_of_the_time        0.0                                                703   \n",
       "                                                   1.0                                                101   \n",
       "Trump_is_a_successful_businessman                  0.0                                                715   \n",
       "                                                   1.0                                                 89   \n",
       "Trumps_temper_could_get_the_country_into_trouble   0.0                                                692   \n",
       "                                                   1.0                                                112   \n",
       "\n",
       "column_levels                                                      \\\n",
       "selected?                                                     1.0   \n",
       "row_levels                                         selected?        \n",
       "Hillary_Clinton_is_involved_in_many_coverups       0.0        147   \n",
       "                                                   1.0         49   \n",
       "Hillary_Clinton_lied_to_the_families_of_America... 0.0        185   \n",
       "                                                   1.0         11   \n",
       "Trump_changes_his_positions_all_of_the_time        0.0        157   \n",
       "                                                   1.0         39   \n",
       "Trump_is_a_successful_businessman                  0.0        161   \n",
       "                                                   1.0         35   \n",
       "Trumps_temper_could_get_the_country_into_trouble   0.0        189   \n",
       "                                                   1.0          7   \n",
       "\n",
       "column_levels                                                Need_to_do_more_research  \\\n",
       "selected?                                                                         0.0   \n",
       "row_levels                                         selected?                            \n",
       "Hillary_Clinton_is_involved_in_many_coverups       0.0                            661   \n",
       "                                                   1.0                            155   \n",
       "Hillary_Clinton_lied_to_the_families_of_America... 0.0                            713   \n",
       "                                                   1.0                            103   \n",
       "Trump_changes_his_positions_all_of_the_time        0.0                            702   \n",
       "                                                   1.0                            114   \n",
       "Trump_is_a_successful_businessman                  0.0                            709   \n",
       "                                                   1.0                            107   \n",
       "Trumps_temper_could_get_the_country_into_trouble   0.0                            715   \n",
       "                                                   1.0                            101   \n",
       "\n",
       "column_levels                                                      \\\n",
       "selected?                                                     1.0   \n",
       "row_levels                                         selected?        \n",
       "Hillary_Clinton_is_involved_in_many_coverups       0.0        169   \n",
       "                                                   1.0         15   \n",
       "Hillary_Clinton_lied_to_the_families_of_America... 0.0        157   \n",
       "                                                   1.0         27   \n",
       "Trump_changes_his_positions_all_of_the_time        0.0        158   \n",
       "                                                   1.0         26   \n",
       "Trump_is_a_successful_businessman                  0.0        167   \n",
       "                                                   1.0         17   \n",
       "Trumps_temper_could_get_the_country_into_trouble   0.0        166   \n",
       "                                                   1.0         18   \n",
       "\n",
       "column_levels                                                Not_sure_which_candidate_shares_my_values  \\\n",
       "selected?                                                                                          0.0   \n",
       "row_levels                                         selected?                                             \n",
       "Hillary_Clinton_is_involved_in_many_coverups       0.0                                             719   \n",
       "                                                   1.0                                             148   \n",
       "Hillary_Clinton_lied_to_the_families_of_America... 0.0                                             752   \n",
       "                                                   1.0                                             115   \n",
       "Trump_changes_his_positions_all_of_the_time        0.0                                             750   \n",
       "                                                   1.0                                             117   \n",
       "Trump_is_a_successful_businessman                  0.0                                             759   \n",
       "                                                   1.0                                             108   \n",
       "Trumps_temper_could_get_the_country_into_trouble   0.0                                             774   \n",
       "                                                   1.0                                              93   \n",
       "\n",
       "column_levels                                                      \\\n",
       "selected?                                                     1.0   \n",
       "row_levels                                         selected?        \n",
       "Hillary_Clinton_is_involved_in_many_coverups       0.0        111   \n",
       "                                                   1.0         22   \n",
       "Hillary_Clinton_lied_to_the_families_of_America... 0.0        118   \n",
       "                                                   1.0         15   \n",
       "Trump_changes_his_positions_all_of_the_time        0.0        110   \n",
       "                                                   1.0         23   \n",
       "Trump_is_a_successful_businessman                  0.0        117   \n",
       "                                                   1.0         16   \n",
       "Trumps_temper_could_get_the_country_into_trouble   0.0        107   \n",
       "                                                   1.0         26   \n",
       "\n",
       "column_levels                                                Waiting_for_debates  \\\n",
       "selected?                                                                    0.0   \n",
       "row_levels                                         selected?                       \n",
       "Hillary_Clinton_is_involved_in_many_coverups       0.0                       719   \n",
       "                                                   1.0                       158   \n",
       "Hillary_Clinton_lied_to_the_families_of_America... 0.0                       777   \n",
       "                                                   1.0                       100   \n",
       "Trump_changes_his_positions_all_of_the_time        0.0                       747   \n",
       "                                                   1.0                       130   \n",
       "Trump_is_a_successful_businessman                  0.0                       761   \n",
       "                                                   1.0                       116   \n",
       "Trumps_temper_could_get_the_country_into_trouble   0.0                       771   \n",
       "                                                   1.0                       106   \n",
       "\n",
       "column_levels                                                      \n",
       "selected?                                                     1.0  \n",
       "row_levels                                         selected?       \n",
       "Hillary_Clinton_is_involved_in_many_coverups       0.0        111  \n",
       "                                                   1.0         12  \n",
       "Hillary_Clinton_lied_to_the_families_of_America... 0.0         93  \n",
       "                                                   1.0         30  \n",
       "Trump_changes_his_positions_all_of_the_time        0.0        113  \n",
       "                                                   1.0         10  \n",
       "Trump_is_a_successful_businessman                  0.0        115  \n",
       "                                                   1.0          8  \n",
       "Trumps_temper_could_get_the_country_into_trouble   0.0        110  \n",
       "                                                   1.0         13  "
      ]
     },
     "execution_count": 25,
     "metadata": {},
     "output_type": "execute_result"
    }
   ],
   "source": [
    "rows_factor = Factor(data.data.iloc[:, 6:11], data.data.columns[6:11], \"believe_true\", orientation=\"wide\")\n",
    "columns_factor = Factor(data.data.iloc[:, 11:], data.data.columns[11:], \"why_uncertain\", orientation=\"wide\")\n"
   ]
  },
  {
   "cell_type": "code",
   "execution_count": 26,
   "metadata": {
    "collapsed": false
   },
   "outputs": [
    {
     "data": {
      "text/html": [
       "<div>\n",
       "<table border=\"1\" class=\"dataframe\">\n",
       "  <thead>\n",
       "    <tr>\n",
       "      <th></th>\n",
       "      <th>column_levels</th>\n",
       "      <th colspan=\"2\" halign=\"left\">Dont_like__any_candidate</th>\n",
       "      <th colspan=\"2\" halign=\"left\">I_wish_another_candidate_had_won_the_primary</th>\n",
       "      <th colspan=\"2\" halign=\"left\">Need_to_do_more_research</th>\n",
       "      <th colspan=\"2\" halign=\"left\">Not_sure_which_candidate_shares_my_values</th>\n",
       "      <th colspan=\"2\" halign=\"left\">Waiting_for_debates</th>\n",
       "    </tr>\n",
       "    <tr>\n",
       "      <th></th>\n",
       "      <th>selected?</th>\n",
       "      <th>0.0</th>\n",
       "      <th>1.0</th>\n",
       "      <th>0.0</th>\n",
       "      <th>1.0</th>\n",
       "      <th>0.0</th>\n",
       "      <th>1.0</th>\n",
       "      <th>0.0</th>\n",
       "      <th>1.0</th>\n",
       "      <th>0.0</th>\n",
       "      <th>1.0</th>\n",
       "    </tr>\n",
       "    <tr>\n",
       "      <th>row_levels</th>\n",
       "      <th>selected?</th>\n",
       "      <th></th>\n",
       "      <th></th>\n",
       "      <th></th>\n",
       "      <th></th>\n",
       "      <th></th>\n",
       "      <th></th>\n",
       "      <th></th>\n",
       "      <th></th>\n",
       "      <th></th>\n",
       "      <th></th>\n",
       "    </tr>\n",
       "  </thead>\n",
       "  <tbody>\n",
       "    <tr>\n",
       "      <th rowspan=\"2\" valign=\"top\">Hillary_Clinton_is_involved_in_many_coverups</th>\n",
       "      <th>0.0</th>\n",
       "      <td>720</td>\n",
       "      <td>110</td>\n",
       "      <td>683</td>\n",
       "      <td>147</td>\n",
       "      <td>661</td>\n",
       "      <td>169</td>\n",
       "      <td>719</td>\n",
       "      <td>111</td>\n",
       "      <td>719</td>\n",
       "      <td>111</td>\n",
       "    </tr>\n",
       "    <tr>\n",
       "      <th>1.0</th>\n",
       "      <td>126</td>\n",
       "      <td>44</td>\n",
       "      <td>121</td>\n",
       "      <td>49</td>\n",
       "      <td>155</td>\n",
       "      <td>15</td>\n",
       "      <td>148</td>\n",
       "      <td>22</td>\n",
       "      <td>158</td>\n",
       "      <td>12</td>\n",
       "    </tr>\n",
       "    <tr>\n",
       "      <th rowspan=\"2\" valign=\"top\">Hillary_Clinton_lied_to_the_families_of_Americans_killed_in_Benghazi</th>\n",
       "      <th>0.0</th>\n",
       "      <td>748</td>\n",
       "      <td>122</td>\n",
       "      <td>685</td>\n",
       "      <td>185</td>\n",
       "      <td>713</td>\n",
       "      <td>157</td>\n",
       "      <td>752</td>\n",
       "      <td>118</td>\n",
       "      <td>777</td>\n",
       "      <td>93</td>\n",
       "    </tr>\n",
       "    <tr>\n",
       "      <th>1.0</th>\n",
       "      <td>98</td>\n",
       "      <td>32</td>\n",
       "      <td>119</td>\n",
       "      <td>11</td>\n",
       "      <td>103</td>\n",
       "      <td>27</td>\n",
       "      <td>115</td>\n",
       "      <td>15</td>\n",
       "      <td>100</td>\n",
       "      <td>30</td>\n",
       "    </tr>\n",
       "    <tr>\n",
       "      <th rowspan=\"2\" valign=\"top\">Trump_changes_his_positions_all_of_the_time</th>\n",
       "      <th>0.0</th>\n",
       "      <td>721</td>\n",
       "      <td>139</td>\n",
       "      <td>703</td>\n",
       "      <td>157</td>\n",
       "      <td>702</td>\n",
       "      <td>158</td>\n",
       "      <td>750</td>\n",
       "      <td>110</td>\n",
       "      <td>747</td>\n",
       "      <td>113</td>\n",
       "    </tr>\n",
       "    <tr>\n",
       "      <th>1.0</th>\n",
       "      <td>125</td>\n",
       "      <td>15</td>\n",
       "      <td>101</td>\n",
       "      <td>39</td>\n",
       "      <td>114</td>\n",
       "      <td>26</td>\n",
       "      <td>117</td>\n",
       "      <td>23</td>\n",
       "      <td>130</td>\n",
       "      <td>10</td>\n",
       "    </tr>\n",
       "    <tr>\n",
       "      <th rowspan=\"2\" valign=\"top\">Trump_is_a_successful_businessman</th>\n",
       "      <th>0.0</th>\n",
       "      <td>753</td>\n",
       "      <td>123</td>\n",
       "      <td>715</td>\n",
       "      <td>161</td>\n",
       "      <td>709</td>\n",
       "      <td>167</td>\n",
       "      <td>759</td>\n",
       "      <td>117</td>\n",
       "      <td>761</td>\n",
       "      <td>115</td>\n",
       "    </tr>\n",
       "    <tr>\n",
       "      <th>1.0</th>\n",
       "      <td>93</td>\n",
       "      <td>31</td>\n",
       "      <td>89</td>\n",
       "      <td>35</td>\n",
       "      <td>107</td>\n",
       "      <td>17</td>\n",
       "      <td>108</td>\n",
       "      <td>16</td>\n",
       "      <td>116</td>\n",
       "      <td>8</td>\n",
       "    </tr>\n",
       "    <tr>\n",
       "      <th rowspan=\"2\" valign=\"top\">Trumps_temper_could_get_the_country_into_trouble</th>\n",
       "      <th>0.0</th>\n",
       "      <td>763</td>\n",
       "      <td>118</td>\n",
       "      <td>692</td>\n",
       "      <td>189</td>\n",
       "      <td>715</td>\n",
       "      <td>166</td>\n",
       "      <td>774</td>\n",
       "      <td>107</td>\n",
       "      <td>771</td>\n",
       "      <td>110</td>\n",
       "    </tr>\n",
       "    <tr>\n",
       "      <th>1.0</th>\n",
       "      <td>83</td>\n",
       "      <td>36</td>\n",
       "      <td>112</td>\n",
       "      <td>7</td>\n",
       "      <td>101</td>\n",
       "      <td>18</td>\n",
       "      <td>93</td>\n",
       "      <td>26</td>\n",
       "      <td>106</td>\n",
       "      <td>13</td>\n",
       "    </tr>\n",
       "  </tbody>\n",
       "</table>\n",
       "</div>"
      ],
      "text/plain": [
       "column_levels                                                Dont_like__any_candidate  \\\n",
       "selected?                                                                         0.0   \n",
       "row_levels                                         selected?                            \n",
       "Hillary_Clinton_is_involved_in_many_coverups       0.0                            720   \n",
       "                                                   1.0                            126   \n",
       "Hillary_Clinton_lied_to_the_families_of_America... 0.0                            748   \n",
       "                                                   1.0                             98   \n",
       "Trump_changes_his_positions_all_of_the_time        0.0                            721   \n",
       "                                                   1.0                            125   \n",
       "Trump_is_a_successful_businessman                  0.0                            753   \n",
       "                                                   1.0                             93   \n",
       "Trumps_temper_could_get_the_country_into_trouble   0.0                            763   \n",
       "                                                   1.0                             83   \n",
       "\n",
       "column_levels                                                      \\\n",
       "selected?                                                     1.0   \n",
       "row_levels                                         selected?        \n",
       "Hillary_Clinton_is_involved_in_many_coverups       0.0        110   \n",
       "                                                   1.0         44   \n",
       "Hillary_Clinton_lied_to_the_families_of_America... 0.0        122   \n",
       "                                                   1.0         32   \n",
       "Trump_changes_his_positions_all_of_the_time        0.0        139   \n",
       "                                                   1.0         15   \n",
       "Trump_is_a_successful_businessman                  0.0        123   \n",
       "                                                   1.0         31   \n",
       "Trumps_temper_could_get_the_country_into_trouble   0.0        118   \n",
       "                                                   1.0         36   \n",
       "\n",
       "column_levels                                                I_wish_another_candidate_had_won_the_primary  \\\n",
       "selected?                                                                                             0.0   \n",
       "row_levels                                         selected?                                                \n",
       "Hillary_Clinton_is_involved_in_many_coverups       0.0                                                683   \n",
       "                                                   1.0                                                121   \n",
       "Hillary_Clinton_lied_to_the_families_of_America... 0.0                                                685   \n",
       "                                                   1.0                                                119   \n",
       "Trump_changes_his_positions_all_of_the_time        0.0                                                703   \n",
       "                                                   1.0                                                101   \n",
       "Trump_is_a_successful_businessman                  0.0                                                715   \n",
       "                                                   1.0                                                 89   \n",
       "Trumps_temper_could_get_the_country_into_trouble   0.0                                                692   \n",
       "                                                   1.0                                                112   \n",
       "\n",
       "column_levels                                                      \\\n",
       "selected?                                                     1.0   \n",
       "row_levels                                         selected?        \n",
       "Hillary_Clinton_is_involved_in_many_coverups       0.0        147   \n",
       "                                                   1.0         49   \n",
       "Hillary_Clinton_lied_to_the_families_of_America... 0.0        185   \n",
       "                                                   1.0         11   \n",
       "Trump_changes_his_positions_all_of_the_time        0.0        157   \n",
       "                                                   1.0         39   \n",
       "Trump_is_a_successful_businessman                  0.0        161   \n",
       "                                                   1.0         35   \n",
       "Trumps_temper_could_get_the_country_into_trouble   0.0        189   \n",
       "                                                   1.0          7   \n",
       "\n",
       "column_levels                                                Need_to_do_more_research  \\\n",
       "selected?                                                                         0.0   \n",
       "row_levels                                         selected?                            \n",
       "Hillary_Clinton_is_involved_in_many_coverups       0.0                            661   \n",
       "                                                   1.0                            155   \n",
       "Hillary_Clinton_lied_to_the_families_of_America... 0.0                            713   \n",
       "                                                   1.0                            103   \n",
       "Trump_changes_his_positions_all_of_the_time        0.0                            702   \n",
       "                                                   1.0                            114   \n",
       "Trump_is_a_successful_businessman                  0.0                            709   \n",
       "                                                   1.0                            107   \n",
       "Trumps_temper_could_get_the_country_into_trouble   0.0                            715   \n",
       "                                                   1.0                            101   \n",
       "\n",
       "column_levels                                                      \\\n",
       "selected?                                                     1.0   \n",
       "row_levels                                         selected?        \n",
       "Hillary_Clinton_is_involved_in_many_coverups       0.0        169   \n",
       "                                                   1.0         15   \n",
       "Hillary_Clinton_lied_to_the_families_of_America... 0.0        157   \n",
       "                                                   1.0         27   \n",
       "Trump_changes_his_positions_all_of_the_time        0.0        158   \n",
       "                                                   1.0         26   \n",
       "Trump_is_a_successful_businessman                  0.0        167   \n",
       "                                                   1.0         17   \n",
       "Trumps_temper_could_get_the_country_into_trouble   0.0        166   \n",
       "                                                   1.0         18   \n",
       "\n",
       "column_levels                                                Not_sure_which_candidate_shares_my_values  \\\n",
       "selected?                                                                                          0.0   \n",
       "row_levels                                         selected?                                             \n",
       "Hillary_Clinton_is_involved_in_many_coverups       0.0                                             719   \n",
       "                                                   1.0                                             148   \n",
       "Hillary_Clinton_lied_to_the_families_of_America... 0.0                                             752   \n",
       "                                                   1.0                                             115   \n",
       "Trump_changes_his_positions_all_of_the_time        0.0                                             750   \n",
       "                                                   1.0                                             117   \n",
       "Trump_is_a_successful_businessman                  0.0                                             759   \n",
       "                                                   1.0                                             108   \n",
       "Trumps_temper_could_get_the_country_into_trouble   0.0                                             774   \n",
       "                                                   1.0                                              93   \n",
       "\n",
       "column_levels                                                      \\\n",
       "selected?                                                     1.0   \n",
       "row_levels                                         selected?        \n",
       "Hillary_Clinton_is_involved_in_many_coverups       0.0        111   \n",
       "                                                   1.0         22   \n",
       "Hillary_Clinton_lied_to_the_families_of_America... 0.0        118   \n",
       "                                                   1.0         15   \n",
       "Trump_changes_his_positions_all_of_the_time        0.0        110   \n",
       "                                                   1.0         23   \n",
       "Trump_is_a_successful_businessman                  0.0        117   \n",
       "                                                   1.0         16   \n",
       "Trumps_temper_could_get_the_country_into_trouble   0.0        107   \n",
       "                                                   1.0         26   \n",
       "\n",
       "column_levels                                                Waiting_for_debates  \\\n",
       "selected?                                                                    0.0   \n",
       "row_levels                                         selected?                       \n",
       "Hillary_Clinton_is_involved_in_many_coverups       0.0                       719   \n",
       "                                                   1.0                       158   \n",
       "Hillary_Clinton_lied_to_the_families_of_America... 0.0                       777   \n",
       "                                                   1.0                       100   \n",
       "Trump_changes_his_positions_all_of_the_time        0.0                       747   \n",
       "                                                   1.0                       130   \n",
       "Trump_is_a_successful_businessman                  0.0                       761   \n",
       "                                                   1.0                       116   \n",
       "Trumps_temper_could_get_the_country_into_trouble   0.0                       771   \n",
       "                                                   1.0                       106   \n",
       "\n",
       "column_levels                                                      \n",
       "selected?                                                     1.0  \n",
       "row_levels                                         selected?       \n",
       "Hillary_Clinton_is_involved_in_many_coverups       0.0        111  \n",
       "                                                   1.0         12  \n",
       "Hillary_Clinton_lied_to_the_families_of_America... 0.0         93  \n",
       "                                                   1.0         30  \n",
       "Trump_changes_his_positions_all_of_the_time        0.0        113  \n",
       "                                                   1.0         10  \n",
       "Trump_is_a_successful_businessman                  0.0        115  \n",
       "                                                   1.0          8  \n",
       "Trumps_temper_could_get_the_country_into_trouble   0.0        110  \n",
       "                                                   1.0         13  "
      ]
     },
     "execution_count": 26,
     "metadata": {},
     "output_type": "execute_result"
    }
   ],
   "source": [
    "multiple_response_table._build_item_response_table_for_SPMI(rows_factor, columns_factor)"
   ]
  },
  {
   "cell_type": "markdown",
   "metadata": {},
   "source": [
    "Now as before we can calculate a chi-squared statistic for each individual pairing of column level and row level:\n"
   ]
  },
  {
   "cell_type": "code",
   "execution_count": 61,
   "metadata": {
    "collapsed": false
   },
   "outputs": [
    {
     "data": {
      "text/html": [
       "<div>\n",
       "<table border=\"1\" class=\"dataframe\">\n",
       "  <thead>\n",
       "    <tr style=\"text-align: right;\">\n",
       "      <th></th>\n",
       "      <th>I_wish_another_candidate_had_won_the_primary</th>\n",
       "      <th>Need_to_do_more_research</th>\n",
       "      <th>Dont_like__any_candidate</th>\n",
       "      <th>Not_sure_which_candidate_shares_my_values</th>\n",
       "      <th>Waiting_for_debates</th>\n",
       "    </tr>\n",
       "  </thead>\n",
       "  <tbody>\n",
       "    <tr>\n",
       "      <th>Hillary_Clinton_is_involved_in_many_coverups</th>\n",
       "      <td>17.2742</td>\n",
       "      <td>11.0574</td>\n",
       "      <td>12.5105</td>\n",
       "      <td>0.0228698</td>\n",
       "      <td>5.21583</td>\n",
       "    </tr>\n",
       "    <tr>\n",
       "      <th>Trump_changes_his_positions_all_of_the_time</th>\n",
       "      <td>9.74002</td>\n",
       "      <td>11.7642</td>\n",
       "      <td>0.558638</td>\n",
       "      <td>0.402103</td>\n",
       "      <td>16.0883</td>\n",
       "    </tr>\n",
       "    <tr>\n",
       "      <th>Hillary_Clinton_lied_to_the_families_of_Americans_killed_in_Benghazi</th>\n",
       "      <td>2.74341</td>\n",
       "      <td>7.04331</td>\n",
       "      <td>0.00318631</td>\n",
       "      <td>1.38182</td>\n",
       "      <td>4.01368</td>\n",
       "    </tr>\n",
       "    <tr>\n",
       "      <th>Trump_is_a_successful_businessman</th>\n",
       "      <td>10.0131</td>\n",
       "      <td>6.68351</td>\n",
       "      <td>2.07403</td>\n",
       "      <td>0.0193256</td>\n",
       "      <td>4.48833</td>\n",
       "    </tr>\n",
       "    <tr>\n",
       "      <th>Trumps_temper_could_get_the_country_into_trouble</th>\n",
       "      <td>22.8695</td>\n",
       "      <td>16.1294</td>\n",
       "      <td>0.964289</td>\n",
       "      <td>8.56061</td>\n",
       "      <td>0.236957</td>\n",
       "    </tr>\n",
       "  </tbody>\n",
       "</table>\n",
       "</div>"
      ],
      "text/plain": [
       "                                                   I_wish_another_candidate_had_won_the_primary  \\\n",
       "Hillary_Clinton_is_involved_in_many_coverups                                            17.2742   \n",
       "Trump_changes_his_positions_all_of_the_time                                             9.74002   \n",
       "Hillary_Clinton_lied_to_the_families_of_America...                                      2.74341   \n",
       "Trump_is_a_successful_businessman                                                       10.0131   \n",
       "Trumps_temper_could_get_the_country_into_trouble                                        22.8695   \n",
       "\n",
       "                                                   Need_to_do_more_research  \\\n",
       "Hillary_Clinton_is_involved_in_many_coverups                        11.0574   \n",
       "Trump_changes_his_positions_all_of_the_time                         11.7642   \n",
       "Hillary_Clinton_lied_to_the_families_of_America...                  7.04331   \n",
       "Trump_is_a_successful_businessman                                   6.68351   \n",
       "Trumps_temper_could_get_the_country_into_trouble                    16.1294   \n",
       "\n",
       "                                                   Dont_like__any_candidate  \\\n",
       "Hillary_Clinton_is_involved_in_many_coverups                        12.5105   \n",
       "Trump_changes_his_positions_all_of_the_time                        0.558638   \n",
       "Hillary_Clinton_lied_to_the_families_of_America...               0.00318631   \n",
       "Trump_is_a_successful_businessman                                   2.07403   \n",
       "Trumps_temper_could_get_the_country_into_trouble                   0.964289   \n",
       "\n",
       "                                                   Not_sure_which_candidate_shares_my_values  \\\n",
       "Hillary_Clinton_is_involved_in_many_coverups                                       0.0228698   \n",
       "Trump_changes_his_positions_all_of_the_time                                         0.402103   \n",
       "Hillary_Clinton_lied_to_the_families_of_America...                                   1.38182   \n",
       "Trump_is_a_successful_businessman                                                  0.0193256   \n",
       "Trumps_temper_could_get_the_country_into_trouble                                     8.56061   \n",
       "\n",
       "                                                   Waiting_for_debates  \n",
       "Hillary_Clinton_is_involved_in_many_coverups                   5.21583  \n",
       "Trump_changes_his_positions_all_of_the_time                    16.0883  \n",
       "Hillary_Clinton_lied_to_the_families_of_America...             4.01368  \n",
       "Trump_is_a_successful_businessman                              4.48833  \n",
       "Trumps_temper_could_get_the_country_into_trouble              0.236957  "
      ]
     },
     "execution_count": 61,
     "metadata": {},
     "output_type": "execute_result"
    }
   ],
   "source": [
    "multiple_response_table._calculate_pairwise_chi2s_for_SPMI_item_response_table(rows_factor, columns_factor)"
   ]
  },
  {
   "cell_type": "markdown",
   "metadata": {},
   "source": [
    "Now we have to determine how likely it is to get chi-squared statistics this large in each of those cells of the same time. Once again the simplest way to do that is to apply a bonferroni correction, i.e. calculate a p value for each cell using a chi-square distribution and multiply the p value by the total number of cells. "
   ]
  },
  {
   "cell_type": "code",
   "execution_count": 62,
   "metadata": {
    "collapsed": false
   },
   "outputs": [
    {
     "name": "stdout",
     "output_type": "stream",
     "text": [
      "Overall table p value: 4.3346430242129665e-05\n",
      "\n",
      "\n",
      "Pairwise p values (likelihood of independence between single select variable and specific multi-select option):\n"
     ]
    },
    {
     "data": {
      "text/html": [
       "<div>\n",
       "<table border=\"1\" class=\"dataframe\">\n",
       "  <thead>\n",
       "    <tr style=\"text-align: right;\">\n",
       "      <th></th>\n",
       "      <th>I_wish_another_candidate_had_won_the_primary</th>\n",
       "      <th>Need_to_do_more_research</th>\n",
       "      <th>Dont_like__any_candidate</th>\n",
       "      <th>Not_sure_which_candidate_shares_my_values</th>\n",
       "      <th>Waiting_for_debates</th>\n",
       "    </tr>\n",
       "  </thead>\n",
       "  <tbody>\n",
       "    <tr>\n",
       "      <th>Hillary_Clinton_is_involved_in_many_coverups</th>\n",
       "      <td>0.000809</td>\n",
       "      <td>0.022083</td>\n",
       "      <td>0.010117</td>\n",
       "      <td>1.000000</td>\n",
       "      <td>0.559553</td>\n",
       "    </tr>\n",
       "    <tr>\n",
       "      <th>Trump_changes_his_positions_all_of_the_time</th>\n",
       "      <td>0.045075</td>\n",
       "      <td>0.015095</td>\n",
       "      <td>1.000000</td>\n",
       "      <td>1.000000</td>\n",
       "      <td>0.001511</td>\n",
       "    </tr>\n",
       "    <tr>\n",
       "      <th>Hillary_Clinton_lied_to_the_families_of_Americans_killed_in_Benghazi</th>\n",
       "      <td>1.000000</td>\n",
       "      <td>0.198904</td>\n",
       "      <td>1.000000</td>\n",
       "      <td>1.000000</td>\n",
       "      <td>1.000000</td>\n",
       "    </tr>\n",
       "    <tr>\n",
       "      <th>Trump_is_a_successful_businessman</th>\n",
       "      <td>0.038857</td>\n",
       "      <td>0.243271</td>\n",
       "      <td>1.000000</td>\n",
       "      <td>1.000000</td>\n",
       "      <td>0.853173</td>\n",
       "    </tr>\n",
       "    <tr>\n",
       "      <th>Trumps_temper_could_get_the_country_into_trouble</th>\n",
       "      <td>0.000043</td>\n",
       "      <td>0.001479</td>\n",
       "      <td>1.000000</td>\n",
       "      <td>0.085879</td>\n",
       "      <td>1.000000</td>\n",
       "    </tr>\n",
       "  </tbody>\n",
       "</table>\n",
       "</div>"
      ],
      "text/plain": [
       "                                                    I_wish_another_candidate_had_won_the_primary  \\\n",
       "Hillary_Clinton_is_involved_in_many_coverups                                            0.000809   \n",
       "Trump_changes_his_positions_all_of_the_time                                             0.045075   \n",
       "Hillary_Clinton_lied_to_the_families_of_America...                                      1.000000   \n",
       "Trump_is_a_successful_businessman                                                       0.038857   \n",
       "Trumps_temper_could_get_the_country_into_trouble                                        0.000043   \n",
       "\n",
       "                                                    Need_to_do_more_research  \\\n",
       "Hillary_Clinton_is_involved_in_many_coverups                        0.022083   \n",
       "Trump_changes_his_positions_all_of_the_time                         0.015095   \n",
       "Hillary_Clinton_lied_to_the_families_of_America...                  0.198904   \n",
       "Trump_is_a_successful_businessman                                   0.243271   \n",
       "Trumps_temper_could_get_the_country_into_trouble                    0.001479   \n",
       "\n",
       "                                                    Dont_like__any_candidate  \\\n",
       "Hillary_Clinton_is_involved_in_many_coverups                        0.010117   \n",
       "Trump_changes_his_positions_all_of_the_time                         1.000000   \n",
       "Hillary_Clinton_lied_to_the_families_of_America...                  1.000000   \n",
       "Trump_is_a_successful_businessman                                   1.000000   \n",
       "Trumps_temper_could_get_the_country_into_trouble                    1.000000   \n",
       "\n",
       "                                                    Not_sure_which_candidate_shares_my_values  \\\n",
       "Hillary_Clinton_is_involved_in_many_coverups                                         1.000000   \n",
       "Trump_changes_his_positions_all_of_the_time                                          1.000000   \n",
       "Hillary_Clinton_lied_to_the_families_of_America...                                   1.000000   \n",
       "Trump_is_a_successful_businessman                                                    1.000000   \n",
       "Trumps_temper_could_get_the_country_into_trouble                                     0.085879   \n",
       "\n",
       "                                                    Waiting_for_debates  \n",
       "Hillary_Clinton_is_involved_in_many_coverups                   0.559553  \n",
       "Trump_changes_his_positions_all_of_the_time                    0.001511  \n",
       "Hillary_Clinton_lied_to_the_families_of_America...             1.000000  \n",
       "Trump_is_a_successful_businessman                              0.853173  \n",
       "Trumps_temper_could_get_the_country_into_trouble               1.000000  "
      ]
     },
     "execution_count": 62,
     "metadata": {},
     "output_type": "execute_result"
    }
   ],
   "source": [
    "bonferroni_test = multiple_response_table._test_for_single_pairwise_mutual_independence_using_bonferroni\n",
    "results = bonferroni_test(rows_factor, columns_factor)\n",
    "table_p_value_bonferroni_corrected, pairwise_bonferroni_corrected_p_values = results\n",
    "print(\"Overall table p value: {}\\n\\n\".format(table_p_value_bonferroni_corrected))\n",
    "print(\"Pairwise p values (likelihood of independence between single select variable and specific multi-select option):\")\n",
    "pairwise_bonferroni_corrected_p_values"
   ]
  },
  {
   "cell_type": "markdown",
   "metadata": {},
   "source": [
    "Let's compare this result versus the p value we would get by applying a traditional chi-squared test:"
   ]
  },
  {
   "cell_type": "code",
   "execution_count": 65,
   "metadata": {
    "collapsed": false
   },
   "outputs": [
    {
     "name": "stdout",
     "output_type": "stream",
     "text": [
      "Naive chi-squared p value: 1.7079214808649325e-09\n",
      "The naive chi-squared method overstates our confidence by a factor of 25379.63877600391\n"
     ]
    }
   ],
   "source": [
    "_,  traditional_chi2_p_value, _, _ = chi2_contingency(multiple_response_table.table)\n",
    "print(\"Naive chi-squared p value: {}\".format(traditional_chi2_p_value))\n",
    "ratio = table_p_value_bonferroni_corrected / traditional_chi2_p_value  \n",
    "print(\"The naive chi-squared method overstates our confidence by a factor of {}\".format(ratio))"
   ]
  },
  {
   "cell_type": "markdown",
   "metadata": {},
   "source": [
    "In this case the traditional chi-squared test overstates our confidence by four orders of magnitude.\n",
    "\n",
    "However we know that the bonferroni-adjustment can be conservative so we can try a 2nd order Rao Scott correction:"
   ]
  },
  {
   "cell_type": "code",
   "execution_count": 66,
   "metadata": {
    "collapsed": false
   },
   "outputs": [
    {
     "name": "stdout",
     "output_type": "stream",
     "text": [
      "Overall table p value: 6.256504667259361e-18\n",
      "\n",
      "\n"
     ]
    }
   ],
   "source": [
    "rao_scott_test = multiple_response_table._test_for_single_pairwise_mutual_independence_using_rao_scott_2\n",
    "table_p_value_rao_scott_corrected = rao_scott_test(rows_factor, columns_factor)\n",
    "print(\"Overall table p value: {}\\n\\n\".format(table_p_value_rao_scott_corrected))"
   ]
  },
  {
   "cell_type": "markdown",
   "metadata": {},
   "source": [
    "Both the bonferroni and the row scott methods require us to make some assumptions about the distribution of the deviations we observe in our response table. Ever not comfortable making assumptions we can instead use a nonparametric method by running a bootstrap simulation to approximate the distribution of deviations. The bootstrap method is more computationally intensive but allows us to estimate the p value using fewer assumptions."
   ]
  },
  {
   "cell_type": "code",
   "execution_count": null,
   "metadata": {
    "collapsed": false
   },
   "outputs": [
    {
     "name": "stdout",
     "output_type": "stream",
     "text": [
      "sample 0\n"
     ]
    },
    {
     "name": "stderr",
     "output_type": "stream",
     "text": [
      "/Users/gjlondon/anaconda/envs/statsmodels-dev/lib/python3.5/site-packages/pandas/indexes/range.py:432: RuntimeWarning: unorderable types: int() < str(), sort order is undefined for incomparable objects\n",
      "  return self._int64index.union(other)\n"
     ]
    },
    {
     "name": "stdout",
     "output_type": "stream",
     "text": [
      "sample 50\n",
      "sample 100\n",
      "sample 150\n",
      "sample 200\n",
      "sample 250\n",
      "sample 300\n",
      "sample 350\n",
      "sample 400\n",
      "sample 450\n",
      "sample 500\n"
     ]
    }
   ],
   "source": [
    "bootstrap_test = multiple_response_table._test_for_single_pairwise_mutual_independence_using_bootstrap\n",
    "results = bootstrap_test(rows_factor, columns_factor, verbose=True)\n",
    "table_p_value_bootstrap, pairwise_bootstrap_p_values = results\n",
    "print(\"Overall table p value: {}\\n\\n\".format(table_p_value_bootstrap))\n",
    "print(\"Pairwise p values (likelihood of independence between single select variable and specific multi-select option):\")\n",
    "pairwise_bootstrap_p_values"
   ]
  },
  {
   "cell_type": "code",
   "execution_count": null,
   "metadata": {
    "collapsed": true
   },
   "outputs": [],
   "source": []
  }
 ],
 "metadata": {
  "anaconda-cloud": {},
  "kernelspec": {
   "display_name": "Python [conda env:statsmodels-dev]",
   "language": "python",
   "name": "conda-env-statsmodels-dev-py"
  },
  "language_info": {
   "codemirror_mode": {
    "name": "ipython",
    "version": 3
   },
   "file_extension": ".py",
   "mimetype": "text/x-python",
   "name": "python",
   "nbconvert_exporter": "python",
   "pygments_lexer": "ipython3",
   "version": "3.5.2"
  }
 },
 "nbformat": 4,
 "nbformat_minor": 2
}
