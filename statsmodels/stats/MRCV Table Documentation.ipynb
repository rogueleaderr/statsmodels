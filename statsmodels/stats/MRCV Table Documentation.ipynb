{
 "cells": [
  {
   "cell_type": "markdown",
   "metadata": {},
   "source": [
    "# Multiple Response Contingency Tables"
   ]
  },
  {
   "cell_type": "code",
   "execution_count": 12,
   "metadata": {
    "collapsed": true
   },
   "outputs": [],
   "source": [
    "import numpy as np\n",
    "import numpy.random as rand\n",
    "import pandas as pd"
   ]
  },
  {
   "cell_type": "code",
   "execution_count": 46,
   "metadata": {
    "collapsed": false
   },
   "outputs": [],
   "source": [
    "import sys\n",
    "# let us import local app packages\n",
    "PACKAGE_PARENT = '../..'\n",
    "sys.path.append(os.path.normpath(PACKAGE_PARENT))"
   ]
  },
  {
   "cell_type": "code",
   "execution_count": 24,
   "metadata": {
    "collapsed": true
   },
   "outputs": [],
   "source": [
    "%load_ext autoreload\n",
    "%autoreload 2"
   ]
  },
  {
   "cell_type": "markdown",
   "metadata": {},
   "source": [
    "## A basic table:"
   ]
  },
  {
   "cell_type": "markdown",
   "metadata": {},
   "source": [
    "Contingency tables, also known as \"crosstabs\", are used to summarize and compare the relationship between two or more experimental factors in a data set. For example, if we conducted a survey asking people 1) their age and 2) their favorite television show, we might want to see whether or not younger people prefer different shows than older people do.\n",
    "\n",
    "Here's a brief example using simulated data:"
   ]
  },
  {
   "cell_type": "code",
   "execution_count": 16,
   "metadata": {
    "collapsed": false
   },
   "outputs": [
    {
     "data": {
      "text/html": [
       "<div>\n",
       "<table border=\"1\" class=\"dataframe\">\n",
       "  <thead>\n",
       "    <tr style=\"text-align: right;\">\n",
       "      <th></th>\n",
       "      <th>age</th>\n",
       "      <th>favorite_show</th>\n",
       "    </tr>\n",
       "    <tr>\n",
       "      <th>respondent_id</th>\n",
       "      <th></th>\n",
       "      <th></th>\n",
       "    </tr>\n",
       "  </thead>\n",
       "  <tbody>\n",
       "    <tr>\n",
       "      <th>0</th>\n",
       "      <td>37-54</td>\n",
       "      <td>NCIS</td>\n",
       "    </tr>\n",
       "    <tr>\n",
       "      <th>1</th>\n",
       "      <td>55+</td>\n",
       "      <td>House of Cards</td>\n",
       "    </tr>\n",
       "    <tr>\n",
       "      <th>2</th>\n",
       "      <td>55+</td>\n",
       "      <td>Westworld</td>\n",
       "    </tr>\n",
       "    <tr>\n",
       "      <th>3</th>\n",
       "      <td>37-54</td>\n",
       "      <td>Westworld</td>\n",
       "    </tr>\n",
       "    <tr>\n",
       "      <th>4</th>\n",
       "      <td>18-36</td>\n",
       "      <td>NCIS</td>\n",
       "    </tr>\n",
       "    <tr>\n",
       "      <th>5</th>\n",
       "      <td>55+</td>\n",
       "      <td>Westworld</td>\n",
       "    </tr>\n",
       "    <tr>\n",
       "      <th>6</th>\n",
       "      <td>18-36</td>\n",
       "      <td>Westworld</td>\n",
       "    </tr>\n",
       "    <tr>\n",
       "      <th>7</th>\n",
       "      <td>55+</td>\n",
       "      <td>House of Cards</td>\n",
       "    </tr>\n",
       "    <tr>\n",
       "      <th>8</th>\n",
       "      <td>18-36</td>\n",
       "      <td>NCIS</td>\n",
       "    </tr>\n",
       "    <tr>\n",
       "      <th>9</th>\n",
       "      <td>18-36</td>\n",
       "      <td>House of Cards</td>\n",
       "    </tr>\n",
       "  </tbody>\n",
       "</table>\n",
       "</div>"
      ],
      "text/plain": [
       "                 age   favorite_show\n",
       "respondent_id                       \n",
       "0              37-54            NCIS\n",
       "1                55+  House of Cards\n",
       "2                55+       Westworld\n",
       "3              37-54       Westworld\n",
       "4              18-36            NCIS\n",
       "5                55+       Westworld\n",
       "6              18-36       Westworld\n",
       "7                55+  House of Cards\n",
       "8              18-36            NCIS\n",
       "9              18-36  House of Cards"
      ]
     },
     "execution_count": 16,
     "metadata": {},
     "output_type": "execute_result"
    }
   ],
   "source": [
    "age = np.random.choice(['18-36','37-54','55+'], size = 2000, p = [0.3,0.4,0.3]);\n",
    "favorite_show = np.random.choice(['NCIS','House of Cards','Westworld'], size = 2000, p = [0.2,0.4,0.4])\n",
    "survey_results = pd.DataFrame({\"age\": age, \"favorite_show\": favorite_show})\n",
    "survey_results.index.name = \"respondent_id\"\n",
    "survey_results.head(10)"
   ]
  },
  {
   "cell_type": "code",
   "execution_count": 39,
   "metadata": {
    "collapsed": false
   },
   "outputs": [
    {
     "name": "stdout",
     "output_type": "stream",
     "text": [
      "Contingency Table: \n",
      "favorite_show  House of Cards  NCIS  Westworld\n",
      "age                                           \n",
      "18-36                     223   117        252\n",
      "37-54                     319   158        317\n",
      "55+                       247   114        253\n"
     ]
    }
   ],
   "source": [
    "from statsmodels.stats.contingency_tables import Table\n",
    "\n",
    "table =  Table.from_data(survey_results)\n",
    "print(table)"
   ]
  },
  {
   "cell_type": "markdown",
   "metadata": {},
   "source": [
    "The above table makes it easy to lookup, for example, how many 18-36-year-olds prefer House of Cards.\n",
    "\n",
    "With this table in hand we can perform a chi-squared test to evaluate whether or not there is a relationship between age and favorite show:"
   ]
  },
  {
   "cell_type": "code",
   "execution_count": 45,
   "metadata": {
    "collapsed": false
   },
   "outputs": [
    {
     "name": "stdout",
     "output_type": "stream",
     "text": [
      "Contingency Table Independence Result:\n",
      "chi-squared statistic: 1.6138440777244998\n",
      "degrees of freedom: 4\n",
      "p value: 0.8063017941381443\n",
      "\n"
     ]
    }
   ],
   "source": [
    "independence_result = table.test_nominal_association()\n",
    "print(independence_result)"
   ]
  },
  {
   "cell_type": "markdown",
   "metadata": {},
   "source": [
    "As you can see, the p value is (relatively) close to one, indicating that we have very weak evidence to suspect that age affects favorite tv show. That's unsurprising because the data were randomly generated."
   ]
  },
  {
   "cell_type": "markdown",
   "metadata": {},
   "source": [
    "## A table with a relationship:"
   ]
  },
  {
   "cell_type": "markdown",
   "metadata": {},
   "source": [
    "Now let's try again but let's generate data in such a way that we expect a relationship between our factors."
   ]
  },
  {
   "cell_type": "code",
   "execution_count": 51,
   "metadata": {
    "collapsed": false
   },
   "outputs": [
    {
     "data": {
      "text/html": [
       "<div>\n",
       "<table border=\"1\" class=\"dataframe\">\n",
       "  <thead>\n",
       "    <tr style=\"text-align: right;\">\n",
       "      <th></th>\n",
       "      <th>age</th>\n",
       "      <th>favorite_social_network</th>\n",
       "    </tr>\n",
       "    <tr>\n",
       "      <th>respondent_id</th>\n",
       "      <th></th>\n",
       "      <th></th>\n",
       "    </tr>\n",
       "  </thead>\n",
       "  <tbody>\n",
       "    <tr>\n",
       "      <th>0</th>\n",
       "      <td>less than 18</td>\n",
       "      <td>instagram</td>\n",
       "    </tr>\n",
       "    <tr>\n",
       "      <th>1</th>\n",
       "      <td>19-36</td>\n",
       "      <td>instagram</td>\n",
       "    </tr>\n",
       "    <tr>\n",
       "      <th>2</th>\n",
       "      <td>37+</td>\n",
       "      <td>facebook</td>\n",
       "    </tr>\n",
       "    <tr>\n",
       "      <th>3</th>\n",
       "      <td>less than 18</td>\n",
       "      <td>instagram</td>\n",
       "    </tr>\n",
       "    <tr>\n",
       "      <th>4</th>\n",
       "      <td>19-36</td>\n",
       "      <td>facebook</td>\n",
       "    </tr>\n",
       "    <tr>\n",
       "      <th>5</th>\n",
       "      <td>less than 18</td>\n",
       "      <td>snapchat</td>\n",
       "    </tr>\n",
       "    <tr>\n",
       "      <th>6</th>\n",
       "      <td>19-36</td>\n",
       "      <td>snapchat</td>\n",
       "    </tr>\n",
       "    <tr>\n",
       "      <th>7</th>\n",
       "      <td>19-36</td>\n",
       "      <td>facebook</td>\n",
       "    </tr>\n",
       "    <tr>\n",
       "      <th>8</th>\n",
       "      <td>37+</td>\n",
       "      <td>instagram</td>\n",
       "    </tr>\n",
       "    <tr>\n",
       "      <th>9</th>\n",
       "      <td>19-36</td>\n",
       "      <td>facebook</td>\n",
       "    </tr>\n",
       "  </tbody>\n",
       "</table>\n",
       "</div>"
      ],
      "text/plain": [
       "                        age favorite_social_network\n",
       "respondent_id                                      \n",
       "0              less than 18               instagram\n",
       "1                     19-36               instagram\n",
       "2                       37+                facebook\n",
       "3              less than 18               instagram\n",
       "4                     19-36                facebook\n",
       "5              less than 18                snapchat\n",
       "6                     19-36                snapchat\n",
       "7                     19-36                facebook\n",
       "8                       37+               instagram\n",
       "9                     19-36                facebook"
      ]
     },
     "execution_count": 51,
     "metadata": {},
     "output_type": "execute_result"
    }
   ],
   "source": [
    "age = np.random.choice(['less than 18','19-36','37+'], size = 2000, p = [0.3,0.4,0.3]);\n",
    "survey_results = pd.DataFrame({\"age\": age})\n",
    "survey_results.index.name = \"respondent_id\"\n",
    "\n",
    "def weighted_choice(age):\n",
    "    # weight tuples: (snapchat, instagram, facebook)\n",
    "    weights = {'less than 18': (.5, .4, .1),\n",
    "               '19-36': (.3, .3, .4),\n",
    "               '37+': (.1, .2, .7)}\n",
    "    choices = (\"snapchat\", \"instagram\", \"facebook\")\n",
    "    favorite_network = np.random.choice(choices, p=weights[age])\n",
    "    return favorite_network\n",
    "\n",
    "favorite_social_network = survey_results.age.apply(weighted_choice)\n",
    "survey_results['favorite_social_network'] = favorite_social_network\n",
    "survey_results.head(10)"
   ]
  },
  {
   "cell_type": "code",
   "execution_count": 52,
   "metadata": {
    "collapsed": false
   },
   "outputs": [
    {
     "name": "stdout",
     "output_type": "stream",
     "text": [
      "Contingency Table: \n",
      "favorite_social_network  facebook  instagram  snapchat\n",
      "age                                                   \n",
      "19-36                         335        239       263\n",
      "37+                           411        121        52\n",
      "less than 18                   58        221       300\n"
     ]
    }
   ],
   "source": [
    "from statsmodels.stats.contingency_tables import Table\n",
    "\n",
    "table =  Table.from_data(survey_results)\n",
    "print(table)"
   ]
  },
  {
   "cell_type": "code",
   "execution_count": 53,
   "metadata": {
    "collapsed": false
   },
   "outputs": [
    {
     "name": "stdout",
     "output_type": "stream",
     "text": [
      "Contingency Table Independence Result:\n",
      "chi-squared statistic: 468.4061928530731\n",
      "degrees of freedom: 4\n",
      "p value: 0.0\n",
      "\n"
     ]
    }
   ],
   "source": [
    "independence_result = table.test_nominal_association()\n",
    "print(independence_result)"
   ]
  },
  {
   "cell_type": "markdown",
   "metadata": {},
   "source": [
    "As expected, here our p-value is so low that it rounds to zero. I.e., the contingency table provides extremely strong evidence to suspect that people's age is related to their favorite social network."
   ]
  },
  {
   "cell_type": "markdown",
   "metadata": {},
   "source": [
    "## A table with multiple response factors"
   ]
  },
  {
   "cell_type": "markdown",
   "metadata": {},
   "source": [
    "Most statistical tests that are designed to work with categorical data expect that the categories are mutually exclusive, i.e. each observation will have only one category at a time. For example, if a survey asks \"are you a french citizen?\" the answer will be either \"yes\" or \"no\" or maybe \"I don't know\" but it'll never be \"both\" or \"neither\".\n",
    "\n",
    "In the real world, especially with survey data, questions often allow multiple answers. For example, a question might ask \"which of the following movies have you seen: (Star Wars, The Godfather, Top Five)?\" and it would be perfectly valid to answer \"Star Wars **and** Top Five\".\n",
    "\n",
    "We are still free to build a contingency table showing the answers to multiple response questions, but these tables violate key assumptions that are required for chi-square tests of independence. So we cannot use traditional chi-square tests to evaluate whether the answers to the questions are independent.\n",
    "\n",
    "Instead,stats models provides a different type of contingency table class that will automatically apply independence tests that are valid when applied to multiple response data.\n",
    "\n",
    "We will walk through an example using a data set extracted from a survey of undecided swing state of voters taken before at the 2016 presidential election. The data set is available in statsmodels as `presidential2016`."
   ]
  },
  {
   "cell_type": "code",
   "execution_count": 58,
   "metadata": {
    "collapsed": false
   },
   "outputs": [
    {
     "data": {
      "text/html": [
       "<div>\n",
       "<table border=\"1\" class=\"dataframe\">\n",
       "  <thead>\n",
       "    <tr style=\"text-align: right;\">\n",
       "      <th></th>\n",
       "      <th>Hillary_Clinton</th>\n",
       "      <th>Donald_Trump</th>\n",
       "      <th>Jill_Stein</th>\n",
       "      <th>Gary_Johnson</th>\n",
       "      <th>None_Of_The_Above</th>\n",
       "      <th>I_Probably_Wont_Vote</th>\n",
       "      <th>Hillary_Clinton_is_involved_in_many_coverups</th>\n",
       "      <th>Trump_changes_his_positions_all_of_the_time</th>\n",
       "      <th>Hillary_Clinton_lied_to_the_families_of_Americans_killed_in_Benghazi</th>\n",
       "      <th>Trump_is_a_successful_businessman</th>\n",
       "      <th>Trumps_temper_could_get_the_country_into_trouble</th>\n",
       "      <th>I_wish_another_candidate_had_won_the_primary</th>\n",
       "      <th>Need_to_do_more_research</th>\n",
       "      <th>Dont_like__any_candidate</th>\n",
       "      <th>Not_sure_which_candidate_shares_my_values</th>\n",
       "      <th>Waiting_for_debates</th>\n",
       "    </tr>\n",
       "  </thead>\n",
       "  <tbody>\n",
       "    <tr>\n",
       "      <th>0</th>\n",
       "      <td>0.0</td>\n",
       "      <td>0.0</td>\n",
       "      <td>0.0</td>\n",
       "      <td>0.0</td>\n",
       "      <td>1.0</td>\n",
       "      <td>0.0</td>\n",
       "      <td>0.0</td>\n",
       "      <td>0.0</td>\n",
       "      <td>0.0</td>\n",
       "      <td>1.0</td>\n",
       "      <td>0.0</td>\n",
       "      <td>0.0</td>\n",
       "      <td>0.0</td>\n",
       "      <td>0.0</td>\n",
       "      <td>1.0</td>\n",
       "      <td>0.0</td>\n",
       "    </tr>\n",
       "    <tr>\n",
       "      <th>1</th>\n",
       "      <td>0.0</td>\n",
       "      <td>0.0</td>\n",
       "      <td>0.0</td>\n",
       "      <td>0.0</td>\n",
       "      <td>1.0</td>\n",
       "      <td>0.0</td>\n",
       "      <td>0.0</td>\n",
       "      <td>0.0</td>\n",
       "      <td>0.0</td>\n",
       "      <td>0.0</td>\n",
       "      <td>0.0</td>\n",
       "      <td>0.0</td>\n",
       "      <td>1.0</td>\n",
       "      <td>0.0</td>\n",
       "      <td>0.0</td>\n",
       "      <td>0.0</td>\n",
       "    </tr>\n",
       "    <tr>\n",
       "      <th>2</th>\n",
       "      <td>1.0</td>\n",
       "      <td>0.0</td>\n",
       "      <td>0.0</td>\n",
       "      <td>0.0</td>\n",
       "      <td>0.0</td>\n",
       "      <td>0.0</td>\n",
       "      <td>0.0</td>\n",
       "      <td>0.0</td>\n",
       "      <td>0.0</td>\n",
       "      <td>0.0</td>\n",
       "      <td>0.0</td>\n",
       "      <td>0.0</td>\n",
       "      <td>1.0</td>\n",
       "      <td>0.0</td>\n",
       "      <td>0.0</td>\n",
       "      <td>0.0</td>\n",
       "    </tr>\n",
       "    <tr>\n",
       "      <th>3</th>\n",
       "      <td>0.0</td>\n",
       "      <td>1.0</td>\n",
       "      <td>0.0</td>\n",
       "      <td>0.0</td>\n",
       "      <td>0.0</td>\n",
       "      <td>0.0</td>\n",
       "      <td>0.0</td>\n",
       "      <td>0.0</td>\n",
       "      <td>0.0</td>\n",
       "      <td>0.0</td>\n",
       "      <td>0.0</td>\n",
       "      <td>0.0</td>\n",
       "      <td>0.0</td>\n",
       "      <td>0.0</td>\n",
       "      <td>0.0</td>\n",
       "      <td>1.0</td>\n",
       "    </tr>\n",
       "    <tr>\n",
       "      <th>4</th>\n",
       "      <td>1.0</td>\n",
       "      <td>0.0</td>\n",
       "      <td>0.0</td>\n",
       "      <td>0.0</td>\n",
       "      <td>0.0</td>\n",
       "      <td>0.0</td>\n",
       "      <td>1.0</td>\n",
       "      <td>0.0</td>\n",
       "      <td>0.0</td>\n",
       "      <td>0.0</td>\n",
       "      <td>1.0</td>\n",
       "      <td>0.0</td>\n",
       "      <td>0.0</td>\n",
       "      <td>1.0</td>\n",
       "      <td>0.0</td>\n",
       "      <td>0.0</td>\n",
       "    </tr>\n",
       "  </tbody>\n",
       "</table>\n",
       "</div>"
      ],
      "text/plain": [
       "   Hillary_Clinton  Donald_Trump  Jill_Stein  Gary_Johnson  None_Of_The_Above  \\\n",
       "0              0.0           0.0         0.0           0.0                1.0   \n",
       "1              0.0           0.0         0.0           0.0                1.0   \n",
       "2              1.0           0.0         0.0           0.0                0.0   \n",
       "3              0.0           1.0         0.0           0.0                0.0   \n",
       "4              1.0           0.0         0.0           0.0                0.0   \n",
       "\n",
       "   I_Probably_Wont_Vote  Hillary_Clinton_is_involved_in_many_coverups  \\\n",
       "0                   0.0                                           0.0   \n",
       "1                   0.0                                           0.0   \n",
       "2                   0.0                                           0.0   \n",
       "3                   0.0                                           0.0   \n",
       "4                   0.0                                           1.0   \n",
       "\n",
       "   Trump_changes_his_positions_all_of_the_time  \\\n",
       "0                                          0.0   \n",
       "1                                          0.0   \n",
       "2                                          0.0   \n",
       "3                                          0.0   \n",
       "4                                          0.0   \n",
       "\n",
       "   Hillary_Clinton_lied_to_the_families_of_Americans_killed_in_Benghazi  \\\n",
       "0                                                0.0                      \n",
       "1                                                0.0                      \n",
       "2                                                0.0                      \n",
       "3                                                0.0                      \n",
       "4                                                0.0                      \n",
       "\n",
       "   Trump_is_a_successful_businessman  \\\n",
       "0                                1.0   \n",
       "1                                0.0   \n",
       "2                                0.0   \n",
       "3                                0.0   \n",
       "4                                0.0   \n",
       "\n",
       "   Trumps_temper_could_get_the_country_into_trouble  \\\n",
       "0                                               0.0   \n",
       "1                                               0.0   \n",
       "2                                               0.0   \n",
       "3                                               0.0   \n",
       "4                                               1.0   \n",
       "\n",
       "   I_wish_another_candidate_had_won_the_primary  Need_to_do_more_research  \\\n",
       "0                                           0.0                       0.0   \n",
       "1                                           0.0                       1.0   \n",
       "2                                           0.0                       1.0   \n",
       "3                                           0.0                       0.0   \n",
       "4                                           0.0                       0.0   \n",
       "\n",
       "   Dont_like__any_candidate  Not_sure_which_candidate_shares_my_values  \\\n",
       "0                       0.0                                        1.0   \n",
       "1                       0.0                                        0.0   \n",
       "2                       0.0                                        0.0   \n",
       "3                       0.0                                        0.0   \n",
       "4                       1.0                                        0.0   \n",
       "\n",
       "   Waiting_for_debates  \n",
       "0                  0.0  \n",
       "1                  0.0  \n",
       "2                  0.0  \n",
       "3                  1.0  \n",
       "4                  0.0  "
      ]
     },
     "execution_count": 58,
     "metadata": {},
     "output_type": "execute_result"
    }
   ],
   "source": [
    "import statsmodels.api as sm\n",
    "from statsmodels.datasets import presidential2016\n",
    "\n",
    "data = sm.datasets.presidential2016.load_pandas()\n",
    "data.data.head()"
   ]
  },
  {
   "cell_type": "markdown",
   "metadata": {},
   "source": [
    "The first question asked \"Which candidate do you think you are most likely to ultimately vote for in the 2016 presidential election?\" The answers are in columns 1 through 6, with a '1' representing 'selected' and '0' representing 'not selected'. Each respondent was only allowed to select 1 candidate, making this a traditional single select categorical variable. \n",
    "\n",
    "The second question asked \"Please check all of the statements you believe are true\" and presented respondents with a list of assertions (shown in columns 7 through 11). Respondents could check as many options as they liked, making this a multiple response question.\n",
    "\n",
    "The third question asked \"Please select any factors that contribute to your not being sure who you'll vote for\". The reasons shown in columns 12 through 16 were shown and respondents could pick as many as they liked, making this also a multiple response question."
   ]
  },
  {
   "cell_type": "markdown",
   "metadata": {},
   "source": [
    "### Single response versus multiple response"
   ]
  },
  {
   "cell_type": "markdown",
   "metadata": {},
   "source": [
    "The appropriate statistical tests are somewhat different depending on whether we are comparing two multiple response variables vs. whether we are comparing one multiple response variable versus one single response variable.\n",
    "\n",
    "We will start with a single response versus a multiple response by comparing the first survey question versus the second."
   ]
  },
  {
   "cell_type": "code",
   "execution_count": 63,
   "metadata": {
    "collapsed": true
   },
   "outputs": [],
   "source": [
    "from statsmodels.stats.contingency_tables import Factor, MRCVTable"
   ]
  },
  {
   "cell_type": "code",
   "execution_count": 65,
   "metadata": {
    "collapsed": false
   },
   "outputs": [
    {
     "data": {
      "text/plain": [
       "Hillary_Clinton_is_involved_in_many_coverups                            27.493592\n",
       "Trump_changes_his_positions_all_of_the_time                             36.511000\n",
       "Hillary_Clinton_lied_to_the_families_of_Americans_killed_in_Benghazi    33.065276\n",
       "Trump_is_a_successful_businessman                                       19.305086\n",
       "Trumps_temper_could_get_the_country_into_trouble                        16.238789\n",
       "dtype: float64"
      ]
     },
     "execution_count": 65,
     "metadata": {},
     "output_type": "execute_result"
    }
   ],
   "source": [
    "rows_factor = Factor(data.data.iloc[:, :6], data.data.columns[:6], \"expected_choice\", orientation=\"wide\")\n",
    "columns_factor = Factor(data.data.iloc[:, 6:11], data.data.columns[6:11], \"believe_true\", orientation=\"wide\")\n",
    "multiple_response_table = MRCVTable([rows_factor,], [columns_factor])\n",
    "pairwise_chis = multiple_response_table._calculate_pairwise_chi2s_for_MMI_item_response_table(rows_factor, columns_factor)\n",
    "pairwise_chis"
   ]
  },
  {
   "cell_type": "code",
   "execution_count": null,
   "metadata": {
    "collapsed": true
   },
   "outputs": [],
   "source": []
  }
 ],
 "metadata": {
  "kernelspec": {
   "display_name": "Python [conda env:statsmodels-dev]",
   "language": "python",
   "name": "conda-env-statsmodels-dev-py"
  },
  "language_info": {
   "codemirror_mode": {
    "name": "ipython",
    "version": 3
   },
   "file_extension": ".py",
   "mimetype": "text/x-python",
   "name": "python",
   "nbconvert_exporter": "python",
   "pygments_lexer": "ipython3",
   "version": "3.5.2"
  }
 },
 "nbformat": 4,
 "nbformat_minor": 2
}
