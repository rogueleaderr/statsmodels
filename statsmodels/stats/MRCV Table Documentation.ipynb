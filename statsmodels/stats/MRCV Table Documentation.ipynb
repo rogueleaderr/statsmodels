{
 "cells": [
  {
   "cell_type": "markdown",
   "metadata": {},
   "source": [
    "# Multiple Response Contingency Tables"
   ]
  },
  {
   "cell_type": "code",
   "execution_count": 2,
   "metadata": {
    "collapsed": false
   },
   "outputs": [],
   "source": [
    "import numpy as np\n",
    "import numpy.random as rand\n",
    "import pandas as pd\n",
    "from scipy.stats import chi2_contingency\n",
    "\n",
    "import sys\n",
    "import os\n",
    "# let us import local app packages\n",
    "PACKAGE_PARENT = '../..'\n",
    "sys.path.append(os.path.normpath(PACKAGE_PARENT))\n",
    "\n",
    "import matplotlib as plt\n",
    "\n",
    "%matplotlib inline\n",
    "%load_ext autoreload\n",
    "%autoreload 2"
   ]
  },
  {
   "cell_type": "markdown",
   "metadata": {},
   "source": [
    "## A basic table:"
   ]
  },
  {
   "cell_type": "markdown",
   "metadata": {},
   "source": [
    "Contingency tables, also known as \"crosstabs\", are used to summarize and compare the relationship between two or more experimental factors in a data set. For example, if we conducted a survey asking people 1) their age and 2) their favorite television show, we might want to see whether or not younger people prefer different shows than older people do.\n",
    "\n",
    "Here's a brief example using simulated data:"
   ]
  },
  {
   "cell_type": "code",
   "execution_count": 3,
   "metadata": {
    "collapsed": false
   },
   "outputs": [
    {
     "data": {
      "text/html": [
       "<div>\n",
       "<table border=\"1\" class=\"dataframe\">\n",
       "  <thead>\n",
       "    <tr style=\"text-align: right;\">\n",
       "      <th></th>\n",
       "      <th>age</th>\n",
       "      <th>favorite_show</th>\n",
       "    </tr>\n",
       "    <tr>\n",
       "      <th>respondent_id</th>\n",
       "      <th></th>\n",
       "      <th></th>\n",
       "    </tr>\n",
       "  </thead>\n",
       "  <tbody>\n",
       "    <tr>\n",
       "      <th>0</th>\n",
       "      <td>18-36</td>\n",
       "      <td>Westworld</td>\n",
       "    </tr>\n",
       "    <tr>\n",
       "      <th>1</th>\n",
       "      <td>55+</td>\n",
       "      <td>NCIS</td>\n",
       "    </tr>\n",
       "    <tr>\n",
       "      <th>2</th>\n",
       "      <td>18-36</td>\n",
       "      <td>House of Cards</td>\n",
       "    </tr>\n",
       "    <tr>\n",
       "      <th>3</th>\n",
       "      <td>18-36</td>\n",
       "      <td>House of Cards</td>\n",
       "    </tr>\n",
       "    <tr>\n",
       "      <th>4</th>\n",
       "      <td>37-54</td>\n",
       "      <td>House of Cards</td>\n",
       "    </tr>\n",
       "    <tr>\n",
       "      <th>5</th>\n",
       "      <td>18-36</td>\n",
       "      <td>Westworld</td>\n",
       "    </tr>\n",
       "    <tr>\n",
       "      <th>6</th>\n",
       "      <td>18-36</td>\n",
       "      <td>Westworld</td>\n",
       "    </tr>\n",
       "    <tr>\n",
       "      <th>7</th>\n",
       "      <td>37-54</td>\n",
       "      <td>Westworld</td>\n",
       "    </tr>\n",
       "    <tr>\n",
       "      <th>8</th>\n",
       "      <td>37-54</td>\n",
       "      <td>House of Cards</td>\n",
       "    </tr>\n",
       "    <tr>\n",
       "      <th>9</th>\n",
       "      <td>18-36</td>\n",
       "      <td>Westworld</td>\n",
       "    </tr>\n",
       "  </tbody>\n",
       "</table>\n",
       "</div>"
      ],
      "text/plain": [
       "                 age   favorite_show\n",
       "respondent_id                       \n",
       "0              18-36       Westworld\n",
       "1                55+            NCIS\n",
       "2              18-36  House of Cards\n",
       "3              18-36  House of Cards\n",
       "4              37-54  House of Cards\n",
       "5              18-36       Westworld\n",
       "6              18-36       Westworld\n",
       "7              37-54       Westworld\n",
       "8              37-54  House of Cards\n",
       "9              18-36       Westworld"
      ]
     },
     "execution_count": 3,
     "metadata": {},
     "output_type": "execute_result"
    }
   ],
   "source": [
    "age = np.random.choice(['18-36','37-54','55+'], size = 2000, p = [0.3,0.4,0.3]);\n",
    "favorite_show = np.random.choice(['NCIS','House of Cards','Westworld'], size = 2000, p = [0.2,0.4,0.4])\n",
    "survey_results = pd.DataFrame({\"age\": age, \"favorite_show\": favorite_show})\n",
    "survey_results.index.name = \"respondent_id\"\n",
    "survey_results.head(10)"
   ]
  },
  {
   "cell_type": "code",
   "execution_count": 4,
   "metadata": {
    "collapsed": false
   },
   "outputs": [
    {
     "name": "stdout",
     "output_type": "stream",
     "text": [
      "Contingency Table: \n",
      "favorite_show  House of Cards  NCIS  Westworld\n",
      "age                                           \n",
      "18-36                     239   111        245\n",
      "37-54                     290   163        347\n",
      "55+                       243   100        262\n"
     ]
    }
   ],
   "source": [
    "from statsmodels.stats.contingency_tables import Table\n",
    "\n",
    "table =  Table.from_data(survey_results)\n",
    "print(table)"
   ]
  },
  {
   "cell_type": "markdown",
   "metadata": {},
   "source": [
    "The above table makes it easy to lookup, for example, how many 18-36-year-olds prefer House of Cards.\n",
    "\n",
    "With this table in hand we can perform a chi-squared test to evaluate whether or not there is a relationship between age and favorite show:"
   ]
  },
  {
   "cell_type": "code",
   "execution_count": 5,
   "metadata": {
    "collapsed": false
   },
   "outputs": [
    {
     "name": "stdout",
     "output_type": "stream",
     "text": [
      "Contingency Table Independence Result:\n",
      "chi-squared statistic: 5.094271189311254\n",
      "degrees of freedom: 4\n",
      "p value: 0.27776073770329646\n",
      "\n"
     ]
    }
   ],
   "source": [
    "independence_result = table.test_nominal_association()\n",
    "print(independence_result)"
   ]
  },
  {
   "cell_type": "markdown",
   "metadata": {},
   "source": [
    "As you can see, the p value is (relatively) close to one, indicating that we have very weak evidence to suspect that age affects favorite tv show. That's unsurprising because the data were randomly generated."
   ]
  },
  {
   "cell_type": "markdown",
   "metadata": {},
   "source": [
    "## A table with a relationship:"
   ]
  },
  {
   "cell_type": "markdown",
   "metadata": {},
   "source": [
    "Now let's try again but let's generate data in such a way that we expect a relationship between our factors."
   ]
  },
  {
   "cell_type": "code",
   "execution_count": 6,
   "metadata": {
    "collapsed": false
   },
   "outputs": [
    {
     "data": {
      "text/html": [
       "<div>\n",
       "<table border=\"1\" class=\"dataframe\">\n",
       "  <thead>\n",
       "    <tr style=\"text-align: right;\">\n",
       "      <th></th>\n",
       "      <th>age</th>\n",
       "      <th>favorite_social_network</th>\n",
       "    </tr>\n",
       "    <tr>\n",
       "      <th>respondent_id</th>\n",
       "      <th></th>\n",
       "      <th></th>\n",
       "    </tr>\n",
       "  </thead>\n",
       "  <tbody>\n",
       "    <tr>\n",
       "      <th>0</th>\n",
       "      <td>37+</td>\n",
       "      <td>instagram</td>\n",
       "    </tr>\n",
       "    <tr>\n",
       "      <th>1</th>\n",
       "      <td>37+</td>\n",
       "      <td>facebook</td>\n",
       "    </tr>\n",
       "    <tr>\n",
       "      <th>2</th>\n",
       "      <td>37+</td>\n",
       "      <td>facebook</td>\n",
       "    </tr>\n",
       "    <tr>\n",
       "      <th>3</th>\n",
       "      <td>less than 18</td>\n",
       "      <td>snapchat</td>\n",
       "    </tr>\n",
       "    <tr>\n",
       "      <th>4</th>\n",
       "      <td>less than 18</td>\n",
       "      <td>snapchat</td>\n",
       "    </tr>\n",
       "    <tr>\n",
       "      <th>5</th>\n",
       "      <td>less than 18</td>\n",
       "      <td>facebook</td>\n",
       "    </tr>\n",
       "    <tr>\n",
       "      <th>6</th>\n",
       "      <td>19-36</td>\n",
       "      <td>facebook</td>\n",
       "    </tr>\n",
       "    <tr>\n",
       "      <th>7</th>\n",
       "      <td>37+</td>\n",
       "      <td>facebook</td>\n",
       "    </tr>\n",
       "    <tr>\n",
       "      <th>8</th>\n",
       "      <td>19-36</td>\n",
       "      <td>snapchat</td>\n",
       "    </tr>\n",
       "    <tr>\n",
       "      <th>9</th>\n",
       "      <td>19-36</td>\n",
       "      <td>facebook</td>\n",
       "    </tr>\n",
       "  </tbody>\n",
       "</table>\n",
       "</div>"
      ],
      "text/plain": [
       "                        age favorite_social_network\n",
       "respondent_id                                      \n",
       "0                       37+               instagram\n",
       "1                       37+                facebook\n",
       "2                       37+                facebook\n",
       "3              less than 18                snapchat\n",
       "4              less than 18                snapchat\n",
       "5              less than 18                facebook\n",
       "6                     19-36                facebook\n",
       "7                       37+                facebook\n",
       "8                     19-36                snapchat\n",
       "9                     19-36                facebook"
      ]
     },
     "execution_count": 6,
     "metadata": {},
     "output_type": "execute_result"
    }
   ],
   "source": [
    "age = np.random.choice(['less than 18','19-36','37+'], size = 2000, p = [0.3,0.4,0.3]);\n",
    "survey_results = pd.DataFrame({\"age\": age})\n",
    "survey_results.index.name = \"respondent_id\"\n",
    "\n",
    "def weighted_choice(age):\n",
    "    # weight tuples: (snapchat, instagram, facebook)\n",
    "    weights = {'less than 18': (.5, .4, .1),\n",
    "               '19-36': (.3, .3, .4),\n",
    "               '37+': (.1, .2, .7)}\n",
    "    choices = (\"snapchat\", \"instagram\", \"facebook\")\n",
    "    favorite_network = np.random.choice(choices, p=weights[age])\n",
    "    return favorite_network\n",
    "\n",
    "favorite_social_network = survey_results.age.apply(weighted_choice)\n",
    "survey_results['favorite_social_network'] = favorite_social_network\n",
    "survey_results.head(10)"
   ]
  },
  {
   "cell_type": "code",
   "execution_count": 7,
   "metadata": {
    "collapsed": false
   },
   "outputs": [
    {
     "name": "stdout",
     "output_type": "stream",
     "text": [
      "Contingency Table: \n",
      "favorite_social_network  facebook  instagram  snapchat\n",
      "age                                                   \n",
      "19-36                         299        255       239\n",
      "37+                           404        139        70\n",
      "less than 18                   65        240       289\n"
     ]
    }
   ],
   "source": [
    "from statsmodels.stats.contingency_tables import Table\n",
    "\n",
    "table =  Table.from_data(survey_results)\n",
    "print(table)"
   ]
  },
  {
   "cell_type": "code",
   "execution_count": 8,
   "metadata": {
    "collapsed": false
   },
   "outputs": [
    {
     "name": "stdout",
     "output_type": "stream",
     "text": [
      "Contingency Table Independence Result:\n",
      "chi-squared statistic: 407.3898502024856\n",
      "degrees of freedom: 4\n",
      "p value: 0.0\n",
      "\n"
     ]
    }
   ],
   "source": [
    "independence_result = table.test_nominal_association()\n",
    "print(independence_result)"
   ]
  },
  {
   "cell_type": "markdown",
   "metadata": {},
   "source": [
    "As expected, here our p-value is so low that it rounds to zero. I.e., the contingency table provides extremely strong evidence to suspect that people's age is related to their favorite social network."
   ]
  },
  {
   "cell_type": "markdown",
   "metadata": {},
   "source": [
    "## A table with multiple response factors"
   ]
  },
  {
   "cell_type": "markdown",
   "metadata": {},
   "source": [
    "Most statistical tests that are designed to work with categorical data expect that the categories are mutually exclusive, i.e. each observation will have only one category at a time. For example, if a survey asks \"are you a french citizen?\" the answer will be either \"yes\" or \"no\" or maybe \"I don't know\" but it'll never be \"both\" or \"neither\".\n",
    "\n",
    "In the real world, especially with survey data, questions often allow multiple answers. For example, a question might ask \"which of the following movies have you seen: (Star Wars, The Godfather, Top Five)?\" and it would be perfectly valid to answer \"Star Wars **and** Top Five\".\n",
    "\n",
    "We are still free to build a contingency table showing the answers to multiple response questions, but these tables violate key assumptions that are required for chi-square tests of independence. So we cannot use traditional chi-square tests to evaluate whether the answers to the questions are independent.\n",
    "\n",
    "Instead, `statsmodels` provides a different type of contingency table class that will automatically apply independence tests that are valid when applied to multiple response data.\n",
    "\n",
    "We will walk through an example using a data set extracted from a survey of undecided swing state of voters taken before at the 2016 presidential election. The data set is available in statsmodels as `presidential2016`."
   ]
  },
  {
   "cell_type": "code",
   "execution_count": 9,
   "metadata": {
    "collapsed": false
   },
   "outputs": [
    {
     "data": {
      "text/html": [
       "<div>\n",
       "<table border=\"1\" class=\"dataframe\">\n",
       "  <thead>\n",
       "    <tr style=\"text-align: right;\">\n",
       "      <th></th>\n",
       "      <th>Hillary_Clinton</th>\n",
       "      <th>Donald_Trump</th>\n",
       "      <th>Jill_Stein</th>\n",
       "      <th>Gary_Johnson</th>\n",
       "      <th>None_Of_The_Above</th>\n",
       "      <th>I_Probably_Wont_Vote</th>\n",
       "      <th>Hillary_Clinton_is_involved_in_many_coverups</th>\n",
       "      <th>Trump_changes_his_positions_all_of_the_time</th>\n",
       "      <th>Hillary_Clinton_lied_to_the_families_of_Americans_killed_in_Benghazi</th>\n",
       "      <th>Trump_is_a_successful_businessman</th>\n",
       "      <th>Trumps_temper_could_get_the_country_into_trouble</th>\n",
       "      <th>I_wish_another_candidate_had_won_the_primary</th>\n",
       "      <th>Need_to_do_more_research</th>\n",
       "      <th>Dont_like__any_candidate</th>\n",
       "      <th>Not_sure_which_candidate_shares_my_values</th>\n",
       "      <th>Waiting_for_debates</th>\n",
       "    </tr>\n",
       "  </thead>\n",
       "  <tbody>\n",
       "    <tr>\n",
       "      <th>0</th>\n",
       "      <td>0.0</td>\n",
       "      <td>0.0</td>\n",
       "      <td>0.0</td>\n",
       "      <td>0.0</td>\n",
       "      <td>1.0</td>\n",
       "      <td>0.0</td>\n",
       "      <td>0.0</td>\n",
       "      <td>0.0</td>\n",
       "      <td>0.0</td>\n",
       "      <td>1.0</td>\n",
       "      <td>0.0</td>\n",
       "      <td>0.0</td>\n",
       "      <td>0.0</td>\n",
       "      <td>0.0</td>\n",
       "      <td>1.0</td>\n",
       "      <td>0.0</td>\n",
       "    </tr>\n",
       "    <tr>\n",
       "      <th>1</th>\n",
       "      <td>0.0</td>\n",
       "      <td>0.0</td>\n",
       "      <td>0.0</td>\n",
       "      <td>0.0</td>\n",
       "      <td>1.0</td>\n",
       "      <td>0.0</td>\n",
       "      <td>0.0</td>\n",
       "      <td>0.0</td>\n",
       "      <td>0.0</td>\n",
       "      <td>0.0</td>\n",
       "      <td>0.0</td>\n",
       "      <td>0.0</td>\n",
       "      <td>1.0</td>\n",
       "      <td>0.0</td>\n",
       "      <td>0.0</td>\n",
       "      <td>0.0</td>\n",
       "    </tr>\n",
       "    <tr>\n",
       "      <th>2</th>\n",
       "      <td>1.0</td>\n",
       "      <td>0.0</td>\n",
       "      <td>0.0</td>\n",
       "      <td>0.0</td>\n",
       "      <td>0.0</td>\n",
       "      <td>0.0</td>\n",
       "      <td>0.0</td>\n",
       "      <td>0.0</td>\n",
       "      <td>0.0</td>\n",
       "      <td>0.0</td>\n",
       "      <td>0.0</td>\n",
       "      <td>0.0</td>\n",
       "      <td>1.0</td>\n",
       "      <td>0.0</td>\n",
       "      <td>0.0</td>\n",
       "      <td>0.0</td>\n",
       "    </tr>\n",
       "    <tr>\n",
       "      <th>3</th>\n",
       "      <td>0.0</td>\n",
       "      <td>1.0</td>\n",
       "      <td>0.0</td>\n",
       "      <td>0.0</td>\n",
       "      <td>0.0</td>\n",
       "      <td>0.0</td>\n",
       "      <td>0.0</td>\n",
       "      <td>0.0</td>\n",
       "      <td>0.0</td>\n",
       "      <td>0.0</td>\n",
       "      <td>0.0</td>\n",
       "      <td>0.0</td>\n",
       "      <td>0.0</td>\n",
       "      <td>0.0</td>\n",
       "      <td>0.0</td>\n",
       "      <td>1.0</td>\n",
       "    </tr>\n",
       "    <tr>\n",
       "      <th>4</th>\n",
       "      <td>1.0</td>\n",
       "      <td>0.0</td>\n",
       "      <td>0.0</td>\n",
       "      <td>0.0</td>\n",
       "      <td>0.0</td>\n",
       "      <td>0.0</td>\n",
       "      <td>1.0</td>\n",
       "      <td>0.0</td>\n",
       "      <td>0.0</td>\n",
       "      <td>0.0</td>\n",
       "      <td>1.0</td>\n",
       "      <td>0.0</td>\n",
       "      <td>0.0</td>\n",
       "      <td>1.0</td>\n",
       "      <td>0.0</td>\n",
       "      <td>0.0</td>\n",
       "    </tr>\n",
       "  </tbody>\n",
       "</table>\n",
       "</div>"
      ],
      "text/plain": [
       "   Hillary_Clinton  Donald_Trump  Jill_Stein  Gary_Johnson  None_Of_The_Above  \\\n",
       "0              0.0           0.0         0.0           0.0                1.0   \n",
       "1              0.0           0.0         0.0           0.0                1.0   \n",
       "2              1.0           0.0         0.0           0.0                0.0   \n",
       "3              0.0           1.0         0.0           0.0                0.0   \n",
       "4              1.0           0.0         0.0           0.0                0.0   \n",
       "\n",
       "   I_Probably_Wont_Vote  Hillary_Clinton_is_involved_in_many_coverups  \\\n",
       "0                   0.0                                           0.0   \n",
       "1                   0.0                                           0.0   \n",
       "2                   0.0                                           0.0   \n",
       "3                   0.0                                           0.0   \n",
       "4                   0.0                                           1.0   \n",
       "\n",
       "   Trump_changes_his_positions_all_of_the_time  \\\n",
       "0                                          0.0   \n",
       "1                                          0.0   \n",
       "2                                          0.0   \n",
       "3                                          0.0   \n",
       "4                                          0.0   \n",
       "\n",
       "   Hillary_Clinton_lied_to_the_families_of_Americans_killed_in_Benghazi  \\\n",
       "0                                                0.0                      \n",
       "1                                                0.0                      \n",
       "2                                                0.0                      \n",
       "3                                                0.0                      \n",
       "4                                                0.0                      \n",
       "\n",
       "   Trump_is_a_successful_businessman  \\\n",
       "0                                1.0   \n",
       "1                                0.0   \n",
       "2                                0.0   \n",
       "3                                0.0   \n",
       "4                                0.0   \n",
       "\n",
       "   Trumps_temper_could_get_the_country_into_trouble  \\\n",
       "0                                               0.0   \n",
       "1                                               0.0   \n",
       "2                                               0.0   \n",
       "3                                               0.0   \n",
       "4                                               1.0   \n",
       "\n",
       "   I_wish_another_candidate_had_won_the_primary  Need_to_do_more_research  \\\n",
       "0                                           0.0                       0.0   \n",
       "1                                           0.0                       1.0   \n",
       "2                                           0.0                       1.0   \n",
       "3                                           0.0                       0.0   \n",
       "4                                           0.0                       0.0   \n",
       "\n",
       "   Dont_like__any_candidate  Not_sure_which_candidate_shares_my_values  \\\n",
       "0                       0.0                                        1.0   \n",
       "1                       0.0                                        0.0   \n",
       "2                       0.0                                        0.0   \n",
       "3                       0.0                                        0.0   \n",
       "4                       1.0                                        0.0   \n",
       "\n",
       "   Waiting_for_debates  \n",
       "0                  0.0  \n",
       "1                  0.0  \n",
       "2                  0.0  \n",
       "3                  1.0  \n",
       "4                  0.0  "
      ]
     },
     "execution_count": 9,
     "metadata": {},
     "output_type": "execute_result"
    }
   ],
   "source": [
    "import statsmodels.api as sm\n",
    "from statsmodels.datasets import presidential2016\n",
    "\n",
    "data = sm.datasets.presidential2016.load_pandas()\n",
    "data.data.head()"
   ]
  },
  {
   "cell_type": "markdown",
   "metadata": {},
   "source": [
    "The first question asked \"Which candidate do you think you are most likely to ultimately vote for in the 2016 presidential election?\" The answers are in columns 1 through 6, with a '1' representing 'selected' and '0' representing 'not selected'. Each respondent was only allowed to select 1 candidate, making this a traditional single select categorical variable. \n",
    "\n",
    "The second question asked \"Please check all of the statements you believe are true\" and presented respondents with a list of assertions (shown in columns 7 through 11). Respondents could check as many options as they liked, making this a multiple response question.\n",
    "\n",
    "The third question asked \"Please select any factors that contribute to your not being sure who you'll vote for\". The reasons shown in columns 12 through 16 were shown and respondents could pick as many as they liked, making this also a multiple response question."
   ]
  },
  {
   "cell_type": "markdown",
   "metadata": {},
   "source": [
    "### Single response versus multiple response"
   ]
  },
  {
   "cell_type": "markdown",
   "metadata": {},
   "source": [
    "The appropriate statistical tests are somewhat different depending on whether we are comparing two multiple response variables vs. whether we are comparing one multiple response variable versus one single response variable.\n",
    "\n",
    "We will start with a single response versus a multiple response by comparing the first survey question versus the second."
   ]
  },
  {
   "cell_type": "code",
   "execution_count": 10,
   "metadata": {
    "collapsed": true
   },
   "outputs": [],
   "source": [
    "from statsmodels.stats.contingency_tables import Factor, MRCVTable"
   ]
  },
  {
   "cell_type": "code",
   "execution_count": 16,
   "metadata": {
    "collapsed": false
   },
   "outputs": [
    {
     "data": {
      "text/plain": [
       "factor_level_col      Hillary_Clinton_is_involved_in_many_coverups  \\\n",
       "factor_level_row                                                     \n",
       "Donald_Trump                                                    51   \n",
       "Gary_Johnson                                                    23   \n",
       "Hillary_Clinton                                                 22   \n",
       "I_Probably_Wont_Vote                                            36   \n",
       "Jill_Stein                                                       4   \n",
       "None_Of_The_Above                                               34   \n",
       "\n",
       "factor_level_col      Hillary_Clinton_lied_to_the_families_of_Americans_killed_in_Benghazi  \\\n",
       "factor_level_row                                                                             \n",
       "Donald_Trump                                                         45                      \n",
       "Gary_Johnson                                                         18                      \n",
       "Hillary_Clinton                                                      18                      \n",
       "I_Probably_Wont_Vote                                                 19                      \n",
       "Jill_Stein                                                            3                      \n",
       "None_Of_The_Above                                                    27                      \n",
       "\n",
       "factor_level_col      Trump_changes_his_positions_all_of_the_time  \\\n",
       "factor_level_row                                                    \n",
       "Donald_Trump                                                   10   \n",
       "Gary_Johnson                                                   17   \n",
       "Hillary_Clinton                                                51   \n",
       "I_Probably_Wont_Vote                                           24   \n",
       "Jill_Stein                                                     12   \n",
       "None_Of_The_Above                                              26   \n",
       "\n",
       "factor_level_col      Trump_is_a_successful_businessman  \\\n",
       "factor_level_row                                          \n",
       "Donald_Trump                                         39   \n",
       "Gary_Johnson                                         16   \n",
       "Hillary_Clinton                                      21   \n",
       "I_Probably_Wont_Vote                                 22   \n",
       "Jill_Stein                                            5   \n",
       "None_Of_The_Above                                    21   \n",
       "\n",
       "factor_level_col      Trumps_temper_could_get_the_country_into_trouble  \n",
       "factor_level_row                                                        \n",
       "Donald_Trump                                                        14  \n",
       "Gary_Johnson                                                        13  \n",
       "Hillary_Clinton                                                     42  \n",
       "I_Probably_Wont_Vote                                                19  \n",
       "Jill_Stein                                                           7  \n",
       "None_Of_The_Above                                                   24  "
      ]
     },
     "execution_count": 16,
     "metadata": {},
     "output_type": "execute_result"
    }
   ],
   "source": [
    "rows_factor = Factor(data.data.iloc[:, :6], \"expected_choice\", orientation=\"wide\")\n",
    "columns_factor = Factor(data.data.iloc[:, 6:11], \"believe_true\", orientation=\"wide\")\n",
    "multiple_response_table = MRCVTable([rows_factor,], [columns_factor])\n",
    "multiple_response_table"
   ]
  },
  {
   "cell_type": "code",
   "execution_count": 17,
   "metadata": {
    "collapsed": false
   },
   "outputs": [
    {
     "data": {
      "text/plain": [
       "'1000 respondents selected 683 items'"
      ]
     },
     "execution_count": 17,
     "metadata": {},
     "output_type": "execute_result"
    }
   ],
   "source": [
    "number_of_selections = multiple_response_table.table.sum().sum()\n",
    "number_of_respondents = len(data.data)\n",
    "\"{number_of_respondents} respondents selected {number_of_selections} items\".format(number_of_respondents=number_of_respondents,\n",
    "                                                                      number_of_selections=number_of_selections)"
   ]
  },
  {
   "cell_type": "markdown",
   "metadata": {},
   "source": [
    "#### What \"independence\" means for multiple response questions"
   ]
  },
  {
   "cell_type": "markdown",
   "metadata": {},
   "source": [
    "We'd like to investigate whether there was a relationship between undecided voters factual beliefs and the candidate they expected to vote for.\n",
    "\n",
    "It's straight forward to build a contingency table that tabulates the number of people supporting each candidate who said they held each belief. But this table has a key difference from the \"age vs. social network\" table above: the \"grand total\" (the sum of the values in all of the table cells together) is *not the same as than the number of people who took the survey* (in this case, 1000 survey respondents said they believed 683 assertions. That means that a substantial number of respondents said they did not believe any of these assertions). \n",
    "\n",
    "Traditional chi-squared tests work by 1) assuming independence between the factors, 2) calculating an \"expected value\" for each cell in a contingency table, 3) seeing how much the observed values in the table differ from the expected values, 4) testing how likely it would be to see a deviation as large as the one we observe if the factors actually were unrelated (and thus the deviation arose from randomness in the sampling process rather than an underlying relationship between the factors).\n",
    "\n",
    "The last step, figuring out how likely and observed deviation is, requires assuming a probability distribution for the deviations. And as the name suggests, the chi-squared test uses the [chi-squared distribution](https://en.wikipedia.org/wiki/Chi-squared_distribution). But the chi-squared distribution has a parameter (the \"degrees of freedom\") that determines its shape. When the categories in a contingency table are mutually exclusive (i.e. the survey questions are 'single-select') we can use the the total number of cells in the table as the degrees of freedom parameter.\n",
    "\n",
    "When the categories are *not* mutually exclusive (i.e. because they're \"multiple response\", as in this example) then the key assumptions that allowed us to use the chi-squared distribution break down and it is no longer straight-forward to evaluate how unlikely a set of observed deviations are. \n",
    "\n",
    "To move forward, we need to slightly change our perspective. Instead of thinking about a multiple response question as \"one question with multiple selections\" we can think of it as \"multiple questions, each with a single selection\". I.e. the question \"select all that apply: (A, B, C, D)\" is equivalent to \"does A apply (yes/no)? Does B apply (yes/no)? Does C apply (yes/no)? (etc.)\"\n",
    "\n",
    "Then instead of asking \"is the candidate a respondent supports independent of the statements she believes are true\", we can ask \"is the candidate a respondent supports simultaneously independent of whether she believes statement A **and** whether she believes statement B **and** whether she believes statement C (etc.)\". This new question is called **marginal mutual independence (MMI)**, i.e. whether the answer to a single response question is simultaneously independent of whether a respondent selected or did not select each possible answer to a multiple response question.\n",
    "\n",
    "Similarly, if we're comparing two (or more) multiple response questions against each other, we ask \"is whether a respondent selected option A on question 1 independent of whether she selected option A on question 2 **and** whether she selected option B on question 2 **and** is whether she selected option B on question 1 independent of whether she selected option A on question 2 (etc.)\" This concept is called **simultaneous pairwise mutual independence (SPMI)**, i.e. whether each possible choice on one multiple response question is simultaneously indepedent of each possible choice on a different multiple response question.\n",
    "\n",
    "The `MRCVTable` class provides functionality for evaluating **marginal mutual independence (MMI)** and **simultaneous pairwise mutual independence (SPMI)**. This example is comparing one single-response question vs. one multiple response question, so the relevant test is for **marginal mutual independence (MMI)**.\n",
    "\n",
    "The tests for MMI and SPMI all start with the same step: build a big table comparing each combination of answers from the two questions:"
   ]
  },
  {
   "cell_type": "code",
   "execution_count": 18,
   "metadata": {
    "collapsed": false
   },
   "outputs": [
    {
     "data": {
      "text/html": [
       "<div>\n",
       "<table border=\"1\" class=\"dataframe\">\n",
       "  <thead>\n",
       "    <tr>\n",
       "      <th>multiple_response_level</th>\n",
       "      <th colspan=\"2\" halign=\"left\">Hillary_Clinton_is_involved_in_many_coverups</th>\n",
       "      <th colspan=\"2\" halign=\"left\">Hillary_Clinton_lied_to_the_families_of_Americans_killed_in_Benghazi</th>\n",
       "      <th colspan=\"2\" halign=\"left\">Trump_changes_his_positions_all_of_the_time</th>\n",
       "      <th colspan=\"2\" halign=\"left\">Trump_is_a_successful_businessman</th>\n",
       "      <th colspan=\"2\" halign=\"left\">Trumps_temper_could_get_the_country_into_trouble</th>\n",
       "    </tr>\n",
       "    <tr>\n",
       "      <th>selected?</th>\n",
       "      <th>0.0</th>\n",
       "      <th>1.0</th>\n",
       "      <th>0.0</th>\n",
       "      <th>1.0</th>\n",
       "      <th>0.0</th>\n",
       "      <th>1.0</th>\n",
       "      <th>0.0</th>\n",
       "      <th>1.0</th>\n",
       "      <th>0.0</th>\n",
       "      <th>1.0</th>\n",
       "    </tr>\n",
       "    <tr>\n",
       "      <th>single_response_level</th>\n",
       "      <th></th>\n",
       "      <th></th>\n",
       "      <th></th>\n",
       "      <th></th>\n",
       "      <th></th>\n",
       "      <th></th>\n",
       "      <th></th>\n",
       "      <th></th>\n",
       "      <th></th>\n",
       "      <th></th>\n",
       "    </tr>\n",
       "  </thead>\n",
       "  <tbody>\n",
       "    <tr>\n",
       "      <th>Donald_Trump</th>\n",
       "      <td>131</td>\n",
       "      <td>51</td>\n",
       "      <td>137</td>\n",
       "      <td>45</td>\n",
       "      <td>172</td>\n",
       "      <td>10</td>\n",
       "      <td>143</td>\n",
       "      <td>39</td>\n",
       "      <td>168</td>\n",
       "      <td>14</td>\n",
       "    </tr>\n",
       "    <tr>\n",
       "      <th>Gary_Johnson</th>\n",
       "      <td>86</td>\n",
       "      <td>23</td>\n",
       "      <td>91</td>\n",
       "      <td>18</td>\n",
       "      <td>92</td>\n",
       "      <td>17</td>\n",
       "      <td>93</td>\n",
       "      <td>16</td>\n",
       "      <td>96</td>\n",
       "      <td>13</td>\n",
       "    </tr>\n",
       "    <tr>\n",
       "      <th>Hillary_Clinton</th>\n",
       "      <td>205</td>\n",
       "      <td>22</td>\n",
       "      <td>209</td>\n",
       "      <td>18</td>\n",
       "      <td>176</td>\n",
       "      <td>51</td>\n",
       "      <td>206</td>\n",
       "      <td>21</td>\n",
       "      <td>185</td>\n",
       "      <td>42</td>\n",
       "    </tr>\n",
       "    <tr>\n",
       "      <th>I_Probably_Wont_Vote</th>\n",
       "      <td>180</td>\n",
       "      <td>36</td>\n",
       "      <td>197</td>\n",
       "      <td>19</td>\n",
       "      <td>192</td>\n",
       "      <td>24</td>\n",
       "      <td>194</td>\n",
       "      <td>22</td>\n",
       "      <td>197</td>\n",
       "      <td>19</td>\n",
       "    </tr>\n",
       "    <tr>\n",
       "      <th>Jill_Stein</th>\n",
       "      <td>35</td>\n",
       "      <td>4</td>\n",
       "      <td>36</td>\n",
       "      <td>3</td>\n",
       "      <td>27</td>\n",
       "      <td>12</td>\n",
       "      <td>34</td>\n",
       "      <td>5</td>\n",
       "      <td>32</td>\n",
       "      <td>7</td>\n",
       "    </tr>\n",
       "    <tr>\n",
       "      <th>None_Of_The_Above</th>\n",
       "      <td>193</td>\n",
       "      <td>34</td>\n",
       "      <td>200</td>\n",
       "      <td>27</td>\n",
       "      <td>201</td>\n",
       "      <td>26</td>\n",
       "      <td>206</td>\n",
       "      <td>21</td>\n",
       "      <td>203</td>\n",
       "      <td>24</td>\n",
       "    </tr>\n",
       "  </tbody>\n",
       "</table>\n",
       "</div>"
      ],
      "text/plain": [
       "multiple_response_level Hillary_Clinton_is_involved_in_many_coverups      \\\n",
       "selected?                                                        0.0 1.0   \n",
       "single_response_level                                                      \n",
       "Donald_Trump                                                     131  51   \n",
       "Gary_Johnson                                                      86  23   \n",
       "Hillary_Clinton                                                  205  22   \n",
       "I_Probably_Wont_Vote                                             180  36   \n",
       "Jill_Stein                                                        35   4   \n",
       "None_Of_The_Above                                                193  34   \n",
       "\n",
       "multiple_response_level Hillary_Clinton_lied_to_the_families_of_Americans_killed_in_Benghazi  \\\n",
       "selected?                                                                                0.0   \n",
       "single_response_level                                                                          \n",
       "Donald_Trump                                                           137                     \n",
       "Gary_Johnson                                                            91                     \n",
       "Hillary_Clinton                                                        209                     \n",
       "I_Probably_Wont_Vote                                                   197                     \n",
       "Jill_Stein                                                              36                     \n",
       "None_Of_The_Above                                                      200                     \n",
       "\n",
       "multiple_response_level     Trump_changes_his_positions_all_of_the_time      \\\n",
       "selected?               1.0                                         0.0 1.0   \n",
       "single_response_level                                                         \n",
       "Donald_Trump             45                                         172  10   \n",
       "Gary_Johnson             18                                          92  17   \n",
       "Hillary_Clinton          18                                         176  51   \n",
       "I_Probably_Wont_Vote     19                                         192  24   \n",
       "Jill_Stein                3                                          27  12   \n",
       "None_Of_The_Above        27                                         201  26   \n",
       "\n",
       "multiple_response_level Trump_is_a_successful_businessman      \\\n",
       "selected?                                             0.0 1.0   \n",
       "single_response_level                                           \n",
       "Donald_Trump                                          143  39   \n",
       "Gary_Johnson                                           93  16   \n",
       "Hillary_Clinton                                       206  21   \n",
       "I_Probably_Wont_Vote                                  194  22   \n",
       "Jill_Stein                                             34   5   \n",
       "None_Of_The_Above                                     206  21   \n",
       "\n",
       "multiple_response_level Trumps_temper_could_get_the_country_into_trouble      \n",
       "selected?                                                            0.0 1.0  \n",
       "single_response_level                                                         \n",
       "Donald_Trump                                                         168  14  \n",
       "Gary_Johnson                                                          96  13  \n",
       "Hillary_Clinton                                                      185  42  \n",
       "I_Probably_Wont_Vote                                                 197  19  \n",
       "Jill_Stein                                                            32   7  \n",
       "None_Of_The_Above                                                    203  24  "
      ]
     },
     "execution_count": 18,
     "metadata": {},
     "output_type": "execute_result"
    }
   ],
   "source": [
    "multiple_response_table._build_item_response_table_for_MMI(rows_factor, columns_factor)"
   ]
  },
  {
   "cell_type": "markdown",
   "metadata": {},
   "source": [
    "Using this full item response table, that we can easily look 1 at a time at the relationship between the single response question and the individual choice options for the multiple response question. So for example we could look at the column for \"Trump_is_a_successful_businessman\" and compare whether or not respondent said yes to that statement versus which candidate she is most likely to support. We can then calculate chi-squared statistic for just that subtable. Then we repeat that process for each subtable: "
   ]
  },
  {
   "cell_type": "code",
   "execution_count": 19,
   "metadata": {
    "collapsed": false
   },
   "outputs": [
    {
     "data": {
      "text/plain": [
       "factor_level\n",
       "Hillary_Clinton_is_involved_in_many_coverups                            27.493592\n",
       "Trump_changes_his_positions_all_of_the_time                             36.511000\n",
       "Hillary_Clinton_lied_to_the_families_of_Americans_killed_in_Benghazi    33.065276\n",
       "Trump_is_a_successful_businessman                                       19.305086\n",
       "Trumps_temper_could_get_the_country_into_trouble                        16.238789\n",
       "dtype: float64"
      ]
     },
     "execution_count": 19,
     "metadata": {},
     "output_type": "execute_result"
    }
   ],
   "source": [
    "multiple_response_table._calculate_pairwise_chi2s_for_MMI_item_response_table(rows_factor, columns_factor)"
   ]
  },
  {
   "cell_type": "markdown",
   "metadata": {},
   "source": [
    "And now the hard part: each individual sub table does satisfy the requirements for a chi-square test so we could perform a chi-square test and get a p value for each sub table. The p value for each subtable reflects the likelihood of a deviation as large as we see in the specific sub table could appear by chance. But what we actually care about is the likelihood that the deviations we see in each of the sub tables could appear all at the same time.\n",
    "\n",
    "So we need a correction for the fact that we are considering multiple tables at once.\n",
    "\n",
    "The simplest correction to apply is the bonferroni correction, where we find the sub table with the lowest p value and then multiply that p value by the number of sub tables. The result is our overall p value for the relationship between the questions."
   ]
  },
  {
   "cell_type": "code",
   "execution_count": 20,
   "metadata": {
    "collapsed": false
   },
   "outputs": [
    {
     "name": "stdout",
     "output_type": "stream",
     "text": [
      "Overall table p value: 3.752624460014494e-06\n",
      "\n",
      "\n",
      "Pairwise p values (likelihood of independence between single select variable and specific multi-select option):\n"
     ]
    },
    {
     "data": {
      "text/plain": [
       "factor_level\n",
       "Hillary_Clinton_is_involved_in_many_coverups                            0.000229\n",
       "Trump_changes_his_positions_all_of_the_time                             0.000004\n",
       "Hillary_Clinton_lied_to_the_families_of_Americans_killed_in_Benghazi    0.000018\n",
       "Trump_is_a_successful_businessman                                       0.008431\n",
       "Trumps_temper_could_get_the_country_into_trouble                        0.030972\n",
       "dtype: float64"
      ]
     },
     "execution_count": 20,
     "metadata": {},
     "output_type": "execute_result"
    }
   ],
   "source": [
    "bonferroni_test = multiple_response_table._test_for_marginal_mutual_independence_using_bonferroni_correction\n",
    "results = bonferroni_test(rows_factor, columns_factor)\n",
    "table_p_value_bonferroni_corrected, pairwise_bonferroni_corrected_p_values = results\n",
    "print(\"Overall table p value: {}\\n\\n\".format(table_p_value_bonferroni_corrected))\n",
    "print(\"Pairwise p values (likelihood of independence between single select variable and specific multi-select option):\")\n",
    "pairwise_bonferroni_corrected_p_values"
   ]
  },
  {
   "cell_type": "markdown",
   "metadata": {},
   "source": [
    "Compare this p value to what we would get if we naively applied traditional chi-squared test to the simple starting contingency table just tabulated the responses:"
   ]
  },
  {
   "cell_type": "code",
   "execution_count": 21,
   "metadata": {
    "collapsed": false
   },
   "outputs": [
    {
     "name": "stdout",
     "output_type": "stream",
     "text": [
      "Naive chi-squared p value: 1.7079214808649325e-09\n",
      "The naive chi-squared method overstates our confidence by a factor of 2197.187928167561\n"
     ]
    }
   ],
   "source": [
    "_,  traditional_chi2_p_value, _, _ = chi2_contingency(multiple_response_table.table)\n",
    "print(\"Naive chi-squared p value: {}\".format(traditional_chi2_p_value))\n",
    "ratio = table_p_value_bonferroni_corrected / traditional_chi2_p_value  \n",
    "print(\"The naive chi-squared method overstates our confidence by a factor of {}\".format(ratio))"
   ]
  },
  {
   "cell_type": "markdown",
   "metadata": {},
   "source": [
    "In this particular case using the naive method that is overconfident by almost 3 orders of magnitude (i.e. it is much too quick to reject the null hypothesis of independence)\n",
    "\n",
    "A well-known problem with bonferroni correction is that it it can be too conservative (i.e. it can require an inefficiently large amount of evidence in order to reject the null hypothesis). \n",
    "\n",
    "Another test we have available use of the Rao Scott Second Order Correction to give us a p value which does not use inappropriate assumptions but is hopefully less conservative than the Bonferroni corrected p value."
   ]
  },
  {
   "cell_type": "code",
   "execution_count": 22,
   "metadata": {
    "collapsed": false
   },
   "outputs": [
    {
     "name": "stdout",
     "output_type": "stream",
     "text": [
      "Overall table p value: 3.7969627442180354e-14\n",
      "\n",
      "\n"
     ]
    }
   ],
   "source": [
    "rao_scott_test = multiple_response_table._test_for_marginal_mutual_independence_using_rao_scott_2\n",
    "table_p_value_rao_scott_corrected = rao_scott_test(rows_factor, columns_factor)\n",
    "print(\"Overall table p value: {}\\n\\n\".format(table_p_value_rao_scott_corrected))"
   ]
  },
  {
   "cell_type": "markdown",
   "metadata": {},
   "source": [
    "In this case the Rao Scott adjusted test is much less conservative, even compared to the naive chi-squared test. In this case the p value is so low that it rounds to zero."
   ]
  },
  {
   "cell_type": "markdown",
   "metadata": {},
   "source": [
    "## Multiple response versus multiple response"
   ]
  },
  {
   "cell_type": "markdown",
   "metadata": {},
   "source": [
    "When we compare two (or more) multiple response questions against each other (e.g. question 2 versus question 3 in our sample presidential survey), we test for **simultaneous pairwise mutual independence (SPMI)**, i.e. whether each possible choice on one multiple response question is simultaneously indepedent of each possible choice on a different multiple response question.\n",
    "\n",
    "Once again, we treat each multiple response question as a compound of individual \"sub-questions\", one for each answer option (i.e. \"does A apply (yes/no)? Does B apply (yes/no)?\" Then we say that the multiple response questions have simultaneous pairwise mutual independence if each answer choice in the first question is simultaneously independent of each answer choice in the second question.\n",
    "\n",
    "As before we start by building a full \"item response table\" comparing answer choice on the first question each answer choice on the second question:\n"
   ]
  },
  {
   "cell_type": "code",
   "execution_count": 25,
   "metadata": {
    "collapsed": false
   },
   "outputs": [],
   "source": [
    "rows_factor = Factor(data.data.iloc[:, 6:11], \"believe_true\", orientation=\"wide\")\n",
    "columns_factor = Factor(data.data.iloc[:, 11:], \"why_uncertain\", orientation=\"wide\")\n"
   ]
  },
  {
   "cell_type": "code",
   "execution_count": 26,
   "metadata": {
    "collapsed": false
   },
   "outputs": [
    {
     "data": {
      "text/html": [
       "<div>\n",
       "<table border=\"1\" class=\"dataframe\">\n",
       "  <thead>\n",
       "    <tr>\n",
       "      <th></th>\n",
       "      <th>column_levels</th>\n",
       "      <th colspan=\"2\" halign=\"left\">I_wish_another_candidate_had_won_the_primary</th>\n",
       "      <th colspan=\"2\" halign=\"left\">Need_to_do_more_research</th>\n",
       "      <th colspan=\"2\" halign=\"left\">Dont_like__any_candidate</th>\n",
       "      <th colspan=\"2\" halign=\"left\">Not_sure_which_candidate_shares_my_values</th>\n",
       "      <th colspan=\"2\" halign=\"left\">Waiting_for_debates</th>\n",
       "    </tr>\n",
       "    <tr>\n",
       "      <th></th>\n",
       "      <th>selected?</th>\n",
       "      <th>0.0</th>\n",
       "      <th>1.0</th>\n",
       "      <th>0.0</th>\n",
       "      <th>1.0</th>\n",
       "      <th>0.0</th>\n",
       "      <th>1.0</th>\n",
       "      <th>0.0</th>\n",
       "      <th>1.0</th>\n",
       "      <th>0.0</th>\n",
       "      <th>1.0</th>\n",
       "    </tr>\n",
       "    <tr>\n",
       "      <th>row_levels</th>\n",
       "      <th>selected?</th>\n",
       "      <th></th>\n",
       "      <th></th>\n",
       "      <th></th>\n",
       "      <th></th>\n",
       "      <th></th>\n",
       "      <th></th>\n",
       "      <th></th>\n",
       "      <th></th>\n",
       "      <th></th>\n",
       "      <th></th>\n",
       "    </tr>\n",
       "  </thead>\n",
       "  <tbody>\n",
       "    <tr>\n",
       "      <th rowspan=\"2\" valign=\"top\">Hillary_Clinton_is_involved_in_many_coverups</th>\n",
       "      <th>0.0</th>\n",
       "      <td>683</td>\n",
       "      <td>147</td>\n",
       "      <td>661</td>\n",
       "      <td>169</td>\n",
       "      <td>720</td>\n",
       "      <td>110</td>\n",
       "      <td>719</td>\n",
       "      <td>111</td>\n",
       "      <td>719</td>\n",
       "      <td>111</td>\n",
       "    </tr>\n",
       "    <tr>\n",
       "      <th>1.0</th>\n",
       "      <td>121</td>\n",
       "      <td>49</td>\n",
       "      <td>155</td>\n",
       "      <td>15</td>\n",
       "      <td>126</td>\n",
       "      <td>44</td>\n",
       "      <td>148</td>\n",
       "      <td>22</td>\n",
       "      <td>158</td>\n",
       "      <td>12</td>\n",
       "    </tr>\n",
       "    <tr>\n",
       "      <th rowspan=\"2\" valign=\"top\">Trump_changes_his_positions_all_of_the_time</th>\n",
       "      <th>0.0</th>\n",
       "      <td>703</td>\n",
       "      <td>157</td>\n",
       "      <td>702</td>\n",
       "      <td>158</td>\n",
       "      <td>721</td>\n",
       "      <td>139</td>\n",
       "      <td>750</td>\n",
       "      <td>110</td>\n",
       "      <td>747</td>\n",
       "      <td>113</td>\n",
       "    </tr>\n",
       "    <tr>\n",
       "      <th>1.0</th>\n",
       "      <td>101</td>\n",
       "      <td>39</td>\n",
       "      <td>114</td>\n",
       "      <td>26</td>\n",
       "      <td>125</td>\n",
       "      <td>15</td>\n",
       "      <td>117</td>\n",
       "      <td>23</td>\n",
       "      <td>130</td>\n",
       "      <td>10</td>\n",
       "    </tr>\n",
       "    <tr>\n",
       "      <th rowspan=\"2\" valign=\"top\">Hillary_Clinton_lied_to_the_families_of_Americans_killed_in_Benghazi</th>\n",
       "      <th>0.0</th>\n",
       "      <td>685</td>\n",
       "      <td>185</td>\n",
       "      <td>713</td>\n",
       "      <td>157</td>\n",
       "      <td>748</td>\n",
       "      <td>122</td>\n",
       "      <td>752</td>\n",
       "      <td>118</td>\n",
       "      <td>777</td>\n",
       "      <td>93</td>\n",
       "    </tr>\n",
       "    <tr>\n",
       "      <th>1.0</th>\n",
       "      <td>119</td>\n",
       "      <td>11</td>\n",
       "      <td>103</td>\n",
       "      <td>27</td>\n",
       "      <td>98</td>\n",
       "      <td>32</td>\n",
       "      <td>115</td>\n",
       "      <td>15</td>\n",
       "      <td>100</td>\n",
       "      <td>30</td>\n",
       "    </tr>\n",
       "    <tr>\n",
       "      <th rowspan=\"2\" valign=\"top\">Trump_is_a_successful_businessman</th>\n",
       "      <th>0.0</th>\n",
       "      <td>715</td>\n",
       "      <td>161</td>\n",
       "      <td>709</td>\n",
       "      <td>167</td>\n",
       "      <td>753</td>\n",
       "      <td>123</td>\n",
       "      <td>759</td>\n",
       "      <td>117</td>\n",
       "      <td>761</td>\n",
       "      <td>115</td>\n",
       "    </tr>\n",
       "    <tr>\n",
       "      <th>1.0</th>\n",
       "      <td>89</td>\n",
       "      <td>35</td>\n",
       "      <td>107</td>\n",
       "      <td>17</td>\n",
       "      <td>93</td>\n",
       "      <td>31</td>\n",
       "      <td>108</td>\n",
       "      <td>16</td>\n",
       "      <td>116</td>\n",
       "      <td>8</td>\n",
       "    </tr>\n",
       "    <tr>\n",
       "      <th rowspan=\"2\" valign=\"top\">Trumps_temper_could_get_the_country_into_trouble</th>\n",
       "      <th>0.0</th>\n",
       "      <td>692</td>\n",
       "      <td>189</td>\n",
       "      <td>715</td>\n",
       "      <td>166</td>\n",
       "      <td>763</td>\n",
       "      <td>118</td>\n",
       "      <td>774</td>\n",
       "      <td>107</td>\n",
       "      <td>771</td>\n",
       "      <td>110</td>\n",
       "    </tr>\n",
       "    <tr>\n",
       "      <th>1.0</th>\n",
       "      <td>112</td>\n",
       "      <td>7</td>\n",
       "      <td>101</td>\n",
       "      <td>18</td>\n",
       "      <td>83</td>\n",
       "      <td>36</td>\n",
       "      <td>93</td>\n",
       "      <td>26</td>\n",
       "      <td>106</td>\n",
       "      <td>13</td>\n",
       "    </tr>\n",
       "  </tbody>\n",
       "</table>\n",
       "</div>"
      ],
      "text/plain": [
       "column_levels                                                I_wish_another_candidate_had_won_the_primary  \\\n",
       "selected?                                                                                             0.0   \n",
       "row_levels                                         selected?                                                \n",
       "Hillary_Clinton_is_involved_in_many_coverups       0.0                                                683   \n",
       "                                                   1.0                                                121   \n",
       "Trump_changes_his_positions_all_of_the_time        0.0                                                703   \n",
       "                                                   1.0                                                101   \n",
       "Hillary_Clinton_lied_to_the_families_of_America... 0.0                                                685   \n",
       "                                                   1.0                                                119   \n",
       "Trump_is_a_successful_businessman                  0.0                                                715   \n",
       "                                                   1.0                                                 89   \n",
       "Trumps_temper_could_get_the_country_into_trouble   0.0                                                692   \n",
       "                                                   1.0                                                112   \n",
       "\n",
       "column_levels                                                      \\\n",
       "selected?                                                     1.0   \n",
       "row_levels                                         selected?        \n",
       "Hillary_Clinton_is_involved_in_many_coverups       0.0        147   \n",
       "                                                   1.0         49   \n",
       "Trump_changes_his_positions_all_of_the_time        0.0        157   \n",
       "                                                   1.0         39   \n",
       "Hillary_Clinton_lied_to_the_families_of_America... 0.0        185   \n",
       "                                                   1.0         11   \n",
       "Trump_is_a_successful_businessman                  0.0        161   \n",
       "                                                   1.0         35   \n",
       "Trumps_temper_could_get_the_country_into_trouble   0.0        189   \n",
       "                                                   1.0          7   \n",
       "\n",
       "column_levels                                                Need_to_do_more_research  \\\n",
       "selected?                                                                         0.0   \n",
       "row_levels                                         selected?                            \n",
       "Hillary_Clinton_is_involved_in_many_coverups       0.0                            661   \n",
       "                                                   1.0                            155   \n",
       "Trump_changes_his_positions_all_of_the_time        0.0                            702   \n",
       "                                                   1.0                            114   \n",
       "Hillary_Clinton_lied_to_the_families_of_America... 0.0                            713   \n",
       "                                                   1.0                            103   \n",
       "Trump_is_a_successful_businessman                  0.0                            709   \n",
       "                                                   1.0                            107   \n",
       "Trumps_temper_could_get_the_country_into_trouble   0.0                            715   \n",
       "                                                   1.0                            101   \n",
       "\n",
       "column_levels                                                      \\\n",
       "selected?                                                     1.0   \n",
       "row_levels                                         selected?        \n",
       "Hillary_Clinton_is_involved_in_many_coverups       0.0        169   \n",
       "                                                   1.0         15   \n",
       "Trump_changes_his_positions_all_of_the_time        0.0        158   \n",
       "                                                   1.0         26   \n",
       "Hillary_Clinton_lied_to_the_families_of_America... 0.0        157   \n",
       "                                                   1.0         27   \n",
       "Trump_is_a_successful_businessman                  0.0        167   \n",
       "                                                   1.0         17   \n",
       "Trumps_temper_could_get_the_country_into_trouble   0.0        166   \n",
       "                                                   1.0         18   \n",
       "\n",
       "column_levels                                                Dont_like__any_candidate  \\\n",
       "selected?                                                                         0.0   \n",
       "row_levels                                         selected?                            \n",
       "Hillary_Clinton_is_involved_in_many_coverups       0.0                            720   \n",
       "                                                   1.0                            126   \n",
       "Trump_changes_his_positions_all_of_the_time        0.0                            721   \n",
       "                                                   1.0                            125   \n",
       "Hillary_Clinton_lied_to_the_families_of_America... 0.0                            748   \n",
       "                                                   1.0                             98   \n",
       "Trump_is_a_successful_businessman                  0.0                            753   \n",
       "                                                   1.0                             93   \n",
       "Trumps_temper_could_get_the_country_into_trouble   0.0                            763   \n",
       "                                                   1.0                             83   \n",
       "\n",
       "column_levels                                                      \\\n",
       "selected?                                                     1.0   \n",
       "row_levels                                         selected?        \n",
       "Hillary_Clinton_is_involved_in_many_coverups       0.0        110   \n",
       "                                                   1.0         44   \n",
       "Trump_changes_his_positions_all_of_the_time        0.0        139   \n",
       "                                                   1.0         15   \n",
       "Hillary_Clinton_lied_to_the_families_of_America... 0.0        122   \n",
       "                                                   1.0         32   \n",
       "Trump_is_a_successful_businessman                  0.0        123   \n",
       "                                                   1.0         31   \n",
       "Trumps_temper_could_get_the_country_into_trouble   0.0        118   \n",
       "                                                   1.0         36   \n",
       "\n",
       "column_levels                                                Not_sure_which_candidate_shares_my_values  \\\n",
       "selected?                                                                                          0.0   \n",
       "row_levels                                         selected?                                             \n",
       "Hillary_Clinton_is_involved_in_many_coverups       0.0                                             719   \n",
       "                                                   1.0                                             148   \n",
       "Trump_changes_his_positions_all_of_the_time        0.0                                             750   \n",
       "                                                   1.0                                             117   \n",
       "Hillary_Clinton_lied_to_the_families_of_America... 0.0                                             752   \n",
       "                                                   1.0                                             115   \n",
       "Trump_is_a_successful_businessman                  0.0                                             759   \n",
       "                                                   1.0                                             108   \n",
       "Trumps_temper_could_get_the_country_into_trouble   0.0                                             774   \n",
       "                                                   1.0                                              93   \n",
       "\n",
       "column_levels                                                      \\\n",
       "selected?                                                     1.0   \n",
       "row_levels                                         selected?        \n",
       "Hillary_Clinton_is_involved_in_many_coverups       0.0        111   \n",
       "                                                   1.0         22   \n",
       "Trump_changes_his_positions_all_of_the_time        0.0        110   \n",
       "                                                   1.0         23   \n",
       "Hillary_Clinton_lied_to_the_families_of_America... 0.0        118   \n",
       "                                                   1.0         15   \n",
       "Trump_is_a_successful_businessman                  0.0        117   \n",
       "                                                   1.0         16   \n",
       "Trumps_temper_could_get_the_country_into_trouble   0.0        107   \n",
       "                                                   1.0         26   \n",
       "\n",
       "column_levels                                                Waiting_for_debates  \\\n",
       "selected?                                                                    0.0   \n",
       "row_levels                                         selected?                       \n",
       "Hillary_Clinton_is_involved_in_many_coverups       0.0                       719   \n",
       "                                                   1.0                       158   \n",
       "Trump_changes_his_positions_all_of_the_time        0.0                       747   \n",
       "                                                   1.0                       130   \n",
       "Hillary_Clinton_lied_to_the_families_of_America... 0.0                       777   \n",
       "                                                   1.0                       100   \n",
       "Trump_is_a_successful_businessman                  0.0                       761   \n",
       "                                                   1.0                       116   \n",
       "Trumps_temper_could_get_the_country_into_trouble   0.0                       771   \n",
       "                                                   1.0                       106   \n",
       "\n",
       "column_levels                                                      \n",
       "selected?                                                     1.0  \n",
       "row_levels                                         selected?       \n",
       "Hillary_Clinton_is_involved_in_many_coverups       0.0        111  \n",
       "                                                   1.0         12  \n",
       "Trump_changes_his_positions_all_of_the_time        0.0        113  \n",
       "                                                   1.0         10  \n",
       "Hillary_Clinton_lied_to_the_families_of_America... 0.0         93  \n",
       "                                                   1.0         30  \n",
       "Trump_is_a_successful_businessman                  0.0        115  \n",
       "                                                   1.0          8  \n",
       "Trumps_temper_could_get_the_country_into_trouble   0.0        110  \n",
       "                                                   1.0         13  "
      ]
     },
     "execution_count": 26,
     "metadata": {},
     "output_type": "execute_result"
    }
   ],
   "source": [
    "multiple_response_table._build_item_response_table_for_SPMI(rows_factor, columns_factor)"
   ]
  },
  {
   "cell_type": "markdown",
   "metadata": {},
   "source": [
    "Now as before we can calculate a chi-squared statistic for each individual pairing of column level and row level:\n"
   ]
  },
  {
   "cell_type": "code",
   "execution_count": 27,
   "metadata": {
    "collapsed": false
   },
   "outputs": [
    {
     "data": {
      "text/html": [
       "<div>\n",
       "<table border=\"1\" class=\"dataframe\">\n",
       "  <thead>\n",
       "    <tr style=\"text-align: right;\">\n",
       "      <th>column_levels</th>\n",
       "      <th>I_wish_another_candidate_had_won_the_primary</th>\n",
       "      <th>Need_to_do_more_research</th>\n",
       "      <th>Dont_like__any_candidate</th>\n",
       "      <th>Not_sure_which_candidate_shares_my_values</th>\n",
       "      <th>Waiting_for_debates</th>\n",
       "    </tr>\n",
       "    <tr>\n",
       "      <th>row_levels</th>\n",
       "      <th></th>\n",
       "      <th></th>\n",
       "      <th></th>\n",
       "      <th></th>\n",
       "      <th></th>\n",
       "    </tr>\n",
       "  </thead>\n",
       "  <tbody>\n",
       "    <tr>\n",
       "      <th>Hillary_Clinton_is_involved_in_many_coverups</th>\n",
       "      <td>11.0574</td>\n",
       "      <td>12.5105</td>\n",
       "      <td>17.2742</td>\n",
       "      <td>0.0228698</td>\n",
       "      <td>5.21583</td>\n",
       "    </tr>\n",
       "    <tr>\n",
       "      <th>Trump_changes_his_positions_all_of_the_time</th>\n",
       "      <td>7.04331</td>\n",
       "      <td>0.00318631</td>\n",
       "      <td>2.74341</td>\n",
       "      <td>1.38182</td>\n",
       "      <td>4.01368</td>\n",
       "    </tr>\n",
       "    <tr>\n",
       "      <th>Hillary_Clinton_lied_to_the_families_of_Americans_killed_in_Benghazi</th>\n",
       "      <td>11.7642</td>\n",
       "      <td>0.558638</td>\n",
       "      <td>9.74002</td>\n",
       "      <td>0.402103</td>\n",
       "      <td>16.0883</td>\n",
       "    </tr>\n",
       "    <tr>\n",
       "      <th>Trump_is_a_successful_businessman</th>\n",
       "      <td>6.68351</td>\n",
       "      <td>2.07403</td>\n",
       "      <td>10.0131</td>\n",
       "      <td>0.0193256</td>\n",
       "      <td>4.48833</td>\n",
       "    </tr>\n",
       "    <tr>\n",
       "      <th>Trumps_temper_could_get_the_country_into_trouble</th>\n",
       "      <td>16.1294</td>\n",
       "      <td>0.964289</td>\n",
       "      <td>22.8695</td>\n",
       "      <td>8.56061</td>\n",
       "      <td>0.236957</td>\n",
       "    </tr>\n",
       "  </tbody>\n",
       "</table>\n",
       "</div>"
      ],
      "text/plain": [
       "column_levels                                      I_wish_another_candidate_had_won_the_primary  \\\n",
       "row_levels                                                                                        \n",
       "Hillary_Clinton_is_involved_in_many_coverups                                            11.0574   \n",
       "Trump_changes_his_positions_all_of_the_time                                             7.04331   \n",
       "Hillary_Clinton_lied_to_the_families_of_America...                                      11.7642   \n",
       "Trump_is_a_successful_businessman                                                       6.68351   \n",
       "Trumps_temper_could_get_the_country_into_trouble                                        16.1294   \n",
       "\n",
       "column_levels                                      Need_to_do_more_research  \\\n",
       "row_levels                                                                    \n",
       "Hillary_Clinton_is_involved_in_many_coverups                        12.5105   \n",
       "Trump_changes_his_positions_all_of_the_time                      0.00318631   \n",
       "Hillary_Clinton_lied_to_the_families_of_America...                 0.558638   \n",
       "Trump_is_a_successful_businessman                                   2.07403   \n",
       "Trumps_temper_could_get_the_country_into_trouble                   0.964289   \n",
       "\n",
       "column_levels                                      Dont_like__any_candidate  \\\n",
       "row_levels                                                                    \n",
       "Hillary_Clinton_is_involved_in_many_coverups                        17.2742   \n",
       "Trump_changes_his_positions_all_of_the_time                         2.74341   \n",
       "Hillary_Clinton_lied_to_the_families_of_America...                  9.74002   \n",
       "Trump_is_a_successful_businessman                                   10.0131   \n",
       "Trumps_temper_could_get_the_country_into_trouble                    22.8695   \n",
       "\n",
       "column_levels                                      Not_sure_which_candidate_shares_my_values  \\\n",
       "row_levels                                                                                     \n",
       "Hillary_Clinton_is_involved_in_many_coverups                                       0.0228698   \n",
       "Trump_changes_his_positions_all_of_the_time                                          1.38182   \n",
       "Hillary_Clinton_lied_to_the_families_of_America...                                  0.402103   \n",
       "Trump_is_a_successful_businessman                                                  0.0193256   \n",
       "Trumps_temper_could_get_the_country_into_trouble                                     8.56061   \n",
       "\n",
       "column_levels                                      Waiting_for_debates  \n",
       "row_levels                                                              \n",
       "Hillary_Clinton_is_involved_in_many_coverups                   5.21583  \n",
       "Trump_changes_his_positions_all_of_the_time                    4.01368  \n",
       "Hillary_Clinton_lied_to_the_families_of_America...             16.0883  \n",
       "Trump_is_a_successful_businessman                              4.48833  \n",
       "Trumps_temper_could_get_the_country_into_trouble              0.236957  "
      ]
     },
     "execution_count": 27,
     "metadata": {},
     "output_type": "execute_result"
    }
   ],
   "source": [
    "multiple_response_table._calculate_pairwise_chi2s_for_SPMI_item_response_table(rows_factor, columns_factor)"
   ]
  },
  {
   "cell_type": "markdown",
   "metadata": {},
   "source": [
    "Now we have to determine how likely it is to get chi-squared statistics this large in each of those cells of the same time. Once again the simplest way to do that is to apply a bonferroni correction, i.e. calculate a p value for each cell using a chi-square distribution and multiply the p value by the total number of cells. "
   ]
  },
  {
   "cell_type": "code",
   "execution_count": 28,
   "metadata": {
    "collapsed": false
   },
   "outputs": [
    {
     "name": "stdout",
     "output_type": "stream",
     "text": [
      "Overall table p value: 4.3346430242129665e-05\n",
      "\n",
      "\n",
      "Pairwise p values (likelihood of independence between single select variable and specific multi-select option):\n"
     ]
    },
    {
     "data": {
      "text/html": [
       "<div>\n",
       "<table border=\"1\" class=\"dataframe\">\n",
       "  <thead>\n",
       "    <tr style=\"text-align: right;\">\n",
       "      <th>column_levels</th>\n",
       "      <th>I_wish_another_candidate_had_won_the_primary</th>\n",
       "      <th>Need_to_do_more_research</th>\n",
       "      <th>Dont_like__any_candidate</th>\n",
       "      <th>Not_sure_which_candidate_shares_my_values</th>\n",
       "      <th>Waiting_for_debates</th>\n",
       "    </tr>\n",
       "    <tr>\n",
       "      <th>row_levels</th>\n",
       "      <th></th>\n",
       "      <th></th>\n",
       "      <th></th>\n",
       "      <th></th>\n",
       "      <th></th>\n",
       "    </tr>\n",
       "  </thead>\n",
       "  <tbody>\n",
       "    <tr>\n",
       "      <th>Hillary_Clinton_is_involved_in_many_coverups</th>\n",
       "      <td>0.022083</td>\n",
       "      <td>0.010117</td>\n",
       "      <td>0.000809</td>\n",
       "      <td>1.000000</td>\n",
       "      <td>0.559553</td>\n",
       "    </tr>\n",
       "    <tr>\n",
       "      <th>Trump_changes_his_positions_all_of_the_time</th>\n",
       "      <td>0.198904</td>\n",
       "      <td>1.000000</td>\n",
       "      <td>1.000000</td>\n",
       "      <td>1.000000</td>\n",
       "      <td>1.000000</td>\n",
       "    </tr>\n",
       "    <tr>\n",
       "      <th>Hillary_Clinton_lied_to_the_families_of_Americans_killed_in_Benghazi</th>\n",
       "      <td>0.015095</td>\n",
       "      <td>1.000000</td>\n",
       "      <td>0.045075</td>\n",
       "      <td>1.000000</td>\n",
       "      <td>0.001511</td>\n",
       "    </tr>\n",
       "    <tr>\n",
       "      <th>Trump_is_a_successful_businessman</th>\n",
       "      <td>0.243271</td>\n",
       "      <td>1.000000</td>\n",
       "      <td>0.038857</td>\n",
       "      <td>1.000000</td>\n",
       "      <td>0.853173</td>\n",
       "    </tr>\n",
       "    <tr>\n",
       "      <th>Trumps_temper_could_get_the_country_into_trouble</th>\n",
       "      <td>0.001479</td>\n",
       "      <td>1.000000</td>\n",
       "      <td>0.000043</td>\n",
       "      <td>0.085879</td>\n",
       "      <td>1.000000</td>\n",
       "    </tr>\n",
       "  </tbody>\n",
       "</table>\n",
       "</div>"
      ],
      "text/plain": [
       "column_levels                                       I_wish_another_candidate_had_won_the_primary  \\\n",
       "row_levels                                                                                         \n",
       "Hillary_Clinton_is_involved_in_many_coverups                                            0.022083   \n",
       "Trump_changes_his_positions_all_of_the_time                                             0.198904   \n",
       "Hillary_Clinton_lied_to_the_families_of_America...                                      0.015095   \n",
       "Trump_is_a_successful_businessman                                                       0.243271   \n",
       "Trumps_temper_could_get_the_country_into_trouble                                        0.001479   \n",
       "\n",
       "column_levels                                       Need_to_do_more_research  \\\n",
       "row_levels                                                                     \n",
       "Hillary_Clinton_is_involved_in_many_coverups                        0.010117   \n",
       "Trump_changes_his_positions_all_of_the_time                         1.000000   \n",
       "Hillary_Clinton_lied_to_the_families_of_America...                  1.000000   \n",
       "Trump_is_a_successful_businessman                                   1.000000   \n",
       "Trumps_temper_could_get_the_country_into_trouble                    1.000000   \n",
       "\n",
       "column_levels                                       Dont_like__any_candidate  \\\n",
       "row_levels                                                                     \n",
       "Hillary_Clinton_is_involved_in_many_coverups                        0.000809   \n",
       "Trump_changes_his_positions_all_of_the_time                         1.000000   \n",
       "Hillary_Clinton_lied_to_the_families_of_America...                  0.045075   \n",
       "Trump_is_a_successful_businessman                                   0.038857   \n",
       "Trumps_temper_could_get_the_country_into_trouble                    0.000043   \n",
       "\n",
       "column_levels                                       Not_sure_which_candidate_shares_my_values  \\\n",
       "row_levels                                                                                      \n",
       "Hillary_Clinton_is_involved_in_many_coverups                                         1.000000   \n",
       "Trump_changes_his_positions_all_of_the_time                                          1.000000   \n",
       "Hillary_Clinton_lied_to_the_families_of_America...                                   1.000000   \n",
       "Trump_is_a_successful_businessman                                                    1.000000   \n",
       "Trumps_temper_could_get_the_country_into_trouble                                     0.085879   \n",
       "\n",
       "column_levels                                       Waiting_for_debates  \n",
       "row_levels                                                               \n",
       "Hillary_Clinton_is_involved_in_many_coverups                   0.559553  \n",
       "Trump_changes_his_positions_all_of_the_time                    1.000000  \n",
       "Hillary_Clinton_lied_to_the_families_of_America...             0.001511  \n",
       "Trump_is_a_successful_businessman                              0.853173  \n",
       "Trumps_temper_could_get_the_country_into_trouble               1.000000  "
      ]
     },
     "execution_count": 28,
     "metadata": {},
     "output_type": "execute_result"
    }
   ],
   "source": [
    "bonferroni_test = multiple_response_table._test_for_single_pairwise_mutual_independence_using_bonferroni\n",
    "results = bonferroni_test(rows_factor, columns_factor)\n",
    "table_p_value_bonferroni_corrected, pairwise_bonferroni_corrected_p_values = results\n",
    "print(\"Overall table p value: {}\\n\\n\".format(table_p_value_bonferroni_corrected))\n",
    "print(\"Pairwise p values (likelihood of independence between single select variable and specific multi-select option):\")\n",
    "pairwise_bonferroni_corrected_p_values"
   ]
  },
  {
   "cell_type": "markdown",
   "metadata": {},
   "source": [
    "Let's compare this result versus the p value we would get by applying a traditional chi-squared test:"
   ]
  },
  {
   "cell_type": "code",
   "execution_count": 29,
   "metadata": {
    "collapsed": false
   },
   "outputs": [
    {
     "name": "stdout",
     "output_type": "stream",
     "text": [
      "Naive chi-squared p value: 1.7079214808649325e-09\n",
      "The naive chi-squared method overstates our confidence by a factor of 25379.63877600391\n"
     ]
    }
   ],
   "source": [
    "_,  traditional_chi2_p_value, _, _ = chi2_contingency(multiple_response_table.table)\n",
    "print(\"Naive chi-squared p value: {}\".format(traditional_chi2_p_value))\n",
    "ratio = table_p_value_bonferroni_corrected / traditional_chi2_p_value  \n",
    "print(\"The naive chi-squared method overstates our confidence by a factor of {}\".format(ratio))"
   ]
  },
  {
   "cell_type": "markdown",
   "metadata": {},
   "source": [
    "In this case the traditional chi-squared test overstates our confidence by four orders of magnitude.\n",
    "\n",
    "However we know that the bonferroni-adjustment can be conservative so we can try a 2nd order Rao Scott correction:"
   ]
  },
  {
   "cell_type": "code",
   "execution_count": 30,
   "metadata": {
    "collapsed": false
   },
   "outputs": [
    {
     "name": "stdout",
     "output_type": "stream",
     "text": [
      "Overall table p value: 0.0\n",
      "\n",
      "\n"
     ]
    }
   ],
   "source": [
    "rao_scott_test = multiple_response_table._test_for_single_pairwise_mutual_independence_using_rao_scott_2\n",
    "table_p_value_rao_scott_corrected = rao_scott_test(rows_factor, columns_factor)\n",
    "print(\"Overall table p value: {}\\n\\n\".format(table_p_value_rao_scott_corrected))"
   ]
  },
  {
   "cell_type": "markdown",
   "metadata": {},
   "source": [
    "Both the bonferroni and the row scott methods require us to make some assumptions about the distribution of the deviations we observe in our response table. Ever not comfortable making assumptions we can instead use a nonparametric method by running a bootstrap simulation to approximate the distribution of deviations. The bootstrap method is more computationally intensive but allows us to estimate the p value using fewer assumptions."
   ]
  },
  {
   "cell_type": "raw",
   "metadata": {
    "collapsed": false
   },
   "source": [
    "bootstrap_test = multiple_response_table._test_for_single_pairwise_mutual_independence_using_bootstrap\n",
    "results = bootstrap_test(rows_factor, columns_factor, verbose=True)\n",
    "table_p_value_bootstrap, pairwise_bootstrap_p_values = results\n",
    "print(\"Overall table p value: {}\\n\\n\".format(table_p_value_bootstrap))\n",
    "print(\"Pairwise p values (likelihood of independence between single select variable and specific multi-select option):\")\n",
    "pairwise_bootstrap_p_values"
   ]
  },
  {
   "cell_type": "markdown",
   "metadata": {},
   "source": [
    "## Appendix A: Validating size"
   ]
  },
  {
   "cell_type": "code",
   "execution_count": 31,
   "metadata": {
    "collapsed": true
   },
   "outputs": [],
   "source": [
    "def build_random_single_select():\n",
    "    car_type = np.random.randint(3, size=(10000)) + 1\n",
    "    base_pop = pd.DataFrame(car_type).reset_index()\n",
    "    base_pop.columns = ['person', 'choice']\n",
    "    base_pop['_response'] = 1\n",
    "    dataframe = pd.pivot_table(base_pop,\n",
    "                               values='_response',\n",
    "                               fill_value=0,\n",
    "                               index='person',\n",
    "                               columns='choice',\n",
    "                               aggfunc=np.sum,\n",
    "                               margins=False)\n",
    "    car_choice = dataframe.copy()\n",
    "    car_choice.columns = [\"sedan\", \"truck\", \"motorcycle\"]\n",
    "    return car_choice"
   ]
  },
  {
   "cell_type": "code",
   "execution_count": 32,
   "metadata": {
    "collapsed": false
   },
   "outputs": [],
   "source": [
    "food_choices = pd.DataFrame(np.random.randint(2, size=(10000, 5)),\n",
    "                                columns=[\"eggs\", \"cheese\", \"candy\", \"sushi\", \"none\"])\n",
    "car_choice = build_random_single_select()\n",
    "language = pd.DataFrame(np.random.randint(2, size=(10000, 5)),\n",
    "                                columns=[\"English\", \"French\", \"Mandarin\", \"Hungarian\", \"none\"])"
   ]
  },
  {
   "cell_type": "code",
   "execution_count": 35,
   "metadata": {
    "collapsed": false
   },
   "outputs": [
    {
     "name": "stdout",
     "output_type": "stream",
     "text": [
      "0\n",
      "50\n",
      "100\n",
      "150\n",
      "200\n",
      "250\n",
      "300\n",
      "350\n",
      "400\n",
      "450\n",
      "500\n",
      "550\n",
      "600\n",
      "650\n",
      "700\n",
      "750\n",
      "800\n",
      "850\n",
      "900\n",
      "950\n"
     ]
    },
    {
     "data": {
      "text/plain": [
       "0.018"
      ]
     },
     "execution_count": 35,
     "metadata": {},
     "output_type": "execute_result"
    },
    {
     "data": {
      "image/png": "[encoded data removed]",
      "text/plain": [
       "<matplotlib.figure.Figure at 0x117022518>"
      ]
     },
     "metadata": {},
     "output_type": "display_data"
    }
   ],
   "source": [
    "n = 1000\n",
    "k = 1000\n",
    "p_values = []\n",
    "for i in range(0, k):\n",
    "    if i % 50 == 0:\n",
    "        print(i)\n",
    "    srcv = Factor(car_choice.sample(n), \"car_choice\", orientation=\"wide\")\n",
    "    mrcv = Factor(food_choices.sample(n), \"food_choices\", orientation=\"wide\")\n",
    "    multiple_response_table = MRCVTable([srcv, ], [mrcv,])\n",
    "    rao_scott_2_test = multiple_response_table._test_for_marginal_mutual_independence_using_rao_scott_2\n",
    "    table_p_value = rao_scott_2_test(srcv, mrcv)\n",
    "    p_values.append(table_p_value)\n",
    "np.mean(p_values)\n",
    "\n",
    "p_value_series = pd.Series(p_values)\n",
    "p_value_series.hist(bins=20)\n",
    "len(p_value_series[p_value_series < 0.05]) / len(p_value_series)"
   ]
  },
  {
   "cell_type": "markdown",
   "metadata": {},
   "source": [
    "## Appendix B -- Degenerate Cases"
   ]
  },
  {
   "cell_type": "code",
   "execution_count": 99,
   "metadata": {
    "collapsed": false
   },
   "outputs": [
    {
     "data": {
      "text/plain": [
       "(nan, column_levels  Yes  No\n",
       " row_levels            \n",
       " Yes            NaN NaN\n",
       " No             NaN NaN)"
      ]
     },
     "execution_count": 99,
     "metadata": {},
     "output_type": "execute_result"
    }
   ],
   "source": [
    "import contingency_tables as ctab\n",
    "a = np.ones((1000, 2))\n",
    "b = np.ones((1000, 2))\n",
    "labels = [\"Yes\", \"No\"]\n",
    "mrcv_1 = ctab.Factor.from_array(a, labels, \"alive\", orientation=\"wide\", multiple_response=True)\n",
    "mrcv_2 = ctab.Factor.from_array(b, labels, \"cool\", orientation=\"wide\", multiple_response=True)\n",
    "multiple_response_table = ctab.MRCVTable([mrcv_1, ], [mrcv_2, ])\n",
    "multiple_response_table.test_for_independence()"
   ]
  },
  {
   "cell_type": "code",
   "execution_count": 68,
   "metadata": {
    "collapsed": false
   },
   "outputs": [
    {
     "name": "stdout",
     "output_type": "stream",
     "text": [
      "[23] > \u001b[33;01m/Users/gjlondon/programming/open_source/statsmodels/statsmodels/stats/contingency_tables.py\u001b[00m(\u001b[36;01m1673\u001b[00m)_calculate_pairwise_chi2s_for_SPMI_item_response_table()\n",
      "-> crosstab = item_response_table.iloc[(i, i+1), (j, j+1)]\n",
      "(Pdb++) c\n",
      "[23] > \u001b[33;01m/Users/gjlondon/programming/open_source/statsmodels/statsmodels/stats/contingency_tables.py\u001b[00m(\u001b[36;01m1672\u001b[00m)_calculate_pairwise_chi2s_for_SPMI_item_response_table()\n",
      "-> pdb.set_trace()\n",
      "(Pdb++) c\n",
      "[23] > \u001b[33;01m/Users/gjlondon/programming/open_source/statsmodels/statsmodels/stats/contingency_tables.py\u001b[00m(\u001b[36;01m1673\u001b[00m)_calculate_pairwise_chi2s_for_SPMI_item_response_table()\n",
      "-> crosstab = item_response_table.iloc[(i, i+1), (j, j+1)]\n",
      "(Pdb++) c\n",
      "[23] > \u001b[33;01m/Users/gjlondon/programming/open_source/statsmodels/statsmodels/stats/contingency_tables.py\u001b[00m(\u001b[36;01m1672\u001b[00m)_calculate_pairwise_chi2s_for_SPMI_item_response_table()\n",
      "-> pdb.set_trace()\n",
      "(Pdb++) c\n"
     ]
    },
    {
     "data": {
      "text/plain": [
       "(0.14705186806951062, column_levels      eggs    cheese\n",
       " row_levels                       \n",
       " good           0.515752  0.147052\n",
       " bad            1.000000  1.000000)"
      ]
     },
     "execution_count": 68,
     "metadata": {},
     "output_type": "execute_result"
    }
   ],
   "source": [
    "a = pd.DataFrame(np.random.randint(2, size=(1000, 2)),\n",
    "                             columns=[\"good\", \"bad\"])\n",
    "b = pd.DataFrame(np.random.randint(2, size=(1000, 2)),\n",
    "                         columns=[\"eggs\", \"cheese\"])\n",
    "mrcv_1 = ctab.Factor(a, \"alive\", orientation=\"wide\", multiple_response=True)\n",
    "mrcv_2 = ctab.Factor(b, \"cool\", orientation=\"wide\", multiple_response=True)\n",
    "multiple_response_table = ctab.MRCVTable([mrcv_1, ], [mrcv_2, ])\n",
    "multiple_response_table.test_for_independence()"
   ]
  },
  {
   "cell_type": "code",
   "execution_count": 87,
   "metadata": {
    "collapsed": false
   },
   "outputs": [
    {
     "data": {
      "text/plain": [
       "(2, 2)"
      ]
     },
     "execution_count": 87,
     "metadata": {},
     "output_type": "execute_result"
    }
   ],
   "source": [
    "np.array([[1000.5, 0.5],[0.5,0.5]]).shape"
   ]
  },
  {
   "cell_type": "code",
   "execution_count": 88,
   "metadata": {
    "collapsed": false
   },
   "outputs": [
    {
     "data": {
      "text/plain": [
       "(249.99975049925098,\n",
       " 2.5971322980052269e-56,\n",
       " 1,\n",
       " array([[  1.00000100e+03,   9.99001996e-01],\n",
       "        [  9.99001996e-01,   9.98003992e-04]]))"
      ]
     },
     "execution_count": 88,
     "metadata": {},
     "output_type": "execute_result"
    }
   ],
   "source": [
    "from scipy.stats import chi2_contingency, chi2\n",
    "\n",
    "chi2_contingency(np.array([[1000.5, 0.5],[0.5,0.5]]), correction=False)"
   ]
  },
  {
   "cell_type": "code",
   "execution_count": 61,
   "metadata": {
    "collapsed": false
   },
   "outputs": [
    {
     "data": {
      "text/plain": [
       "Factor at 4686880160 :: Factor: alive\n",
       "Columns:Index(['No', 'Yes'], dtype='object', name='factor_level')\n",
       "Data:\n",
       "factor_level    No  Yes\n",
       "observation_id         \n",
       "0                0    0\n",
       "1                0    0\n",
       "2                0    0\n",
       "3                0    0\n",
       "4                0    0\n",
       "5                0    0\n",
       "6                0    0\n",
       "7                0    0\n",
       "8                0    0\n",
       "9                0    0\n",
       "10               0    0\n",
       "11               0    0\n",
       "12               0    0\n",
       "13               0    0\n",
       "14               0    0\n",
       "15               0    0\n",
       "16               0    0\n",
       "17               0    0\n",
       "18               0    0\n",
       "19               0    0\n",
       "20               0    0\n",
       "21               0    0\n",
       "22               0    0\n",
       "23               0    0\n",
       "24               0    0\n",
       "25               0    0\n",
       "26               0    0\n",
       "27               0    0\n",
       "28               0    0\n",
       "29               0    0\n",
       "...             ..  ...\n",
       "970              0    0\n",
       "971              0    0\n",
       "972              0    0\n",
       "973              0    0\n",
       "974              0    0\n",
       "975              0    0\n",
       "976              0    0\n",
       "977              0    0\n",
       "978              0    0\n",
       "979              0    0\n",
       "980              0    0\n",
       "981              0    0\n",
       "982              0    0\n",
       "983              0    0\n",
       "984              0    0\n",
       "985              0    0\n",
       "986              0    0\n",
       "987              0    0\n",
       "988              0    0\n",
       "989              0    0\n",
       "990              0    0\n",
       "991              0    0\n",
       "992              0    0\n",
       "993              0    0\n",
       "994              0    0\n",
       "995              0    0\n",
       "996              0    0\n",
       "997              0    0\n",
       "998              0    0\n",
       "999              0    0\n",
       "\n",
       "[1000 rows x 2 columns]"
      ]
     },
     "execution_count": 61,
     "metadata": {},
     "output_type": "execute_result"
    }
   ],
   "source": [
    "mrcv_1.cast_wide_to_narrow().cast_narrow_to_wide()"
   ]
  },
  {
   "cell_type": "code",
   "execution_count": 54,
   "metadata": {
    "collapsed": false
   },
   "outputs": [
    {
     "data": {
      "text/html": [
       "<div>\n",
       "<table border=\"1\" class=\"dataframe\">\n",
       "  <thead>\n",
       "    <tr>\n",
       "      <th>factor_level_row</th>\n",
       "    </tr>\n",
       "  </thead>\n",
       "  <tbody>\n",
       "  </tbody>\n",
       "</table>\n",
       "</div>"
      ],
      "text/plain": [
       "Empty DataFrame\n",
       "Columns: []\n",
       "Index: []"
      ]
     },
     "execution_count": 54,
     "metadata": {},
     "output_type": "execute_result"
    }
   ],
   "source": [
    "multiple_response_table.table"
   ]
  },
  {
   "cell_type": "code",
   "execution_count": 50,
   "metadata": {
    "collapsed": false
   },
   "outputs": [
    {
     "data": {
      "text/plain": [
       "0"
      ]
     },
     "execution_count": 50,
     "metadata": {},
     "output_type": "execute_result"
    }
   ],
   "source": [
    "np.array([0,0]).min()"
   ]
  },
  {
   "cell_type": "code",
   "execution_count": 46,
   "metadata": {
    "collapsed": false
   },
   "outputs": [
    {
     "data": {
      "text/plain": [
       "True"
      ]
     },
     "execution_count": 46,
     "metadata": {},
     "output_type": "execute_result"
    }
   ],
   "source": [
    "mrcv_1.multiple_response"
   ]
  },
  {
   "cell_type": "code",
   "execution_count": null,
   "metadata": {
    "collapsed": true
   },
   "outputs": [],
   "source": [
    "oDc or OMC for oracle\n",
    "adobe marketing cloud revenue broken out"
   ]
  }
 ],
 "metadata": {
  "anaconda-cloud": {},
  "kernelspec": {
   "display_name": "Python [conda env:statsmodels-dev]",
   "language": "python",
   "name": "conda-env-statsmodels-dev-py"
  }
 },
 "nbformat": 4,
 "nbformat_minor": 2
}
