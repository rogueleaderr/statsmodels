{
 "cells": [
  {
   "cell_type": "code",
   "execution_count": 1,
   "metadata": {
    "collapsed": false
   },
   "outputs": [
    {
     "ename": "ImportError",
     "evalue": "No module named 'statsmodels'",
     "output_type": "error",
     "traceback": [
      "\u001b[0;31m---------------------------------------------------------------------------\u001b[0m",
      "\u001b[0;31mImportError\u001b[0m                               Traceback (most recent call last)",
      "\u001b[0;32m<ipython-input-1-c342d0fbaacf>\u001b[0m in \u001b[0;36m<module>\u001b[0;34m()\u001b[0m\n\u001b[0;32m----> 1\u001b[0;31m \u001b[0;32mfrom\u001b[0m \u001b[0mstatsmodels\u001b[0m\u001b[0;34m.\u001b[0m\u001b[0mdatasets\u001b[0m \u001b[0;32mimport\u001b[0m \u001b[0mpresidential2016\u001b[0m\u001b[0;34m\u001b[0m\u001b[0m\n\u001b[0m",
      "\u001b[0;31mImportError\u001b[0m: No module named 'statsmodels'"
     ]
    }
   ],
   "source": [
    "from statsmodels.datasets import presidential2016"
   ]
  },
  {
   "cell_type": "code",
   "execution_count": 2,
   "metadata": {
    "collapsed": false
   },
   "outputs": [],
   "source": [
    "import os\n",
    "import sys\n"
   ]
  },
  {
   "cell_type": "code",
   "execution_count": null,
   "metadata": {
    "collapsed": true
   },
   "outputs": [],
   "source": [
    "os.chdir(\"../..\")\n"
   ]
  },
  {
   "cell_type": "code",
   "execution_count": 20,
   "metadata": {
    "collapsed": false
   },
   "outputs": [
    {
     "data": {
      "text/plain": [
       "'/Users/gjlondon/programming/open_source/statsmodels'"
      ]
     },
     "execution_count": 20,
     "metadata": {},
     "output_type": "execute_result"
    }
   ],
   "source": [
    "os.getcwd()\n"
   ]
  },
  {
   "cell_type": "code",
   "execution_count": 3,
   "metadata": {
    "collapsed": false
   },
   "outputs": [],
   "source": [
    "# let us import app packages\n",
    "PACKAGE_PARENT = '/Users/gjlondon/programming/open_source/statsmodels'\n",
    "sys.path.append(os.path.normpath(PACKAGE_PARENT))"
   ]
  },
  {
   "cell_type": "code",
   "execution_count": 4,
   "metadata": {
    "collapsed": false
   },
   "outputs": [
    {
     "data": {
      "text/plain": [
       "['',\n",
       " '/usr/local/opt/libxml2/lib/python2.7/site-packages',\n",
       " '/Users/gjlondon/programming/open_source/statsmodels/statsmodels/stats',\n",
       " '/Users/gjlondon/anaconda/envs/statsmodels-dev/lib/python35.zip',\n",
       " '/Users/gjlondon/anaconda/envs/statsmodels-dev/lib/python3.5',\n",
       " '/Users/gjlondon/anaconda/envs/statsmodels-dev/lib/python3.5/plat-darwin',\n",
       " '/Users/gjlondon/anaconda/envs/statsmodels-dev/lib/python3.5/lib-dynload',\n",
       " '/Users/gjlondon/anaconda/envs/statsmodels-dev/lib/python3.5/site-packages',\n",
       " '/Users/gjlondon/anaconda/envs/statsmodels-dev/lib/python3.5/site-packages/setuptools-27.2.0-py3.5.egg',\n",
       " '/Users/gjlondon/anaconda/envs/statsmodels-dev/lib/python3.5/site-packages/IPython/extensions',\n",
       " '/Users/gjlondon/.ipython',\n",
       " '/Users/gjlondon/programming/open_source/statsmodels']"
      ]
     },
     "execution_count": 4,
     "metadata": {},
     "output_type": "execute_result"
    }
   ],
   "source": [
    "sys.path"
   ]
  },
  {
   "cell_type": "code",
   "execution_count": 15,
   "metadata": {
    "collapsed": false
   },
   "outputs": [
    {
     "ename": "AttributeError",
     "evalue": "'Dataset' object has no attribute 'endog'",
     "output_type": "error",
     "traceback": [
      "\u001b[0;31m---------------------------------------------------------------------------\u001b[0m",
      "\u001b[0;31mAttributeError\u001b[0m                            Traceback (most recent call last)",
      "\u001b[0;32m<ipython-input-15-16de81ea711b>\u001b[0m in \u001b[0;36m<module>\u001b[0;34m()\u001b[0m\n\u001b[1;32m      2\u001b[0m \u001b[0;34m\u001b[0m\u001b[0m\n\u001b[1;32m      3\u001b[0m \u001b[0mdata\u001b[0m \u001b[0;34m=\u001b[0m \u001b[0msm\u001b[0m\u001b[0;34m.\u001b[0m\u001b[0mdatasets\u001b[0m\u001b[0;34m.\u001b[0m\u001b[0mpresidential2016\u001b[0m\u001b[0;34m.\u001b[0m\u001b[0mload_pandas\u001b[0m\u001b[0;34m(\u001b[0m\u001b[0;34m)\u001b[0m\u001b[0;34m\u001b[0m\u001b[0m\n\u001b[0;32m----> 4\u001b[0;31m \u001b[0mdata\u001b[0m\u001b[0;34m.\u001b[0m\u001b[0mendog\u001b[0m\u001b[0;34m\u001b[0m\u001b[0m\n\u001b[0m",
      "\u001b[0;31mAttributeError\u001b[0m: 'Dataset' object has no attribute 'endog'"
     ]
    }
   ],
   "source": [
    "import statsmodels.api as sm\n",
    "\n",
    "data = sm.datasets.presidential2016.load_pandas()\n",
    "data.endog"
   ]
  },
  {
   "cell_type": "code",
   "execution_count": 30,
   "metadata": {
    "collapsed": false
   },
   "outputs": [
    {
     "data": {
      "text/plain": [
       "{'__doc__': None,\n",
       " '__loader__': <_frozen_importlib_external._NamespaceLoader at 0x106db6f60>,\n",
       " '__name__': 'statsmodels',\n",
       " '__package__': 'statsmodels',\n",
       " '__path__': _NamespacePath(['../../../statsmodels']),\n",
       " '__spec__': ModuleSpec(name='statsmodels', loader=None, origin='namespace', submodule_search_locations=_NamespacePath(['../../../statsmodels']))}"
      ]
     },
     "execution_count": 30,
     "metadata": {},
     "output_type": "execute_result"
    }
   ],
   "source": [
    "statsmodels.__dict__"
   ]
  },
  {
   "cell_type": "code",
   "execution_count": 119,
   "metadata": {
    "collapsed": true
   },
   "outputs": [],
   "source": [
    "import pandas as pd\n",
    "import numpy as np\n",
    "from functools import partial\n",
    "import itertools\n",
    "from numpy import linalg\n",
    "from scipy.stats import chi2_contingency, chi2\n"
   ]
  },
  {
   "cell_type": "code",
   "execution_count": 130,
   "metadata": {
    "collapsed": false
   },
   "outputs": [],
   "source": [
    "from scipy.stats import chi2_contingency, chi2\n",
    "\n",
    "\n",
    "class MRCVTable(object):\n",
    "    \"\"\"\n",
    "    Analyses that can be performed on a two-way contingency table that contains\n",
    "    'multiple response' categorical variables (e.g. 'choose all that apply' questions).\n",
    "\n",
    "    Parameters\n",
    "    ----------\n",
    "    table : array-like\n",
    "        A contingency table.\n",
    "    shift_zeros : boolean\n",
    "        If True and any cell count is zero, add 0.5 to all values\n",
    "        in the table.\n",
    "\n",
    "    Attributes\n",
    "    ----------\n",
    "    table_orig : array-like\n",
    "        The original table is cached as `table_orig`.\n",
    "    marginal_probabilities : tuple of two ndarrays\n",
    "        The estimated row and column marginal distributions.\n",
    "    independence_probabilities : ndarray\n",
    "        Estimated cell probabilities under row/column independence.\n",
    "\n",
    "    See also\n",
    "    --------\n",
    "    statsmodels.graphics.mosaicplot.mosaic\n",
    "    scipy.stats.chi2_contingency\n",
    "\n",
    "    Notes\n",
    "    -----\n",
    "\n",
    "\n",
    "    References\n",
    "    ----------\n",
    "    Definitions of residuals:\n",
    "        https://onlinecourses.science.psu.edu/stat504/node/86\n",
    "\n",
    "    Bilder and Loughlin (2004)\n",
    "    \"\"\"\n",
    "\n",
    "    def __init__(self, table, rows_factor, columns_factor, shift_zeros=True):\n",
    "\n",
    "        self.rows_factor = rows_factor\n",
    "        self.columns_factor = columns_factor\n",
    "        self.table = table\n",
    "\n",
    "        if shift_zeros and (self.table.min() == 0):\n",
    "            self.table = self.table + 0.5\n",
    "\n",
    "    def __unicode__(self):\n",
    "        template = \"Contingency Table With Multi-Response Categorical Variables (MRCV's).\\nData:\\n{table}\"\n",
    "        return template.format(table=self.table)\n",
    "\n",
    "    def __repr__(self):\n",
    "        return self.__unicode__()\n",
    "\n",
    "    @classmethod\n",
    "    def from_data(cls, data, I, J,\n",
    "                  rows_factor_name=\"factor_0\", columns_factor_name=\"factor_1\",\n",
    "                  shift_zeros=True):\n",
    "        \"\"\"\n",
    "        Construct a Table object from data.\n",
    "\n",
    "        Parameters\n",
    "        ----------\n",
    "        data : array-like\n",
    "            The raw data, from which a contingency table is constructed\n",
    "            using the first two columns.\n",
    "        shift_zeros : boolean\n",
    "            If True and any cell count is zero, add 0.5 to all values\n",
    "            in the table.\n",
    "        I: The number of columns in the dataframe corresponding to the first factor\n",
    "        J: The number of columns in the dataframe corresponding to the second factor\n",
    "\n",
    "        Returns\n",
    "        -------\n",
    "        An MRCVTable instance.\n",
    "        \"\"\"\n",
    "\n",
    "        if isinstance(data, pd.DataFrame):\n",
    "            rows_data = data.iloc[:, 0:I]\n",
    "            columns_data = data.iloc[:, I:I + J]\n",
    "            rows_labels = rows_data.columns\n",
    "            columns_labels = columns_data.columns\n",
    "        else:\n",
    "            rows_data = data[:, 0:I]\n",
    "            columns_data = data[:, I:I + J]\n",
    "            rows_labels = [\"level_{}\".format(i) for i in range(0, I)]\n",
    "            columns_labels = [\"level_{}\".format(i) for i in range(I, I + J)]\n",
    "\n",
    "        rows_factor = Factor(rows_data, labels=rows_labels, name=rows_factor_name, orientation=\"wide\")\n",
    "        columns_factor = Factor(columns_data, labels=columns_labels, name=columns_factor_name, orientation=\"wide\")\n",
    "        table = cls.table_from_factors(columns_factor, rows_factor)\n",
    "        return cls(table, rows_factor, columns_factor, shift_zeros)\n",
    "\n",
    "    @classmethod\n",
    "    def table_from_factors(cls, columns_factor, rows_factor):\n",
    "        row_reshaped = rows_factor.reshape_for_contingency_table()\n",
    "        col_reshaped = columns_factor.reshape_for_contingency_table()\n",
    "        joint_dataframe = pd.merge(row_reshaped, col_reshaped, how=\"inner\",\n",
    "                                   on='observation_number', suffixes=(\"_row\", \"_col\"))\n",
    "        # without bool cast, '&' sometimes doesn't know how to compare types\n",
    "        joint_response = joint_dataframe['value_row'].astype(bool) & joint_dataframe['value_col'].astype(bool)\n",
    "        joint_dataframe['_joint_response'] = joint_response\n",
    "        table = pd.pivot_table(joint_dataframe,\n",
    "                               values='_joint_response',\n",
    "                               fill_value=0,\n",
    "                               index=['variable_row'],\n",
    "                               columns=['variable_col'],\n",
    "                               aggfunc=np.sum,)\n",
    "        return table\n",
    "\n",
    "    def _spmi_stat(self):\n",
    "        rows_data = self.rows_factor.data\n",
    "        columns_data = self.columns_factor.data\n",
    "        rows_levels = self.rows_factor.labels\n",
    "        columns_levels = self.columns_factor.labels\n",
    "        chis_spmi = pd.DataFrame(index=rows_levels, columns=columns_levels)\n",
    "        for i in range(0, len(rows_levels)):\n",
    "            for j in range(0, len(columns_levels)):\n",
    "                rows = np.array(rows_data[:, i])\n",
    "                columns = np.array(columns_data[:, j])\n",
    "                row_name = rows_levels[i]\n",
    "                col_name = columns_levels[j]\n",
    "                crosstab = pd.crosstab(index=rows, columns=columns, rownames=[row_name], colnames=[col_name])\n",
    "                chi2_results = chi2_contingency(crosstab, correction=False)\n",
    "                chi_squared_statistic, _, _, _ = chi2_results\n",
    "                chis_spmi.loc[row_name, col_name] = chi_squared_statistic\n",
    "        return chis_spmi\n",
    "    \n",
    "    def _test_for_single_pairwise_mutual_independence_using_bonferroni(self, observed):\n",
    "        chi2_survival_with_1_dof = partial(chi2.sf, df=1)\n",
    "        p_value_ij = observed.applymap(chi2_survival_with_1_dof)\n",
    "        p_value_min = p_value_ij.min().min()\n",
    "        bonferroni_correction_factor = self.rows_factor.level_count * self.columns_factor.level_count\n",
    "        table_p_value_bonferroni_corrected = bonferroni_correction_factor * p_value_min\n",
    "        cap = lambda x: min(x, 1)\n",
    "        pairwise_bonferroni_corrected_p_values = (p_value_ij * bonferroni_correction_factor).applymap(cap)\n",
    "        return table_p_value_bonferroni_corrected, pairwise_bonferroni_corrected_p_values\n",
    "    \n",
    "    def _test_for_single_pairwise_mutual_independence_using_rao_scott_2(self, observed):\n",
    "        W = self.rows_factor.as_dataframe()\n",
    "        Y = self.columns_factor.as_dataframe()\n",
    "        I = self.rows_factor.level_count\n",
    "        J = self.columns_factor.level_count\n",
    "        spmi_df = pd.concat([W, Y], axis=1)  # type: pd.DataFrame\n",
    "\n",
    "        def count_level_combinations(data, number_of_variables):\n",
    "            data = data.copy()  # don't modify original dataframe\n",
    "            level_arguments = [[0, 1] for i in range(0, number_of_variables)]\n",
    "            variables = data.columns\n",
    "            level_combinations = list(itertools.product(*level_arguments))\n",
    "            full_combinations = pd.DataFrame(level_combinations, columns=variables)\n",
    "            full_combinations[\"_dummy\"] = 0\n",
    "            data['_dummy'] = 1\n",
    "            data = pd.concat([data, full_combinations]).reset_index(drop=True)\n",
    "            grouped = data.groupby(list(variables))\n",
    "            return grouped.sum().reset_index()\n",
    "\n",
    "        W_count_ordered = count_level_combinations(W, I)\n",
    "        Y_count_ordered = count_level_combinations(Y, J)\n",
    "        n_count_ordered = count_level_combinations(spmi_df, I+J)\n",
    "\n",
    "        n = len(spmi_df)\n",
    "        G = (W_count_ordered.iloc[:, :-1]).T\n",
    "        H = (Y_count_ordered.iloc[:, :-1]).T\n",
    "        combined_counts = n_count_ordered.iloc[:, -1]\n",
    "        tau = combined_counts / n\n",
    "        m_row = G.dot(W_count_ordered.iloc[:, -1])\n",
    "        m_col = H.dot(Y_count_ordered.iloc[:, -1])\n",
    "        GH = np.kron(G, H)\n",
    "        m = GH.dot(combined_counts)\n",
    "\n",
    "        pi = m / n\n",
    "        pi_row = m_row / n\n",
    "        pi_col = m_col / n\n",
    "        j_2r = np.ones((2 ** I, 1))\n",
    "        i_2r = np.eye(2 ** I)\n",
    "        j_2c = np.ones((2 ** J, 1))\n",
    "        i_2c = np.eye(2 ** J)\n",
    "\n",
    "        G_ij = G.dot(np.kron(i_2r, j_2c.T))\n",
    "        H_ji = H.dot(np.kron(j_2r.T, i_2c))\n",
    "\n",
    "        H_kron = np.kron(pi_row, H_ji.T).T  # extra .T's b/c Python handles vector/matrix kronecker differently than R\n",
    "        G_kron = np.kron(G_ij.T, pi_col).T  # extra .T's b/c Python handles vector/matrix kronecker differently than R\n",
    "        F = GH - H_kron - G_kron\n",
    "\n",
    "        mult_cov = np.diag(tau) - np.outer(tau, tau.T)\n",
    "        sigma = F.dot(mult_cov.dot(F.T))\n",
    "\n",
    "        D = np.diag(np.kron(pi_row, pi_col) * np.kron(1 - pi_row, 1 - pi_col))\n",
    "        Di_sigma = np.diag(1 / np.diag(D)).dot(sigma)\n",
    "        eigenvalues, eigenvectors = linalg.eig(Di_sigma)\n",
    "        Di_sigma_eigen = np.real(eigenvalues)\n",
    "        sum_Di_sigma_eigen_sq = (Di_sigma_eigen ** 2).sum()\n",
    "\n",
    "        observed_X_sq_S = observed.sum().sum()\n",
    "        X_sq_S_rs2 = I * J * observed_X_sq_S / sum_Di_sigma_eigen_sq\n",
    "        df_rs2 = (I ** 2) * (J ** 2) / sum_Di_sigma_eigen_sq\n",
    "        X_sq_S_p_value_rs2 = chi2.sf(X_sq_S_rs2, df=df_rs2)\n",
    "        return X_sq_S_p_value_rs2\n",
    "\n",
    "\n",
    "class Factor(object):\n",
    "    def __init__(self, data, labels, name, orientation=\"wide\"):\n",
    "        self.name = name\n",
    "        self.labels = labels\n",
    "        self.data = np.asarray(data, dtype=np.float64)\n",
    "        self.orientation = orientation\n",
    "\n",
    "    def __unicode__(self):\n",
    "        return \"Factor: {name}\\nColumns:{columns}\\nData:\\n{data}\".format(name=self.name, columns=self.labels,\n",
    "                                                                         data=self.data)\n",
    "\n",
    "    def __repr__(self):\n",
    "        return self.__unicode__()\n",
    "\n",
    "    def reshape_for_contingency_table(self):\n",
    "        frame = self.as_dataframe()\n",
    "        frame['observation_number'] = frame.index\n",
    "        return pd.melt(frame, id_vars=\"observation_number\")\n",
    "\n",
    "    @property\n",
    "    def level_count(self):\n",
    "        return len(self.labels)\n",
    "\n",
    "    def as_dataframe(self):\n",
    "        return pd.DataFrame(self.data, columns=self.labels)"
   ]
  },
  {
   "cell_type": "code",
   "execution_count": 53,
   "metadata": {
    "collapsed": false
   },
   "outputs": [],
   "source": [
    "row_factor = Factor(data.data.iloc[:, :6], data.data.columns[:6], \"expected_choice\", orientation=\"wide\")\n",
    "column_factor = Factor(data.data.iloc[:, 6:11], data.data.columns[6:11], \"believe_true\", orientation=\"wide\")\n",
    "#crosstab_with_marginal_totals.fillna(0, inplace=True)  # fill value above doesn't seem to get all the na's"
   ]
  },
  {
   "cell_type": "code",
   "execution_count": 131,
   "metadata": {
    "collapsed": false
   },
   "outputs": [],
   "source": [
    "table = MRCVTable.from_data(data.data, 6, 5, shift_zeros=False)"
   ]
  },
  {
   "cell_type": "code",
   "execution_count": 132,
   "metadata": {
    "collapsed": false
   },
   "outputs": [],
   "source": [
    "observed = table._spmi_stat()"
   ]
  },
  {
   "cell_type": "code",
   "execution_count": 133,
   "metadata": {
    "collapsed": false
   },
   "outputs": [
    {
     "data": {
      "text/plain": [
       "2.6696641484241839e-14"
      ]
     },
     "execution_count": 133,
     "metadata": {},
     "output_type": "execute_result"
    }
   ],
   "source": [
    "table._test_for_single_pairwise_mutual_independence_using_bonferroni(observed)\n",
    "table._test_for_single_pairwise_mutual_independence_using_rao_scott_2(observed)"
   ]
  },
  {
   "cell_type": "code",
   "execution_count": null,
   "metadata": {
    "collapsed": true
   },
   "outputs": [],
   "source": []
  }
 ],
 "metadata": {
  "anaconda-cloud": {},
  "kernelspec": {
   "display_name": "Python [conda env:statsmodels-dev]",
   "language": "python",
   "name": "conda-env-statsmodels-dev-py"
  },
  "language_info": {
   "codemirror_mode": {
    "name": "ipython",
    "version": 3
   },
   "file_extension": ".py",
   "mimetype": "text/x-python",
   "name": "python",
   "nbconvert_exporter": "python",
   "pygments_lexer": "ipython3",
   "version": "3.5.2"
  }
 },
 "nbformat": 4,
 "nbformat_minor": 0
}
